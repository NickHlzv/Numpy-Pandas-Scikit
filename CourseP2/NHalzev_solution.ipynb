{
 "cells": [
  {
   "cell_type": "code",
   "execution_count": 1,
   "metadata": {
    "collapsed": true
   },
   "outputs": [],
   "source": [
    "import numpy as np\n",
    "import pandas as pd\n",
    "import matplotlib.pyplot as plt\n",
    "import seaborn as sns\n",
    "import random\n",
    "import warnings\n",
    "from sklearn.metrics import classification_report, f1_score, precision_score, recall_score\n",
    "from sklearn.model_selection import train_test_split, learning_curve\n",
    "from imblearn.under_sampling import TomekLinks\n",
    "from imblearn.over_sampling import SMOTE\n",
    "from catboost import CatBoostClassifier\n",
    "from sklearn.model_selection import KFold, StratifiedKFold, GridSearchCV, RandomizedSearchCV\n",
    "from sklearn.linear_model import LogisticRegression, Perceptron\n",
    "from xgboost import XGBClassifier\n",
    "from sklearn.neighbors import KNeighborsClassifier\n",
    "from sklearn.ensemble import BaggingClassifier, RandomForestClassifier, AdaBoostClassifier, ExtraTreesClassifier, GradientBoostingClassifier, VotingClassifier\n",
    "from sklearn.tree import DecisionTreeClassifier\n",
    "from sklearn.svm import SVC\n",
    "from sklearn.naive_bayes import GaussianNB\n",
    "from lightgbm import LGBMClassifier\n",
    "warnings.filterwarnings('ignore')\n",
    "%matplotlib inline"
   ]
  },
  {
   "cell_type": "code",
   "execution_count": 2,
   "metadata": {
    "pycharm": {
     "name": "#%%\n"
    }
   },
   "outputs": [
    {
     "data": {
      "text/html": [
       "<div>\n",
       "<style scoped>\n",
       "    .dataframe tbody tr th:only-of-type {\n",
       "        vertical-align: middle;\n",
       "    }\n",
       "\n",
       "    .dataframe tbody tr th {\n",
       "        vertical-align: top;\n",
       "    }\n",
       "\n",
       "    .dataframe thead th {\n",
       "        text-align: right;\n",
       "    }\n",
       "</style>\n",
       "<table border=\"1\" class=\"dataframe\">\n",
       "  <thead>\n",
       "    <tr style=\"text-align: right;\">\n",
       "      <th></th>\n",
       "      <th>Home Ownership</th>\n",
       "      <th>Annual Income</th>\n",
       "      <th>Years in current job</th>\n",
       "      <th>Tax Liens</th>\n",
       "      <th>Number of Open Accounts</th>\n",
       "      <th>Years of Credit History</th>\n",
       "      <th>Maximum Open Credit</th>\n",
       "      <th>Number of Credit Problems</th>\n",
       "      <th>Months since last delinquent</th>\n",
       "      <th>Bankruptcies</th>\n",
       "      <th>Purpose</th>\n",
       "      <th>Term</th>\n",
       "      <th>Current Loan Amount</th>\n",
       "      <th>Current Credit Balance</th>\n",
       "      <th>Monthly Debt</th>\n",
       "      <th>Credit Score</th>\n",
       "      <th>Credit Default</th>\n",
       "    </tr>\n",
       "  </thead>\n",
       "  <tbody>\n",
       "    <tr>\n",
       "      <th>0</th>\n",
       "      <td>Own Home</td>\n",
       "      <td>482087.0</td>\n",
       "      <td>NaN</td>\n",
       "      <td>0.0</td>\n",
       "      <td>11.0</td>\n",
       "      <td>26.3</td>\n",
       "      <td>685960.0</td>\n",
       "      <td>1.0</td>\n",
       "      <td>NaN</td>\n",
       "      <td>1.0</td>\n",
       "      <td>debt consolidation</td>\n",
       "      <td>Short Term</td>\n",
       "      <td>99999999.0</td>\n",
       "      <td>47386.0</td>\n",
       "      <td>7914.0</td>\n",
       "      <td>749.0</td>\n",
       "      <td>0</td>\n",
       "    </tr>\n",
       "    <tr>\n",
       "      <th>1</th>\n",
       "      <td>Own Home</td>\n",
       "      <td>1025487.0</td>\n",
       "      <td>10+ years</td>\n",
       "      <td>0.0</td>\n",
       "      <td>15.0</td>\n",
       "      <td>15.3</td>\n",
       "      <td>1181730.0</td>\n",
       "      <td>0.0</td>\n",
       "      <td>NaN</td>\n",
       "      <td>0.0</td>\n",
       "      <td>debt consolidation</td>\n",
       "      <td>Long Term</td>\n",
       "      <td>264968.0</td>\n",
       "      <td>394972.0</td>\n",
       "      <td>18373.0</td>\n",
       "      <td>737.0</td>\n",
       "      <td>1</td>\n",
       "    </tr>\n",
       "    <tr>\n",
       "      <th>2</th>\n",
       "      <td>Home Mortgage</td>\n",
       "      <td>751412.0</td>\n",
       "      <td>8 years</td>\n",
       "      <td>0.0</td>\n",
       "      <td>11.0</td>\n",
       "      <td>35.0</td>\n",
       "      <td>1182434.0</td>\n",
       "      <td>0.0</td>\n",
       "      <td>NaN</td>\n",
       "      <td>0.0</td>\n",
       "      <td>debt consolidation</td>\n",
       "      <td>Short Term</td>\n",
       "      <td>99999999.0</td>\n",
       "      <td>308389.0</td>\n",
       "      <td>13651.0</td>\n",
       "      <td>742.0</td>\n",
       "      <td>0</td>\n",
       "    </tr>\n",
       "    <tr>\n",
       "      <th>3</th>\n",
       "      <td>Own Home</td>\n",
       "      <td>805068.0</td>\n",
       "      <td>6 years</td>\n",
       "      <td>0.0</td>\n",
       "      <td>8.0</td>\n",
       "      <td>22.5</td>\n",
       "      <td>147400.0</td>\n",
       "      <td>1.0</td>\n",
       "      <td>NaN</td>\n",
       "      <td>1.0</td>\n",
       "      <td>debt consolidation</td>\n",
       "      <td>Short Term</td>\n",
       "      <td>121396.0</td>\n",
       "      <td>95855.0</td>\n",
       "      <td>11338.0</td>\n",
       "      <td>694.0</td>\n",
       "      <td>0</td>\n",
       "    </tr>\n",
       "    <tr>\n",
       "      <th>4</th>\n",
       "      <td>Rent</td>\n",
       "      <td>776264.0</td>\n",
       "      <td>8 years</td>\n",
       "      <td>0.0</td>\n",
       "      <td>13.0</td>\n",
       "      <td>13.6</td>\n",
       "      <td>385836.0</td>\n",
       "      <td>1.0</td>\n",
       "      <td>NaN</td>\n",
       "      <td>0.0</td>\n",
       "      <td>debt consolidation</td>\n",
       "      <td>Short Term</td>\n",
       "      <td>125840.0</td>\n",
       "      <td>93309.0</td>\n",
       "      <td>7180.0</td>\n",
       "      <td>719.0</td>\n",
       "      <td>0</td>\n",
       "    </tr>\n",
       "  </tbody>\n",
       "</table>\n",
       "</div>"
      ],
      "text/plain": [
       "  Home Ownership  Annual Income Years in current job  Tax Liens  \\\n",
       "0       Own Home       482087.0                  NaN        0.0   \n",
       "1       Own Home      1025487.0            10+ years        0.0   \n",
       "2  Home Mortgage       751412.0              8 years        0.0   \n",
       "3       Own Home       805068.0              6 years        0.0   \n",
       "4           Rent       776264.0              8 years        0.0   \n",
       "\n",
       "   Number of Open Accounts  Years of Credit History  Maximum Open Credit  \\\n",
       "0                     11.0                     26.3             685960.0   \n",
       "1                     15.0                     15.3            1181730.0   \n",
       "2                     11.0                     35.0            1182434.0   \n",
       "3                      8.0                     22.5             147400.0   \n",
       "4                     13.0                     13.6             385836.0   \n",
       "\n",
       "   Number of Credit Problems  Months since last delinquent  Bankruptcies  \\\n",
       "0                        1.0                           NaN           1.0   \n",
       "1                        0.0                           NaN           0.0   \n",
       "2                        0.0                           NaN           0.0   \n",
       "3                        1.0                           NaN           1.0   \n",
       "4                        1.0                           NaN           0.0   \n",
       "\n",
       "              Purpose        Term  Current Loan Amount  \\\n",
       "0  debt consolidation  Short Term           99999999.0   \n",
       "1  debt consolidation   Long Term             264968.0   \n",
       "2  debt consolidation  Short Term           99999999.0   \n",
       "3  debt consolidation  Short Term             121396.0   \n",
       "4  debt consolidation  Short Term             125840.0   \n",
       "\n",
       "   Current Credit Balance  Monthly Debt  Credit Score  Credit Default  \n",
       "0                 47386.0        7914.0         749.0               0  \n",
       "1                394972.0       18373.0         737.0               1  \n",
       "2                308389.0       13651.0         742.0               0  \n",
       "3                 95855.0       11338.0         694.0               0  \n",
       "4                 93309.0        7180.0         719.0               0  "
      ]
     },
     "execution_count": 2,
     "metadata": {},
     "output_type": "execute_result"
    }
   ],
   "source": [
    "TRAIN_DATASET_PATH = 'course_project_train.csv'\n",
    "TEST_DATASET_PATH = 'course_project_test.csv'\n",
    "df_train = pd.read_csv(TRAIN_DATASET_PATH)\n",
    "df_test = pd.read_csv(TEST_DATASET_PATH)\n",
    "df_train.head()"
   ]
  },
  {
   "cell_type": "markdown",
   "metadata": {
    "pycharm": {
     "name": "#%% md\n"
    }
   },
   "source": [
    "Первым делом надо подключить библиотеку и провизуализировать данные\n",
    "\n",
    "1. Сейчас надо понять где пропуски и что с ними делать.\n",
    "2. Надо понять какие признаки категории, а какие непрерывные.\n",
    "После этого надо понять как преобразовать категории"
   ]
  },
  {
   "cell_type": "code",
   "execution_count": 3,
   "metadata": {
    "pycharm": {
     "name": "#%%\n"
    }
   },
   "outputs": [
    {
     "data": {
      "text/html": [
       "<div>\n",
       "<style scoped>\n",
       "    .dataframe tbody tr th:only-of-type {\n",
       "        vertical-align: middle;\n",
       "    }\n",
       "\n",
       "    .dataframe tbody tr th {\n",
       "        vertical-align: top;\n",
       "    }\n",
       "\n",
       "    .dataframe thead th {\n",
       "        text-align: right;\n",
       "    }\n",
       "</style>\n",
       "<table border=\"1\" class=\"dataframe\">\n",
       "  <thead>\n",
       "    <tr style=\"text-align: right;\">\n",
       "      <th></th>\n",
       "      <th>Home Ownership</th>\n",
       "      <th>Annual Income</th>\n",
       "      <th>Years in current job</th>\n",
       "      <th>Tax Liens</th>\n",
       "      <th>Number of Open Accounts</th>\n",
       "      <th>Years of Credit History</th>\n",
       "      <th>Maximum Open Credit</th>\n",
       "      <th>Number of Credit Problems</th>\n",
       "      <th>Months since last delinquent</th>\n",
       "      <th>Bankruptcies</th>\n",
       "      <th>Purpose</th>\n",
       "      <th>Term</th>\n",
       "      <th>Current Loan Amount</th>\n",
       "      <th>Current Credit Balance</th>\n",
       "      <th>Monthly Debt</th>\n",
       "      <th>Credit Score</th>\n",
       "    </tr>\n",
       "  </thead>\n",
       "  <tbody>\n",
       "    <tr>\n",
       "      <th>0</th>\n",
       "      <td>Rent</td>\n",
       "      <td>NaN</td>\n",
       "      <td>4 years</td>\n",
       "      <td>0.0</td>\n",
       "      <td>9.0</td>\n",
       "      <td>12.5</td>\n",
       "      <td>220968.0</td>\n",
       "      <td>0.0</td>\n",
       "      <td>70.0</td>\n",
       "      <td>0.0</td>\n",
       "      <td>debt consolidation</td>\n",
       "      <td>Short Term</td>\n",
       "      <td>162470.0</td>\n",
       "      <td>105906.0</td>\n",
       "      <td>6813.0</td>\n",
       "      <td>NaN</td>\n",
       "    </tr>\n",
       "    <tr>\n",
       "      <th>1</th>\n",
       "      <td>Rent</td>\n",
       "      <td>231838.0</td>\n",
       "      <td>1 year</td>\n",
       "      <td>0.0</td>\n",
       "      <td>6.0</td>\n",
       "      <td>32.7</td>\n",
       "      <td>55946.0</td>\n",
       "      <td>0.0</td>\n",
       "      <td>8.0</td>\n",
       "      <td>0.0</td>\n",
       "      <td>educational expenses</td>\n",
       "      <td>Short Term</td>\n",
       "      <td>78298.0</td>\n",
       "      <td>46037.0</td>\n",
       "      <td>2318.0</td>\n",
       "      <td>699.0</td>\n",
       "    </tr>\n",
       "    <tr>\n",
       "      <th>2</th>\n",
       "      <td>Home Mortgage</td>\n",
       "      <td>1152540.0</td>\n",
       "      <td>3 years</td>\n",
       "      <td>0.0</td>\n",
       "      <td>10.0</td>\n",
       "      <td>13.7</td>\n",
       "      <td>204600.0</td>\n",
       "      <td>0.0</td>\n",
       "      <td>NaN</td>\n",
       "      <td>0.0</td>\n",
       "      <td>debt consolidation</td>\n",
       "      <td>Short Term</td>\n",
       "      <td>200178.0</td>\n",
       "      <td>146490.0</td>\n",
       "      <td>18729.0</td>\n",
       "      <td>7260.0</td>\n",
       "    </tr>\n",
       "    <tr>\n",
       "      <th>3</th>\n",
       "      <td>Home Mortgage</td>\n",
       "      <td>1220313.0</td>\n",
       "      <td>10+ years</td>\n",
       "      <td>0.0</td>\n",
       "      <td>16.0</td>\n",
       "      <td>17.0</td>\n",
       "      <td>456302.0</td>\n",
       "      <td>0.0</td>\n",
       "      <td>70.0</td>\n",
       "      <td>0.0</td>\n",
       "      <td>debt consolidation</td>\n",
       "      <td>Short Term</td>\n",
       "      <td>217382.0</td>\n",
       "      <td>213199.0</td>\n",
       "      <td>27559.0</td>\n",
       "      <td>739.0</td>\n",
       "    </tr>\n",
       "    <tr>\n",
       "      <th>4</th>\n",
       "      <td>Home Mortgage</td>\n",
       "      <td>2340952.0</td>\n",
       "      <td>6 years</td>\n",
       "      <td>0.0</td>\n",
       "      <td>11.0</td>\n",
       "      <td>23.6</td>\n",
       "      <td>1207272.0</td>\n",
       "      <td>0.0</td>\n",
       "      <td>NaN</td>\n",
       "      <td>0.0</td>\n",
       "      <td>debt consolidation</td>\n",
       "      <td>Long Term</td>\n",
       "      <td>777634.0</td>\n",
       "      <td>425391.0</td>\n",
       "      <td>42605.0</td>\n",
       "      <td>706.0</td>\n",
       "    </tr>\n",
       "  </tbody>\n",
       "</table>\n",
       "</div>"
      ],
      "text/plain": [
       "  Home Ownership  Annual Income Years in current job  Tax Liens  \\\n",
       "0           Rent            NaN              4 years        0.0   \n",
       "1           Rent       231838.0               1 year        0.0   \n",
       "2  Home Mortgage      1152540.0              3 years        0.0   \n",
       "3  Home Mortgage      1220313.0            10+ years        0.0   \n",
       "4  Home Mortgage      2340952.0              6 years        0.0   \n",
       "\n",
       "   Number of Open Accounts  Years of Credit History  Maximum Open Credit  \\\n",
       "0                      9.0                     12.5             220968.0   \n",
       "1                      6.0                     32.7              55946.0   \n",
       "2                     10.0                     13.7             204600.0   \n",
       "3                     16.0                     17.0             456302.0   \n",
       "4                     11.0                     23.6            1207272.0   \n",
       "\n",
       "   Number of Credit Problems  Months since last delinquent  Bankruptcies  \\\n",
       "0                        0.0                          70.0           0.0   \n",
       "1                        0.0                           8.0           0.0   \n",
       "2                        0.0                           NaN           0.0   \n",
       "3                        0.0                          70.0           0.0   \n",
       "4                        0.0                           NaN           0.0   \n",
       "\n",
       "                Purpose        Term  Current Loan Amount  \\\n",
       "0    debt consolidation  Short Term             162470.0   \n",
       "1  educational expenses  Short Term              78298.0   \n",
       "2    debt consolidation  Short Term             200178.0   \n",
       "3    debt consolidation  Short Term             217382.0   \n",
       "4    debt consolidation   Long Term             777634.0   \n",
       "\n",
       "   Current Credit Balance  Monthly Debt  Credit Score  \n",
       "0                105906.0        6813.0           NaN  \n",
       "1                 46037.0        2318.0         699.0  \n",
       "2                146490.0       18729.0        7260.0  \n",
       "3                213199.0       27559.0         739.0  \n",
       "4                425391.0       42605.0         706.0  "
      ]
     },
     "execution_count": 3,
     "metadata": {},
     "output_type": "execute_result"
    }
   ],
   "source": [
    "df_test.head()"
   ]
  },
  {
   "cell_type": "code",
   "execution_count": 4,
   "metadata": {
    "pycharm": {
     "name": "#%%\n"
    }
   },
   "outputs": [
    {
     "data": {
      "text/plain": [
       "Home Ownership                     0\n",
       "Annual Income                   1557\n",
       "Years in current job             371\n",
       "Tax Liens                          0\n",
       "Number of Open Accounts            0\n",
       "Years of Credit History            0\n",
       "Maximum Open Credit                0\n",
       "Number of Credit Problems          0\n",
       "Months since last delinquent    4081\n",
       "Bankruptcies                      14\n",
       "Purpose                            0\n",
       "Term                               0\n",
       "Current Loan Amount                0\n",
       "Current Credit Balance             0\n",
       "Monthly Debt                       0\n",
       "Credit Score                    1557\n",
       "Credit Default                     0\n",
       "dtype: int64"
      ]
     },
     "execution_count": 4,
     "metadata": {},
     "output_type": "execute_result"
    }
   ],
   "source": [
    "df_train.isna().sum()"
   ]
  },
  {
   "cell_type": "code",
   "execution_count": 5,
   "metadata": {
    "pycharm": {
     "name": "#%%\n"
    }
   },
   "outputs": [
    {
     "data": {
      "text/plain": [
       "Home Ownership                     0\n",
       "Annual Income                    513\n",
       "Years in current job              86\n",
       "Tax Liens                          0\n",
       "Number of Open Accounts            0\n",
       "Years of Credit History            0\n",
       "Maximum Open Credit                0\n",
       "Number of Credit Problems          0\n",
       "Months since last delinquent    1358\n",
       "Bankruptcies                       3\n",
       "Purpose                            0\n",
       "Term                               0\n",
       "Current Loan Amount                0\n",
       "Current Credit Balance             0\n",
       "Monthly Debt                       0\n",
       "Credit Score                     513\n",
       "dtype: int64"
      ]
     },
     "execution_count": 5,
     "metadata": {},
     "output_type": "execute_result"
    }
   ],
   "source": [
    "df_test.isna().sum()"
   ]
  },
  {
   "cell_type": "code",
   "execution_count": 6,
   "metadata": {
    "pycharm": {
     "name": "#%%\n"
    }
   },
   "outputs": [
    {
     "name": "stdout",
     "output_type": "stream",
     "text": [
      "<class 'pandas.core.frame.DataFrame'>\n",
      "RangeIndex: 7500 entries, 0 to 7499\n",
      "Data columns (total 17 columns):\n",
      " #   Column                        Non-Null Count  Dtype  \n",
      "---  ------                        --------------  -----  \n",
      " 0   Home Ownership                7500 non-null   object \n",
      " 1   Annual Income                 5943 non-null   float64\n",
      " 2   Years in current job          7129 non-null   object \n",
      " 3   Tax Liens                     7500 non-null   float64\n",
      " 4   Number of Open Accounts       7500 non-null   float64\n",
      " 5   Years of Credit History       7500 non-null   float64\n",
      " 6   Maximum Open Credit           7500 non-null   float64\n",
      " 7   Number of Credit Problems     7500 non-null   float64\n",
      " 8   Months since last delinquent  3419 non-null   float64\n",
      " 9   Bankruptcies                  7486 non-null   float64\n",
      " 10  Purpose                       7500 non-null   object \n",
      " 11  Term                          7500 non-null   object \n",
      " 12  Current Loan Amount           7500 non-null   float64\n",
      " 13  Current Credit Balance        7500 non-null   float64\n",
      " 14  Monthly Debt                  7500 non-null   float64\n",
      " 15  Credit Score                  5943 non-null   float64\n",
      " 16  Credit Default                7500 non-null   int64  \n",
      "dtypes: float64(12), int64(1), object(4)\n",
      "memory usage: 996.2+ KB\n"
     ]
    }
   ],
   "source": [
    "df_train.info()"
   ]
  },
  {
   "cell_type": "markdown",
   "metadata": {
    "pycharm": {
     "name": "#%% md\n"
    }
   },
   "source": [
    "В этом месте хочу понять как преобразовать категории в бинарные значения чтобы с ними\n",
    "адекватно потом работать"
   ]
  },
  {
   "cell_type": "code",
   "execution_count": 7,
   "metadata": {
    "pycharm": {
     "name": "#%%\n"
    }
   },
   "outputs": [
    {
     "data": {
      "text/plain": [
       "Home Mortgage    3637\n",
       "Rent             3204\n",
       "Own Home          647\n",
       "Have Mortgage      12\n",
       "Name: Home Ownership, dtype: int64"
      ]
     },
     "execution_count": 7,
     "metadata": {},
     "output_type": "execute_result"
    }
   ],
   "source": [
    "#По этому признаку я понимаю что есть 4 значения, причем Home Mortgage и Have Mortgage\n",
    "#по факту одно и то же и это одна категория.\n",
    "#Соответственно всего 3 категории (Аренда, Ипотека, свое жилье)\n",
    "df_train['Home Ownership'].value_counts()"
   ]
  },
  {
   "cell_type": "code",
   "execution_count": 8,
   "metadata": {
    "pycharm": {
     "name": "#%%\n"
    }
   },
   "outputs": [
    {
     "data": {
      "text/plain": [
       "10+ years    2332\n",
       "2 years       705\n",
       "3 years       620\n",
       "< 1 year      563\n",
       "5 years       516\n",
       "1 year        504\n",
       "4 years       469\n",
       "6 years       426\n",
       "7 years       396\n",
       "8 years       339\n",
       "9 years       259\n",
       "Name: Years in current job, dtype: int64"
      ]
     },
     "execution_count": 8,
     "metadata": {},
     "output_type": "execute_result"
    }
   ],
   "source": [
    "df_train['Years in current job'].value_counts()\n"
   ]
  },
  {
   "cell_type": "code",
   "execution_count": 9,
   "metadata": {
    "pycharm": {
     "name": "#%%\n"
    }
   },
   "outputs": [
    {
     "data": {
      "text/plain": [
       "0.0    7366\n",
       "1.0      83\n",
       "2.0      30\n",
       "3.0      10\n",
       "4.0       6\n",
       "6.0       2\n",
       "5.0       2\n",
       "7.0       1\n",
       "Name: Tax Liens, dtype: int64"
      ]
     },
     "execution_count": 9,
     "metadata": {},
     "output_type": "execute_result"
    }
   ],
   "source": [
    "df_train['Tax Liens'].value_counts()\n",
    "\n"
   ]
  },
  {
   "cell_type": "code",
   "execution_count": 10,
   "metadata": {
    "pycharm": {
     "name": "#%%\n"
    }
   },
   "outputs": [
    {
     "data": {
      "text/plain": [
       "9.0     728\n",
       "11.0    692\n",
       "10.0    677\n",
       "8.0     638\n",
       "7.0     613\n",
       "12.0    562\n",
       "6.0     504\n",
       "13.0    465\n",
       "14.0    420\n",
       "5.0     325\n",
       "15.0    313\n",
       "16.0    265\n",
       "17.0    232\n",
       "4.0     212\n",
       "18.0    143\n",
       "19.0    139\n",
       "3.0      95\n",
       "20.0     93\n",
       "21.0     78\n",
       "23.0     59\n",
       "24.0     50\n",
       "22.0     49\n",
       "25.0     32\n",
       "2.0      28\n",
       "28.0     14\n",
       "27.0     14\n",
       "26.0     12\n",
       "30.0     11\n",
       "29.0     10\n",
       "33.0      6\n",
       "31.0      6\n",
       "32.0      6\n",
       "34.0      2\n",
       "37.0      2\n",
       "42.0      1\n",
       "43.0      1\n",
       "35.0      1\n",
       "38.0      1\n",
       "41.0      1\n",
       "Name: Number of Open Accounts, dtype: int64"
      ]
     },
     "execution_count": 10,
     "metadata": {},
     "output_type": "execute_result"
    }
   ],
   "source": [
    "df_train['Number of Open Accounts'].value_counts()\n",
    "\n"
   ]
  },
  {
   "cell_type": "code",
   "execution_count": 11,
   "metadata": {
    "pycharm": {
     "name": "#%%\n"
    }
   },
   "outputs": [
    {
     "data": {
      "text/plain": [
       "15.0    104\n",
       "16.0     99\n",
       "16.5     91\n",
       "17.0     86\n",
       "17.5     83\n",
       "       ... \n",
       "43.5      1\n",
       "50.0      1\n",
       "40.1      1\n",
       "51.5      1\n",
       "41.6      1\n",
       "Name: Years of Credit History, Length: 408, dtype: int64"
      ]
     },
     "execution_count": 11,
     "metadata": {},
     "output_type": "execute_result"
    }
   ],
   "source": [
    "df_train['Years of Credit History'].value_counts()\n",
    "\n"
   ]
  },
  {
   "cell_type": "code",
   "execution_count": 12,
   "metadata": {
    "pycharm": {
     "name": "#%%\n"
    }
   },
   "outputs": [
    {
     "data": {
      "text/plain": [
       "0.0          65\n",
       "319110.0      5\n",
       "334796.0      3\n",
       "358732.0      3\n",
       "323312.0      3\n",
       "             ..\n",
       "235642.0      1\n",
       "1435456.0     1\n",
       "397078.0      1\n",
       "537680.0      1\n",
       "1516482.0     1\n",
       "Name: Maximum Open Credit, Length: 6963, dtype: int64"
      ]
     },
     "execution_count": 12,
     "metadata": {},
     "output_type": "execute_result"
    }
   ],
   "source": [
    "df_train['Maximum Open Credit'].value_counts()"
   ]
  },
  {
   "cell_type": "code",
   "execution_count": 13,
   "metadata": {
    "pycharm": {
     "name": "#%%\n"
    }
   },
   "outputs": [
    {
     "data": {
      "text/plain": [
       "0.0    6469\n",
       "1.0     882\n",
       "2.0      93\n",
       "3.0      35\n",
       "4.0       9\n",
       "5.0       7\n",
       "6.0       4\n",
       "7.0       1\n",
       "Name: Number of Credit Problems, dtype: int64"
      ]
     },
     "execution_count": 13,
     "metadata": {},
     "output_type": "execute_result"
    }
   ],
   "source": [
    "df_train['Number of Credit Problems'].value_counts()\n",
    "\n"
   ]
  },
  {
   "cell_type": "code",
   "execution_count": 14,
   "metadata": {
    "pycharm": {
     "name": "#%%\n"
    }
   },
   "outputs": [
    {
     "data": {
      "text/plain": [
       "14.0     76\n",
       "29.0     71\n",
       "33.0     68\n",
       "8.0      68\n",
       "19.0     65\n",
       "         ..\n",
       "84.0      1\n",
       "86.0      1\n",
       "91.0      1\n",
       "118.0     1\n",
       "92.0      1\n",
       "Name: Months since last delinquent, Length: 89, dtype: int64"
      ]
     },
     "execution_count": 14,
     "metadata": {},
     "output_type": "execute_result"
    }
   ],
   "source": [
    "df_train['Months since last delinquent'].value_counts()\n"
   ]
  },
  {
   "cell_type": "code",
   "execution_count": 15,
   "metadata": {
    "pycharm": {
     "name": "#%%\n"
    }
   },
   "outputs": [
    {
     "data": {
      "text/plain": [
       "0.0    6660\n",
       "1.0     786\n",
       "2.0      31\n",
       "3.0       7\n",
       "4.0       2\n",
       "Name: Bankruptcies, dtype: int64"
      ]
     },
     "execution_count": 15,
     "metadata": {},
     "output_type": "execute_result"
    }
   ],
   "source": [
    "df_train['Bankruptcies'].value_counts()\n",
    "\n"
   ]
  },
  {
   "cell_type": "code",
   "execution_count": 16,
   "metadata": {
    "pycharm": {
     "name": "#%%\n"
    }
   },
   "outputs": [
    {
     "data": {
      "text/plain": [
       "debt consolidation      5944\n",
       "other                    665\n",
       "home improvements        412\n",
       "business loan            129\n",
       "buy a car                 96\n",
       "medical bills             71\n",
       "major purchase            40\n",
       "take a trip               37\n",
       "buy house                 34\n",
       "small business            26\n",
       "wedding                   15\n",
       "moving                    11\n",
       "educational expenses      10\n",
       "vacation                   8\n",
       "renewable energy           2\n",
       "Name: Purpose, dtype: int64"
      ]
     },
     "execution_count": 16,
     "metadata": {},
     "output_type": "execute_result"
    }
   ],
   "source": [
    "df_train['Purpose'].value_counts()\n",
    "\n"
   ]
  },
  {
   "cell_type": "code",
   "execution_count": 17,
   "metadata": {
    "pycharm": {
     "name": "#%%\n"
    }
   },
   "outputs": [
    {
     "data": {
      "text/plain": [
       "debt consolidation      5944\n",
       "other                    665\n",
       "home improvements        412\n",
       "business loan            129\n",
       "buy a car                 96\n",
       "medical bills             71\n",
       "major purchase            40\n",
       "take a trip               37\n",
       "buy house                 34\n",
       "small business            26\n",
       "wedding                   15\n",
       "moving                    11\n",
       "educational expenses      10\n",
       "vacation                   8\n",
       "renewable energy           2\n",
       "Name: Purpose, dtype: int64"
      ]
     },
     "execution_count": 17,
     "metadata": {},
     "output_type": "execute_result"
    }
   ],
   "source": [
    "df_train['Purpose'].value_counts()\n",
    "\n"
   ]
  },
  {
   "cell_type": "code",
   "execution_count": 18,
   "metadata": {
    "pycharm": {
     "name": "#%%\n"
    }
   },
   "outputs": [
    {
     "data": {
      "text/plain": [
       "Short Term    5556\n",
       "Long Term     1944\n",
       "Name: Term, dtype: int64"
      ]
     },
     "execution_count": 18,
     "metadata": {},
     "output_type": "execute_result"
    }
   ],
   "source": [
    "df_train['Term'].value_counts()\n",
    "\n"
   ]
  },
  {
   "cell_type": "code",
   "execution_count": 19,
   "metadata": {
    "pycharm": {
     "name": "#%%\n"
    }
   },
   "outputs": [
    {
     "data": {
      "text/plain": [
       "0.0        6\n",
       "19667.0    4\n",
       "19222.0    4\n",
       "19277.0    3\n",
       "9669.0     3\n",
       "18997.0    3\n",
       "11285.0    3\n",
       "13162.0    3\n",
       "21002.0    3\n",
       "16502.0    3\n",
       "22586.0    3\n",
       "14848.0    3\n",
       "14087.0    3\n",
       "14476.0    3\n",
       "10057.0    3\n",
       "11183.0    3\n",
       "12031.0    3\n",
       "15036.0    3\n",
       "12986.0    3\n",
       "15744.0    3\n",
       "9525.0     3\n",
       "36579.0    3\n",
       "22813.0    3\n",
       "14482.0    3\n",
       "18373.0    3\n",
       "13565.0    3\n",
       "11669.0    3\n",
       "13632.0    3\n",
       "13356.0    3\n",
       "25511.0    3\n",
       "14683.0    3\n",
       "10719.0    3\n",
       "7792.0     3\n",
       "6876.0     3\n",
       "12343.0    3\n",
       "20466.0    3\n",
       "8882.0     3\n",
       "8994.0     3\n",
       "16357.0    3\n",
       "15749.0    3\n",
       "Name: Monthly Debt, dtype: int64"
      ]
     },
     "execution_count": 19,
     "metadata": {},
     "output_type": "execute_result"
    }
   ],
   "source": [
    "df_train['Monthly Debt'].value_counts().head(40)"
   ]
  },
  {
   "cell_type": "code",
   "execution_count": 20,
   "metadata": {
    "pycharm": {
     "name": "#%%\n"
    }
   },
   "outputs": [
    {
     "data": {
      "image/png": "[encoded data removed]",
      "text/plain": [
       "<Figure size 864x576 with 1 Axes>"
      ]
     },
     "metadata": {
      "needs_background": "light"
     },
     "output_type": "display_data"
    }
   ],
   "source": [
    "#Строю гистограмму всех людей у кого цель кредита консолидация долгов относительно классов кредит дефолт\n",
    "#Это необходимо чтобы понять какой процент людей визульно получают одобрение кредита а какой нет при самой популярной цели кредита\n",
    "def counts_bar(data_frame, feature_name):\n",
    "    counts = data_frame[feature_name].value_counts()\n",
    "    plt.figure(figsize=(12,8))\n",
    "    plt.title(feature_name)\n",
    "    sns.barplot(counts.index, counts.values)\n",
    "\n",
    "counts_bar(df_train[df_train['Purpose'] == 'debt consolidation'], 'Credit Default')"
   ]
  },
  {
   "cell_type": "markdown",
   "metadata": {
    "pycharm": {
     "name": "#%% md\n"
    }
   },
   "source": [
    "Выводы по категориальным признакам\n",
    "\n",
    "Home Ownership - преобразовать в 3 категории Аренда, Ипотека, свое жилье (0, 1, 2)<br/>\n",
    "Years in current job - преобразовать в 4 категории менее года, от 1 до 3х включительно, от 3х до 5ти лет включительно, от 6 и выше (0, 1, 2, 3)\n",
    "Все пропуски можно кидать в нулевую категорию, где менее года<br/>\n",
    "Tax Liens - также категория от 4х до 7ми, самая слабая, от 1 до 3, чуть сильнее, и 0 самая сильная (0, 1, 2)<br/>\n",
    "Number of Credit Problems - 4 категории по принципу как раньше от слабой к сильной,\n",
    "от 4х до 7ми - 0, 2 и 3 - 1, 1 - 2 категория, 0 - 3 категория<br/>\n",
    "Bankruptcies - банкротсва условно 2 категории банкрот (1) и не банкрот (0) (0, 1) банкрот это если больше нуля, остальное не банкрот<br/>\n",
    "Term - Long в 1ую категорию, Short во 0ую<br/>\n",
    "Purpose нужно разбить также на ранги.<br/>\n",
    "1ый - все что связано с физ лицом и машиной жильем и медециной<br/>\n",
    "2 - все что связано с бизнесом<br/>\n",
    "3 - консолидация долгов<br/>\n",
    "все остальное кинуть в нулевой ранг<br/>\n"
   ]
  },
  {
   "cell_type": "code",
   "execution_count": 21,
   "metadata": {
    "pycharm": {
     "name": "#%%\n"
    }
   },
   "outputs": [
    {
     "data": {
      "text/html": [
       "<div>\n",
       "<style scoped>\n",
       "    .dataframe tbody tr th:only-of-type {\n",
       "        vertical-align: middle;\n",
       "    }\n",
       "\n",
       "    .dataframe tbody tr th {\n",
       "        vertical-align: top;\n",
       "    }\n",
       "\n",
       "    .dataframe thead th {\n",
       "        text-align: right;\n",
       "    }\n",
       "</style>\n",
       "<table border=\"1\" class=\"dataframe\">\n",
       "  <thead>\n",
       "    <tr style=\"text-align: right;\">\n",
       "      <th></th>\n",
       "      <th>Annual Income</th>\n",
       "      <th>Tax Liens</th>\n",
       "      <th>Number of Open Accounts</th>\n",
       "      <th>Years of Credit History</th>\n",
       "      <th>Maximum Open Credit</th>\n",
       "      <th>Number of Credit Problems</th>\n",
       "      <th>Months since last delinquent</th>\n",
       "      <th>Bankruptcies</th>\n",
       "      <th>Current Loan Amount</th>\n",
       "      <th>Current Credit Balance</th>\n",
       "      <th>Monthly Debt</th>\n",
       "      <th>Credit Score</th>\n",
       "      <th>Credit Default</th>\n",
       "    </tr>\n",
       "  </thead>\n",
       "  <tbody>\n",
       "    <tr>\n",
       "      <th>count</th>\n",
       "      <td>5.943000e+03</td>\n",
       "      <td>7500.000000</td>\n",
       "      <td>7500.000000</td>\n",
       "      <td>7500.000000</td>\n",
       "      <td>7.500000e+03</td>\n",
       "      <td>7500.000000</td>\n",
       "      <td>3419.000000</td>\n",
       "      <td>7486.000000</td>\n",
       "      <td>7.500000e+03</td>\n",
       "      <td>7.500000e+03</td>\n",
       "      <td>7500.000000</td>\n",
       "      <td>5943.000000</td>\n",
       "      <td>7500.000000</td>\n",
       "    </tr>\n",
       "    <tr>\n",
       "      <th>mean</th>\n",
       "      <td>1.366392e+06</td>\n",
       "      <td>0.030133</td>\n",
       "      <td>11.130933</td>\n",
       "      <td>18.317467</td>\n",
       "      <td>9.451537e+05</td>\n",
       "      <td>0.170000</td>\n",
       "      <td>34.692600</td>\n",
       "      <td>0.117152</td>\n",
       "      <td>1.187318e+07</td>\n",
       "      <td>2.898332e+05</td>\n",
       "      <td>18314.454133</td>\n",
       "      <td>1151.087498</td>\n",
       "      <td>0.281733</td>\n",
       "    </tr>\n",
       "    <tr>\n",
       "      <th>std</th>\n",
       "      <td>8.453392e+05</td>\n",
       "      <td>0.271604</td>\n",
       "      <td>4.908924</td>\n",
       "      <td>7.041946</td>\n",
       "      <td>1.602622e+07</td>\n",
       "      <td>0.498598</td>\n",
       "      <td>21.688806</td>\n",
       "      <td>0.347192</td>\n",
       "      <td>3.192612e+07</td>\n",
       "      <td>3.178714e+05</td>\n",
       "      <td>11926.764673</td>\n",
       "      <td>1604.451418</td>\n",
       "      <td>0.449874</td>\n",
       "    </tr>\n",
       "    <tr>\n",
       "      <th>min</th>\n",
       "      <td>1.645970e+05</td>\n",
       "      <td>0.000000</td>\n",
       "      <td>2.000000</td>\n",
       "      <td>4.000000</td>\n",
       "      <td>0.000000e+00</td>\n",
       "      <td>0.000000</td>\n",
       "      <td>0.000000</td>\n",
       "      <td>0.000000</td>\n",
       "      <td>1.124200e+04</td>\n",
       "      <td>0.000000e+00</td>\n",
       "      <td>0.000000</td>\n",
       "      <td>585.000000</td>\n",
       "      <td>0.000000</td>\n",
       "    </tr>\n",
       "    <tr>\n",
       "      <th>25%</th>\n",
       "      <td>8.443410e+05</td>\n",
       "      <td>0.000000</td>\n",
       "      <td>8.000000</td>\n",
       "      <td>13.500000</td>\n",
       "      <td>2.792295e+05</td>\n",
       "      <td>0.000000</td>\n",
       "      <td>16.000000</td>\n",
       "      <td>0.000000</td>\n",
       "      <td>1.801690e+05</td>\n",
       "      <td>1.142565e+05</td>\n",
       "      <td>10067.500000</td>\n",
       "      <td>711.000000</td>\n",
       "      <td>0.000000</td>\n",
       "    </tr>\n",
       "    <tr>\n",
       "      <th>50%</th>\n",
       "      <td>1.168386e+06</td>\n",
       "      <td>0.000000</td>\n",
       "      <td>10.000000</td>\n",
       "      <td>17.000000</td>\n",
       "      <td>4.781590e+05</td>\n",
       "      <td>0.000000</td>\n",
       "      <td>32.000000</td>\n",
       "      <td>0.000000</td>\n",
       "      <td>3.095730e+05</td>\n",
       "      <td>2.093230e+05</td>\n",
       "      <td>16076.500000</td>\n",
       "      <td>731.000000</td>\n",
       "      <td>0.000000</td>\n",
       "    </tr>\n",
       "    <tr>\n",
       "      <th>75%</th>\n",
       "      <td>1.640137e+06</td>\n",
       "      <td>0.000000</td>\n",
       "      <td>14.000000</td>\n",
       "      <td>21.800000</td>\n",
       "      <td>7.935015e+05</td>\n",
       "      <td>0.000000</td>\n",
       "      <td>50.000000</td>\n",
       "      <td>0.000000</td>\n",
       "      <td>5.198820e+05</td>\n",
       "      <td>3.604062e+05</td>\n",
       "      <td>23818.000000</td>\n",
       "      <td>743.000000</td>\n",
       "      <td>1.000000</td>\n",
       "    </tr>\n",
       "    <tr>\n",
       "      <th>max</th>\n",
       "      <td>1.014934e+07</td>\n",
       "      <td>7.000000</td>\n",
       "      <td>43.000000</td>\n",
       "      <td>57.700000</td>\n",
       "      <td>1.304726e+09</td>\n",
       "      <td>7.000000</td>\n",
       "      <td>118.000000</td>\n",
       "      <td>4.000000</td>\n",
       "      <td>1.000000e+08</td>\n",
       "      <td>6.506797e+06</td>\n",
       "      <td>136679.000000</td>\n",
       "      <td>7510.000000</td>\n",
       "      <td>1.000000</td>\n",
       "    </tr>\n",
       "  </tbody>\n",
       "</table>\n",
       "</div>"
      ],
      "text/plain": [
       "       Annual Income    Tax Liens  Number of Open Accounts  \\\n",
       "count   5.943000e+03  7500.000000              7500.000000   \n",
       "mean    1.366392e+06     0.030133                11.130933   \n",
       "std     8.453392e+05     0.271604                 4.908924   \n",
       "min     1.645970e+05     0.000000                 2.000000   \n",
       "25%     8.443410e+05     0.000000                 8.000000   \n",
       "50%     1.168386e+06     0.000000                10.000000   \n",
       "75%     1.640137e+06     0.000000                14.000000   \n",
       "max     1.014934e+07     7.000000                43.000000   \n",
       "\n",
       "       Years of Credit History  Maximum Open Credit  \\\n",
       "count              7500.000000         7.500000e+03   \n",
       "mean                 18.317467         9.451537e+05   \n",
       "std                   7.041946         1.602622e+07   \n",
       "min                   4.000000         0.000000e+00   \n",
       "25%                  13.500000         2.792295e+05   \n",
       "50%                  17.000000         4.781590e+05   \n",
       "75%                  21.800000         7.935015e+05   \n",
       "max                  57.700000         1.304726e+09   \n",
       "\n",
       "       Number of Credit Problems  Months since last delinquent  Bankruptcies  \\\n",
       "count                7500.000000                   3419.000000   7486.000000   \n",
       "mean                    0.170000                     34.692600      0.117152   \n",
       "std                     0.498598                     21.688806      0.347192   \n",
       "min                     0.000000                      0.000000      0.000000   \n",
       "25%                     0.000000                     16.000000      0.000000   \n",
       "50%                     0.000000                     32.000000      0.000000   \n",
       "75%                     0.000000                     50.000000      0.000000   \n",
       "max                     7.000000                    118.000000      4.000000   \n",
       "\n",
       "       Current Loan Amount  Current Credit Balance   Monthly Debt  \\\n",
       "count         7.500000e+03            7.500000e+03    7500.000000   \n",
       "mean          1.187318e+07            2.898332e+05   18314.454133   \n",
       "std           3.192612e+07            3.178714e+05   11926.764673   \n",
       "min           1.124200e+04            0.000000e+00       0.000000   \n",
       "25%           1.801690e+05            1.142565e+05   10067.500000   \n",
       "50%           3.095730e+05            2.093230e+05   16076.500000   \n",
       "75%           5.198820e+05            3.604062e+05   23818.000000   \n",
       "max           1.000000e+08            6.506797e+06  136679.000000   \n",
       "\n",
       "       Credit Score  Credit Default  \n",
       "count   5943.000000     7500.000000  \n",
       "mean    1151.087498        0.281733  \n",
       "std     1604.451418        0.449874  \n",
       "min      585.000000        0.000000  \n",
       "25%      711.000000        0.000000  \n",
       "50%      731.000000        0.000000  \n",
       "75%      743.000000        1.000000  \n",
       "max     7510.000000        1.000000  "
      ]
     },
     "execution_count": 21,
     "metadata": {},
     "output_type": "execute_result"
    }
   ],
   "source": [
    "df_train.describe()\n",
    "\n"
   ]
  },
  {
   "cell_type": "code",
   "execution_count": 22,
   "metadata": {
    "pycharm": {
     "name": "#%%\n"
    }
   },
   "outputs": [
    {
     "data": {
      "text/plain": [
       "0       0\n",
       "1       1\n",
       "2       0\n",
       "3       0\n",
       "4       0\n",
       "       ..\n",
       "7495    0\n",
       "7496    1\n",
       "7497    0\n",
       "7498    0\n",
       "7499    0\n",
       "Name: Credit Default, Length: 7500, dtype: int64"
      ]
     },
     "execution_count": 22,
     "metadata": {},
     "output_type": "execute_result"
    }
   ],
   "source": [
    "target = pd.Series(df_train['Credit Default'])\n",
    "target\n"
   ]
  },
  {
   "cell_type": "code",
   "execution_count": 23,
   "metadata": {
    "pycharm": {
     "name": "#%%\n"
    }
   },
   "outputs": [
    {
     "data": {
      "text/plain": [
       "<matplotlib.collections.PathCollection at 0x1e88f52ac40>"
      ]
     },
     "execution_count": 23,
     "metadata": {},
     "output_type": "execute_result"
    },
    {
     "data": {
      "image/png": "[encoded data removed]",
      "text/plain": [
       "<Figure size 432x288 with 1 Axes>"
      ]
     },
     "metadata": {
      "needs_background": "light"
     },
     "output_type": "display_data"
    }
   ],
   "source": [
    "plt.scatter(df_train['Tax Liens'], target)\n",
    "\n"
   ]
  },
  {
   "cell_type": "code",
   "execution_count": 24,
   "metadata": {
    "pycharm": {
     "name": "#%%\n"
    }
   },
   "outputs": [
    {
     "data": {
      "text/plain": [
       "<matplotlib.collections.PathCollection at 0x1e88d48acd0>"
      ]
     },
     "execution_count": 24,
     "metadata": {},
     "output_type": "execute_result"
    },
    {
     "data": {
      "image/png": "[encoded data removed]",
      "text/plain": [
       "<Figure size 432x288 with 1 Axes>"
      ]
     },
     "metadata": {
      "needs_background": "light"
     },
     "output_type": "display_data"
    }
   ],
   "source": [
    "plt.scatter(df_train['Number of Open Accounts'], target)\n",
    "\n"
   ]
  },
  {
   "cell_type": "code",
   "execution_count": 25,
   "metadata": {
    "pycharm": {
     "name": "#%%\n"
    }
   },
   "outputs": [
    {
     "data": {
      "text/plain": [
       "<matplotlib.collections.PathCollection at 0x1e88d4c4400>"
      ]
     },
     "execution_count": 25,
     "metadata": {},
     "output_type": "execute_result"
    },
    {
     "data": {
      "image/png": "[encoded data removed]",
      "text/plain": [
       "<Figure size 432x288 with 1 Axes>"
      ]
     },
     "metadata": {
      "needs_background": "light"
     },
     "output_type": "display_data"
    }
   ],
   "source": [
    "plt.scatter(df_train['Current Loan Amount'], target)\n",
    "\n"
   ]
  },
  {
   "cell_type": "code",
   "execution_count": 26,
   "metadata": {
    "pycharm": {
     "name": "#%%\n"
    }
   },
   "outputs": [
    {
     "data": {
      "text/plain": [
       "<matplotlib.collections.PathCollection at 0x1e88f5cf2b0>"
      ]
     },
     "execution_count": 26,
     "metadata": {},
     "output_type": "execute_result"
    },
    {
     "data": {
      "image/png": "[encoded data removed]",
      "text/plain": [
       "<Figure size 432x288 with 1 Axes>"
      ]
     },
     "metadata": {
      "needs_background": "light"
     },
     "output_type": "display_data"
    }
   ],
   "source": [
    "plt.scatter(df_train['Monthly Debt'], target)\n",
    "\n"
   ]
  },
  {
   "cell_type": "code",
   "execution_count": 27,
   "metadata": {
    "pycharm": {
     "name": "#%%\n"
    }
   },
   "outputs": [
    {
     "data": {
      "text/plain": [
       "1404       11242.0\n",
       "4467       21472.0\n",
       "2735       21472.0\n",
       "7144       21516.0\n",
       "5861       21560.0\n",
       "           ...    \n",
       "4384    99999999.0\n",
       "732     99999999.0\n",
       "4374    99999999.0\n",
       "4555    99999999.0\n",
       "0       99999999.0\n",
       "Name: Current Loan Amount, Length: 7500, dtype: float64"
      ]
     },
     "execution_count": 27,
     "metadata": {},
     "output_type": "execute_result"
    }
   ],
   "source": [
    "current_loan = df_train['Current Loan Amount'].sort_values()\n",
    "current_loan"
   ]
  },
  {
   "cell_type": "code",
   "execution_count": 28,
   "metadata": {
    "pycharm": {
     "name": "#%%\n"
    }
   },
   "outputs": [
    {
     "data": {
      "text/plain": [
       "99999999.0    870\n",
       "89298.0         6\n",
       "218064.0        6\n",
       "222926.0        5\n",
       "223322.0        5\n",
       "             ... \n",
       "224444.0        1\n",
       "570680.0        1\n",
       "449746.0        1\n",
       "132154.0        1\n",
       "167904.0        1\n",
       "Name: Current Loan Amount, Length: 5386, dtype: int64"
      ]
     },
     "execution_count": 28,
     "metadata": {},
     "output_type": "execute_result"
    }
   ],
   "source": [
    "#Здесь явно 870 выбросов со значениями 99999999.0 их можно изменить на средние\n",
    "current_loan.value_counts()\n"
   ]
  },
  {
   "cell_type": "code",
   "execution_count": 29,
   "metadata": {
    "pycharm": {
     "name": "#%%\n"
    }
   },
   "outputs": [
    {
     "data": {
      "text/plain": [
       "4769    6506797.0\n",
       "4745    4720132.0\n",
       "4602    4367245.0\n",
       "1580    4249673.0\n",
       "7278    4209659.0\n",
       "3316    3944514.0\n",
       "2618    3927471.0\n",
       "3198    3683340.0\n",
       "162     3547262.0\n",
       "1931    3271629.0\n",
       "1233    2913707.0\n",
       "2535    2889577.0\n",
       "5974    2875726.0\n",
       "837     2833451.0\n",
       "4840    2784108.0\n",
       "5823    2759617.0\n",
       "1984    2759503.0\n",
       "5432    2678088.0\n",
       "604     2612177.0\n",
       "2482    2611835.0\n",
       "Name: Current Credit Balance, dtype: float64"
      ]
     },
     "execution_count": 29,
     "metadata": {},
     "output_type": "execute_result"
    }
   ],
   "source": [
    "df_train['Current Credit Balance'].sort_values(ascending=False).head(20)\n"
   ]
  },
  {
   "cell_type": "code",
   "execution_count": 30,
   "metadata": {
    "pycharm": {
     "name": "#%%\n"
    }
   },
   "outputs": [
    {
     "data": {
      "text/plain": [
       "4745    136679.0\n",
       "1615    110311.0\n",
       "2535    104036.0\n",
       "6946    100091.0\n",
       "6253     96177.0\n",
       "280      95508.0\n",
       "166      94674.0\n",
       "7478     93640.0\n",
       "4439     89789.0\n",
       "2502     87994.0\n",
       "7459     85030.0\n",
       "3601     84738.0\n",
       "1472     84359.0\n",
       "7179     83783.0\n",
       "2064     83458.0\n",
       "6727     83158.0\n",
       "974      81346.0\n",
       "6990     79661.0\n",
       "5102     79555.0\n",
       "6486     78925.0\n",
       "Name: Monthly Debt, dtype: float64"
      ]
     },
     "execution_count": 30,
     "metadata": {},
     "output_type": "execute_result"
    }
   ],
   "source": [
    "df_train['Monthly Debt'].sort_values(ascending=False).head(20)"
   ]
  },
  {
   "cell_type": "code",
   "execution_count": 31,
   "metadata": {
    "pycharm": {
     "name": "#%%\n"
    }
   },
   "outputs": [
    {
     "data": {
      "text/plain": [
       "4191    118.0\n",
       "5214     92.0\n",
       "5202     91.0\n",
       "428      86.0\n",
       "4682     84.0\n",
       "1015     83.0\n",
       "5546     83.0\n",
       "5826     83.0\n",
       "522      82.0\n",
       "6174     82.0\n",
       "7077     82.0\n",
       "6761     82.0\n",
       "6511     81.0\n",
       "7100     81.0\n",
       "6460     81.0\n",
       "2337     81.0\n",
       "2415     81.0\n",
       "4199     81.0\n",
       "4060     81.0\n",
       "6121     81.0\n",
       "Name: Months since last delinquent, dtype: float64"
      ]
     },
     "execution_count": 31,
     "metadata": {},
     "output_type": "execute_result"
    }
   ],
   "source": [
    "df_train['Months since last delinquent'].sort_values(ascending=False).head(20)\n",
    "\n"
   ]
  },
  {
   "cell_type": "code",
   "execution_count": 32,
   "metadata": {
    "pycharm": {
     "name": "#%%\n"
    }
   },
   "outputs": [
    {
     "data": {
      "text/plain": [
       "2213    7510.0\n",
       "3688    7510.0\n",
       "2408    7500.0\n",
       "355     7500.0\n",
       "1363    7490.0\n",
       "3063    7490.0\n",
       "6055    7480.0\n",
       "7282    7480.0\n",
       "1531    7480.0\n",
       "7355    7480.0\n",
       "5899    7480.0\n",
       "4436    7480.0\n",
       "153     7470.0\n",
       "263     7470.0\n",
       "7460    7470.0\n",
       "3638    7470.0\n",
       "629     7460.0\n",
       "5618    7460.0\n",
       "4584    7460.0\n",
       "4911    7460.0\n",
       "5179    7460.0\n",
       "2592    7460.0\n",
       "3538    7460.0\n",
       "2216    7460.0\n",
       "3520    7450.0\n",
       "534     7450.0\n",
       "4037    7450.0\n",
       "5353    7440.0\n",
       "4491    7440.0\n",
       "87      7440.0\n",
       "5266    7440.0\n",
       "3201    7440.0\n",
       "267     7430.0\n",
       "2883    7430.0\n",
       "5045    7430.0\n",
       "7016    7420.0\n",
       "2519    7420.0\n",
       "2571    7420.0\n",
       "2777    7410.0\n",
       "5730    7410.0\n",
       "Name: Credit Score, dtype: float64"
      ]
     },
     "execution_count": 32,
     "metadata": {},
     "output_type": "execute_result"
    }
   ],
   "source": [
    "df_train['Credit Score'].sort_values(ascending=False).head(40)\n"
   ]
  },
  {
   "cell_type": "code",
   "execution_count": 33,
   "metadata": {
    "pycharm": {
     "name": "#%%\n"
    }
   },
   "outputs": [
    {
     "data": {
      "text/plain": [
       "<matplotlib.collections.PathCollection at 0x1e88f6680d0>"
      ]
     },
     "execution_count": 33,
     "metadata": {},
     "output_type": "execute_result"
    },
    {
     "data": {
      "image/png": "[encoded data removed]",
      "text/plain": [
       "<Figure size 432x288 with 1 Axes>"
      ]
     },
     "metadata": {
      "needs_background": "light"
     },
     "output_type": "display_data"
    }
   ],
   "source": [
    "plt.scatter(df_train['Credit Score'], target)\n",
    "\n"
   ]
  },
  {
   "cell_type": "code",
   "execution_count": 34,
   "metadata": {
    "pycharm": {
     "name": "#%%\n"
    }
   },
   "outputs": [
    {
     "data": {
      "text/plain": [
       "Credit Score\n",
       "7400.0          15\n",
       "7300.0          13\n",
       "7330.0          13\n",
       "7170.0          12\n",
       "7370.0          12\n",
       "                ..\n",
       "6750.0           1\n",
       "6710.0           1\n",
       "6680.0           1\n",
       "6670.0           1\n",
       "6060.0           1\n",
       "Length: 110, dtype: int64"
      ]
     },
     "execution_count": 34,
     "metadata": {},
     "output_type": "execute_result"
    }
   ],
   "source": [
    "credit_score = pd.DataFrame(df_train['Credit Score'])\n",
    "credit_score[credit_score['Credit Score'] > 5000].value_counts()"
   ]
  },
  {
   "cell_type": "code",
   "execution_count": 35,
   "metadata": {
    "pycharm": {
     "name": "#%%\n"
    }
   },
   "outputs": [
    {
     "data": {
      "text/html": [
       "<div>\n",
       "<style scoped>\n",
       "    .dataframe tbody tr th:only-of-type {\n",
       "        vertical-align: middle;\n",
       "    }\n",
       "\n",
       "    .dataframe tbody tr th {\n",
       "        vertical-align: top;\n",
       "    }\n",
       "\n",
       "    .dataframe thead th {\n",
       "        text-align: right;\n",
       "    }\n",
       "</style>\n",
       "<table border=\"1\" class=\"dataframe\">\n",
       "  <thead>\n",
       "    <tr style=\"text-align: right;\">\n",
       "      <th></th>\n",
       "      <th>Home Ownership</th>\n",
       "      <th>Annual Income</th>\n",
       "      <th>Years in current job</th>\n",
       "      <th>Tax Liens</th>\n",
       "      <th>Number of Open Accounts</th>\n",
       "      <th>Years of Credit History</th>\n",
       "      <th>Maximum Open Credit</th>\n",
       "      <th>Number of Credit Problems</th>\n",
       "      <th>Months since last delinquent</th>\n",
       "      <th>Bankruptcies</th>\n",
       "      <th>Purpose</th>\n",
       "      <th>Term</th>\n",
       "      <th>Current Loan Amount</th>\n",
       "      <th>Current Credit Balance</th>\n",
       "      <th>Monthly Debt</th>\n",
       "      <th>Credit Score</th>\n",
       "      <th>Credit Default</th>\n",
       "    </tr>\n",
       "  </thead>\n",
       "  <tbody>\n",
       "    <tr>\n",
       "      <th>69</th>\n",
       "      <td>Home Mortgage</td>\n",
       "      <td>1408527.0</td>\n",
       "      <td>2 years</td>\n",
       "      <td>0.0</td>\n",
       "      <td>12.0</td>\n",
       "      <td>17.5</td>\n",
       "      <td>700062.0</td>\n",
       "      <td>0.0</td>\n",
       "      <td>21.0</td>\n",
       "      <td>0.0</td>\n",
       "      <td>other</td>\n",
       "      <td>Long Term</td>\n",
       "      <td>525998.0</td>\n",
       "      <td>174135.0</td>\n",
       "      <td>9320.0</td>\n",
       "      <td>6470.0</td>\n",
       "      <td>1</td>\n",
       "    </tr>\n",
       "    <tr>\n",
       "      <th>87</th>\n",
       "      <td>Home Mortgage</td>\n",
       "      <td>1533566.0</td>\n",
       "      <td>7 years</td>\n",
       "      <td>0.0</td>\n",
       "      <td>11.0</td>\n",
       "      <td>14.8</td>\n",
       "      <td>715462.0</td>\n",
       "      <td>0.0</td>\n",
       "      <td>19.0</td>\n",
       "      <td>0.0</td>\n",
       "      <td>debt consolidation</td>\n",
       "      <td>Short Term</td>\n",
       "      <td>210826.0</td>\n",
       "      <td>285475.0</td>\n",
       "      <td>18147.0</td>\n",
       "      <td>7440.0</td>\n",
       "      <td>1</td>\n",
       "    </tr>\n",
       "    <tr>\n",
       "      <th>94</th>\n",
       "      <td>Rent</td>\n",
       "      <td>1049294.0</td>\n",
       "      <td>3 years</td>\n",
       "      <td>0.0</td>\n",
       "      <td>5.0</td>\n",
       "      <td>6.1</td>\n",
       "      <td>249810.0</td>\n",
       "      <td>0.0</td>\n",
       "      <td>NaN</td>\n",
       "      <td>0.0</td>\n",
       "      <td>business loan</td>\n",
       "      <td>Short Term</td>\n",
       "      <td>337502.0</td>\n",
       "      <td>119529.0</td>\n",
       "      <td>15215.0</td>\n",
       "      <td>7010.0</td>\n",
       "      <td>1</td>\n",
       "    </tr>\n",
       "    <tr>\n",
       "      <th>96</th>\n",
       "      <td>Rent</td>\n",
       "      <td>757568.0</td>\n",
       "      <td>5 years</td>\n",
       "      <td>0.0</td>\n",
       "      <td>13.0</td>\n",
       "      <td>11.4</td>\n",
       "      <td>383548.0</td>\n",
       "      <td>0.0</td>\n",
       "      <td>NaN</td>\n",
       "      <td>0.0</td>\n",
       "      <td>debt consolidation</td>\n",
       "      <td>Short Term</td>\n",
       "      <td>210518.0</td>\n",
       "      <td>276583.0</td>\n",
       "      <td>11553.0</td>\n",
       "      <td>7320.0</td>\n",
       "      <td>1</td>\n",
       "    </tr>\n",
       "    <tr>\n",
       "      <th>116</th>\n",
       "      <td>Home Mortgage</td>\n",
       "      <td>1039984.0</td>\n",
       "      <td>NaN</td>\n",
       "      <td>0.0</td>\n",
       "      <td>10.0</td>\n",
       "      <td>23.8</td>\n",
       "      <td>147950.0</td>\n",
       "      <td>0.0</td>\n",
       "      <td>63.0</td>\n",
       "      <td>0.0</td>\n",
       "      <td>debt consolidation</td>\n",
       "      <td>Short Term</td>\n",
       "      <td>224246.0</td>\n",
       "      <td>95456.0</td>\n",
       "      <td>13780.0</td>\n",
       "      <td>7390.0</td>\n",
       "      <td>1</td>\n",
       "    </tr>\n",
       "    <tr>\n",
       "      <th>...</th>\n",
       "      <td>...</td>\n",
       "      <td>...</td>\n",
       "      <td>...</td>\n",
       "      <td>...</td>\n",
       "      <td>...</td>\n",
       "      <td>...</td>\n",
       "      <td>...</td>\n",
       "      <td>...</td>\n",
       "      <td>...</td>\n",
       "      <td>...</td>\n",
       "      <td>...</td>\n",
       "      <td>...</td>\n",
       "      <td>...</td>\n",
       "      <td>...</td>\n",
       "      <td>...</td>\n",
       "      <td>...</td>\n",
       "      <td>...</td>\n",
       "    </tr>\n",
       "    <tr>\n",
       "      <th>7422</th>\n",
       "      <td>Rent</td>\n",
       "      <td>694868.0</td>\n",
       "      <td>1 year</td>\n",
       "      <td>0.0</td>\n",
       "      <td>4.0</td>\n",
       "      <td>7.8</td>\n",
       "      <td>143066.0</td>\n",
       "      <td>0.0</td>\n",
       "      <td>NaN</td>\n",
       "      <td>0.0</td>\n",
       "      <td>debt consolidation</td>\n",
       "      <td>Long Term</td>\n",
       "      <td>244178.0</td>\n",
       "      <td>122075.0</td>\n",
       "      <td>4268.0</td>\n",
       "      <td>6690.0</td>\n",
       "      <td>1</td>\n",
       "    </tr>\n",
       "    <tr>\n",
       "      <th>7433</th>\n",
       "      <td>Rent</td>\n",
       "      <td>2011758.0</td>\n",
       "      <td>&lt; 1 year</td>\n",
       "      <td>0.0</td>\n",
       "      <td>4.0</td>\n",
       "      <td>14.9</td>\n",
       "      <td>22176.0</td>\n",
       "      <td>0.0</td>\n",
       "      <td>43.0</td>\n",
       "      <td>0.0</td>\n",
       "      <td>buy a car</td>\n",
       "      <td>Long Term</td>\n",
       "      <td>106480.0</td>\n",
       "      <td>18791.0</td>\n",
       "      <td>12590.0</td>\n",
       "      <td>6060.0</td>\n",
       "      <td>1</td>\n",
       "    </tr>\n",
       "    <tr>\n",
       "      <th>7450</th>\n",
       "      <td>Home Mortgage</td>\n",
       "      <td>1432277.0</td>\n",
       "      <td>10+ years</td>\n",
       "      <td>0.0</td>\n",
       "      <td>16.0</td>\n",
       "      <td>22.8</td>\n",
       "      <td>825176.0</td>\n",
       "      <td>0.0</td>\n",
       "      <td>NaN</td>\n",
       "      <td>0.0</td>\n",
       "      <td>debt consolidation</td>\n",
       "      <td>Short Term</td>\n",
       "      <td>187924.0</td>\n",
       "      <td>458242.0</td>\n",
       "      <td>27094.0</td>\n",
       "      <td>7290.0</td>\n",
       "      <td>1</td>\n",
       "    </tr>\n",
       "    <tr>\n",
       "      <th>7460</th>\n",
       "      <td>Rent</td>\n",
       "      <td>769462.0</td>\n",
       "      <td>5 years</td>\n",
       "      <td>0.0</td>\n",
       "      <td>8.0</td>\n",
       "      <td>17.0</td>\n",
       "      <td>313786.0</td>\n",
       "      <td>0.0</td>\n",
       "      <td>80.0</td>\n",
       "      <td>0.0</td>\n",
       "      <td>debt consolidation</td>\n",
       "      <td>Short Term</td>\n",
       "      <td>109186.0</td>\n",
       "      <td>45524.0</td>\n",
       "      <td>4585.0</td>\n",
       "      <td>7470.0</td>\n",
       "      <td>1</td>\n",
       "    </tr>\n",
       "    <tr>\n",
       "      <th>7496</th>\n",
       "      <td>Home Mortgage</td>\n",
       "      <td>1533984.0</td>\n",
       "      <td>1 year</td>\n",
       "      <td>0.0</td>\n",
       "      <td>10.0</td>\n",
       "      <td>26.5</td>\n",
       "      <td>686312.0</td>\n",
       "      <td>0.0</td>\n",
       "      <td>43.0</td>\n",
       "      <td>0.0</td>\n",
       "      <td>debt consolidation</td>\n",
       "      <td>Long Term</td>\n",
       "      <td>444048.0</td>\n",
       "      <td>456399.0</td>\n",
       "      <td>12783.0</td>\n",
       "      <td>7410.0</td>\n",
       "      <td>1</td>\n",
       "    </tr>\n",
       "  </tbody>\n",
       "</table>\n",
       "<p>400 rows × 17 columns</p>\n",
       "</div>"
      ],
      "text/plain": [
       "     Home Ownership  Annual Income Years in current job  Tax Liens  \\\n",
       "69    Home Mortgage      1408527.0              2 years        0.0   \n",
       "87    Home Mortgage      1533566.0              7 years        0.0   \n",
       "94             Rent      1049294.0              3 years        0.0   \n",
       "96             Rent       757568.0              5 years        0.0   \n",
       "116   Home Mortgage      1039984.0                  NaN        0.0   \n",
       "...             ...            ...                  ...        ...   \n",
       "7422           Rent       694868.0               1 year        0.0   \n",
       "7433           Rent      2011758.0             < 1 year        0.0   \n",
       "7450  Home Mortgage      1432277.0            10+ years        0.0   \n",
       "7460           Rent       769462.0              5 years        0.0   \n",
       "7496  Home Mortgage      1533984.0               1 year        0.0   \n",
       "\n",
       "      Number of Open Accounts  Years of Credit History  Maximum Open Credit  \\\n",
       "69                       12.0                     17.5             700062.0   \n",
       "87                       11.0                     14.8             715462.0   \n",
       "94                        5.0                      6.1             249810.0   \n",
       "96                       13.0                     11.4             383548.0   \n",
       "116                      10.0                     23.8             147950.0   \n",
       "...                       ...                      ...                  ...   \n",
       "7422                      4.0                      7.8             143066.0   \n",
       "7433                      4.0                     14.9              22176.0   \n",
       "7450                     16.0                     22.8             825176.0   \n",
       "7460                      8.0                     17.0             313786.0   \n",
       "7496                     10.0                     26.5             686312.0   \n",
       "\n",
       "      Number of Credit Problems  Months since last delinquent  Bankruptcies  \\\n",
       "69                          0.0                          21.0           0.0   \n",
       "87                          0.0                          19.0           0.0   \n",
       "94                          0.0                           NaN           0.0   \n",
       "96                          0.0                           NaN           0.0   \n",
       "116                         0.0                          63.0           0.0   \n",
       "...                         ...                           ...           ...   \n",
       "7422                        0.0                           NaN           0.0   \n",
       "7433                        0.0                          43.0           0.0   \n",
       "7450                        0.0                           NaN           0.0   \n",
       "7460                        0.0                          80.0           0.0   \n",
       "7496                        0.0                          43.0           0.0   \n",
       "\n",
       "                 Purpose        Term  Current Loan Amount  \\\n",
       "69                 other   Long Term             525998.0   \n",
       "87    debt consolidation  Short Term             210826.0   \n",
       "94         business loan  Short Term             337502.0   \n",
       "96    debt consolidation  Short Term             210518.0   \n",
       "116   debt consolidation  Short Term             224246.0   \n",
       "...                  ...         ...                  ...   \n",
       "7422  debt consolidation   Long Term             244178.0   \n",
       "7433           buy a car   Long Term             106480.0   \n",
       "7450  debt consolidation  Short Term             187924.0   \n",
       "7460  debt consolidation  Short Term             109186.0   \n",
       "7496  debt consolidation   Long Term             444048.0   \n",
       "\n",
       "      Current Credit Balance  Monthly Debt  Credit Score  Credit Default  \n",
       "69                  174135.0        9320.0        6470.0               1  \n",
       "87                  285475.0       18147.0        7440.0               1  \n",
       "94                  119529.0       15215.0        7010.0               1  \n",
       "96                  276583.0       11553.0        7320.0               1  \n",
       "116                  95456.0       13780.0        7390.0               1  \n",
       "...                      ...           ...           ...             ...  \n",
       "7422                122075.0        4268.0        6690.0               1  \n",
       "7433                 18791.0       12590.0        6060.0               1  \n",
       "7450                458242.0       27094.0        7290.0               1  \n",
       "7460                 45524.0        4585.0        7470.0               1  \n",
       "7496                456399.0       12783.0        7410.0               1  \n",
       "\n",
       "[400 rows x 17 columns]"
      ]
     },
     "execution_count": 35,
     "metadata": {},
     "output_type": "execute_result"
    }
   ],
   "source": [
    "df_train[df_train['Credit Score'] > 5000]\n"
   ]
  },
  {
   "cell_type": "code",
   "execution_count": 36,
   "metadata": {
    "pycharm": {
     "name": "#%%\n"
    }
   },
   "outputs": [
    {
     "data": {
      "text/plain": [
       "<matplotlib.collections.PathCollection at 0x1e88f78a1f0>"
      ]
     },
     "execution_count": 36,
     "metadata": {},
     "output_type": "execute_result"
    },
    {
     "data": {
      "image/png": "[encoded data removed]",
      "text/plain": [
       "<Figure size 432x288 with 1 Axes>"
      ]
     },
     "metadata": {
      "needs_background": "light"
     },
     "output_type": "display_data"
    }
   ],
   "source": [
    "plt.scatter(df_train['Months since last delinquent'], target)\n"
   ]
  },
  {
   "cell_type": "code",
   "execution_count": 37,
   "metadata": {
    "pycharm": {
     "name": "#%%\n"
    }
   },
   "outputs": [
    {
     "data": {
      "text/plain": [
       "<matplotlib.collections.PathCollection at 0x1e88f7e6ee0>"
      ]
     },
     "execution_count": 37,
     "metadata": {},
     "output_type": "execute_result"
    },
    {
     "data": {
      "image/png": "[encoded data removed]",
      "text/plain": [
       "<Figure size 432x288 with 1 Axes>"
      ]
     },
     "metadata": {
      "needs_background": "light"
     },
     "output_type": "display_data"
    }
   ],
   "source": [
    "plt.scatter(df_train['Maximum Open Credit'], target)"
   ]
  },
  {
   "cell_type": "code",
   "execution_count": 38,
   "metadata": {
    "pycharm": {
     "name": "#%%\n"
    }
   },
   "outputs": [
    {
     "data": {
      "text/plain": [
       "<matplotlib.collections.PathCollection at 0x1e88f6cfb20>"
      ]
     },
     "execution_count": 38,
     "metadata": {},
     "output_type": "execute_result"
    },
    {
     "data": {
      "image/png": "[encoded data removed]",
      "text/plain": [
       "<Figure size 432x288 with 1 Axes>"
      ]
     },
     "metadata": {
      "needs_background": "light"
     },
     "output_type": "display_data"
    }
   ],
   "source": [
    "plt.scatter(df_train['Annual Income'], target)"
   ]
  },
  {
   "cell_type": "code",
   "execution_count": 39,
   "metadata": {
    "pycharm": {
     "name": "#%%\n"
    }
   },
   "outputs": [
    {
     "data": {
      "text/plain": [
       "6472    10149344.0\n",
       "2200     9338880.0\n",
       "1025     8923844.0\n",
       "1984     8758449.0\n",
       "5396     8710740.0\n",
       "2474     8633790.0\n",
       "4491     8200229.0\n",
       "1601     7999095.0\n",
       "1616     7907382.0\n",
       "2606     7883442.0\n",
       "7097     7660648.0\n",
       "5774     7655480.0\n",
       "5102     7637240.0\n",
       "3683     7514120.0\n",
       "6604     7476880.0\n",
       "3081     7381842.0\n",
       "5108     7236606.0\n",
       "4685     6961752.0\n",
       "1615     6651900.0\n",
       "7036     6620208.0\n",
       "3446     6611810.0\n",
       "3550     6495720.0\n",
       "6946     6492395.0\n",
       "3927     6222880.0\n",
       "3269     6133922.0\n",
       "4745     6029954.0\n",
       "4271     5798040.0\n",
       "7089     5759280.0\n",
       "4445     5725194.0\n",
       "3399     5712540.0\n",
       "5934     5703648.0\n",
       "602      5631030.0\n",
       "4461     5628750.0\n",
       "693      5605950.0\n",
       "2468     5589420.0\n",
       "2169     5584271.0\n",
       "2992     5573460.0\n",
       "5823     5493527.0\n",
       "7486     5327372.0\n",
       "7299     5289676.0\n",
       "Name: Annual Income, dtype: float64"
      ]
     },
     "execution_count": 39,
     "metadata": {},
     "output_type": "execute_result"
    }
   ],
   "source": [
    "df_train['Annual Income'].sort_values(ascending=False).head(40)"
   ]
  },
  {
   "cell_type": "code",
   "execution_count": 40,
   "metadata": {
    "pycharm": {
     "name": "#%%\n"
    }
   },
   "outputs": [
    {
     "data": {
      "text/plain": [
       "4425     4334.0\n",
       "4365     6556.0\n",
       "1513     6622.0\n",
       "3041    10890.0\n",
       "1050    10956.0\n",
       "1747    11110.0\n",
       "7184    11132.0\n",
       "2195    11198.0\n",
       "6338    12914.0\n",
       "6649    17248.0\n",
       "3271    17270.0\n",
       "2241    17292.0\n",
       "651     17314.0\n",
       "4025    17644.0\n",
       "1809    21670.0\n",
       "7050    21780.0\n",
       "6811    21978.0\n",
       "5928    22000.0\n",
       "2160    22044.0\n",
       "7433    22176.0\n",
       "367     25784.0\n",
       "330     26070.0\n",
       "1540    26752.0\n",
       "1030    28996.0\n",
       "5690    28996.0\n",
       "5281    29238.0\n",
       "5183    31108.0\n",
       "4323    32670.0\n",
       "5002    33242.0\n",
       "523     33682.0\n",
       "5617    34672.0\n",
       "2086    37158.0\n",
       "486     37268.0\n",
       "57      37290.0\n",
       "3830    37752.0\n",
       "3063    38126.0\n",
       "1803    38170.0\n",
       "352     38764.0\n",
       "3706    38962.0\n",
       "4841    39072.0\n",
       "Name: Maximum Open Credit, dtype: float64"
      ]
     },
     "execution_count": 40,
     "metadata": {},
     "output_type": "execute_result"
    }
   ],
   "source": [
    "df_train['Maximum Open Credit'][df_train['Maximum Open Credit'] > 0].sort_values().head(40)\n"
   ]
  },
  {
   "cell_type": "code",
   "execution_count": 41,
   "metadata": {
    "pycharm": {
     "name": "#%%\n"
    }
   },
   "outputs": [
    {
     "data": {
      "text/plain": [
       "617     1.304726e+09\n",
       "44      3.800523e+08\n",
       "2617    2.655129e+08\n",
       "2023    5.756256e+07\n",
       "2763    4.092389e+07\n",
       "7026    2.640700e+07\n",
       "4769    2.634333e+07\n",
       "5523    2.137243e+07\n",
       "5731    1.928043e+07\n",
       "3170    1.868381e+07\n",
       "2468    1.634591e+07\n",
       "354     1.476048e+07\n",
       "4072    1.389707e+07\n",
       "1879    1.270144e+07\n",
       "4745    1.160386e+07\n",
       "5950    1.151346e+07\n",
       "1476    1.042866e+07\n",
       "6744    1.030907e+07\n",
       "4840    1.020160e+07\n",
       "4602    9.541136e+06\n",
       "5147    9.516540e+06\n",
       "85      9.339924e+06\n",
       "6265    9.167356e+06\n",
       "2036    9.094184e+06\n",
       "2431    8.947840e+06\n",
       "5974    8.903180e+06\n",
       "2156    8.706038e+06\n",
       "5432    7.526552e+06\n",
       "7278    7.453138e+06\n",
       "1580    7.204516e+06\n",
       "2375    6.890070e+06\n",
       "4939    6.766276e+06\n",
       "5313    6.658762e+06\n",
       "4773    6.648488e+06\n",
       "5618    6.639358e+06\n",
       "3316    6.619316e+06\n",
       "1601    6.286192e+06\n",
       "561     6.230994e+06\n",
       "7019    6.183782e+06\n",
       "5818    6.148120e+06\n",
       "Name: Maximum Open Credit, dtype: float64"
      ]
     },
     "execution_count": 41,
     "metadata": {},
     "output_type": "execute_result"
    }
   ],
   "source": [
    "df_train['Maximum Open Credit'].sort_values(ascending=False).head(40)\n",
    "\n"
   ]
  },
  {
   "cell_type": "code",
   "execution_count": 42,
   "metadata": {
    "pycharm": {
     "name": "#%%\n"
    }
   },
   "outputs": [
    {
     "data": {
      "text/plain": [
       "2763    4.092389e+07\n",
       "2023    5.756256e+07\n",
       "2617    2.655129e+08\n",
       "44      3.800523e+08\n",
       "617     1.304726e+09\n",
       "Name: Maximum Open Credit, dtype: float64"
      ]
     },
     "execution_count": 42,
     "metadata": {},
     "output_type": "execute_result"
    }
   ],
   "source": [
    "# Значения которые больше 30 млн, сделаем равными 30 млн\n",
    "df_train['Maximum Open Credit'][df_train['Maximum Open Credit'] > 30000000].sort_values()"
   ]
  },
  {
   "cell_type": "code",
   "execution_count": 43,
   "metadata": {
    "pycharm": {
     "name": "#%%\n"
    }
   },
   "outputs": [
    {
     "data": {
      "text/plain": [
       "<matplotlib.collections.PathCollection at 0x1e88f895340>"
      ]
     },
     "execution_count": 43,
     "metadata": {},
     "output_type": "execute_result"
    },
    {
     "data": {
      "image/png": "[encoded data removed]",
      "text/plain": [
       "<Figure size 432x288 with 1 Axes>"
      ]
     },
     "metadata": {
      "needs_background": "light"
     },
     "output_type": "display_data"
    }
   ],
   "source": [
    "plt.scatter(df_train['Credit Score'][df_train['Credit Score'] < 5000], df_train['Credit Default'][df_train['Credit Score'] < 5000])"
   ]
  },
  {
   "cell_type": "code",
   "execution_count": 44,
   "metadata": {
    "pycharm": {
     "name": "#%%\n"
    }
   },
   "outputs": [
    {
     "data": {
      "text/plain": [
       "1404     11242.0\n",
       "4467     21472.0\n",
       "2735     21472.0\n",
       "7144     21516.0\n",
       "5861     21560.0\n",
       "          ...   \n",
       "359     788634.0\n",
       "2420    788634.0\n",
       "4602    788788.0\n",
       "4700    788942.0\n",
       "4960    789030.0\n",
       "Name: Current Loan Amount, Length: 6630, dtype: float64"
      ]
     },
     "execution_count": 44,
     "metadata": {},
     "output_type": "execute_result"
    }
   ],
   "source": [
    "current_loan[current_loan < 99999999.0]\n"
   ]
  },
  {
   "cell_type": "code",
   "execution_count": 45,
   "metadata": {
    "pycharm": {
     "name": "#%%\n"
    }
   },
   "outputs": [
    {
     "data": {
      "image/png": "[encoded data removed]",
      "text/plain": [
       "<Figure size 1080x720 with 2 Axes>"
      ]
     },
     "metadata": {
      "needs_background": "light"
     },
     "output_type": "display_data"
    }
   ],
   "source": [
    "# Строим матрицу корреляций\n",
    "def corr_matrix(df):\n",
    "    plt.figure(figsize = (15,10))\n",
    "\n",
    "    sns.set(font_scale=1.4)\n",
    "\n",
    "    corr_matrix = df.corr()\n",
    "    corr_matrix = np.round(corr_matrix, 2)\n",
    "    corr_matrix[np.abs(corr_matrix) < 0.15] = 0\n",
    "\n",
    "    sns.heatmap(corr_matrix, annot=True, linewidths=.5, cmap='coolwarm')\n",
    "\n",
    "    plt.title('Correlation matrix')\n",
    "\n",
    "corr_matrix(df_train)\n",
    "\n"
   ]
  },
  {
   "cell_type": "code",
   "execution_count": 46,
   "metadata": {
    "pycharm": {
     "name": "#%%\n"
    }
   },
   "outputs": [
    {
     "data": {
      "text/plain": [
       "Text(0.5, 1.0, 'Correlation')"
      ]
     },
     "execution_count": 46,
     "metadata": {},
     "output_type": "execute_result"
    },
    {
     "data": {
      "image/png": "[encoded data removed]",
      "text/plain": [
       "<Figure size 720x576 with 1 Axes>"
      ]
     },
     "metadata": {},
     "output_type": "display_data"
    }
   ],
   "source": [
    "# смотрим, как коррелируют признаки с 'Annual Income'\n",
    "\n",
    "FEATURE_NAMES = df_train.columns.drop('Annual Income').tolist()\n",
    "corr_Annual_Income = df_train[FEATURE_NAMES + ['Annual Income']].corr().iloc[:-1, -1]\n",
    "corr_Annual_Income = np.abs(corr_Annual_Income).sort_values(ascending=False)\n",
    "\n",
    "plt.figure(figsize=(10, 8))\n",
    "\n",
    "sns.barplot(x=corr_Annual_Income.values, y=corr_Annual_Income.index)\n",
    "\n",
    "plt.title('Correlation')"
   ]
  },
  {
   "cell_type": "markdown",
   "metadata": {
    "pycharm": {
     "name": "#%% md\n"
    }
   },
   "source": [
    "Выводы:<br/>\n",
    "1) Current loan > 800000 заменяем на случайные значения<br/>\n",
    "2) Maximum open credit > 30000000 ставим 30000000<br/>\n",
    "3) У других признаков сильных выбросов не обнаружил, значения в пределах допустимых<br/>\n",
    "4) Пропуски 'Credit Score' можно заполнить медианой<br/>\n",
    "5) Пропуски Annual income заполняем по формуле (Annual Income  mean/ mouthly Debt mean)  * montly debt где annual income является пропуском<br/>\n",
    "6) Пропуски Months since last delinquent и Years in current job заполняем нулями, т.к предполагается отстутствие этого параметра в местах пропуска<br/>\n",
    "7) Пропуски Bankruptcies заполняем значением признака Number of Credit Problems<br/>\n",
    "8) После обработки делаем новые признаки по выводам выше и на каждый выброс и пропуск ставлю признак-метку<br/>\n",
    "9) Тестовый датасет и тренировочный дата сет обрабатываем одинаково, т.к признаки имеющие пропуски одни и те же<br/>\n"
   ]
  },
  {
   "cell_type": "code",
   "execution_count": 47,
   "metadata": {
    "pycharm": {
     "name": "#%%\n"
    }
   },
   "outputs": [],
   "source": [
    "#Обработка пропусков\n",
    "def fill_na(df):\n",
    "    #Делаем новые признаки метки для пропусков\n",
    "    df[['Annual Income_nan', 'Years in current job_nan', 'Months since last delinquent_nan', 'Credit Score_nan']] = 0\n",
    "    #Делаем переменную коэффициент для умножения признака и заполнения пропуска\n",
    "    corr_coef_mean = df_train['Annual Income'].mean()/df_train['Monthly Debt'].mean()\n",
    "    #Заполняем Annual Income и делаем признак метку = 1\n",
    "    df['Annual Income_nan'][df['Annual Income'].isna()] = 1\n",
    "    df['Annual Income'][df['Annual Income'].isna()] = df['Monthly Debt'][df['Annual Income'].isna()] * corr_coef_mean\n",
    "    #Заполняем Years in current job как не работающий и делаем признак метку = 1\n",
    "    df['Years in current job_nan'][df['Years in current job'].isna()] = 1\n",
    "    df['Years in current job'][df['Years in current job'].isna()] = \"don't work\"\n",
    "    #Заполняем Months since last delinquent нулями и признак метку единицами\n",
    "    df['Months since last delinquent_nan'][df['Months since last delinquent'].isna()] = 1\n",
    "    df['Months since last delinquent'][df['Months since last delinquent'].isna()] = 0\n",
    "    #Заполняем пропуски Bankruptcies delinquent\n",
    "    df['Bankruptcies'][df['Bankruptcies'].isna()] = df['Number of Credit Problems'][df['Bankruptcies'].isna()]\n",
    "    #Заполняем пропуски Credit Score медианой (пока) и признак метку = 1\n",
    "    df['Credit Score_nan'][df['Credit Score'].isna()] = 1\n",
    "    df['Credit Score'][df['Credit Score'].isna()] = df['Credit Score'].median()\n",
    "    return df\n",
    "\n",
    "df_train = fill_na(df_train)"
   ]
  },
  {
   "cell_type": "code",
   "execution_count": 48,
   "metadata": {
    "pycharm": {
     "name": "#%%\n"
    }
   },
   "outputs": [
    {
     "name": "stdout",
     "output_type": "stream",
     "text": [
      "<class 'pandas.core.frame.DataFrame'>\n",
      "RangeIndex: 7500 entries, 0 to 7499\n",
      "Data columns (total 21 columns):\n",
      " #   Column                            Non-Null Count  Dtype  \n",
      "---  ------                            --------------  -----  \n",
      " 0   Home Ownership                    7500 non-null   object \n",
      " 1   Annual Income                     7500 non-null   float64\n",
      " 2   Years in current job              7500 non-null   object \n",
      " 3   Tax Liens                         7500 non-null   float64\n",
      " 4   Number of Open Accounts           7500 non-null   float64\n",
      " 5   Years of Credit History           7500 non-null   float64\n",
      " 6   Maximum Open Credit               7500 non-null   float64\n",
      " 7   Number of Credit Problems         7500 non-null   float64\n",
      " 8   Months since last delinquent      7500 non-null   float64\n",
      " 9   Bankruptcies                      7500 non-null   float64\n",
      " 10  Purpose                           7500 non-null   object \n",
      " 11  Term                              7500 non-null   object \n",
      " 12  Current Loan Amount               7500 non-null   float64\n",
      " 13  Current Credit Balance            7500 non-null   float64\n",
      " 14  Monthly Debt                      7500 non-null   float64\n",
      " 15  Credit Score                      7500 non-null   float64\n",
      " 16  Credit Default                    7500 non-null   int64  \n",
      " 17  Annual Income_nan                 7500 non-null   int64  \n",
      " 18  Years in current job_nan          7500 non-null   int64  \n",
      " 19  Months since last delinquent_nan  7500 non-null   int64  \n",
      " 20  Credit Score_nan                  7500 non-null   int64  \n",
      "dtypes: float64(12), int64(5), object(4)\n",
      "memory usage: 1.2+ MB\n"
     ]
    }
   ],
   "source": [
    "df_train.info()\n"
   ]
  },
  {
   "cell_type": "code",
   "execution_count": 49,
   "metadata": {
    "pycharm": {
     "name": "#%%\n"
    }
   },
   "outputs": [],
   "source": [
    "def fix_outliers(df):\n",
    "    #Делаем признак метку для выбросов\n",
    "    df[['Maximum Open Credit_outlier', 'Current Loan Amount_outlier']] = 0\n",
    "    df['Maximum Open Credit_outlier'][df['Maximum Open Credit'] > 30000000] = 1\n",
    "    df['Maximum Open Credit'][df['Maximum Open Credit'] > 30000000] = 30000000\n",
    "    loan_outliers = df['Current Loan Amount'][df['Current Loan Amount'] > 800000]\n",
    "    df['Current Loan Amount_outlier'][df['Current Loan Amount'] > 800000] = 1\n",
    "    df['Current Loan Amount'][df['Current Loan Amount'] > 800000] = loan_outliers.apply(lambda  x: random.randint(0, 800000))\n",
    "    return df\n",
    "df_train = fix_outliers(df_train)"
   ]
  },
  {
   "cell_type": "code",
   "execution_count": 50,
   "metadata": {
    "pycharm": {
     "name": "#%%\n"
    }
   },
   "outputs": [
    {
     "data": {
      "text/plain": [
       "<matplotlib.collections.PathCollection at 0x1e88f9948e0>"
      ]
     },
     "execution_count": 50,
     "metadata": {},
     "output_type": "execute_result"
    },
    {
     "data": {
      "image/png": "[encoded data removed]",
      "text/plain": [
       "<Figure size 432x288 with 1 Axes>"
      ]
     },
     "metadata": {},
     "output_type": "display_data"
    }
   ],
   "source": [
    "#Проверяем что выбросы устранил\n",
    "plt.scatter(df_train['Current Loan Amount'], target)\n"
   ]
  },
  {
   "cell_type": "code",
   "execution_count": 51,
   "metadata": {
    "pycharm": {
     "name": "#%%\n"
    }
   },
   "outputs": [
    {
     "data": {
      "text/plain": [
       "<matplotlib.collections.PathCollection at 0x1e88f967250>"
      ]
     },
     "execution_count": 51,
     "metadata": {},
     "output_type": "execute_result"
    },
    {
     "data": {
      "image/png": "[encoded data removed]",
      "text/plain": [
       "<Figure size 432x288 with 1 Axes>"
      ]
     },
     "metadata": {},
     "output_type": "display_data"
    }
   ],
   "source": [
    "plt.scatter(df_train['Maximum Open Credit'], target)\n"
   ]
  },
  {
   "cell_type": "code",
   "execution_count": 52,
   "metadata": {
    "pycharm": {
     "name": "#%%\n"
    }
   },
   "outputs": [],
   "source": [
    "#Делаем feature encoding а именно ранги категориальных признаков\n",
    "#При необходимости базовые признаки от них можно потом удалить\n",
    "\n",
    "def create_rank_cat(df):\n",
    "    #Создаем и инциализируем новые признаки\n",
    "    df[['Home Ownership_rank', 'Years in current job_rank', 'Tax Liens_rank', 'Number of Credit Problems_rank', 'Bankruptcies_rank', 'Term_rank', 'Purpose_rank', 'No problems']] = 0\n",
    "    #Заполняем признак No problems\n",
    "    df['No problems'][(df['Tax Liens'] == 0) & (df['Bankruptcies'] == 0) & (df['Number of Credit Problems'] == 0)] = 1\n",
    "    #Исправляем ошибочное значение признака или однозначное в одно значение\n",
    "    df['Home Ownership'][df['Home Ownership'] == 'Have Mortgage'] = 'Home Mortgage'\n",
    "    #Делаем ранги для домовладений\n",
    "    df['Home Ownership_rank'][df['Home Ownership'] == 'Home Mortgage'] = 1\n",
    "    df['Home Ownership_rank'][df['Home Ownership'] == 'Own Home'] = 2\n",
    "    #Делаем ранги для времени работы\n",
    "    df['Years in current job_rank'][df['Years in current job'].isin(['< 1 year'])] = 1\n",
    "    df['Years in current job_rank'][df['Years in current job'].isin(['1 year', '2 years', '3 years'])] = 2\n",
    "    df['Years in current job_rank'][df['Years in current job'].isin(['4 years', '5 years'])] = 3\n",
    "    df['Years in current job_rank'][df['Years in current job'].isin(['6 years', '7 years', '8 years', '9 years', '10+ years'])] = 4\n",
    "    #Делаем ранги для Tax Liens\n",
    "    df['Tax Liens_rank'][df['Tax Liens'].isin([i for i in range(1, 4)])] = 1\n",
    "    df['Tax Liens_rank'][df['Tax Liens'] == 0] = 2\n",
    "    #Делаем ранги для Number of Credit Problems\n",
    "    df['Number of Credit Problems_rank'][df['Number of Credit Problems'].isin([2, 3])] = 1\n",
    "    df['Number of Credit Problems_rank'][df['Number of Credit Problems'] == 1] = 2\n",
    "    df['Number of Credit Problems_rank'][df['Number of Credit Problems'] == 0] = 3\n",
    "    #Заполняем ранг для банкротства\n",
    "    df['Bankruptcies_rank'][df['Bankruptcies'] > 0] = 1\n",
    "    #Заполняем ранг Term\n",
    "    df['Term_rank'][df['Term'] == 'Long Term'] = 1\n",
    "    #Заполняем ранг Purpose\n",
    "    df['Purpose_rank'][df['Purpose'].isin(['buy house', 'buy a car', 'home improvements', 'medical bills'])] = 1\n",
    "    df['Purpose_rank'][df['Purpose'].isin(['business loan', 'small business'])] = 2\n",
    "    df['Purpose_rank'][df['Purpose'] == 'debt consolidation'] = 3\n",
    "    return df\n",
    "\n",
    "df_train = create_rank_cat(df_train)"
   ]
  },
  {
   "cell_type": "code",
   "execution_count": 53,
   "metadata": {
    "pycharm": {
     "name": "#%%\n"
    }
   },
   "outputs": [
    {
     "name": "stdout",
     "output_type": "stream",
     "text": [
      "<class 'pandas.core.frame.DataFrame'>\n",
      "RangeIndex: 7500 entries, 0 to 7499\n",
      "Data columns (total 31 columns):\n",
      " #   Column                            Non-Null Count  Dtype  \n",
      "---  ------                            --------------  -----  \n",
      " 0   Home Ownership                    7500 non-null   object \n",
      " 1   Annual Income                     7500 non-null   float64\n",
      " 2   Years in current job              7500 non-null   object \n",
      " 3   Tax Liens                         7500 non-null   float64\n",
      " 4   Number of Open Accounts           7500 non-null   float64\n",
      " 5   Years of Credit History           7500 non-null   float64\n",
      " 6   Maximum Open Credit               7500 non-null   float64\n",
      " 7   Number of Credit Problems         7500 non-null   float64\n",
      " 8   Months since last delinquent      7500 non-null   float64\n",
      " 9   Bankruptcies                      7500 non-null   float64\n",
      " 10  Purpose                           7500 non-null   object \n",
      " 11  Term                              7500 non-null   object \n",
      " 12  Current Loan Amount               7500 non-null   float64\n",
      " 13  Current Credit Balance            7500 non-null   float64\n",
      " 14  Monthly Debt                      7500 non-null   float64\n",
      " 15  Credit Score                      7500 non-null   float64\n",
      " 16  Credit Default                    7500 non-null   int64  \n",
      " 17  Annual Income_nan                 7500 non-null   int64  \n",
      " 18  Years in current job_nan          7500 non-null   int64  \n",
      " 19  Months since last delinquent_nan  7500 non-null   int64  \n",
      " 20  Credit Score_nan                  7500 non-null   int64  \n",
      " 21  Maximum Open Credit_outlier       7500 non-null   int64  \n",
      " 22  Current Loan Amount_outlier       7500 non-null   int64  \n",
      " 23  Home Ownership_rank               7500 non-null   int64  \n",
      " 24  Years in current job_rank         7500 non-null   int64  \n",
      " 25  Tax Liens_rank                    7500 non-null   int64  \n",
      " 26  Number of Credit Problems_rank    7500 non-null   int64  \n",
      " 27  Bankruptcies_rank                 7500 non-null   int64  \n",
      " 28  Term_rank                         7500 non-null   int64  \n",
      " 29  Purpose_rank                      7500 non-null   int64  \n",
      " 30  No problems                       7500 non-null   int64  \n",
      "dtypes: float64(12), int64(15), object(4)\n",
      "memory usage: 1.8+ MB\n"
     ]
    }
   ],
   "source": [
    "df_train.info()"
   ]
  },
  {
   "cell_type": "markdown",
   "metadata": {
    "pycharm": {
     "name": "#%% md\n"
    }
   },
   "source": [
    "Преобразовали датафрейм до нужного вида, теперь макисмум что можно сделать удалить базовые категориальные признаки<br/>\n",
    "Пока этого не будем делать и оставим все как есть<br/>\n",
    "\n",
    "Далее проверяем что все корректно отработало"
   ]
  },
  {
   "cell_type": "code",
   "execution_count": 54,
   "metadata": {
    "pycharm": {
     "name": "#%%\n"
    }
   },
   "outputs": [
    {
     "data": {
      "text/plain": [
       "1    3649\n",
       "0    3204\n",
       "2     647\n",
       "Name: Home Ownership_rank, dtype: int64"
      ]
     },
     "execution_count": 54,
     "metadata": {},
     "output_type": "execute_result"
    }
   ],
   "source": [
    "df_train['Home Ownership_rank'].value_counts()"
   ]
  },
  {
   "cell_type": "code",
   "execution_count": 55,
   "metadata": {
    "pycharm": {
     "name": "#%%\n"
    }
   },
   "outputs": [
    {
     "data": {
      "text/plain": [
       "Home Mortgage    3649\n",
       "Rent             3204\n",
       "Own Home          647\n",
       "Name: Home Ownership, dtype: int64"
      ]
     },
     "execution_count": 55,
     "metadata": {},
     "output_type": "execute_result"
    }
   ],
   "source": [
    "df_train['Home Ownership'].value_counts()\n",
    "\n"
   ]
  },
  {
   "cell_type": "code",
   "execution_count": 56,
   "metadata": {
    "pycharm": {
     "name": "#%%\n"
    }
   },
   "outputs": [
    {
     "data": {
      "text/plain": [
       "4    3752\n",
       "2    1829\n",
       "3     985\n",
       "1     563\n",
       "0     371\n",
       "Name: Years in current job_rank, dtype: int64"
      ]
     },
     "execution_count": 56,
     "metadata": {},
     "output_type": "execute_result"
    }
   ],
   "source": [
    "df_train['Years in current job_rank'].value_counts()\n"
   ]
  },
  {
   "cell_type": "code",
   "execution_count": 57,
   "metadata": {
    "pycharm": {
     "name": "#%%\n"
    }
   },
   "outputs": [
    {
     "data": {
      "text/plain": [
       "10+ years     2332\n",
       "2 years        705\n",
       "3 years        620\n",
       "< 1 year       563\n",
       "5 years        516\n",
       "1 year         504\n",
       "4 years        469\n",
       "6 years        426\n",
       "7 years        396\n",
       "don't work     371\n",
       "8 years        339\n",
       "9 years        259\n",
       "Name: Years in current job, dtype: int64"
      ]
     },
     "execution_count": 57,
     "metadata": {},
     "output_type": "execute_result"
    }
   ],
   "source": [
    "df_train['Years in current job'].value_counts()\n"
   ]
  },
  {
   "cell_type": "code",
   "execution_count": 58,
   "metadata": {
    "pycharm": {
     "name": "#%%\n"
    }
   },
   "outputs": [
    {
     "data": {
      "text/plain": [
       "2    7366\n",
       "1     123\n",
       "0      11\n",
       "Name: Tax Liens_rank, dtype: int64"
      ]
     },
     "execution_count": 58,
     "metadata": {},
     "output_type": "execute_result"
    }
   ],
   "source": [
    "df_train['Tax Liens_rank'].value_counts()\n"
   ]
  },
  {
   "cell_type": "code",
   "execution_count": 59,
   "metadata": {
    "pycharm": {
     "name": "#%%\n"
    }
   },
   "outputs": [
    {
     "data": {
      "text/plain": [
       "3    6469\n",
       "2     882\n",
       "1     128\n",
       "0      21\n",
       "Name: Number of Credit Problems_rank, dtype: int64"
      ]
     },
     "execution_count": 59,
     "metadata": {},
     "output_type": "execute_result"
    }
   ],
   "source": [
    "df_train['Number of Credit Problems_rank'].value_counts()\n"
   ]
  },
  {
   "cell_type": "code",
   "execution_count": 60,
   "metadata": {
    "pycharm": {
     "name": "#%%\n"
    }
   },
   "outputs": [
    {
     "data": {
      "text/plain": [
       "0    6674\n",
       "1     826\n",
       "Name: Bankruptcies_rank, dtype: int64"
      ]
     },
     "execution_count": 60,
     "metadata": {},
     "output_type": "execute_result"
    }
   ],
   "source": [
    "df_train['Bankruptcies_rank'].value_counts()\n",
    "\n"
   ]
  },
  {
   "cell_type": "code",
   "execution_count": 61,
   "metadata": {
    "pycharm": {
     "name": "#%%\n"
    }
   },
   "outputs": [
    {
     "data": {
      "text/plain": [
       "0.0    6674\n",
       "1.0     786\n",
       "2.0      31\n",
       "3.0       7\n",
       "4.0       2\n",
       "Name: Bankruptcies, dtype: int64"
      ]
     },
     "execution_count": 61,
     "metadata": {},
     "output_type": "execute_result"
    }
   ],
   "source": [
    "df_train['Bankruptcies'].value_counts()\n",
    "\n"
   ]
  },
  {
   "cell_type": "code",
   "execution_count": 62,
   "metadata": {
    "pycharm": {
     "name": "#%%\n"
    }
   },
   "outputs": [
    {
     "data": {
      "text/plain": [
       "0    5556\n",
       "1    1944\n",
       "Name: Term_rank, dtype: int64"
      ]
     },
     "execution_count": 62,
     "metadata": {},
     "output_type": "execute_result"
    }
   ],
   "source": [
    "df_train['Term_rank'].value_counts()\n",
    "\n"
   ]
  },
  {
   "cell_type": "code",
   "execution_count": 63,
   "metadata": {
    "pycharm": {
     "name": "#%%\n"
    }
   },
   "outputs": [
    {
     "data": {
      "text/plain": [
       "3    5944\n",
       "0     788\n",
       "1     613\n",
       "2     155\n",
       "Name: Purpose_rank, dtype: int64"
      ]
     },
     "execution_count": 63,
     "metadata": {},
     "output_type": "execute_result"
    }
   ],
   "source": [
    "df_train['Purpose_rank'].value_counts()"
   ]
  },
  {
   "cell_type": "code",
   "execution_count": 64,
   "metadata": {
    "pycharm": {
     "name": "#%%\n"
    }
   },
   "outputs": [
    {
     "data": {
      "text/plain": [
       "debt consolidation      5944\n",
       "other                    665\n",
       "home improvements        412\n",
       "business loan            129\n",
       "buy a car                 96\n",
       "medical bills             71\n",
       "major purchase            40\n",
       "take a trip               37\n",
       "buy house                 34\n",
       "small business            26\n",
       "wedding                   15\n",
       "moving                    11\n",
       "educational expenses      10\n",
       "vacation                   8\n",
       "renewable energy           2\n",
       "Name: Purpose, dtype: int64"
      ]
     },
     "execution_count": 64,
     "metadata": {},
     "output_type": "execute_result"
    }
   ],
   "source": [
    "df_train['Purpose'].value_counts()\n",
    "\n"
   ]
  },
  {
   "cell_type": "code",
   "execution_count": 65,
   "metadata": {
    "pycharm": {
     "name": "#%%\n"
    }
   },
   "outputs": [
    {
     "data": {
      "image/png": "[encoded data removed]",
      "text/plain": [
       "<Figure size 1080x720 with 2 Axes>"
      ]
     },
     "metadata": {},
     "output_type": "display_data"
    }
   ],
   "source": [
    "corr_matrix(df_train)"
   ]
  },
  {
   "cell_type": "markdown",
   "metadata": {
    "pycharm": {
     "name": "#%% md\n"
    }
   },
   "source": [
    "Ниже будем разбивать датасеты на тест и тренировочный<br/>\n",
    "Делать балансировки целевых классов и обучать модели<br/>"
   ]
  },
  {
   "cell_type": "code",
   "execution_count": 66,
   "metadata": {
    "pycharm": {
     "name": "#%%\n"
    }
   },
   "outputs": [
    {
     "data": {
      "text/html": [
       "<div>\n",
       "<style scoped>\n",
       "    .dataframe tbody tr th:only-of-type {\n",
       "        vertical-align: middle;\n",
       "    }\n",
       "\n",
       "    .dataframe tbody tr th {\n",
       "        vertical-align: top;\n",
       "    }\n",
       "\n",
       "    .dataframe thead th {\n",
       "        text-align: right;\n",
       "    }\n",
       "</style>\n",
       "<table border=\"1\" class=\"dataframe\">\n",
       "  <thead>\n",
       "    <tr style=\"text-align: right;\">\n",
       "      <th></th>\n",
       "      <th>Home Ownership</th>\n",
       "      <th>Annual Income</th>\n",
       "      <th>Years in current job</th>\n",
       "      <th>Tax Liens</th>\n",
       "      <th>Number of Open Accounts</th>\n",
       "      <th>Years of Credit History</th>\n",
       "      <th>Maximum Open Credit</th>\n",
       "      <th>Number of Credit Problems</th>\n",
       "      <th>Months since last delinquent</th>\n",
       "      <th>Bankruptcies</th>\n",
       "      <th>...</th>\n",
       "      <th>Maximum Open Credit_outlier</th>\n",
       "      <th>Current Loan Amount_outlier</th>\n",
       "      <th>Home Ownership_rank</th>\n",
       "      <th>Years in current job_rank</th>\n",
       "      <th>Tax Liens_rank</th>\n",
       "      <th>Number of Credit Problems_rank</th>\n",
       "      <th>Bankruptcies_rank</th>\n",
       "      <th>Term_rank</th>\n",
       "      <th>Purpose_rank</th>\n",
       "      <th>No problems</th>\n",
       "    </tr>\n",
       "  </thead>\n",
       "  <tbody>\n",
       "    <tr>\n",
       "      <th>0</th>\n",
       "      <td>Own Home</td>\n",
       "      <td>4.820870e+05</td>\n",
       "      <td>don't work</td>\n",
       "      <td>0.0</td>\n",
       "      <td>11.0</td>\n",
       "      <td>26.3</td>\n",
       "      <td>685960.0</td>\n",
       "      <td>1.0</td>\n",
       "      <td>0.0</td>\n",
       "      <td>1.0</td>\n",
       "      <td>...</td>\n",
       "      <td>0</td>\n",
       "      <td>1</td>\n",
       "      <td>2</td>\n",
       "      <td>0</td>\n",
       "      <td>2</td>\n",
       "      <td>2</td>\n",
       "      <td>1</td>\n",
       "      <td>0</td>\n",
       "      <td>3</td>\n",
       "      <td>0</td>\n",
       "    </tr>\n",
       "    <tr>\n",
       "      <th>1</th>\n",
       "      <td>Own Home</td>\n",
       "      <td>1.025487e+06</td>\n",
       "      <td>10+ years</td>\n",
       "      <td>0.0</td>\n",
       "      <td>15.0</td>\n",
       "      <td>15.3</td>\n",
       "      <td>1181730.0</td>\n",
       "      <td>0.0</td>\n",
       "      <td>0.0</td>\n",
       "      <td>0.0</td>\n",
       "      <td>...</td>\n",
       "      <td>0</td>\n",
       "      <td>0</td>\n",
       "      <td>2</td>\n",
       "      <td>4</td>\n",
       "      <td>2</td>\n",
       "      <td>3</td>\n",
       "      <td>0</td>\n",
       "      <td>1</td>\n",
       "      <td>3</td>\n",
       "      <td>1</td>\n",
       "    </tr>\n",
       "    <tr>\n",
       "      <th>2</th>\n",
       "      <td>Home Mortgage</td>\n",
       "      <td>7.514120e+05</td>\n",
       "      <td>8 years</td>\n",
       "      <td>0.0</td>\n",
       "      <td>11.0</td>\n",
       "      <td>35.0</td>\n",
       "      <td>1182434.0</td>\n",
       "      <td>0.0</td>\n",
       "      <td>0.0</td>\n",
       "      <td>0.0</td>\n",
       "      <td>...</td>\n",
       "      <td>0</td>\n",
       "      <td>1</td>\n",
       "      <td>1</td>\n",
       "      <td>4</td>\n",
       "      <td>2</td>\n",
       "      <td>3</td>\n",
       "      <td>0</td>\n",
       "      <td>0</td>\n",
       "      <td>3</td>\n",
       "      <td>1</td>\n",
       "    </tr>\n",
       "    <tr>\n",
       "      <th>3</th>\n",
       "      <td>Own Home</td>\n",
       "      <td>8.050680e+05</td>\n",
       "      <td>6 years</td>\n",
       "      <td>0.0</td>\n",
       "      <td>8.0</td>\n",
       "      <td>22.5</td>\n",
       "      <td>147400.0</td>\n",
       "      <td>1.0</td>\n",
       "      <td>0.0</td>\n",
       "      <td>1.0</td>\n",
       "      <td>...</td>\n",
       "      <td>0</td>\n",
       "      <td>0</td>\n",
       "      <td>2</td>\n",
       "      <td>4</td>\n",
       "      <td>2</td>\n",
       "      <td>2</td>\n",
       "      <td>1</td>\n",
       "      <td>0</td>\n",
       "      <td>3</td>\n",
       "      <td>0</td>\n",
       "    </tr>\n",
       "    <tr>\n",
       "      <th>4</th>\n",
       "      <td>Rent</td>\n",
       "      <td>7.762640e+05</td>\n",
       "      <td>8 years</td>\n",
       "      <td>0.0</td>\n",
       "      <td>13.0</td>\n",
       "      <td>13.6</td>\n",
       "      <td>385836.0</td>\n",
       "      <td>1.0</td>\n",
       "      <td>0.0</td>\n",
       "      <td>0.0</td>\n",
       "      <td>...</td>\n",
       "      <td>0</td>\n",
       "      <td>0</td>\n",
       "      <td>0</td>\n",
       "      <td>4</td>\n",
       "      <td>2</td>\n",
       "      <td>2</td>\n",
       "      <td>0</td>\n",
       "      <td>0</td>\n",
       "      <td>3</td>\n",
       "      <td>0</td>\n",
       "    </tr>\n",
       "    <tr>\n",
       "      <th>...</th>\n",
       "      <td>...</td>\n",
       "      <td>...</td>\n",
       "      <td>...</td>\n",
       "      <td>...</td>\n",
       "      <td>...</td>\n",
       "      <td>...</td>\n",
       "      <td>...</td>\n",
       "      <td>...</td>\n",
       "      <td>...</td>\n",
       "      <td>...</td>\n",
       "      <td>...</td>\n",
       "      <td>...</td>\n",
       "      <td>...</td>\n",
       "      <td>...</td>\n",
       "      <td>...</td>\n",
       "      <td>...</td>\n",
       "      <td>...</td>\n",
       "      <td>...</td>\n",
       "      <td>...</td>\n",
       "      <td>...</td>\n",
       "      <td>...</td>\n",
       "    </tr>\n",
       "    <tr>\n",
       "      <th>7495</th>\n",
       "      <td>Rent</td>\n",
       "      <td>4.021920e+05</td>\n",
       "      <td>&lt; 1 year</td>\n",
       "      <td>0.0</td>\n",
       "      <td>3.0</td>\n",
       "      <td>8.5</td>\n",
       "      <td>107866.0</td>\n",
       "      <td>0.0</td>\n",
       "      <td>0.0</td>\n",
       "      <td>0.0</td>\n",
       "      <td>...</td>\n",
       "      <td>0</td>\n",
       "      <td>0</td>\n",
       "      <td>0</td>\n",
       "      <td>1</td>\n",
       "      <td>2</td>\n",
       "      <td>3</td>\n",
       "      <td>0</td>\n",
       "      <td>0</td>\n",
       "      <td>0</td>\n",
       "      <td>1</td>\n",
       "    </tr>\n",
       "    <tr>\n",
       "      <th>7496</th>\n",
       "      <td>Home Mortgage</td>\n",
       "      <td>1.533984e+06</td>\n",
       "      <td>1 year</td>\n",
       "      <td>0.0</td>\n",
       "      <td>10.0</td>\n",
       "      <td>26.5</td>\n",
       "      <td>686312.0</td>\n",
       "      <td>0.0</td>\n",
       "      <td>43.0</td>\n",
       "      <td>0.0</td>\n",
       "      <td>...</td>\n",
       "      <td>0</td>\n",
       "      <td>0</td>\n",
       "      <td>1</td>\n",
       "      <td>2</td>\n",
       "      <td>2</td>\n",
       "      <td>3</td>\n",
       "      <td>0</td>\n",
       "      <td>1</td>\n",
       "      <td>3</td>\n",
       "      <td>1</td>\n",
       "    </tr>\n",
       "    <tr>\n",
       "      <th>7497</th>\n",
       "      <td>Rent</td>\n",
       "      <td>1.878910e+06</td>\n",
       "      <td>6 years</td>\n",
       "      <td>0.0</td>\n",
       "      <td>12.0</td>\n",
       "      <td>32.1</td>\n",
       "      <td>1778920.0</td>\n",
       "      <td>0.0</td>\n",
       "      <td>0.0</td>\n",
       "      <td>0.0</td>\n",
       "      <td>...</td>\n",
       "      <td>0</td>\n",
       "      <td>1</td>\n",
       "      <td>0</td>\n",
       "      <td>4</td>\n",
       "      <td>2</td>\n",
       "      <td>3</td>\n",
       "      <td>0</td>\n",
       "      <td>0</td>\n",
       "      <td>1</td>\n",
       "      <td>1</td>\n",
       "    </tr>\n",
       "    <tr>\n",
       "      <th>7498</th>\n",
       "      <td>Home Mortgage</td>\n",
       "      <td>2.769273e+06</td>\n",
       "      <td>don't work</td>\n",
       "      <td>0.0</td>\n",
       "      <td>21.0</td>\n",
       "      <td>26.5</td>\n",
       "      <td>1141250.0</td>\n",
       "      <td>0.0</td>\n",
       "      <td>0.0</td>\n",
       "      <td>0.0</td>\n",
       "      <td>...</td>\n",
       "      <td>0</td>\n",
       "      <td>0</td>\n",
       "      <td>1</td>\n",
       "      <td>0</td>\n",
       "      <td>2</td>\n",
       "      <td>3</td>\n",
       "      <td>0</td>\n",
       "      <td>0</td>\n",
       "      <td>3</td>\n",
       "      <td>1</td>\n",
       "    </tr>\n",
       "    <tr>\n",
       "      <th>7499</th>\n",
       "      <td>Rent</td>\n",
       "      <td>6.760166e+05</td>\n",
       "      <td>4 years</td>\n",
       "      <td>0.0</td>\n",
       "      <td>8.0</td>\n",
       "      <td>9.4</td>\n",
       "      <td>480832.0</td>\n",
       "      <td>0.0</td>\n",
       "      <td>0.0</td>\n",
       "      <td>0.0</td>\n",
       "      <td>...</td>\n",
       "      <td>0</td>\n",
       "      <td>0</td>\n",
       "      <td>0</td>\n",
       "      <td>3</td>\n",
       "      <td>2</td>\n",
       "      <td>3</td>\n",
       "      <td>0</td>\n",
       "      <td>0</td>\n",
       "      <td>3</td>\n",
       "      <td>1</td>\n",
       "    </tr>\n",
       "  </tbody>\n",
       "</table>\n",
       "<p>7500 rows × 30 columns</p>\n",
       "</div>"
      ],
      "text/plain": [
       "     Home Ownership  Annual Income Years in current job  Tax Liens  \\\n",
       "0          Own Home   4.820870e+05           don't work        0.0   \n",
       "1          Own Home   1.025487e+06            10+ years        0.0   \n",
       "2     Home Mortgage   7.514120e+05              8 years        0.0   \n",
       "3          Own Home   8.050680e+05              6 years        0.0   \n",
       "4              Rent   7.762640e+05              8 years        0.0   \n",
       "...             ...            ...                  ...        ...   \n",
       "7495           Rent   4.021920e+05             < 1 year        0.0   \n",
       "7496  Home Mortgage   1.533984e+06               1 year        0.0   \n",
       "7497           Rent   1.878910e+06              6 years        0.0   \n",
       "7498  Home Mortgage   2.769273e+06           don't work        0.0   \n",
       "7499           Rent   6.760166e+05              4 years        0.0   \n",
       "\n",
       "      Number of Open Accounts  Years of Credit History  Maximum Open Credit  \\\n",
       "0                        11.0                     26.3             685960.0   \n",
       "1                        15.0                     15.3            1181730.0   \n",
       "2                        11.0                     35.0            1182434.0   \n",
       "3                         8.0                     22.5             147400.0   \n",
       "4                        13.0                     13.6             385836.0   \n",
       "...                       ...                      ...                  ...   \n",
       "7495                      3.0                      8.5             107866.0   \n",
       "7496                     10.0                     26.5             686312.0   \n",
       "7497                     12.0                     32.1            1778920.0   \n",
       "7498                     21.0                     26.5            1141250.0   \n",
       "7499                      8.0                      9.4             480832.0   \n",
       "\n",
       "      Number of Credit Problems  Months since last delinquent  Bankruptcies  \\\n",
       "0                           1.0                           0.0           1.0   \n",
       "1                           0.0                           0.0           0.0   \n",
       "2                           0.0                           0.0           0.0   \n",
       "3                           1.0                           0.0           1.0   \n",
       "4                           1.0                           0.0           0.0   \n",
       "...                         ...                           ...           ...   \n",
       "7495                        0.0                           0.0           0.0   \n",
       "7496                        0.0                          43.0           0.0   \n",
       "7497                        0.0                           0.0           0.0   \n",
       "7498                        0.0                           0.0           0.0   \n",
       "7499                        0.0                           0.0           0.0   \n",
       "\n",
       "      ... Maximum Open Credit_outlier Current Loan Amount_outlier  \\\n",
       "0     ...                           0                           1   \n",
       "1     ...                           0                           0   \n",
       "2     ...                           0                           1   \n",
       "3     ...                           0                           0   \n",
       "4     ...                           0                           0   \n",
       "...   ...                         ...                         ...   \n",
       "7495  ...                           0                           0   \n",
       "7496  ...                           0                           0   \n",
       "7497  ...                           0                           1   \n",
       "7498  ...                           0                           0   \n",
       "7499  ...                           0                           0   \n",
       "\n",
       "      Home Ownership_rank  Years in current job_rank  Tax Liens_rank  \\\n",
       "0                       2                          0               2   \n",
       "1                       2                          4               2   \n",
       "2                       1                          4               2   \n",
       "3                       2                          4               2   \n",
       "4                       0                          4               2   \n",
       "...                   ...                        ...             ...   \n",
       "7495                    0                          1               2   \n",
       "7496                    1                          2               2   \n",
       "7497                    0                          4               2   \n",
       "7498                    1                          0               2   \n",
       "7499                    0                          3               2   \n",
       "\n",
       "      Number of Credit Problems_rank  Bankruptcies_rank  Term_rank  \\\n",
       "0                                  2                  1          0   \n",
       "1                                  3                  0          1   \n",
       "2                                  3                  0          0   \n",
       "3                                  2                  1          0   \n",
       "4                                  2                  0          0   \n",
       "...                              ...                ...        ...   \n",
       "7495                               3                  0          0   \n",
       "7496                               3                  0          1   \n",
       "7497                               3                  0          0   \n",
       "7498                               3                  0          0   \n",
       "7499                               3                  0          0   \n",
       "\n",
       "      Purpose_rank  No problems  \n",
       "0                3            0  \n",
       "1                3            1  \n",
       "2                3            1  \n",
       "3                3            0  \n",
       "4                3            0  \n",
       "...            ...          ...  \n",
       "7495             0            1  \n",
       "7496             3            1  \n",
       "7497             1            1  \n",
       "7498             3            1  \n",
       "7499             3            1  \n",
       "\n",
       "[7500 rows x 30 columns]"
      ]
     },
     "execution_count": 66,
     "metadata": {},
     "output_type": "execute_result"
    }
   ],
   "source": [
    "#Делаем датаферйм без целевой переменной чтобы были одни признаки\n",
    "df_features = df_train.drop('Credit Default', axis=1)\n",
    "df_features"
   ]
  },
  {
   "cell_type": "code",
   "execution_count": 67,
   "metadata": {
    "pycharm": {
     "name": "#%%\n"
    }
   },
   "outputs": [
    {
     "name": "stdout",
     "output_type": "stream",
     "text": [
      "<class 'pandas.core.frame.DataFrame'>\n",
      "RangeIndex: 7500 entries, 0 to 7499\n",
      "Data columns (total 26 columns):\n",
      " #   Column                            Non-Null Count  Dtype  \n",
      "---  ------                            --------------  -----  \n",
      " 0   Annual Income                     7500 non-null   float64\n",
      " 1   Tax Liens                         7500 non-null   float64\n",
      " 2   Number of Open Accounts           7500 non-null   float64\n",
      " 3   Years of Credit History           7500 non-null   float64\n",
      " 4   Maximum Open Credit               7500 non-null   float64\n",
      " 5   Number of Credit Problems         7500 non-null   float64\n",
      " 6   Months since last delinquent      7500 non-null   float64\n",
      " 7   Bankruptcies                      7500 non-null   float64\n",
      " 8   Current Loan Amount               7500 non-null   float64\n",
      " 9   Current Credit Balance            7500 non-null   float64\n",
      " 10  Monthly Debt                      7500 non-null   float64\n",
      " 11  Credit Score                      7500 non-null   float64\n",
      " 12  Annual Income_nan                 7500 non-null   int64  \n",
      " 13  Years in current job_nan          7500 non-null   int64  \n",
      " 14  Months since last delinquent_nan  7500 non-null   int64  \n",
      " 15  Credit Score_nan                  7500 non-null   int64  \n",
      " 16  Maximum Open Credit_outlier       7500 non-null   int64  \n",
      " 17  Current Loan Amount_outlier       7500 non-null   int64  \n",
      " 18  Home Ownership_rank               7500 non-null   int64  \n",
      " 19  Years in current job_rank         7500 non-null   int64  \n",
      " 20  Tax Liens_rank                    7500 non-null   int64  \n",
      " 21  Number of Credit Problems_rank    7500 non-null   int64  \n",
      " 22  Bankruptcies_rank                 7500 non-null   int64  \n",
      " 23  Term_rank                         7500 non-null   int64  \n",
      " 24  Purpose_rank                      7500 non-null   int64  \n",
      " 25  No problems                       7500 non-null   int64  \n",
      "dtypes: float64(12), int64(14)\n",
      "memory usage: 1.5 MB\n"
     ]
    }
   ],
   "source": [
    "#Тут делаем датафрейм только числовые признаки\n",
    "df_features_num = df_features.drop(['Home Ownership', 'Years in current job', 'Purpose', 'Term'], axis=1)\n",
    "df_features_num.info()"
   ]
  },
  {
   "cell_type": "code",
   "execution_count": 68,
   "metadata": {
    "pycharm": {
     "name": "#%%\n"
    }
   },
   "outputs": [],
   "source": [
    "X = df_train[df_features_num.columns]\n",
    "y = df_train['Credit Default']\n",
    "\n",
    "X_train, X_test, y_train, y_test = train_test_split(X, y,\n",
    "                                                    shuffle=True,\n",
    "                                                    test_size=0.30,\n",
    "                                                    random_state=21)\n"
   ]
  },
  {
   "cell_type": "code",
   "execution_count": 69,
   "metadata": {
    "pycharm": {
     "name": "#%%\n"
    }
   },
   "outputs": [
    {
     "data": {
      "text/plain": [
       "2.5496957403651117"
      ]
     },
     "execution_count": 69,
     "metadata": {},
     "output_type": "execute_result"
    }
   ],
   "source": [
    "#Cмотрим как сбалансирована целевая переменная\n",
    "disbalance = y_train.value_counts()[0] / y_train.value_counts()[1]\n",
    "disbalance\n"
   ]
  },
  {
   "cell_type": "code",
   "execution_count": 70,
   "metadata": {
    "pycharm": {
     "name": "#%%\n"
    }
   },
   "outputs": [],
   "source": [
    "#Делаем функцию для балансировки данных\n",
    "def balance_df_by_target(df, target_name, method='over'):\n",
    "\n",
    "    assert method in ['over', 'under', 'tomek', 'smote'], 'Неверный метод сэмплирования'\n",
    "\n",
    "    target_counts = df[target_name].value_counts()\n",
    "\n",
    "    major_class_name = target_counts.argmax()\n",
    "    minor_class_name = target_counts.argmin()\n",
    "\n",
    "    disbalance_coeff = int(target_counts[major_class_name] / target_counts[minor_class_name]) - 1\n",
    "    if method == 'over':\n",
    "        for i in range(disbalance_coeff):\n",
    "            sample = df[df[target_name] == minor_class_name].sample(target_counts[minor_class_name])\n",
    "            df = df.append(sample, ignore_index=True)\n",
    "\n",
    "    elif method == 'under':\n",
    "        df_ = df.copy()\n",
    "        df = df_[df_[target_name] == minor_class_name]\n",
    "        tmp = df_[df_[target_name] == major_class_name]\n",
    "        df = df.append(tmp.iloc[\n",
    "            np.random.randint(0, tmp.shape[0], target_counts[minor_class_name])\n",
    "        ], ignore_index=True)\n",
    "\n",
    "    elif method == 'tomek':\n",
    "        tl = TomekLinks()\n",
    "        X_tomek, y_tomek = tl.fit_resample(df.drop(columns=target_name), df[target_name])\n",
    "        df = pd.concat([X_tomek, y_tomek], axis=1)\n",
    "\n",
    "    elif method == 'smote':\n",
    "        smote = SMOTE()\n",
    "        X_smote, y_smote = smote.fit_resample(df.drop(columns=target_name), df[target_name])\n",
    "        df = pd.concat([X_smote, y_smote], axis=1)\n",
    "\n",
    "    return df.sample(frac=1)"
   ]
  },
  {
   "cell_type": "code",
   "execution_count": 71,
   "metadata": {
    "pycharm": {
     "name": "#%%\n"
    }
   },
   "outputs": [
    {
     "data": {
      "text/plain": [
       "0    3771\n",
       "1    2958\n",
       "Name: Credit Default, dtype: int64"
      ]
     },
     "execution_count": 71,
     "metadata": {},
     "output_type": "execute_result"
    }
   ],
   "source": [
    "#Балансируем целевую переменную у датафрейма\n",
    "df_for_balancing = pd.concat([X_train, y_train], axis=1)\n",
    "df_balanced = balance_df_by_target(df_for_balancing, 'Credit Default')\n",
    "df_balanced['Credit Default'].value_counts()"
   ]
  },
  {
   "cell_type": "code",
   "execution_count": 72,
   "metadata": {
    "pycharm": {
     "name": "#%%\n"
    }
   },
   "outputs": [],
   "source": [
    "#Разбиваем датафрейм еще раз\n",
    "X_train = df_balanced.drop('Credit Default', axis=1)\n",
    "y_train = df_balanced['Credit Default']\n"
   ]
  },
  {
   "cell_type": "code",
   "execution_count": 73,
   "metadata": {
    "pycharm": {
     "name": "#%%\n"
    }
   },
   "outputs": [
    {
     "data": {
      "text/plain": [
       "1.2748478701825559"
      ]
     },
     "execution_count": 73,
     "metadata": {},
     "output_type": "execute_result"
    }
   ],
   "source": [
    "#Смотрим результат\n",
    "disbalance = y_train.value_counts()[0] / y_train.value_counts()[1]\n",
    "disbalance"
   ]
  },
  {
   "cell_type": "code",
   "execution_count": 74,
   "metadata": {
    "pycharm": {
     "name": "#%%\n"
    }
   },
   "outputs": [
    {
     "data": {
      "application/vnd.jupyter.widget-view+json": {
       "model_id": "24dc49dbb9474e62b5d5fee1110ad932",
       "version_major": 2,
       "version_minor": 0
      },
      "text/plain": [
       "MetricVisualizer(layout=Layout(align_self='stretch', height='500px'))"
      ]
     },
     "metadata": {},
     "output_type": "display_data"
    },
    {
     "data": {
      "text/plain": [
       "<catboost.core.CatBoostClassifier at 0x1e8916987f0>"
      ]
     },
     "execution_count": 74,
     "metadata": {},
     "output_type": "execute_result"
    }
   ],
   "source": [
    "frozen_params = {\n",
    "      'class_weights':[1, 2.5],\n",
    "      'silent':True,\n",
    "      'random_state':21,\n",
    "     'eval_metric':'F1',\n",
    "      'early_stopping_rounds':20\n",
    "}\n",
    "\n",
    "cat_b = CatBoostClassifier(**frozen_params,\n",
    "                            iterations=300,\n",
    "                            max_depth=7,\n",
    "                            reg_lambda=0.5)\n",
    "cat_b.fit(X_train, y_train, plot=True, eval_set=(X_test, y_test))"
   ]
  },
  {
   "cell_type": "code",
   "execution_count": 75,
   "metadata": {
    "pycharm": {
     "name": "#%%\n"
    }
   },
   "outputs": [
    {
     "name": "stdout",
     "output_type": "stream",
     "text": [
      "TRAIN\n",
      "\n",
      "              precision    recall  f1-score   support\n",
      "\n",
      "           0       0.97      0.38      0.55      3771\n",
      "           1       0.56      0.98      0.71      2958\n",
      "\n",
      "    accuracy                           0.65      6729\n",
      "   macro avg       0.76      0.68      0.63      6729\n",
      "weighted avg       0.79      0.65      0.62      6729\n",
      "\n",
      "TEST\n",
      "\n",
      "              precision    recall  f1-score   support\n",
      "\n",
      "           0       0.93      0.34      0.50      1616\n",
      "           1       0.36      0.93      0.52       634\n",
      "\n",
      "    accuracy                           0.51      2250\n",
      "   macro avg       0.64      0.64      0.51      2250\n",
      "weighted avg       0.77      0.51      0.50      2250\n",
      "\n",
      "CONFUSION MATRIX\n",
      "\n",
      "col_0             0     1\n",
      "Credit Default           \n",
      "0               551  1065\n",
      "1                42   592\n"
     ]
    }
   ],
   "source": [
    "#Делаем метрики в читаемом виде\n",
    "def get_classification_report(y_train_true, y_train_pred, y_test_true, y_test_pred):\n",
    "    print('TRAIN\\n\\n' + classification_report(y_train_true, y_train_pred))\n",
    "    print('TEST\\n\\n' + classification_report(y_test_true, y_test_pred))\n",
    "    print('CONFUSION MATRIX\\n')\n",
    "    print(pd.crosstab(y_test_true, y_test_pred))\n",
    "\n",
    "def evaluate_preds(model, X_train, X_test, y_train, y_test):\n",
    "     y_train_pred = model.predict(X_train)\n",
    "     y_test_pred = model.predict(X_test)\n",
    "\n",
    "     get_classification_report(y_train, y_train_pred, y_test, y_test_pred)\n",
    "\n",
    "evaluate_preds(cat_b, X_train, X_test, y_train, y_test)"
   ]
  },
  {
   "cell_type": "code",
   "execution_count": 76,
   "metadata": {
    "pycharm": {
     "name": "#%%\n"
    }
   },
   "outputs": [
    {
     "data": {
      "application/vnd.jupyter.widget-view+json": {
       "model_id": "e6431ea9692a458f8c5d419971df0abe",
       "version_major": 2,
       "version_minor": 0
      },
      "text/plain": [
       "MetricVisualizer(layout=Layout(align_self='stretch', height='500px'))"
      ]
     },
     "metadata": {},
     "output_type": "display_data"
    },
    {
     "name": "stdout",
     "output_type": "stream",
     "text": [
      "Stopped by overfitting detector  (20 iterations wait)\n",
      "\n",
      "bestTest = 0.8172804533\n",
      "bestIteration = 3\n",
      "\n",
      "0:\tloss: 0.8172805\tbest: 0.8172805 (0)\ttotal: 206ms\tremaining: 10.1s\n",
      "Stopped by overfitting detector  (20 iterations wait)\n",
      "\n",
      "bestTest = 0.8345730437\n",
      "bestIteration = 115\n",
      "\n",
      "1:\tloss: 0.8345730\tbest: 0.8345730 (1)\ttotal: 1.14s\tremaining: 27.4s\n",
      "Stopped by overfitting detector  (20 iterations wait)\n",
      "\n",
      "bestTest = 0.8363802559\n",
      "bestIteration = 191\n",
      "\n",
      "2:\tloss: 0.8363803\tbest: 0.8363803 (2)\ttotal: 2.58s\tremaining: 40.4s\n",
      "Stopped by overfitting detector  (20 iterations wait)\n",
      "\n",
      "bestTest = 0.8319763138\n",
      "bestIteration = 85\n",
      "\n",
      "3:\tloss: 0.8319763\tbest: 0.8363803 (2)\ttotal: 3.33s\tremaining: 38.3s\n",
      "Stopped by overfitting detector  (20 iterations wait)\n",
      "\n",
      "bestTest = 0.8457479826\n",
      "bestIteration = 270\n",
      "\n",
      "4:\tloss: 0.8457480\tbest: 0.8457480 (4)\ttotal: 5.3s\tremaining: 47.7s\n",
      "Stopped by overfitting detector  (20 iterations wait)\n",
      "\n",
      "bestTest = 0.8482621344\n",
      "bestIteration = 240\n",
      "\n",
      "5:\tloss: 0.8482621\tbest: 0.8482621 (5)\ttotal: 6.96s\tremaining: 51.1s\n",
      "Stopped by overfitting detector  (20 iterations wait)\n",
      "\n",
      "bestTest = 0.8429878049\n",
      "bestIteration = 209\n",
      "\n",
      "6:\tloss: 0.8429878\tbest: 0.8482621 (5)\ttotal: 8.57s\tremaining: 52.6s\n",
      "Stopped by overfitting detector  (20 iterations wait)\n",
      "\n",
      "bestTest = 0.8340820605\n",
      "bestIteration = 152\n",
      "\n",
      "7:\tloss: 0.8340821\tbest: 0.8482621 (5)\ttotal: 9.85s\tremaining: 51.7s\n",
      "Stopped by overfitting detector  (20 iterations wait)\n",
      "\n",
      "bestTest = 0.8344549125\n",
      "bestIteration = 135\n",
      "\n",
      "8:\tloss: 0.8344549\tbest: 0.8482621 (5)\ttotal: 11.4s\tremaining: 51.9s\n",
      "Stopped by overfitting detector  (20 iterations wait)\n",
      "\n",
      "bestTest = 0.8345819598\n",
      "bestIteration = 151\n",
      "\n",
      "9:\tloss: 0.8345820\tbest: 0.8482621 (5)\ttotal: 12.6s\tremaining: 50.3s\n",
      "Stopped by overfitting detector  (20 iterations wait)\n",
      "\n",
      "bestTest = 0.8304042179\n",
      "bestIteration = 83\n",
      "\n",
      "10:\tloss: 0.8304042\tbest: 0.8482621 (5)\ttotal: 13.4s\tremaining: 47.4s\n",
      "Stopped by overfitting detector  (20 iterations wait)\n",
      "\n",
      "bestTest = 0.8276777811\n",
      "bestIteration = 100\n",
      "\n",
      "11:\tloss: 0.8276778\tbest: 0.8482621 (5)\ttotal: 14.2s\tremaining: 44.9s\n",
      "Stopped by overfitting detector  (20 iterations wait)\n",
      "\n",
      "bestTest = 0.8312379825\n",
      "bestIteration = 106\n",
      "\n",
      "12:\tloss: 0.8312380\tbest: 0.8482621 (5)\ttotal: 15.3s\tremaining: 43.6s\n",
      "Stopped by overfitting detector  (20 iterations wait)\n",
      "\n",
      "bestTest = 0.8175120431\n",
      "bestIteration = 3\n",
      "\n",
      "13:\tloss: 0.8175120\tbest: 0.8482621 (5)\ttotal: 15.5s\tremaining: 39.8s\n",
      "Stopped by overfitting detector  (20 iterations wait)\n",
      "\n",
      "bestTest = 0.831126802\n",
      "bestIteration = 105\n",
      "\n",
      "14:\tloss: 0.8311268\tbest: 0.8482621 (5)\ttotal: 16.4s\tremaining: 38.2s\n",
      "Stopped by overfitting detector  (20 iterations wait)\n",
      "\n",
      "bestTest = 0.8323477232\n",
      "bestIteration = 113\n",
      "\n",
      "15:\tloss: 0.8323477\tbest: 0.8482621 (5)\ttotal: 17.2s\tremaining: 36.6s\n",
      "Stopped by overfitting detector  (20 iterations wait)\n",
      "\n",
      "bestTest = 0.828688765\n",
      "bestIteration = 84\n",
      "\n",
      "16:\tloss: 0.8286888\tbest: 0.8482621 (5)\ttotal: 17.9s\tremaining: 34.8s\n",
      "Stopped by overfitting detector  (20 iterations wait)\n",
      "\n",
      "bestTest = 0.8172804533\n",
      "bestIteration = 3\n",
      "\n",
      "17:\tloss: 0.8172805\tbest: 0.8482621 (5)\ttotal: 18.1s\tremaining: 32.2s\n",
      "Stopped by overfitting detector  (20 iterations wait)\n",
      "\n",
      "bestTest = 0.8172804533\n",
      "bestIteration = 3\n",
      "\n",
      "18:\tloss: 0.8172805\tbest: 0.8482621 (5)\ttotal: 18.3s\tremaining: 29.8s\n",
      "Stopped by overfitting detector  (20 iterations wait)\n",
      "\n",
      "bestTest = 0.8172804533\n",
      "bestIteration = 3\n",
      "\n",
      "19:\tloss: 0.8172805\tbest: 0.8482621 (5)\ttotal: 18.4s\tremaining: 27.6s\n",
      "Stopped by overfitting detector  (20 iterations wait)\n",
      "\n",
      "bestTest = 0.8172804533\n",
      "bestIteration = 3\n",
      "\n",
      "20:\tloss: 0.8172805\tbest: 0.8482621 (5)\ttotal: 18.6s\tremaining: 25.7s\n",
      "Stopped by overfitting detector  (20 iterations wait)\n",
      "\n",
      "bestTest = 0.8172804533\n",
      "bestIteration = 3\n",
      "\n",
      "21:\tloss: 0.8172805\tbest: 0.8482621 (5)\ttotal: 18.8s\tremaining: 23.9s\n",
      "Stopped by overfitting detector  (20 iterations wait)\n",
      "\n",
      "bestTest = 0.8172804533\n",
      "bestIteration = 3\n",
      "\n",
      "22:\tloss: 0.8172805\tbest: 0.8482621 (5)\ttotal: 18.9s\tremaining: 22.2s\n",
      "Stopped by overfitting detector  (20 iterations wait)\n",
      "\n",
      "bestTest = 0.8327159579\n",
      "bestIteration = 122\n",
      "\n",
      "23:\tloss: 0.8327160\tbest: 0.8482621 (5)\ttotal: 19.9s\tremaining: 21.6s\n",
      "Stopped by overfitting detector  (20 iterations wait)\n",
      "\n",
      "bestTest = 0.8230037475\n",
      "bestIteration = 53\n",
      "\n",
      "24:\tloss: 0.8230037\tbest: 0.8482621 (5)\ttotal: 20.4s\tremaining: 20.4s\n",
      "Stopped by overfitting detector  (20 iterations wait)\n",
      "\n",
      "bestTest = 0.8235125036\n",
      "bestIteration = 52\n",
      "\n",
      "25:\tloss: 0.8235125\tbest: 0.8482621 (5)\ttotal: 20.9s\tremaining: 19.3s\n",
      "Stopped by overfitting detector  (20 iterations wait)\n",
      "\n",
      "bestTest = 0.8172804533\n",
      "bestIteration = 3\n",
      "\n",
      "26:\tloss: 0.8172805\tbest: 0.8482621 (5)\ttotal: 21.1s\tremaining: 18s\n",
      "Stopped by overfitting detector  (20 iterations wait)\n",
      "\n",
      "bestTest = 0.8172804533\n",
      "bestIteration = 3\n",
      "\n",
      "27:\tloss: 0.8172805\tbest: 0.8482621 (5)\ttotal: 21.3s\tremaining: 16.7s\n",
      "Stopped by overfitting detector  (20 iterations wait)\n",
      "\n",
      "bestTest = 0.8172804533\n",
      "bestIteration = 3\n",
      "\n",
      "28:\tloss: 0.8172805\tbest: 0.8482621 (5)\ttotal: 21.5s\tremaining: 15.5s\n",
      "Stopped by overfitting detector  (20 iterations wait)\n",
      "\n",
      "bestTest = 0.8279601407\n",
      "bestIteration = 95\n",
      "\n",
      "29:\tloss: 0.8279601\tbest: 0.8482621 (5)\ttotal: 22.2s\tremaining: 14.8s\n",
      "Stopped by overfitting detector  (20 iterations wait)\n",
      "\n",
      "bestTest = 0.8172804533\n",
      "bestIteration = 3\n",
      "\n",
      "30:\tloss: 0.8172805\tbest: 0.8482621 (5)\ttotal: 22.4s\tremaining: 13.7s\n",
      "Stopped by overfitting detector  (20 iterations wait)\n",
      "\n",
      "bestTest = 0.8172804533\n",
      "bestIteration = 3\n",
      "\n",
      "31:\tloss: 0.8172805\tbest: 0.8482621 (5)\ttotal: 22.5s\tremaining: 12.7s\n",
      "Stopped by overfitting detector  (20 iterations wait)\n",
      "\n",
      "bestTest = 0.8172804533\n",
      "bestIteration = 3\n",
      "\n",
      "32:\tloss: 0.8172805\tbest: 0.8482621 (5)\ttotal: 22.7s\tremaining: 11.7s\n",
      "Stopped by overfitting detector  (20 iterations wait)\n",
      "\n",
      "bestTest = 0.8172804533\n",
      "bestIteration = 3\n",
      "\n",
      "33:\tloss: 0.8172805\tbest: 0.8482621 (5)\ttotal: 22.8s\tremaining: 10.8s\n",
      "Stopped by overfitting detector  (20 iterations wait)\n",
      "\n",
      "bestTest = 0.8172804533\n",
      "bestIteration = 3\n",
      "\n",
      "34:\tloss: 0.8172805\tbest: 0.8482621 (5)\ttotal: 23s\tremaining: 9.86s\n",
      "Stopped by overfitting detector  (20 iterations wait)\n",
      "\n",
      "bestTest = 0.8172804533\n",
      "bestIteration = 3\n",
      "\n",
      "35:\tloss: 0.8172805\tbest: 0.8482621 (5)\ttotal: 23.2s\tremaining: 9.02s\n",
      "Stopped by overfitting detector  (20 iterations wait)\n",
      "\n",
      "bestTest = 0.8172804533\n",
      "bestIteration = 3\n",
      "\n",
      "36:\tloss: 0.8172805\tbest: 0.8482621 (5)\ttotal: 23.3s\tremaining: 8.2s\n",
      "Stopped by overfitting detector  (20 iterations wait)\n",
      "\n",
      "bestTest = 0.825648415\n",
      "bestIteration = 57\n",
      "\n",
      "37:\tloss: 0.8256484\tbest: 0.8482621 (5)\ttotal: 23.8s\tremaining: 7.52s\n",
      "Stopped by overfitting detector  (20 iterations wait)\n",
      "\n",
      "bestTest = 0.828166519\n",
      "bestIteration = 115\n",
      "\n",
      "38:\tloss: 0.8281665\tbest: 0.8482621 (5)\ttotal: 24.7s\tremaining: 6.96s\n",
      "Stopped by overfitting detector  (20 iterations wait)\n",
      "\n",
      "bestTest = 0.8210976479\n",
      "bestIteration = 41\n",
      "\n",
      "39:\tloss: 0.8210976\tbest: 0.8482621 (5)\ttotal: 25.1s\tremaining: 6.26s\n",
      "Stopped by overfitting detector  (20 iterations wait)\n",
      "\n",
      "bestTest = 0.8172804533\n",
      "bestIteration = 3\n",
      "\n",
      "40:\tloss: 0.8172805\tbest: 0.8482621 (5)\ttotal: 25.2s\tremaining: 5.53s\n",
      "Stopped by overfitting detector  (20 iterations wait)\n",
      "\n",
      "bestTest = 0.8172804533\n",
      "bestIteration = 3\n",
      "\n",
      "41:\tloss: 0.8172805\tbest: 0.8482621 (5)\ttotal: 25.3s\tremaining: 4.83s\n",
      "Stopped by overfitting detector  (20 iterations wait)\n",
      "\n",
      "bestTest = 0.8172804533\n",
      "bestIteration = 3\n",
      "\n",
      "42:\tloss: 0.8172805\tbest: 0.8482621 (5)\ttotal: 25.5s\tremaining: 4.15s\n",
      "Stopped by overfitting detector  (20 iterations wait)\n",
      "\n",
      "bestTest = 0.8233424816\n",
      "bestIteration = 58\n",
      "\n",
      "43:\tloss: 0.8233425\tbest: 0.8482621 (5)\ttotal: 26.1s\tremaining: 3.55s\n",
      "Stopped by overfitting detector  (20 iterations wait)\n",
      "\n",
      "bestTest = 0.8172804533\n",
      "bestIteration = 3\n",
      "\n",
      "44:\tloss: 0.8172805\tbest: 0.8482621 (5)\ttotal: 26.2s\tremaining: 2.91s\n",
      "Stopped by overfitting detector  (20 iterations wait)\n",
      "\n",
      "bestTest = 0.8247574243\n",
      "bestIteration = 94\n",
      "\n",
      "45:\tloss: 0.8247574\tbest: 0.8482621 (5)\ttotal: 27s\tremaining: 2.35s\n",
      "Stopped by overfitting detector  (20 iterations wait)\n",
      "\n",
      "bestTest = 0.8172804533\n",
      "bestIteration = 3\n",
      "\n",
      "46:\tloss: 0.8172805\tbest: 0.8482621 (5)\ttotal: 27.2s\tremaining: 1.74s\n",
      "Stopped by overfitting detector  (20 iterations wait)\n",
      "\n",
      "bestTest = 0.8271896196\n",
      "bestIteration = 107\n",
      "\n",
      "47:\tloss: 0.8271896\tbest: 0.8482621 (5)\ttotal: 28.1s\tremaining: 1.17s\n",
      "Stopped by overfitting detector  (20 iterations wait)\n",
      "\n",
      "bestTest = 0.8172804533\n",
      "bestIteration = 3\n",
      "\n",
      "48:\tloss: 0.8172805\tbest: 0.8482621 (5)\ttotal: 28.3s\tremaining: 577ms\n",
      "Stopped by overfitting detector  (20 iterations wait)\n",
      "\n",
      "bestTest = 0.8172804533\n",
      "bestIteration = 3\n",
      "\n",
      "49:\tloss: 0.8172805\tbest: 0.8482621 (5)\ttotal: 28.4s\tremaining: 0us\n",
      "Estimating final quality...\n",
      "Stopped by overfitting detector  (20 iterations wait)\n",
      "TRAIN\n",
      "\n",
      "              precision    recall  f1-score   support\n",
      "\n",
      "           0       0.98      0.58      0.73      3771\n",
      "           1       0.65      0.99      0.78      2958\n",
      "\n",
      "    accuracy                           0.76      6729\n",
      "   macro avg       0.82      0.79      0.76      6729\n",
      "weighted avg       0.84      0.76      0.76      6729\n",
      "\n",
      "TEST\n",
      "\n",
      "              precision    recall  f1-score   support\n",
      "\n",
      "           0       0.87      0.47      0.61      1616\n",
      "           1       0.38      0.82      0.52       634\n",
      "\n",
      "    accuracy                           0.57      2250\n",
      "   macro avg       0.62      0.64      0.56      2250\n",
      "weighted avg       0.73      0.57      0.58      2250\n",
      "\n",
      "CONFUSION MATRIX\n",
      "\n",
      "col_0             0    1\n",
      "Credit Default          \n",
      "0               754  862\n",
      "1               113  521\n"
     ]
    }
   ],
   "source": [
    "cat_b = CatBoostClassifier(**frozen_params,\n",
    "                                 iterations=300,\n",
    "                                 max_depth=7)\n",
    "\n",
    "cv = StratifiedKFold(n_splits=3, random_state=21, shuffle=True)\n",
    "grid_search = cat_b.randomized_search({'reg_lambda': np.linspace(0.1, 4, 80)}, X_train, y_train, n_iter=50, cv=cv, stratified=True, plot=True, refit=True)\n",
    "grid_search\n",
    "evaluate_preds(cat_b, X_train, X_test, y_train, y_test)"
   ]
  },
  {
   "cell_type": "code",
   "execution_count": 77,
   "metadata": {
    "pycharm": {
     "name": "#%%\n"
    }
   },
   "outputs": [
    {
     "data": {
      "image/png": "[encoded data removed]",
      "text/plain": [
       "<Figure size 1080x576 with 1 Axes>"
      ]
     },
     "metadata": {},
     "output_type": "display_data"
    }
   ],
   "source": [
    "#Строим графики зависимости метрик\n",
    "def show_learning_curve_plot(estimator, X, y, cv=3, n_jobs=-1, train_sizes=np.linspace(.1, 1.0, 5)):\n",
    "\n",
    "     #Determines cross-validated training and test scores for different training set sizes.\n",
    "     train_sizes, train_scores, test_scores = learning_curve(estimator, X, y,\n",
    "                                                             cv=cv,\n",
    "                                                             scoring='f1',\n",
    "                                                             train_sizes=train_sizes,\n",
    "                                                             n_jobs=n_jobs)\n",
    "     train_scores_mean = np.mean(train_scores, axis=1)\n",
    "     train_scores_std = np.std(train_scores, axis=1)\n",
    "     test_scores_mean = np.mean(test_scores, axis=1)\n",
    "     test_scores_std = np.std(test_scores, axis=1)\n",
    "\n",
    "     plt.figure(figsize=(15,8))\n",
    "     plt.fill_between(train_sizes, train_scores_mean - train_scores_std,\n",
    "                      train_scores_mean + train_scores_std, alpha=0.1, color=\"r\")\n",
    "     plt.fill_between(train_sizes, test_scores_mean - test_scores_std,\n",
    "                      test_scores_mean + test_scores_std, alpha=0.1, color=\"g\")\n",
    "     plt.plot(train_sizes, train_scores_mean, 'o-', color=\"r\",\n",
    "              label=\"Training score\")\n",
    "     plt.plot(train_sizes, test_scores_mean, 'o-', color=\"g\",\n",
    "              label=\"Cross-validation score\")\n",
    "\n",
    "     plt.title(f\"Learning curves ({type(estimator).__name__})\")\n",
    "     plt.xlabel(\"Training examples\")\n",
    "     plt.ylabel(\"Score\")\n",
    "     plt.legend(loc=\"best\")\n",
    "     plt.grid()\n",
    "\n",
    "show_learning_curve_plot(cat_b, X, y)"
   ]
  },
  {
   "cell_type": "code",
   "execution_count": 78,
   "metadata": {
    "pycharm": {
     "name": "#%%\n"
    }
   },
   "outputs": [
    {
     "data": {
      "image/png": "[encoded data removed]",
      "text/plain": [
       "<Figure size 1440x664.56 with 1 Axes>"
      ]
     },
     "metadata": {},
     "output_type": "display_data"
    },
    {
     "data": {
      "text/plain": [
       "['Credit Score',\n",
       " 'Current Loan Amount_outlier',\n",
       " 'Annual Income',\n",
       " 'Maximum Open Credit',\n",
       " 'Monthly Debt',\n",
       " 'Current Loan Amount',\n",
       " 'Years of Credit History',\n",
       " 'Number of Open Accounts',\n",
       " 'Current Credit Balance',\n",
       " 'Months since last delinquent',\n",
       " 'Home Ownership_rank',\n",
       " 'Term_rank',\n",
       " 'Years in current job_rank',\n",
       " 'Purpose_rank',\n",
       " 'Annual Income_nan',\n",
       " 'Credit Score_nan',\n",
       " 'Number of Credit Problems_rank',\n",
       " 'Bankruptcies',\n",
       " 'Number of Credit Problems',\n",
       " 'Years in current job_nan',\n",
       " 'Tax Liens_rank',\n",
       " 'Bankruptcies_rank',\n",
       " 'No problems',\n",
       " 'Tax Liens']"
      ]
     },
     "execution_count": 78,
     "metadata": {},
     "output_type": "execute_result"
    }
   ],
   "source": [
    "#Смотрим самые важные признаки\n",
    "def show_feature_importances(feature_names, feature_importances, get_top=None):\n",
    "     feature_importances = pd.DataFrame({'feature': feature_names, 'importance': feature_importances})\n",
    "     feature_importances = feature_importances.sort_values('importance', ascending=False)\n",
    "     plt.figure(figsize = (20, len(feature_importances) * 0.355))\n",
    "     sns.barplot(feature_importances['importance'], feature_importances['feature'])\n",
    "     plt.xlabel('Importance')\n",
    "     plt.title('Importance of features')\n",
    "     plt.show()\n",
    "\n",
    "     if get_top is not None:\n",
    "         return feature_importances['feature'][:get_top].tolist()\n",
    "\n",
    "important_features_top = show_feature_importances(X_train.columns, cat_b.feature_importances_, get_top=24)\n",
    "important_features_top"
   ]
  },
  {
   "cell_type": "code",
   "execution_count": 79,
   "metadata": {
    "pycharm": {
     "name": "#%%\n"
    }
   },
   "outputs": [
    {
     "name": "stdout",
     "output_type": "stream",
     "text": [
      "TRAIN\n",
      "\n",
      "              precision    recall  f1-score   support\n",
      "\n",
      "           0       0.98      0.57      0.72      3771\n",
      "           1       0.64      0.98      0.78      2958\n",
      "\n",
      "    accuracy                           0.75      6729\n",
      "   macro avg       0.81      0.78      0.75      6729\n",
      "weighted avg       0.83      0.75      0.75      6729\n",
      "\n",
      "TEST\n",
      "\n",
      "              precision    recall  f1-score   support\n",
      "\n",
      "           0       0.88      0.47      0.61      1616\n",
      "           1       0.38      0.84      0.52       634\n",
      "\n",
      "    accuracy                           0.57      2250\n",
      "   macro avg       0.63      0.65      0.57      2250\n",
      "weighted avg       0.74      0.57      0.58      2250\n",
      "\n",
      "CONFUSION MATRIX\n",
      "\n",
      "col_0             0    1\n",
      "Credit Default          \n",
      "0               752  864\n",
      "1               103  531\n"
     ]
    }
   ],
   "source": [
    "frozen_params = {\n",
    "      'class_weights':[1, 2.5],\n",
    "      'silent':True,\n",
    "      'random_state':21,\n",
    "      'eval_metric':'F1',\n",
    "      'early_stopping_rounds':20\n",
    "}\n",
    "\n",
    "cat_b_final = CatBoostClassifier(**frozen_params,\n",
    "                                       iterations=300,\n",
    "                                       max_depth=7,\n",
    "                                       reg_lambda=0.5)\n",
    "\n",
    "cat_b_final.fit(X_train[important_features_top], y_train)\n",
    "evaluate_preds(cat_b_final, X_train[important_features_top], X_test[important_features_top], y_train, y_test)"
   ]
  },
  {
   "cell_type": "code",
   "execution_count": 80,
   "metadata": {
    "pycharm": {
     "name": "#%%\n"
    }
   },
   "outputs": [
    {
     "name": "stdout",
     "output_type": "stream",
     "text": [
      "LogisticRegression(C=0.1, class_weight='balanced', max_iter=50, penalty='l1',\n",
      "                   solver='liblinear')   --  F1 0.5430637738330045 \n",
      "precision 0.46561443066516345 \n",
      "recall 0.6514195583596214\n",
      "XGBClassifier(base_score=0.5, booster='gbtree', colsample_bylevel=1,\n",
      "              colsample_bynode=1, colsample_bytree=1, eval_metric='logloss',\n",
      "              gamma=0, gpu_id=-1, importance_type='gain',\n",
      "              interaction_constraints='', learning_rate=0.300000012,\n",
      "              max_delta_step=0, max_depth=50, min_child_weight=1, missing=nan,\n",
      "              monotone_constraints='()', n_estimators=100, n_jobs=8,\n",
      "              num_parallel_tree=1, random_state=21, reg_alpha=0, reg_lambda=1,\n",
      "              scale_pos_weight=1, subsample=1, tree_method='exact',\n",
      "              validate_parameters=1, verbosity=None)   --  F1 0.4609665427509294 \n",
      "precision 0.5610859728506787 \n",
      "recall 0.3911671924290221\n",
      "KNeighborsClassifier()   --  F1 0.34776334776334783 \n",
      "precision 0.3204787234042553 \n",
      "recall 0.3801261829652997\n",
      "BaggingClassifier()   --  F1 0.45571955719557194 \n",
      "precision 0.5488888888888889 \n",
      "recall 0.38958990536277605\n",
      "RandomForestClassifier()   --  F1 0.47791164658634533 \n",
      "precision 0.6574585635359116 \n",
      "recall 0.3753943217665615\n",
      "DecisionTreeClassifier(class_weight={0: 1, 1: 2.5}, max_depth=4,\n",
      "                       random_state=21)   --  F1 0.5029535864978903 \n",
      "precision 0.3433179723502304 \n",
      "recall 0.9400630914826499\n",
      "LGBMClassifier(class_weight={0: 1, 1: 2.5}, random_state=21)   --  F1 0.5154994259471871 \n",
      "precision 0.4052346570397112 \n",
      "recall 0.7082018927444795\n",
      "<catboost.core.CatBoostClassifier object at 0x000001E89119ECA0>   --  F1 0.5135534746180385 \n",
      "precision 0.3734767025089606 \n",
      "recall 0.8217665615141956\n",
      "AdaBoostClassifier()   --  F1 0.5157972079353417 \n",
      "precision 0.4828060522696011 \n",
      "recall 0.5536277602523659\n",
      "SVC(C=0.05)   --  F1 0.0 \n",
      "precision 0.0 \n",
      "recall 0.0\n",
      "GaussianNB()   --  F1 0.3289473684210526 \n",
      "precision 0.9920634920634921 \n",
      "recall 0.1971608832807571\n",
      "ExtraTreesClassifier(bootstrap=True, class_weight='balanced',\n",
      "                     min_samples_split=0.3, random_state=21)   --  F1 0.5375170532060028 \n",
      "precision 0.4735576923076923 \n",
      "recall 0.6214511041009464\n",
      "GradientBoostingClassifier(learning_rate=7, random_state=21)   --  F1 0.5175718849840255 \n",
      "precision 0.5242718446601942 \n",
      "recall 0.5110410094637224\n",
      "Perceptron(class_weight='balanced')   --  F1 0.24159663865546216 \n",
      "precision 0.36163522012578614 \n",
      "recall 0.18138801261829654\n"
     ]
    }
   ],
   "source": [
    "#Делаем сравнение показателей различных моделей\n",
    "def pred_model(model):\n",
    "    model.fit(X_train, y_train)\n",
    "    y_test_pred = model.predict(X_test)\n",
    "    print(model, '  --  F1', f1_score(y_test, y_test_pred), '\\nprecision', precision_score(y_test, y_test_pred), '\\nrecall', recall_score(y_test, y_test_pred))\n",
    "\n",
    "\n",
    "for model in [\n",
    "#           Логистическая регрессия\n",
    "            LogisticRegression(C = 0.1, class_weight = 'balanced', penalty = 'l1', solver = 'liblinear', max_iter = 50),\n",
    "            XGBClassifier(eval_metric=\"logloss\", max_depth=50, reg_lambda=1, random_state=21),\n",
    "            KNeighborsClassifier(), # К-ближайших соседей\n",
    "            BaggingClassifier(), # Беггинг\n",
    "            RandomForestClassifier(), # Случайный лес\n",
    "#           Дерево решений\n",
    "            DecisionTreeClassifier(random_state=21, class_weight={0:1, 1:2.5}, max_depth=4),\n",
    "            LGBMClassifier(class_weight={0:1, 1:2.5}, random_state=21),\n",
    "            CatBoostClassifier(silent=True,random_state=21, class_weights=[1, 2.5], eval_metric='F1', early_stopping_rounds=20,\n",
    "            custom_metric=['Precision', 'Recall'],\n",
    "                                     iterations=50,\n",
    "                                     max_depth=5,\n",
    "                                     min_data_in_leaf=5),\n",
    "            AdaBoostClassifier(),\n",
    "            SVC(C=0.05, kernel='rbf'), # Метод опорных векторов\n",
    "            GaussianNB(),\n",
    "            ExtraTreesClassifier(random_state=21, bootstrap=True, min_samples_split=0.3, class_weight='balanced'),\n",
    "            GradientBoostingClassifier(learning_rate=7, random_state=21), # Бустинг\n",
    "            Perceptron(class_weight='balanced')\n",
    "]:\n",
    "        pred_model(model)\n"
   ]
  },
  {
   "cell_type": "code",
   "execution_count": 81,
   "metadata": {
    "pycharm": {
     "name": "#%%\n"
    }
   },
   "outputs": [
    {
     "data": {
      "text/plain": [
       "0.5209302325581395"
      ]
     },
     "execution_count": 81,
     "metadata": {},
     "output_type": "execute_result"
    }
   ],
   "source": [
    "#Обучаем Vote Classifier\n",
    "vote = VotingClassifier(\n",
    "    estimators=[('Extra Tree',ExtraTreesClassifier(random_state=21, bootstrap=True, min_samples_split=0.3, class_weight='balanced')),\n",
    "    ('GradientBoosting',GradientBoostingClassifier(learning_rate=7, random_state=21)),\n",
    "    ('AdaBoost' ,AdaBoostClassifier()),\n",
    "    ('CatBooster', CatBoostClassifier(silent=True,random_state=21, class_weights=[1, 2.5], eval_metric='F1', early_stopping_rounds=20,\n",
    "    iterations=50, max_depth=5, min_data_in_leaf=5))],\n",
    "    voting='soft', weights=[1 ,1 ,1, 1.7], n_jobs=-1)\n",
    "\n",
    "vote.fit(X_train, y_train)\n",
    "y_train_pred = vote.predict(X_train)\n",
    "y_test_pred = vote.predict(X_test)\n",
    "f1_score(y_test, y_test_pred)"
   ]
  },
  {
   "cell_type": "code",
   "execution_count": 82,
   "metadata": {
    "pycharm": {
     "name": "#%%\n"
    }
   },
   "outputs": [
    {
     "data": {
      "text/plain": [
       "0.5121951219512195"
      ]
     },
     "execution_count": 82,
     "metadata": {},
     "output_type": "execute_result"
    }
   ],
   "source": [
    "precision_score(y_test, y_test_pred)\n",
    "\n"
   ]
  },
  {
   "cell_type": "code",
   "execution_count": 83,
   "metadata": {
    "pycharm": {
     "name": "#%%\n"
    }
   },
   "outputs": [
    {
     "data": {
      "text/plain": [
       "0.5299684542586751"
      ]
     },
     "execution_count": 83,
     "metadata": {},
     "output_type": "execute_result"
    }
   ],
   "source": [
    "recall_score(y_test, y_test_pred)\n",
    "\n"
   ]
  },
  {
   "cell_type": "code",
   "execution_count": 84,
   "metadata": {
    "pycharm": {
     "name": "#%%\n"
    }
   },
   "outputs": [
    {
     "name": "stdout",
     "output_type": "stream",
     "text": [
      "TRAIN\n",
      "\n",
      "              precision    recall  f1-score   support\n",
      "\n",
      "           0       0.98      0.58      0.73      3771\n",
      "           1       0.65      0.99      0.78      2958\n",
      "\n",
      "    accuracy                           0.76      6729\n",
      "   macro avg       0.82      0.79      0.76      6729\n",
      "weighted avg       0.84      0.76      0.76      6729\n",
      "\n",
      "TEST\n",
      "\n",
      "              precision    recall  f1-score   support\n",
      "\n",
      "           0       0.87      0.47      0.61      1616\n",
      "           1       0.38      0.82      0.52       634\n",
      "\n",
      "    accuracy                           0.57      2250\n",
      "   macro avg       0.62      0.64      0.56      2250\n",
      "weighted avg       0.73      0.57      0.58      2250\n",
      "\n",
      "CONFUSION MATRIX\n",
      "\n",
      "col_0             0    1\n",
      "Credit Default          \n",
      "0               754  862\n",
      "1               113  521\n"
     ]
    }
   ],
   "source": [
    "evaluate_preds(cat_b, X_train, X_test, y_train, y_test)\n",
    "\n"
   ]
  },
  {
   "cell_type": "code",
   "execution_count": 85,
   "metadata": {
    "pycharm": {
     "name": "#%%\n"
    }
   },
   "outputs": [
    {
     "data": {
      "text/plain": [
       "0.5135534746180385"
      ]
     },
     "execution_count": 85,
     "metadata": {},
     "output_type": "execute_result"
    }
   ],
   "source": [
    "#Смотрим CatBoost\n",
    "cat_b_final = CatBoostClassifier(silent=True, random_state=21, class_weights=[1, 2.5],\n",
    "                    eval_metric='F1', early_stopping_rounds=20,\n",
    "                    custom_metric=['Precision', 'Recall'],\n",
    "                    iterations=50,\n",
    "                    max_depth=5,\n",
    "                    min_data_in_leaf=5)\n",
    "cat_b_final.fit(X_train, y_train)\n",
    "y_train_pred = cat_b_final.predict(X_train)\n",
    "y_test_pred = cat_b_final.predict(X_test)\n",
    "f1_score(y_test, y_test_pred)"
   ]
  },
  {
   "cell_type": "code",
   "execution_count": 86,
   "metadata": {
    "pycharm": {
     "name": "#%%\n"
    }
   },
   "outputs": [
    {
     "data": {
      "text/plain": [
       "0.3734767025089606"
      ]
     },
     "execution_count": 86,
     "metadata": {},
     "output_type": "execute_result"
    }
   ],
   "source": [
    "precision_score(y_test, y_test_pred)"
   ]
  },
  {
   "cell_type": "code",
   "execution_count": 87,
   "metadata": {
    "pycharm": {
     "name": "#%%\n"
    }
   },
   "outputs": [
    {
     "data": {
      "text/plain": [
       "0.8217665615141956"
      ]
     },
     "execution_count": 87,
     "metadata": {},
     "output_type": "execute_result"
    }
   ],
   "source": [
    "recall_score(y_test, y_test_pred)"
   ]
  },
  {
   "cell_type": "code",
   "execution_count": 88,
   "metadata": {
    "pycharm": {
     "name": "#%%\n"
    }
   },
   "outputs": [
    {
     "data": {
      "text/plain": [
       "0.5175718849840255"
      ]
     },
     "execution_count": 88,
     "metadata": {},
     "output_type": "execute_result"
    }
   ],
   "source": [
    "#Смотрим Gradient Boost отдельно, самая сбалансированная модель\n",
    "gradient_boost = GradientBoostingClassifier(learning_rate=7, random_state=21)\n",
    "gradient_boost.fit(X_train, y_train)\n",
    "y_train_pred = gradient_boost.predict(X_train)\n",
    "y_test_pred = gradient_boost.predict(X_test)\n",
    "f1_score(y_test, y_test_pred)"
   ]
  },
  {
   "cell_type": "code",
   "execution_count": 89,
   "metadata": {
    "pycharm": {
     "name": "#%%\n"
    }
   },
   "outputs": [
    {
     "data": {
      "text/plain": [
       "0.5242718446601942"
      ]
     },
     "execution_count": 89,
     "metadata": {},
     "output_type": "execute_result"
    }
   ],
   "source": [
    "precision_score(y_test, y_test_pred)\n",
    "\n"
   ]
  },
  {
   "cell_type": "code",
   "execution_count": 90,
   "metadata": {
    "pycharm": {
     "name": "#%%\n"
    }
   },
   "outputs": [
    {
     "data": {
      "text/plain": [
       "0.5110410094637224"
      ]
     },
     "execution_count": 90,
     "metadata": {},
     "output_type": "execute_result"
    }
   ],
   "source": [
    "recall_score(y_test, y_test_pred)\n"
   ]
  },
  {
   "cell_type": "markdown",
   "metadata": {
    "pycharm": {
     "name": "#%% md\n"
    }
   },
   "source": [
    "Все модели обучены, самая сбалансированная Градиент и Vote ансамбли\n",
    "Первое итоговое предсказание на vote сделаю"
   ]
  },
  {
   "cell_type": "code",
   "execution_count": 91,
   "metadata": {
    "pycharm": {
     "name": "#%%\n"
    }
   },
   "outputs": [],
   "source": [
    "df_test = fill_na(df_test)\n",
    "df_test = fix_outliers(df_test)\n",
    "df_test = create_rank_cat(df_test)\n",
    "df_test[\"Credit Default\"] = vote.predict(df_test[df_features_num.columns])\n",
    "#df_test[\"Credit Default\"] = cat_b_final.predict(df_test[df_features_num.columns])\n",
    "\n",
    "\n",
    "df_test['ID'] = df_test.index.tolist()\n",
    "df_test1 = df_test[['ID', 'Credit Default']]\n",
    "\n",
    "df_test1.to_csv('Nhalzev_predictions.csv', index=False)\n",
    "#df_test1.to_csv('Nhalzev_catboost_predictions.csv', index=False)"
   ]
  },
  {
   "cell_type": "markdown",
   "metadata": {
    "pycharm": {
     "name": "#%% md\n"
    }
   },
   "source": [
    "Конечные выводы по курсовой. \n",
    "CatBoost - очень сильный алгоритм, но он стремится либо к recall, либо к precision\n",
    "Градиенты и Деревья более нейтральны, очень хорошо обучать на Vote деревьях и CatBoost\n",
    "Для целевой метки все > 0.5 подходят ансамбли с деревьми и бустами\n",
    "А так CatBoost подойдет)\n",
    "P.S Можете проверить оба решения? И сравнить? Интересен результат 2мя способами"
   ]
  }
 ],
 "metadata": {
  "kernelspec": {
   "display_name": "Python 3",
   "language": "python",
   "name": "python3"
  },
  "language_info": {
   "codemirror_mode": {
    "name": "ipython",
    "version": 3
   },
   "file_extension": ".py",
   "mimetype": "text/x-python",
   "name": "python",
   "nbconvert_exporter": "python",
   "pygments_lexer": "ipython3",
   "version": "3.9.1"
  }
 },
 "nbformat": 4,
 "nbformat_minor": 1
}