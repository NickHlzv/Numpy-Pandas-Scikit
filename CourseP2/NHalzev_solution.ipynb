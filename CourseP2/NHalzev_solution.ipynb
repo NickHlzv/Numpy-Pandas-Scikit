{
 "cells": [
  {
   "cell_type": "code",
   "execution_count": 1,
   "metadata": {
    "collapsed": true
   },
   "outputs": [],
   "source": [
    "import numpy as np\n",
    "import pandas as pd\n",
    "import matplotlib.pyplot as plt\n",
    "import seaborn as sns\n",
    "import random\n",
    "import warnings\n",
    "warnings.filterwarnings('ignore')\n",
    "%matplotlib inline"
   ]
  },
  {
   "cell_type": "code",
   "execution_count": 2,
   "metadata": {
    "pycharm": {
     "name": "#%%\n"
    }
   },
   "outputs": [
    {
     "data": {
      "text/plain": "  Home Ownership  Annual Income Years in current job  Tax Liens  \\\n0       Own Home       482087.0                  NaN        0.0   \n1       Own Home      1025487.0            10+ years        0.0   \n2  Home Mortgage       751412.0              8 years        0.0   \n3       Own Home       805068.0              6 years        0.0   \n4           Rent       776264.0              8 years        0.0   \n\n   Number of Open Accounts  Years of Credit History  Maximum Open Credit  \\\n0                     11.0                     26.3             685960.0   \n1                     15.0                     15.3            1181730.0   \n2                     11.0                     35.0            1182434.0   \n3                      8.0                     22.5             147400.0   \n4                     13.0                     13.6             385836.0   \n\n   Number of Credit Problems  Months since last delinquent  Bankruptcies  \\\n0                        1.0                           NaN           1.0   \n1                        0.0                           NaN           0.0   \n2                        0.0                           NaN           0.0   \n3                        1.0                           NaN           1.0   \n4                        1.0                           NaN           0.0   \n\n              Purpose        Term  Current Loan Amount  \\\n0  debt consolidation  Short Term           99999999.0   \n1  debt consolidation   Long Term             264968.0   \n2  debt consolidation  Short Term           99999999.0   \n3  debt consolidation  Short Term             121396.0   \n4  debt consolidation  Short Term             125840.0   \n\n   Current Credit Balance  Monthly Debt  Credit Score  Credit Default  \n0                 47386.0        7914.0         749.0               0  \n1                394972.0       18373.0         737.0               1  \n2                308389.0       13651.0         742.0               0  \n3                 95855.0       11338.0         694.0               0  \n4                 93309.0        7180.0         719.0               0  ",
      "text/html": "<div>\n<style scoped>\n    .dataframe tbody tr th:only-of-type {\n        vertical-align: middle;\n    }\n\n    .dataframe tbody tr th {\n        vertical-align: top;\n    }\n\n    .dataframe thead th {\n        text-align: right;\n    }\n</style>\n<table border=\"1\" class=\"dataframe\">\n  <thead>\n    <tr style=\"text-align: right;\">\n      <th></th>\n      <th>Home Ownership</th>\n      <th>Annual Income</th>\n      <th>Years in current job</th>\n      <th>Tax Liens</th>\n      <th>Number of Open Accounts</th>\n      <th>Years of Credit History</th>\n      <th>Maximum Open Credit</th>\n      <th>Number of Credit Problems</th>\n      <th>Months since last delinquent</th>\n      <th>Bankruptcies</th>\n      <th>Purpose</th>\n      <th>Term</th>\n      <th>Current Loan Amount</th>\n      <th>Current Credit Balance</th>\n      <th>Monthly Debt</th>\n      <th>Credit Score</th>\n      <th>Credit Default</th>\n    </tr>\n  </thead>\n  <tbody>\n    <tr>\n      <th>0</th>\n      <td>Own Home</td>\n      <td>482087.0</td>\n      <td>NaN</td>\n      <td>0.0</td>\n      <td>11.0</td>\n      <td>26.3</td>\n      <td>685960.0</td>\n      <td>1.0</td>\n      <td>NaN</td>\n      <td>1.0</td>\n      <td>debt consolidation</td>\n      <td>Short Term</td>\n      <td>99999999.0</td>\n      <td>47386.0</td>\n      <td>7914.0</td>\n      <td>749.0</td>\n      <td>0</td>\n    </tr>\n    <tr>\n      <th>1</th>\n      <td>Own Home</td>\n      <td>1025487.0</td>\n      <td>10+ years</td>\n      <td>0.0</td>\n      <td>15.0</td>\n      <td>15.3</td>\n      <td>1181730.0</td>\n      <td>0.0</td>\n      <td>NaN</td>\n      <td>0.0</td>\n      <td>debt consolidation</td>\n      <td>Long Term</td>\n      <td>264968.0</td>\n      <td>394972.0</td>\n      <td>18373.0</td>\n      <td>737.0</td>\n      <td>1</td>\n    </tr>\n    <tr>\n      <th>2</th>\n      <td>Home Mortgage</td>\n      <td>751412.0</td>\n      <td>8 years</td>\n      <td>0.0</td>\n      <td>11.0</td>\n      <td>35.0</td>\n      <td>1182434.0</td>\n      <td>0.0</td>\n      <td>NaN</td>\n      <td>0.0</td>\n      <td>debt consolidation</td>\n      <td>Short Term</td>\n      <td>99999999.0</td>\n      <td>308389.0</td>\n      <td>13651.0</td>\n      <td>742.0</td>\n      <td>0</td>\n    </tr>\n    <tr>\n      <th>3</th>\n      <td>Own Home</td>\n      <td>805068.0</td>\n      <td>6 years</td>\n      <td>0.0</td>\n      <td>8.0</td>\n      <td>22.5</td>\n      <td>147400.0</td>\n      <td>1.0</td>\n      <td>NaN</td>\n      <td>1.0</td>\n      <td>debt consolidation</td>\n      <td>Short Term</td>\n      <td>121396.0</td>\n      <td>95855.0</td>\n      <td>11338.0</td>\n      <td>694.0</td>\n      <td>0</td>\n    </tr>\n    <tr>\n      <th>4</th>\n      <td>Rent</td>\n      <td>776264.0</td>\n      <td>8 years</td>\n      <td>0.0</td>\n      <td>13.0</td>\n      <td>13.6</td>\n      <td>385836.0</td>\n      <td>1.0</td>\n      <td>NaN</td>\n      <td>0.0</td>\n      <td>debt consolidation</td>\n      <td>Short Term</td>\n      <td>125840.0</td>\n      <td>93309.0</td>\n      <td>7180.0</td>\n      <td>719.0</td>\n      <td>0</td>\n    </tr>\n  </tbody>\n</table>\n</div>"
     },
     "execution_count": 2,
     "metadata": {},
     "output_type": "execute_result"
    }
   ],
   "source": [
    "TRAIN_DATASET_PATH = 'course_project_train.csv'\n",
    "TEST_DATASET_PATH = 'course_project_test.csv'\n",
    "df_train = pd.read_csv(TRAIN_DATASET_PATH)\n",
    "df_test = pd.read_csv(TEST_DATASET_PATH)\n",
    "df_train.head()"
   ]
  },
  {
   "cell_type": "markdown",
   "metadata": {
    "pycharm": {
     "name": "#%% md\n"
    }
   },
   "source": [
    "Первым делом надо подключить библиотеку и провизуализировать данные\n",
    "\n",
    "1. Сейчас надо понять где пропуски и что с ними делать.\n",
    "2. Надо понять какие признаки категории, а какие непрерывные.\n",
    "После этого надо понять как преобразовать категории"
   ]
  },
  {
   "cell_type": "code",
   "execution_count": 3,
   "metadata": {
    "pycharm": {
     "name": "#%%\n"
    }
   },
   "outputs": [
    {
     "data": {
      "text/plain": "  Home Ownership  Annual Income Years in current job  Tax Liens  \\\n0           Rent            NaN              4 years        0.0   \n1           Rent       231838.0               1 year        0.0   \n2  Home Mortgage      1152540.0              3 years        0.0   \n3  Home Mortgage      1220313.0            10+ years        0.0   \n4  Home Mortgage      2340952.0              6 years        0.0   \n\n   Number of Open Accounts  Years of Credit History  Maximum Open Credit  \\\n0                      9.0                     12.5             220968.0   \n1                      6.0                     32.7              55946.0   \n2                     10.0                     13.7             204600.0   \n3                     16.0                     17.0             456302.0   \n4                     11.0                     23.6            1207272.0   \n\n   Number of Credit Problems  Months since last delinquent  Bankruptcies  \\\n0                        0.0                          70.0           0.0   \n1                        0.0                           8.0           0.0   \n2                        0.0                           NaN           0.0   \n3                        0.0                          70.0           0.0   \n4                        0.0                           NaN           0.0   \n\n                Purpose        Term  Current Loan Amount  \\\n0    debt consolidation  Short Term             162470.0   \n1  educational expenses  Short Term              78298.0   \n2    debt consolidation  Short Term             200178.0   \n3    debt consolidation  Short Term             217382.0   \n4    debt consolidation   Long Term             777634.0   \n\n   Current Credit Balance  Monthly Debt  Credit Score  \n0                105906.0        6813.0           NaN  \n1                 46037.0        2318.0         699.0  \n2                146490.0       18729.0        7260.0  \n3                213199.0       27559.0         739.0  \n4                425391.0       42605.0         706.0  ",
      "text/html": "<div>\n<style scoped>\n    .dataframe tbody tr th:only-of-type {\n        vertical-align: middle;\n    }\n\n    .dataframe tbody tr th {\n        vertical-align: top;\n    }\n\n    .dataframe thead th {\n        text-align: right;\n    }\n</style>\n<table border=\"1\" class=\"dataframe\">\n  <thead>\n    <tr style=\"text-align: right;\">\n      <th></th>\n      <th>Home Ownership</th>\n      <th>Annual Income</th>\n      <th>Years in current job</th>\n      <th>Tax Liens</th>\n      <th>Number of Open Accounts</th>\n      <th>Years of Credit History</th>\n      <th>Maximum Open Credit</th>\n      <th>Number of Credit Problems</th>\n      <th>Months since last delinquent</th>\n      <th>Bankruptcies</th>\n      <th>Purpose</th>\n      <th>Term</th>\n      <th>Current Loan Amount</th>\n      <th>Current Credit Balance</th>\n      <th>Monthly Debt</th>\n      <th>Credit Score</th>\n    </tr>\n  </thead>\n  <tbody>\n    <tr>\n      <th>0</th>\n      <td>Rent</td>\n      <td>NaN</td>\n      <td>4 years</td>\n      <td>0.0</td>\n      <td>9.0</td>\n      <td>12.5</td>\n      <td>220968.0</td>\n      <td>0.0</td>\n      <td>70.0</td>\n      <td>0.0</td>\n      <td>debt consolidation</td>\n      <td>Short Term</td>\n      <td>162470.0</td>\n      <td>105906.0</td>\n      <td>6813.0</td>\n      <td>NaN</td>\n    </tr>\n    <tr>\n      <th>1</th>\n      <td>Rent</td>\n      <td>231838.0</td>\n      <td>1 year</td>\n      <td>0.0</td>\n      <td>6.0</td>\n      <td>32.7</td>\n      <td>55946.0</td>\n      <td>0.0</td>\n      <td>8.0</td>\n      <td>0.0</td>\n      <td>educational expenses</td>\n      <td>Short Term</td>\n      <td>78298.0</td>\n      <td>46037.0</td>\n      <td>2318.0</td>\n      <td>699.0</td>\n    </tr>\n    <tr>\n      <th>2</th>\n      <td>Home Mortgage</td>\n      <td>1152540.0</td>\n      <td>3 years</td>\n      <td>0.0</td>\n      <td>10.0</td>\n      <td>13.7</td>\n      <td>204600.0</td>\n      <td>0.0</td>\n      <td>NaN</td>\n      <td>0.0</td>\n      <td>debt consolidation</td>\n      <td>Short Term</td>\n      <td>200178.0</td>\n      <td>146490.0</td>\n      <td>18729.0</td>\n      <td>7260.0</td>\n    </tr>\n    <tr>\n      <th>3</th>\n      <td>Home Mortgage</td>\n      <td>1220313.0</td>\n      <td>10+ years</td>\n      <td>0.0</td>\n      <td>16.0</td>\n      <td>17.0</td>\n      <td>456302.0</td>\n      <td>0.0</td>\n      <td>70.0</td>\n      <td>0.0</td>\n      <td>debt consolidation</td>\n      <td>Short Term</td>\n      <td>217382.0</td>\n      <td>213199.0</td>\n      <td>27559.0</td>\n      <td>739.0</td>\n    </tr>\n    <tr>\n      <th>4</th>\n      <td>Home Mortgage</td>\n      <td>2340952.0</td>\n      <td>6 years</td>\n      <td>0.0</td>\n      <td>11.0</td>\n      <td>23.6</td>\n      <td>1207272.0</td>\n      <td>0.0</td>\n      <td>NaN</td>\n      <td>0.0</td>\n      <td>debt consolidation</td>\n      <td>Long Term</td>\n      <td>777634.0</td>\n      <td>425391.0</td>\n      <td>42605.0</td>\n      <td>706.0</td>\n    </tr>\n  </tbody>\n</table>\n</div>"
     },
     "execution_count": 3,
     "metadata": {},
     "output_type": "execute_result"
    }
   ],
   "source": [
    "df_test.head()"
   ]
  },
  {
   "cell_type": "code",
   "execution_count": 4,
   "metadata": {
    "pycharm": {
     "name": "#%%\n"
    }
   },
   "outputs": [
    {
     "data": {
      "text/plain": "Home Ownership                     0\nAnnual Income                   1557\nYears in current job             371\nTax Liens                          0\nNumber of Open Accounts            0\nYears of Credit History            0\nMaximum Open Credit                0\nNumber of Credit Problems          0\nMonths since last delinquent    4081\nBankruptcies                      14\nPurpose                            0\nTerm                               0\nCurrent Loan Amount                0\nCurrent Credit Balance             0\nMonthly Debt                       0\nCredit Score                    1557\nCredit Default                     0\ndtype: int64"
     },
     "execution_count": 4,
     "metadata": {},
     "output_type": "execute_result"
    }
   ],
   "source": [
    "df_train.isna().sum()"
   ]
  },
  {
   "cell_type": "code",
   "execution_count": 5,
   "metadata": {
    "pycharm": {
     "name": "#%%\n"
    }
   },
   "outputs": [
    {
     "data": {
      "text/plain": "Home Ownership                     0\nAnnual Income                    513\nYears in current job              86\nTax Liens                          0\nNumber of Open Accounts            0\nYears of Credit History            0\nMaximum Open Credit                0\nNumber of Credit Problems          0\nMonths since last delinquent    1358\nBankruptcies                       3\nPurpose                            0\nTerm                               0\nCurrent Loan Amount                0\nCurrent Credit Balance             0\nMonthly Debt                       0\nCredit Score                     513\ndtype: int64"
     },
     "execution_count": 5,
     "metadata": {},
     "output_type": "execute_result"
    }
   ],
   "source": [
    "df_test.isna().sum()"
   ]
  },
  {
   "cell_type": "code",
   "execution_count": 6,
   "metadata": {
    "pycharm": {
     "name": "#%%\n"
    }
   },
   "outputs": [
    {
     "name": "stdout",
     "output_type": "stream",
     "text": [
      "<class 'pandas.core.frame.DataFrame'>\n",
      "RangeIndex: 7500 entries, 0 to 7499\n",
      "Data columns (total 17 columns):\n",
      " #   Column                        Non-Null Count  Dtype  \n",
      "---  ------                        --------------  -----  \n",
      " 0   Home Ownership                7500 non-null   object \n",
      " 1   Annual Income                 5943 non-null   float64\n",
      " 2   Years in current job          7129 non-null   object \n",
      " 3   Tax Liens                     7500 non-null   float64\n",
      " 4   Number of Open Accounts       7500 non-null   float64\n",
      " 5   Years of Credit History       7500 non-null   float64\n",
      " 6   Maximum Open Credit           7500 non-null   float64\n",
      " 7   Number of Credit Problems     7500 non-null   float64\n",
      " 8   Months since last delinquent  3419 non-null   float64\n",
      " 9   Bankruptcies                  7486 non-null   float64\n",
      " 10  Purpose                       7500 non-null   object \n",
      " 11  Term                          7500 non-null   object \n",
      " 12  Current Loan Amount           7500 non-null   float64\n",
      " 13  Current Credit Balance        7500 non-null   float64\n",
      " 14  Monthly Debt                  7500 non-null   float64\n",
      " 15  Credit Score                  5943 non-null   float64\n",
      " 16  Credit Default                7500 non-null   int64  \n",
      "dtypes: float64(12), int64(1), object(4)\n",
      "memory usage: 996.2+ KB\n"
     ]
    }
   ],
   "source": [
    "df_train.info()"
   ]
  },
  {
   "cell_type": "markdown",
   "source": [
    "В этом месте хочу понять как преобразовать категории в бинарные значения чтобы с ними\n",
    "адекватно потом работать"
   ],
   "metadata": {
    "collapsed": false,
    "pycharm": {
     "name": "#%% md\n"
    }
   }
  },
  {
   "cell_type": "code",
   "execution_count": 7,
   "outputs": [
    {
     "data": {
      "text/plain": "Home Mortgage    3637\nRent             3204\nOwn Home          647\nHave Mortgage      12\nName: Home Ownership, dtype: int64"
     },
     "execution_count": 7,
     "metadata": {},
     "output_type": "execute_result"
    }
   ],
   "source": [
    "#По этому признаку я понимаю что есть 4 значения, причем Home Mortgage и Have Mortgage\n",
    "#по факту одно и то же и это одна категория.\n",
    "#Соответственно всего 3 категории (Аренда, Ипотека, свое жилье)\n",
    "df_train['Home Ownership'].value_counts()"
   ],
   "metadata": {
    "collapsed": false,
    "pycharm": {
     "name": "#%%\n"
    }
   }
  },
  {
   "cell_type": "code",
   "execution_count": 8,
   "outputs": [
    {
     "data": {
      "text/plain": "10+ years    2332\n2 years       705\n3 years       620\n< 1 year      563\n5 years       516\n1 year        504\n4 years       469\n6 years       426\n7 years       396\n8 years       339\n9 years       259\nName: Years in current job, dtype: int64"
     },
     "execution_count": 8,
     "metadata": {},
     "output_type": "execute_result"
    }
   ],
   "source": [
    "df_train['Years in current job'].value_counts()\n"
   ],
   "metadata": {
    "collapsed": false,
    "pycharm": {
     "name": "#%%\n"
    }
   }
  },
  {
   "cell_type": "code",
   "execution_count": 9,
   "outputs": [
    {
     "data": {
      "text/plain": "0.0    7366\n1.0      83\n2.0      30\n3.0      10\n4.0       6\n6.0       2\n5.0       2\n7.0       1\nName: Tax Liens, dtype: int64"
     },
     "execution_count": 9,
     "metadata": {},
     "output_type": "execute_result"
    }
   ],
   "source": [
    "df_train['Tax Liens'].value_counts()\n",
    "\n"
   ],
   "metadata": {
    "collapsed": false,
    "pycharm": {
     "name": "#%%\n"
    }
   }
  },
  {
   "cell_type": "code",
   "execution_count": 10,
   "outputs": [
    {
     "data": {
      "text/plain": "9.0     728\n11.0    692\n10.0    677\n8.0     638\n7.0     613\n12.0    562\n6.0     504\n13.0    465\n14.0    420\n5.0     325\n15.0    313\n16.0    265\n17.0    232\n4.0     212\n18.0    143\n19.0    139\n3.0      95\n20.0     93\n21.0     78\n23.0     59\n24.0     50\n22.0     49\n25.0     32\n2.0      28\n28.0     14\n27.0     14\n26.0     12\n30.0     11\n29.0     10\n33.0      6\n31.0      6\n32.0      6\n34.0      2\n37.0      2\n42.0      1\n43.0      1\n35.0      1\n38.0      1\n41.0      1\nName: Number of Open Accounts, dtype: int64"
     },
     "execution_count": 10,
     "metadata": {},
     "output_type": "execute_result"
    }
   ],
   "source": [
    "df_train['Number of Open Accounts'].value_counts()\n",
    "\n"
   ],
   "metadata": {
    "collapsed": false,
    "pycharm": {
     "name": "#%%\n"
    }
   }
  },
  {
   "cell_type": "code",
   "execution_count": 11,
   "outputs": [
    {
     "data": {
      "text/plain": "15.0    104\n16.0     99\n16.5     91\n17.0     86\n17.5     83\n       ... \n43.5      1\n50.0      1\n40.1      1\n51.5      1\n41.6      1\nName: Years of Credit History, Length: 408, dtype: int64"
     },
     "execution_count": 11,
     "metadata": {},
     "output_type": "execute_result"
    }
   ],
   "source": [
    "df_train['Years of Credit History'].value_counts()\n",
    "\n"
   ],
   "metadata": {
    "collapsed": false,
    "pycharm": {
     "name": "#%%\n"
    }
   }
  },
  {
   "cell_type": "code",
   "execution_count": 12,
   "outputs": [
    {
     "data": {
      "text/plain": "0.0          65\n319110.0      5\n334796.0      3\n358732.0      3\n323312.0      3\n             ..\n235642.0      1\n1435456.0     1\n397078.0      1\n537680.0      1\n1516482.0     1\nName: Maximum Open Credit, Length: 6963, dtype: int64"
     },
     "execution_count": 12,
     "metadata": {},
     "output_type": "execute_result"
    }
   ],
   "source": [
    "df_train['Maximum Open Credit'].value_counts()"
   ],
   "metadata": {
    "collapsed": false,
    "pycharm": {
     "name": "#%%\n"
    }
   }
  },
  {
   "cell_type": "code",
   "execution_count": 13,
   "outputs": [
    {
     "data": {
      "text/plain": "0.0    6469\n1.0     882\n2.0      93\n3.0      35\n4.0       9\n5.0       7\n6.0       4\n7.0       1\nName: Number of Credit Problems, dtype: int64"
     },
     "execution_count": 13,
     "metadata": {},
     "output_type": "execute_result"
    }
   ],
   "source": [
    "df_train['Number of Credit Problems'].value_counts()\n",
    "\n"
   ],
   "metadata": {
    "collapsed": false,
    "pycharm": {
     "name": "#%%\n"
    }
   }
  },
  {
   "cell_type": "code",
   "execution_count": 14,
   "outputs": [
    {
     "data": {
      "text/plain": "14.0     76\n29.0     71\n33.0     68\n8.0      68\n19.0     65\n         ..\n84.0      1\n86.0      1\n91.0      1\n118.0     1\n92.0      1\nName: Months since last delinquent, Length: 89, dtype: int64"
     },
     "execution_count": 14,
     "metadata": {},
     "output_type": "execute_result"
    }
   ],
   "source": [
    "df_train['Months since last delinquent'].value_counts()\n"
   ],
   "metadata": {
    "collapsed": false,
    "pycharm": {
     "name": "#%%\n"
    }
   }
  },
  {
   "cell_type": "code",
   "execution_count": 15,
   "outputs": [
    {
     "data": {
      "text/plain": "0.0    6660\n1.0     786\n2.0      31\n3.0       7\n4.0       2\nName: Bankruptcies, dtype: int64"
     },
     "execution_count": 15,
     "metadata": {},
     "output_type": "execute_result"
    }
   ],
   "source": [
    "df_train['Bankruptcies'].value_counts()\n",
    "\n"
   ],
   "metadata": {
    "collapsed": false,
    "pycharm": {
     "name": "#%%\n"
    }
   }
  },
  {
   "cell_type": "code",
   "execution_count": 16,
   "outputs": [
    {
     "data": {
      "text/plain": "debt consolidation      5944\nother                    665\nhome improvements        412\nbusiness loan            129\nbuy a car                 96\nmedical bills             71\nmajor purchase            40\ntake a trip               37\nbuy house                 34\nsmall business            26\nwedding                   15\nmoving                    11\neducational expenses      10\nvacation                   8\nrenewable energy           2\nName: Purpose, dtype: int64"
     },
     "execution_count": 16,
     "metadata": {},
     "output_type": "execute_result"
    }
   ],
   "source": [
    "df_train['Purpose'].value_counts()\n",
    "\n"
   ],
   "metadata": {
    "collapsed": false,
    "pycharm": {
     "name": "#%%\n"
    }
   }
  },
  {
   "cell_type": "code",
   "execution_count": 17,
   "outputs": [
    {
     "data": {
      "text/plain": "debt consolidation      5944\nother                    665\nhome improvements        412\nbusiness loan            129\nbuy a car                 96\nmedical bills             71\nmajor purchase            40\ntake a trip               37\nbuy house                 34\nsmall business            26\nwedding                   15\nmoving                    11\neducational expenses      10\nvacation                   8\nrenewable energy           2\nName: Purpose, dtype: int64"
     },
     "execution_count": 17,
     "metadata": {},
     "output_type": "execute_result"
    }
   ],
   "source": [
    "df_train['Purpose'].value_counts()\n",
    "\n"
   ],
   "metadata": {
    "collapsed": false,
    "pycharm": {
     "name": "#%%\n"
    }
   }
  },
  {
   "cell_type": "code",
   "execution_count": 18,
   "outputs": [
    {
     "data": {
      "text/plain": "Short Term    5556\nLong Term     1944\nName: Term, dtype: int64"
     },
     "execution_count": 18,
     "metadata": {},
     "output_type": "execute_result"
    }
   ],
   "source": [
    "df_train['Term'].value_counts()\n",
    "\n"
   ],
   "metadata": {
    "collapsed": false,
    "pycharm": {
     "name": "#%%\n"
    }
   }
  },
  {
   "cell_type": "code",
   "execution_count": 19,
   "outputs": [
    {
     "data": {
      "text/plain": "0.0        6\n19667.0    4\n19222.0    4\n19277.0    3\n9669.0     3\n18997.0    3\n11285.0    3\n13162.0    3\n21002.0    3\n16502.0    3\n22586.0    3\n14848.0    3\n14087.0    3\n14476.0    3\n10057.0    3\n11183.0    3\n12031.0    3\n15036.0    3\n12986.0    3\n15744.0    3\n9525.0     3\n36579.0    3\n22813.0    3\n14482.0    3\n18373.0    3\n13565.0    3\n11669.0    3\n13632.0    3\n13356.0    3\n25511.0    3\n14683.0    3\n10719.0    3\n7792.0     3\n6876.0     3\n12343.0    3\n20466.0    3\n8882.0     3\n8994.0     3\n16357.0    3\n15749.0    3\nName: Monthly Debt, dtype: int64"
     },
     "execution_count": 19,
     "metadata": {},
     "output_type": "execute_result"
    }
   ],
   "source": [
    "df_train['Monthly Debt'].value_counts().head(40)"
   ],
   "metadata": {
    "collapsed": false,
    "pycharm": {
     "name": "#%%\n"
    }
   }
  },
  {
   "cell_type": "code",
   "execution_count": 20,
   "outputs": [
    {
     "data": {
      "text/plain": "<Figure size 864x576 with 1 Axes>",
      "image/png": "[encoded data removed]"
     },
     "metadata": {
      "needs_background": "light"
     },
     "output_type": "display_data"
    }
   ],
   "source": [
    "#Строю гистограмму всех людей у кого цель кредита консолидация долгов относительно классов кредит дефолт\n",
    "#Это необходимо чтобы понять какой процент людей визульно получают одобрение кредита а какой нет при самой популярной цели кредита\n",
    "def counts_bar(data_frame, feature_name):\n",
    "    counts = data_frame[feature_name].value_counts()\n",
    "    plt.figure(figsize=(12,8))\n",
    "    plt.title(feature_name)\n",
    "    sns.barplot(counts.index, counts.values)\n",
    "\n",
    "counts_bar(df_train[df_train['Purpose'] == 'debt consolidation'], 'Credit Default')"
   ],
   "metadata": {
    "collapsed": false,
    "pycharm": {
     "name": "#%%\n"
    }
   }
  },
  {
   "cell_type": "markdown",
   "source": [
    "Выводы по категориальным признакам\n",
    "\n",
    "Home Ownership - преобразовать в 3 категории Аренда, Ипотека, свое жилье (0, 1, 2)<br/>\n",
    "Years in current job - преобразовать в 4 категории менее года, от 1 до 3х включительно, от 3х до 5ти лет включительно, от 6 и выше (0, 1, 2, 3)\n",
    "Все пропуски можно кидать в нулевую категорию, где менее года<br/>\n",
    "Tax Liens - также категория от 4х до 7ми, самая слабая, от 1 до 3, чуть сильнее, и 0 самая сильная (0, 1, 2)<br/>\n",
    "Number of Credit Problems - 4 категории по принципу как раньше от слабой к сильной,\n",
    "от 4х до 7ми - 0, 2 и 3 - 1, 1 - 2 категория, 0 - 3 категория<br/>\n",
    "Bankruptcies - банкротсва условно 2 категории банкрот (1) и не банкрот (0) (0, 1) банкрот это если больше нуля, остальное не банкрот<br/>\n",
    "Term - Long в 1ую категорию, Short во 0ую<br/>\n",
    "Purpose нужно разбить также на ранги.<br/>\n",
    "1ый - все что связано с физ лицом и машиной жильем и медециной<br/>\n",
    "2 - все что связано с бизнесом<br/>\n",
    "3 - консолидация долгов<br/>\n",
    "все остальное кинуть в нулевой ранг<br/>\n"
   ],
   "metadata": {
    "collapsed": false,
    "pycharm": {
     "name": "#%% md\n"
    }
   }
  },
  {
   "cell_type": "code",
   "execution_count": 21,
   "outputs": [
    {
     "data": {
      "text/plain": "       Annual Income    Tax Liens  Number of Open Accounts  \\\ncount   5.943000e+03  7500.000000              7500.000000   \nmean    1.366392e+06     0.030133                11.130933   \nstd     8.453392e+05     0.271604                 4.908924   \nmin     1.645970e+05     0.000000                 2.000000   \n25%     8.443410e+05     0.000000                 8.000000   \n50%     1.168386e+06     0.000000                10.000000   \n75%     1.640137e+06     0.000000                14.000000   \nmax     1.014934e+07     7.000000                43.000000   \n\n       Years of Credit History  Maximum Open Credit  \\\ncount              7500.000000         7.500000e+03   \nmean                 18.317467         9.451537e+05   \nstd                   7.041946         1.602622e+07   \nmin                   4.000000         0.000000e+00   \n25%                  13.500000         2.792295e+05   \n50%                  17.000000         4.781590e+05   \n75%                  21.800000         7.935015e+05   \nmax                  57.700000         1.304726e+09   \n\n       Number of Credit Problems  Months since last delinquent  Bankruptcies  \\\ncount                7500.000000                   3419.000000   7486.000000   \nmean                    0.170000                     34.692600      0.117152   \nstd                     0.498598                     21.688806      0.347192   \nmin                     0.000000                      0.000000      0.000000   \n25%                     0.000000                     16.000000      0.000000   \n50%                     0.000000                     32.000000      0.000000   \n75%                     0.000000                     50.000000      0.000000   \nmax                     7.000000                    118.000000      4.000000   \n\n       Current Loan Amount  Current Credit Balance   Monthly Debt  \\\ncount         7.500000e+03            7.500000e+03    7500.000000   \nmean          1.187318e+07            2.898332e+05   18314.454133   \nstd           3.192612e+07            3.178714e+05   11926.764673   \nmin           1.124200e+04            0.000000e+00       0.000000   \n25%           1.801690e+05            1.142565e+05   10067.500000   \n50%           3.095730e+05            2.093230e+05   16076.500000   \n75%           5.198820e+05            3.604062e+05   23818.000000   \nmax           1.000000e+08            6.506797e+06  136679.000000   \n\n       Credit Score  Credit Default  \ncount   5943.000000     7500.000000  \nmean    1151.087498        0.281733  \nstd     1604.451418        0.449874  \nmin      585.000000        0.000000  \n25%      711.000000        0.000000  \n50%      731.000000        0.000000  \n75%      743.000000        1.000000  \nmax     7510.000000        1.000000  ",
      "text/html": "<div>\n<style scoped>\n    .dataframe tbody tr th:only-of-type {\n        vertical-align: middle;\n    }\n\n    .dataframe tbody tr th {\n        vertical-align: top;\n    }\n\n    .dataframe thead th {\n        text-align: right;\n    }\n</style>\n<table border=\"1\" class=\"dataframe\">\n  <thead>\n    <tr style=\"text-align: right;\">\n      <th></th>\n      <th>Annual Income</th>\n      <th>Tax Liens</th>\n      <th>Number of Open Accounts</th>\n      <th>Years of Credit History</th>\n      <th>Maximum Open Credit</th>\n      <th>Number of Credit Problems</th>\n      <th>Months since last delinquent</th>\n      <th>Bankruptcies</th>\n      <th>Current Loan Amount</th>\n      <th>Current Credit Balance</th>\n      <th>Monthly Debt</th>\n      <th>Credit Score</th>\n      <th>Credit Default</th>\n    </tr>\n  </thead>\n  <tbody>\n    <tr>\n      <th>count</th>\n      <td>5.943000e+03</td>\n      <td>7500.000000</td>\n      <td>7500.000000</td>\n      <td>7500.000000</td>\n      <td>7.500000e+03</td>\n      <td>7500.000000</td>\n      <td>3419.000000</td>\n      <td>7486.000000</td>\n      <td>7.500000e+03</td>\n      <td>7.500000e+03</td>\n      <td>7500.000000</td>\n      <td>5943.000000</td>\n      <td>7500.000000</td>\n    </tr>\n    <tr>\n      <th>mean</th>\n      <td>1.366392e+06</td>\n      <td>0.030133</td>\n      <td>11.130933</td>\n      <td>18.317467</td>\n      <td>9.451537e+05</td>\n      <td>0.170000</td>\n      <td>34.692600</td>\n      <td>0.117152</td>\n      <td>1.187318e+07</td>\n      <td>2.898332e+05</td>\n      <td>18314.454133</td>\n      <td>1151.087498</td>\n      <td>0.281733</td>\n    </tr>\n    <tr>\n      <th>std</th>\n      <td>8.453392e+05</td>\n      <td>0.271604</td>\n      <td>4.908924</td>\n      <td>7.041946</td>\n      <td>1.602622e+07</td>\n      <td>0.498598</td>\n      <td>21.688806</td>\n      <td>0.347192</td>\n      <td>3.192612e+07</td>\n      <td>3.178714e+05</td>\n      <td>11926.764673</td>\n      <td>1604.451418</td>\n      <td>0.449874</td>\n    </tr>\n    <tr>\n      <th>min</th>\n      <td>1.645970e+05</td>\n      <td>0.000000</td>\n      <td>2.000000</td>\n      <td>4.000000</td>\n      <td>0.000000e+00</td>\n      <td>0.000000</td>\n      <td>0.000000</td>\n      <td>0.000000</td>\n      <td>1.124200e+04</td>\n      <td>0.000000e+00</td>\n      <td>0.000000</td>\n      <td>585.000000</td>\n      <td>0.000000</td>\n    </tr>\n    <tr>\n      <th>25%</th>\n      <td>8.443410e+05</td>\n      <td>0.000000</td>\n      <td>8.000000</td>\n      <td>13.500000</td>\n      <td>2.792295e+05</td>\n      <td>0.000000</td>\n      <td>16.000000</td>\n      <td>0.000000</td>\n      <td>1.801690e+05</td>\n      <td>1.142565e+05</td>\n      <td>10067.500000</td>\n      <td>711.000000</td>\n      <td>0.000000</td>\n    </tr>\n    <tr>\n      <th>50%</th>\n      <td>1.168386e+06</td>\n      <td>0.000000</td>\n      <td>10.000000</td>\n      <td>17.000000</td>\n      <td>4.781590e+05</td>\n      <td>0.000000</td>\n      <td>32.000000</td>\n      <td>0.000000</td>\n      <td>3.095730e+05</td>\n      <td>2.093230e+05</td>\n      <td>16076.500000</td>\n      <td>731.000000</td>\n      <td>0.000000</td>\n    </tr>\n    <tr>\n      <th>75%</th>\n      <td>1.640137e+06</td>\n      <td>0.000000</td>\n      <td>14.000000</td>\n      <td>21.800000</td>\n      <td>7.935015e+05</td>\n      <td>0.000000</td>\n      <td>50.000000</td>\n      <td>0.000000</td>\n      <td>5.198820e+05</td>\n      <td>3.604062e+05</td>\n      <td>23818.000000</td>\n      <td>743.000000</td>\n      <td>1.000000</td>\n    </tr>\n    <tr>\n      <th>max</th>\n      <td>1.014934e+07</td>\n      <td>7.000000</td>\n      <td>43.000000</td>\n      <td>57.700000</td>\n      <td>1.304726e+09</td>\n      <td>7.000000</td>\n      <td>118.000000</td>\n      <td>4.000000</td>\n      <td>1.000000e+08</td>\n      <td>6.506797e+06</td>\n      <td>136679.000000</td>\n      <td>7510.000000</td>\n      <td>1.000000</td>\n    </tr>\n  </tbody>\n</table>\n</div>"
     },
     "execution_count": 21,
     "metadata": {},
     "output_type": "execute_result"
    }
   ],
   "source": [
    "df_train.describe()\n",
    "\n"
   ],
   "metadata": {
    "collapsed": false,
    "pycharm": {
     "name": "#%%\n"
    }
   }
  },
  {
   "cell_type": "code",
   "execution_count": 22,
   "outputs": [
    {
     "data": {
      "text/plain": "0       0\n1       1\n2       0\n3       0\n4       0\n       ..\n7495    0\n7496    1\n7497    0\n7498    0\n7499    0\nName: Credit Default, Length: 7500, dtype: int64"
     },
     "execution_count": 22,
     "metadata": {},
     "output_type": "execute_result"
    }
   ],
   "source": [
    "target = pd.Series(df_train['Credit Default'])\n",
    "target\n"
   ],
   "metadata": {
    "collapsed": false,
    "pycharm": {
     "name": "#%%\n"
    }
   }
  },
  {
   "cell_type": "code",
   "execution_count": 23,
   "outputs": [
    {
     "data": {
      "text/plain": "<matplotlib.collections.PathCollection at 0x166ba221970>"
     },
     "execution_count": 23,
     "metadata": {},
     "output_type": "execute_result"
    },
    {
     "data": {
      "text/plain": "<Figure size 432x288 with 1 Axes>",
      "image/png": "[encoded data removed]"
     },
     "metadata": {
      "needs_background": "light"
     },
     "output_type": "display_data"
    }
   ],
   "source": [
    "plt.scatter(df_train['Tax Liens'], target)\n",
    "\n"
   ],
   "metadata": {
    "collapsed": false,
    "pycharm": {
     "name": "#%%\n"
    }
   }
  },
  {
   "cell_type": "code",
   "execution_count": 24,
   "outputs": [
    {
     "data": {
      "text/plain": "<matplotlib.collections.PathCollection at 0x166bc51edc0>"
     },
     "execution_count": 24,
     "metadata": {},
     "output_type": "execute_result"
    },
    {
     "data": {
      "text/plain": "<Figure size 432x288 with 1 Axes>",
      "image/png": "[encoded data removed]"
     },
     "metadata": {
      "needs_background": "light"
     },
     "output_type": "display_data"
    }
   ],
   "source": [
    "plt.scatter(df_train['Number of Open Accounts'], target)\n",
    "\n"
   ],
   "metadata": {
    "collapsed": false,
    "pycharm": {
     "name": "#%%\n"
    }
   }
  },
  {
   "cell_type": "code",
   "execution_count": 25,
   "outputs": [
    {
     "data": {
      "text/plain": "<matplotlib.collections.PathCollection at 0x166ba221e80>"
     },
     "execution_count": 25,
     "metadata": {},
     "output_type": "execute_result"
    },
    {
     "data": {
      "text/plain": "<Figure size 432x288 with 1 Axes>",
      "image/png": "[encoded data removed]"
     },
     "metadata": {
      "needs_background": "light"
     },
     "output_type": "display_data"
    }
   ],
   "source": [
    "plt.scatter(df_train['Current Loan Amount'], target)\n",
    "\n"
   ],
   "metadata": {
    "collapsed": false,
    "pycharm": {
     "name": "#%%\n"
    }
   }
  },
  {
   "cell_type": "code",
   "execution_count": 26,
   "outputs": [
    {
     "data": {
      "text/plain": "<matplotlib.collections.PathCollection at 0x166bc44a280>"
     },
     "execution_count": 26,
     "metadata": {},
     "output_type": "execute_result"
    },
    {
     "data": {
      "text/plain": "<Figure size 432x288 with 1 Axes>",
      "image/png": "[encoded data removed]"
     },
     "metadata": {
      "needs_background": "light"
     },
     "output_type": "display_data"
    }
   ],
   "source": [
    "plt.scatter(df_train['Monthly Debt'], target)\n",
    "\n"
   ],
   "metadata": {
    "collapsed": false,
    "pycharm": {
     "name": "#%%\n"
    }
   }
  },
  {
   "cell_type": "code",
   "execution_count": 27,
   "outputs": [
    {
     "data": {
      "text/plain": "1404       11242.0\n4467       21472.0\n2735       21472.0\n7144       21516.0\n5861       21560.0\n           ...    \n4384    99999999.0\n732     99999999.0\n4374    99999999.0\n4555    99999999.0\n0       99999999.0\nName: Current Loan Amount, Length: 7500, dtype: float64"
     },
     "execution_count": 27,
     "metadata": {},
     "output_type": "execute_result"
    }
   ],
   "source": [
    "current_loan = df_train['Current Loan Amount'].sort_values()\n",
    "current_loan"
   ],
   "metadata": {
    "collapsed": false,
    "pycharm": {
     "name": "#%%\n"
    }
   }
  },
  {
   "cell_type": "code",
   "execution_count": 28,
   "outputs": [
    {
     "data": {
      "text/plain": "99999999.0    870\n89298.0         6\n218064.0        6\n222926.0        5\n223322.0        5\n             ... \n224444.0        1\n570680.0        1\n449746.0        1\n132154.0        1\n167904.0        1\nName: Current Loan Amount, Length: 5386, dtype: int64"
     },
     "execution_count": 28,
     "metadata": {},
     "output_type": "execute_result"
    }
   ],
   "source": [
    "#Здесь явно 870 выбросов со значениями 99999999.0 их можно изменить на средние\n",
    "current_loan.value_counts()\n"
   ],
   "metadata": {
    "collapsed": false,
    "pycharm": {
     "name": "#%%\n"
    }
   }
  },
  {
   "cell_type": "code",
   "execution_count": 29,
   "outputs": [
    {
     "data": {
      "text/plain": "4769    6506797.0\n4745    4720132.0\n4602    4367245.0\n1580    4249673.0\n7278    4209659.0\n3316    3944514.0\n2618    3927471.0\n3198    3683340.0\n162     3547262.0\n1931    3271629.0\n1233    2913707.0\n2535    2889577.0\n5974    2875726.0\n837     2833451.0\n4840    2784108.0\n5823    2759617.0\n1984    2759503.0\n5432    2678088.0\n604     2612177.0\n2482    2611835.0\nName: Current Credit Balance, dtype: float64"
     },
     "execution_count": 29,
     "metadata": {},
     "output_type": "execute_result"
    }
   ],
   "source": [
    "df_train['Current Credit Balance'].sort_values(ascending=False).head(20)\n"
   ],
   "metadata": {
    "collapsed": false,
    "pycharm": {
     "name": "#%%\n"
    }
   }
  },
  {
   "cell_type": "code",
   "source": [
    "df_train['Monthly Debt'].sort_values(ascending=False).head(20)"
   ],
   "metadata": {
    "collapsed": false,
    "pycharm": {
     "name": "#%%\n"
    }
   },
   "execution_count": 30,
   "outputs": [
    {
     "data": {
      "text/plain": "4745    136679.0\n1615    110311.0\n2535    104036.0\n6946    100091.0\n6253     96177.0\n280      95508.0\n166      94674.0\n7478     93640.0\n4439     89789.0\n2502     87994.0\n7459     85030.0\n3601     84738.0\n1472     84359.0\n7179     83783.0\n2064     83458.0\n6727     83158.0\n974      81346.0\n6990     79661.0\n5102     79555.0\n6486     78925.0\nName: Monthly Debt, dtype: float64"
     },
     "execution_count": 30,
     "metadata": {},
     "output_type": "execute_result"
    }
   ]
  },
  {
   "cell_type": "code",
   "execution_count": 31,
   "outputs": [
    {
     "data": {
      "text/plain": "4191    118.0\n5214     92.0\n5202     91.0\n428      86.0\n4682     84.0\n1015     83.0\n5546     83.0\n5826     83.0\n522      82.0\n6174     82.0\n7077     82.0\n6761     82.0\n6511     81.0\n7100     81.0\n6460     81.0\n2337     81.0\n2415     81.0\n4199     81.0\n4060     81.0\n6121     81.0\nName: Months since last delinquent, dtype: float64"
     },
     "execution_count": 31,
     "metadata": {},
     "output_type": "execute_result"
    }
   ],
   "source": [
    "df_train['Months since last delinquent'].sort_values(ascending=False).head(20)\n",
    "\n"
   ],
   "metadata": {
    "collapsed": false,
    "pycharm": {
     "name": "#%%\n"
    }
   }
  },
  {
   "cell_type": "code",
   "execution_count": 32,
   "outputs": [
    {
     "data": {
      "text/plain": "2213    7510.0\n3688    7510.0\n2408    7500.0\n355     7500.0\n1363    7490.0\n3063    7490.0\n6055    7480.0\n7282    7480.0\n1531    7480.0\n7355    7480.0\n5899    7480.0\n4436    7480.0\n153     7470.0\n263     7470.0\n7460    7470.0\n3638    7470.0\n629     7460.0\n5618    7460.0\n4584    7460.0\n4911    7460.0\n5179    7460.0\n2592    7460.0\n3538    7460.0\n2216    7460.0\n3520    7450.0\n534     7450.0\n4037    7450.0\n5353    7440.0\n4491    7440.0\n87      7440.0\n5266    7440.0\n3201    7440.0\n267     7430.0\n2883    7430.0\n5045    7430.0\n7016    7420.0\n2519    7420.0\n2571    7420.0\n2777    7410.0\n5730    7410.0\nName: Credit Score, dtype: float64"
     },
     "execution_count": 32,
     "metadata": {},
     "output_type": "execute_result"
    }
   ],
   "source": [
    "df_train['Credit Score'].sort_values(ascending=False).head(40)\n"
   ],
   "metadata": {
    "collapsed": false,
    "pycharm": {
     "name": "#%%\n"
    }
   }
  },
  {
   "cell_type": "code",
   "execution_count": 33,
   "outputs": [
    {
     "data": {
      "text/plain": "<matplotlib.collections.PathCollection at 0x166bc49a7f0>"
     },
     "execution_count": 33,
     "metadata": {},
     "output_type": "execute_result"
    },
    {
     "data": {
      "text/plain": "<Figure size 432x288 with 1 Axes>",
      "image/png": "[encoded data removed]"
     },
     "metadata": {
      "needs_background": "light"
     },
     "output_type": "display_data"
    }
   ],
   "source": [
    "plt.scatter(df_train['Credit Score'], target)\n",
    "\n"
   ],
   "metadata": {
    "collapsed": false,
    "pycharm": {
     "name": "#%%\n"
    }
   }
  },
  {
   "cell_type": "code",
   "execution_count": 34,
   "outputs": [
    {
     "data": {
      "text/plain": "Credit Score\n7400.0          15\n7300.0          13\n7330.0          13\n7170.0          12\n7370.0          12\n                ..\n6750.0           1\n6710.0           1\n6680.0           1\n6670.0           1\n6060.0           1\nLength: 110, dtype: int64"
     },
     "execution_count": 34,
     "metadata": {},
     "output_type": "execute_result"
    }
   ],
   "source": [
    "credit_score = pd.DataFrame(df_train['Credit Score'])\n",
    "credit_score[credit_score['Credit Score'] > 5000].value_counts()"
   ],
   "metadata": {
    "collapsed": false,
    "pycharm": {
     "name": "#%%\n"
    }
   }
  },
  {
   "cell_type": "code",
   "execution_count": 35,
   "outputs": [
    {
     "data": {
      "text/plain": "     Home Ownership  Annual Income Years in current job  Tax Liens  \\\n69    Home Mortgage      1408527.0              2 years        0.0   \n87    Home Mortgage      1533566.0              7 years        0.0   \n94             Rent      1049294.0              3 years        0.0   \n96             Rent       757568.0              5 years        0.0   \n116   Home Mortgage      1039984.0                  NaN        0.0   \n...             ...            ...                  ...        ...   \n7422           Rent       694868.0               1 year        0.0   \n7433           Rent      2011758.0             < 1 year        0.0   \n7450  Home Mortgage      1432277.0            10+ years        0.0   \n7460           Rent       769462.0              5 years        0.0   \n7496  Home Mortgage      1533984.0               1 year        0.0   \n\n      Number of Open Accounts  Years of Credit History  Maximum Open Credit  \\\n69                       12.0                     17.5             700062.0   \n87                       11.0                     14.8             715462.0   \n94                        5.0                      6.1             249810.0   \n96                       13.0                     11.4             383548.0   \n116                      10.0                     23.8             147950.0   \n...                       ...                      ...                  ...   \n7422                      4.0                      7.8             143066.0   \n7433                      4.0                     14.9              22176.0   \n7450                     16.0                     22.8             825176.0   \n7460                      8.0                     17.0             313786.0   \n7496                     10.0                     26.5             686312.0   \n\n      Number of Credit Problems  Months since last delinquent  Bankruptcies  \\\n69                          0.0                          21.0           0.0   \n87                          0.0                          19.0           0.0   \n94                          0.0                           NaN           0.0   \n96                          0.0                           NaN           0.0   \n116                         0.0                          63.0           0.0   \n...                         ...                           ...           ...   \n7422                        0.0                           NaN           0.0   \n7433                        0.0                          43.0           0.0   \n7450                        0.0                           NaN           0.0   \n7460                        0.0                          80.0           0.0   \n7496                        0.0                          43.0           0.0   \n\n                 Purpose        Term  Current Loan Amount  \\\n69                 other   Long Term             525998.0   \n87    debt consolidation  Short Term             210826.0   \n94         business loan  Short Term             337502.0   \n96    debt consolidation  Short Term             210518.0   \n116   debt consolidation  Short Term             224246.0   \n...                  ...         ...                  ...   \n7422  debt consolidation   Long Term             244178.0   \n7433           buy a car   Long Term             106480.0   \n7450  debt consolidation  Short Term             187924.0   \n7460  debt consolidation  Short Term             109186.0   \n7496  debt consolidation   Long Term             444048.0   \n\n      Current Credit Balance  Monthly Debt  Credit Score  Credit Default  \n69                  174135.0        9320.0        6470.0               1  \n87                  285475.0       18147.0        7440.0               1  \n94                  119529.0       15215.0        7010.0               1  \n96                  276583.0       11553.0        7320.0               1  \n116                  95456.0       13780.0        7390.0               1  \n...                      ...           ...           ...             ...  \n7422                122075.0        4268.0        6690.0               1  \n7433                 18791.0       12590.0        6060.0               1  \n7450                458242.0       27094.0        7290.0               1  \n7460                 45524.0        4585.0        7470.0               1  \n7496                456399.0       12783.0        7410.0               1  \n\n[400 rows x 17 columns]",
      "text/html": "<div>\n<style scoped>\n    .dataframe tbody tr th:only-of-type {\n        vertical-align: middle;\n    }\n\n    .dataframe tbody tr th {\n        vertical-align: top;\n    }\n\n    .dataframe thead th {\n        text-align: right;\n    }\n</style>\n<table border=\"1\" class=\"dataframe\">\n  <thead>\n    <tr style=\"text-align: right;\">\n      <th></th>\n      <th>Home Ownership</th>\n      <th>Annual Income</th>\n      <th>Years in current job</th>\n      <th>Tax Liens</th>\n      <th>Number of Open Accounts</th>\n      <th>Years of Credit History</th>\n      <th>Maximum Open Credit</th>\n      <th>Number of Credit Problems</th>\n      <th>Months since last delinquent</th>\n      <th>Bankruptcies</th>\n      <th>Purpose</th>\n      <th>Term</th>\n      <th>Current Loan Amount</th>\n      <th>Current Credit Balance</th>\n      <th>Monthly Debt</th>\n      <th>Credit Score</th>\n      <th>Credit Default</th>\n    </tr>\n  </thead>\n  <tbody>\n    <tr>\n      <th>69</th>\n      <td>Home Mortgage</td>\n      <td>1408527.0</td>\n      <td>2 years</td>\n      <td>0.0</td>\n      <td>12.0</td>\n      <td>17.5</td>\n      <td>700062.0</td>\n      <td>0.0</td>\n      <td>21.0</td>\n      <td>0.0</td>\n      <td>other</td>\n      <td>Long Term</td>\n      <td>525998.0</td>\n      <td>174135.0</td>\n      <td>9320.0</td>\n      <td>6470.0</td>\n      <td>1</td>\n    </tr>\n    <tr>\n      <th>87</th>\n      <td>Home Mortgage</td>\n      <td>1533566.0</td>\n      <td>7 years</td>\n      <td>0.0</td>\n      <td>11.0</td>\n      <td>14.8</td>\n      <td>715462.0</td>\n      <td>0.0</td>\n      <td>19.0</td>\n      <td>0.0</td>\n      <td>debt consolidation</td>\n      <td>Short Term</td>\n      <td>210826.0</td>\n      <td>285475.0</td>\n      <td>18147.0</td>\n      <td>7440.0</td>\n      <td>1</td>\n    </tr>\n    <tr>\n      <th>94</th>\n      <td>Rent</td>\n      <td>1049294.0</td>\n      <td>3 years</td>\n      <td>0.0</td>\n      <td>5.0</td>\n      <td>6.1</td>\n      <td>249810.0</td>\n      <td>0.0</td>\n      <td>NaN</td>\n      <td>0.0</td>\n      <td>business loan</td>\n      <td>Short Term</td>\n      <td>337502.0</td>\n      <td>119529.0</td>\n      <td>15215.0</td>\n      <td>7010.0</td>\n      <td>1</td>\n    </tr>\n    <tr>\n      <th>96</th>\n      <td>Rent</td>\n      <td>757568.0</td>\n      <td>5 years</td>\n      <td>0.0</td>\n      <td>13.0</td>\n      <td>11.4</td>\n      <td>383548.0</td>\n      <td>0.0</td>\n      <td>NaN</td>\n      <td>0.0</td>\n      <td>debt consolidation</td>\n      <td>Short Term</td>\n      <td>210518.0</td>\n      <td>276583.0</td>\n      <td>11553.0</td>\n      <td>7320.0</td>\n      <td>1</td>\n    </tr>\n    <tr>\n      <th>116</th>\n      <td>Home Mortgage</td>\n      <td>1039984.0</td>\n      <td>NaN</td>\n      <td>0.0</td>\n      <td>10.0</td>\n      <td>23.8</td>\n      <td>147950.0</td>\n      <td>0.0</td>\n      <td>63.0</td>\n      <td>0.0</td>\n      <td>debt consolidation</td>\n      <td>Short Term</td>\n      <td>224246.0</td>\n      <td>95456.0</td>\n      <td>13780.0</td>\n      <td>7390.0</td>\n      <td>1</td>\n    </tr>\n    <tr>\n      <th>...</th>\n      <td>...</td>\n      <td>...</td>\n      <td>...</td>\n      <td>...</td>\n      <td>...</td>\n      <td>...</td>\n      <td>...</td>\n      <td>...</td>\n      <td>...</td>\n      <td>...</td>\n      <td>...</td>\n      <td>...</td>\n      <td>...</td>\n      <td>...</td>\n      <td>...</td>\n      <td>...</td>\n      <td>...</td>\n    </tr>\n    <tr>\n      <th>7422</th>\n      <td>Rent</td>\n      <td>694868.0</td>\n      <td>1 year</td>\n      <td>0.0</td>\n      <td>4.0</td>\n      <td>7.8</td>\n      <td>143066.0</td>\n      <td>0.0</td>\n      <td>NaN</td>\n      <td>0.0</td>\n      <td>debt consolidation</td>\n      <td>Long Term</td>\n      <td>244178.0</td>\n      <td>122075.0</td>\n      <td>4268.0</td>\n      <td>6690.0</td>\n      <td>1</td>\n    </tr>\n    <tr>\n      <th>7433</th>\n      <td>Rent</td>\n      <td>2011758.0</td>\n      <td>&lt; 1 year</td>\n      <td>0.0</td>\n      <td>4.0</td>\n      <td>14.9</td>\n      <td>22176.0</td>\n      <td>0.0</td>\n      <td>43.0</td>\n      <td>0.0</td>\n      <td>buy a car</td>\n      <td>Long Term</td>\n      <td>106480.0</td>\n      <td>18791.0</td>\n      <td>12590.0</td>\n      <td>6060.0</td>\n      <td>1</td>\n    </tr>\n    <tr>\n      <th>7450</th>\n      <td>Home Mortgage</td>\n      <td>1432277.0</td>\n      <td>10+ years</td>\n      <td>0.0</td>\n      <td>16.0</td>\n      <td>22.8</td>\n      <td>825176.0</td>\n      <td>0.0</td>\n      <td>NaN</td>\n      <td>0.0</td>\n      <td>debt consolidation</td>\n      <td>Short Term</td>\n      <td>187924.0</td>\n      <td>458242.0</td>\n      <td>27094.0</td>\n      <td>7290.0</td>\n      <td>1</td>\n    </tr>\n    <tr>\n      <th>7460</th>\n      <td>Rent</td>\n      <td>769462.0</td>\n      <td>5 years</td>\n      <td>0.0</td>\n      <td>8.0</td>\n      <td>17.0</td>\n      <td>313786.0</td>\n      <td>0.0</td>\n      <td>80.0</td>\n      <td>0.0</td>\n      <td>debt consolidation</td>\n      <td>Short Term</td>\n      <td>109186.0</td>\n      <td>45524.0</td>\n      <td>4585.0</td>\n      <td>7470.0</td>\n      <td>1</td>\n    </tr>\n    <tr>\n      <th>7496</th>\n      <td>Home Mortgage</td>\n      <td>1533984.0</td>\n      <td>1 year</td>\n      <td>0.0</td>\n      <td>10.0</td>\n      <td>26.5</td>\n      <td>686312.0</td>\n      <td>0.0</td>\n      <td>43.0</td>\n      <td>0.0</td>\n      <td>debt consolidation</td>\n      <td>Long Term</td>\n      <td>444048.0</td>\n      <td>456399.0</td>\n      <td>12783.0</td>\n      <td>7410.0</td>\n      <td>1</td>\n    </tr>\n  </tbody>\n</table>\n<p>400 rows × 17 columns</p>\n</div>"
     },
     "execution_count": 35,
     "metadata": {},
     "output_type": "execute_result"
    }
   ],
   "source": [
    "df_train[df_train['Credit Score'] > 5000]\n"
   ],
   "metadata": {
    "collapsed": false,
    "pycharm": {
     "name": "#%%\n"
    }
   }
  },
  {
   "cell_type": "code",
   "execution_count": 36,
   "outputs": [
    {
     "data": {
      "text/plain": "<matplotlib.collections.PathCollection at 0x166bc6ad640>"
     },
     "execution_count": 36,
     "metadata": {},
     "output_type": "execute_result"
    },
    {
     "data": {
      "text/plain": "<Figure size 432x288 with 1 Axes>",
      "image/png": "[encoded data removed]"
     },
     "metadata": {
      "needs_background": "light"
     },
     "output_type": "display_data"
    }
   ],
   "source": [
    "plt.scatter(df_train['Months since last delinquent'], target)\n"
   ],
   "metadata": {
    "collapsed": false,
    "pycharm": {
     "name": "#%%\n"
    }
   }
  },
  {
   "cell_type": "code",
   "execution_count": 37,
   "outputs": [
    {
     "data": {
      "text/plain": "<matplotlib.collections.PathCollection at 0x166bc71a640>"
     },
     "execution_count": 37,
     "metadata": {},
     "output_type": "execute_result"
    },
    {
     "data": {
      "text/plain": "<Figure size 432x288 with 1 Axes>",
      "image/png": "[encoded data removed]"
     },
     "metadata": {
      "needs_background": "light"
     },
     "output_type": "display_data"
    }
   ],
   "source": [
    "plt.scatter(df_train['Maximum Open Credit'], target)"
   ],
   "metadata": {
    "collapsed": false,
    "pycharm": {
     "name": "#%%\n"
    }
   }
  },
  {
   "cell_type": "code",
   "execution_count": 38,
   "outputs": [
    {
     "data": {
      "text/plain": "<matplotlib.collections.PathCollection at 0x166bc2df2e0>"
     },
     "execution_count": 38,
     "metadata": {},
     "output_type": "execute_result"
    },
    {
     "data": {
      "text/plain": "<Figure size 432x288 with 1 Axes>",
      "image/png": "[encoded data removed]"
     },
     "metadata": {
      "needs_background": "light"
     },
     "output_type": "display_data"
    }
   ],
   "source": [
    "plt.scatter(df_train['Annual Income'], target)"
   ],
   "metadata": {
    "collapsed": false,
    "pycharm": {
     "name": "#%%\n"
    }
   }
  },
  {
   "cell_type": "code",
   "execution_count": 39,
   "outputs": [
    {
     "data": {
      "text/plain": "6472    10149344.0\n2200     9338880.0\n1025     8923844.0\n1984     8758449.0\n5396     8710740.0\n2474     8633790.0\n4491     8200229.0\n1601     7999095.0\n1616     7907382.0\n2606     7883442.0\n7097     7660648.0\n5774     7655480.0\n5102     7637240.0\n3683     7514120.0\n6604     7476880.0\n3081     7381842.0\n5108     7236606.0\n4685     6961752.0\n1615     6651900.0\n7036     6620208.0\n3446     6611810.0\n3550     6495720.0\n6946     6492395.0\n3927     6222880.0\n3269     6133922.0\n4745     6029954.0\n4271     5798040.0\n7089     5759280.0\n4445     5725194.0\n3399     5712540.0\n5934     5703648.0\n602      5631030.0\n4461     5628750.0\n693      5605950.0\n2468     5589420.0\n2169     5584271.0\n2992     5573460.0\n5823     5493527.0\n7486     5327372.0\n7299     5289676.0\nName: Annual Income, dtype: float64"
     },
     "execution_count": 39,
     "metadata": {},
     "output_type": "execute_result"
    }
   ],
   "source": [
    "df_train['Annual Income'].sort_values(ascending=False).head(40)"
   ],
   "metadata": {
    "collapsed": false,
    "pycharm": {
     "name": "#%%\n"
    }
   }
  },
  {
   "cell_type": "code",
   "execution_count": 40,
   "outputs": [
    {
     "data": {
      "text/plain": "4425     4334.0\n4365     6556.0\n1513     6622.0\n3041    10890.0\n1050    10956.0\n1747    11110.0\n7184    11132.0\n2195    11198.0\n6338    12914.0\n6649    17248.0\n3271    17270.0\n2241    17292.0\n651     17314.0\n4025    17644.0\n1809    21670.0\n7050    21780.0\n6811    21978.0\n5928    22000.0\n2160    22044.0\n7433    22176.0\n367     25784.0\n330     26070.0\n1540    26752.0\n1030    28996.0\n5690    28996.0\n5281    29238.0\n5183    31108.0\n4323    32670.0\n5002    33242.0\n523     33682.0\n5617    34672.0\n2086    37158.0\n486     37268.0\n57      37290.0\n3830    37752.0\n3063    38126.0\n1803    38170.0\n352     38764.0\n3706    38962.0\n4841    39072.0\nName: Maximum Open Credit, dtype: float64"
     },
     "execution_count": 40,
     "metadata": {},
     "output_type": "execute_result"
    }
   ],
   "source": [
    "df_train['Maximum Open Credit'][df_train['Maximum Open Credit'] > 0].sort_values().head(40)\n"
   ],
   "metadata": {
    "collapsed": false,
    "pycharm": {
     "name": "#%%\n"
    }
   }
  },
  {
   "cell_type": "code",
   "execution_count": 41,
   "outputs": [
    {
     "data": {
      "text/plain": "617     1.304726e+09\n44      3.800523e+08\n2617    2.655129e+08\n2023    5.756256e+07\n2763    4.092389e+07\n7026    2.640700e+07\n4769    2.634333e+07\n5523    2.137243e+07\n5731    1.928043e+07\n3170    1.868381e+07\n2468    1.634591e+07\n354     1.476048e+07\n4072    1.389707e+07\n1879    1.270144e+07\n4745    1.160386e+07\n5950    1.151346e+07\n1476    1.042866e+07\n6744    1.030907e+07\n4840    1.020160e+07\n4602    9.541136e+06\n5147    9.516540e+06\n85      9.339924e+06\n6265    9.167356e+06\n2036    9.094184e+06\n2431    8.947840e+06\n5974    8.903180e+06\n2156    8.706038e+06\n5432    7.526552e+06\n7278    7.453138e+06\n1580    7.204516e+06\n2375    6.890070e+06\n4939    6.766276e+06\n5313    6.658762e+06\n4773    6.648488e+06\n5618    6.639358e+06\n3316    6.619316e+06\n1601    6.286192e+06\n561     6.230994e+06\n7019    6.183782e+06\n5818    6.148120e+06\nName: Maximum Open Credit, dtype: float64"
     },
     "execution_count": 41,
     "metadata": {},
     "output_type": "execute_result"
    }
   ],
   "source": [
    "df_train['Maximum Open Credit'].sort_values(ascending=False).head(40)\n",
    "\n"
   ],
   "metadata": {
    "collapsed": false,
    "pycharm": {
     "name": "#%%\n"
    }
   }
  },
  {
   "cell_type": "code",
   "execution_count": 42,
   "outputs": [
    {
     "data": {
      "text/plain": "2763    4.092389e+07\n2023    5.756256e+07\n2617    2.655129e+08\n44      3.800523e+08\n617     1.304726e+09\nName: Maximum Open Credit, dtype: float64"
     },
     "execution_count": 42,
     "metadata": {},
     "output_type": "execute_result"
    }
   ],
   "source": [
    "# Значения которые больше 30 млн, сделаем равными 30 млн\n",
    "df_train['Maximum Open Credit'][df_train['Maximum Open Credit'] > 30000000].sort_values()"
   ],
   "metadata": {
    "collapsed": false,
    "pycharm": {
     "name": "#%%\n"
    }
   }
  },
  {
   "cell_type": "code",
   "execution_count": 43,
   "outputs": [
    {
     "data": {
      "text/plain": "<matplotlib.collections.PathCollection at 0x166bc531370>"
     },
     "execution_count": 43,
     "metadata": {},
     "output_type": "execute_result"
    },
    {
     "data": {
      "text/plain": "<Figure size 432x288 with 1 Axes>",
      "image/png": "[encoded data removed]"
     },
     "metadata": {
      "needs_background": "light"
     },
     "output_type": "display_data"
    }
   ],
   "source": [
    "plt.scatter(df_train['Credit Score'][df_train['Credit Score'] < 5000], df_train['Credit Default'][df_train['Credit Score'] < 5000])"
   ],
   "metadata": {
    "collapsed": false,
    "pycharm": {
     "name": "#%%\n"
    }
   }
  },
  {
   "cell_type": "code",
   "execution_count": 44,
   "outputs": [
    {
     "data": {
      "text/plain": "1404     11242.0\n4467     21472.0\n2735     21472.0\n7144     21516.0\n5861     21560.0\n          ...   \n359     788634.0\n2420    788634.0\n4602    788788.0\n4700    788942.0\n4960    789030.0\nName: Current Loan Amount, Length: 6630, dtype: float64"
     },
     "execution_count": 44,
     "metadata": {},
     "output_type": "execute_result"
    }
   ],
   "source": [
    "current_loan[current_loan < 99999999.0]\n"
   ],
   "metadata": {
    "collapsed": false,
    "pycharm": {
     "name": "#%%\n"
    }
   }
  },
  {
   "cell_type": "code",
   "execution_count": 45,
   "outputs": [
    {
     "data": {
      "text/plain": "<Figure size 1080x720 with 2 Axes>",
      "image/png": "[encoded data removed]"
     },
     "metadata": {
      "needs_background": "light"
     },
     "output_type": "display_data"
    }
   ],
   "source": [
    "# Строим матрицу корреляций\n",
    "def corr_matrix(df):\n",
    "    plt.figure(figsize = (15,10))\n",
    "\n",
    "    sns.set(font_scale=1.4)\n",
    "\n",
    "    corr_matrix = df.corr()\n",
    "    corr_matrix = np.round(corr_matrix, 2)\n",
    "    corr_matrix[np.abs(corr_matrix) < 0.15] = 0\n",
    "\n",
    "    sns.heatmap(corr_matrix, annot=True, linewidths=.5, cmap='coolwarm')\n",
    "\n",
    "    plt.title('Correlation matrix')\n",
    "\n",
    "corr_matrix(df_train)\n",
    "\n"
   ],
   "metadata": {
    "collapsed": false,
    "pycharm": {
     "name": "#%%\n"
    }
   }
  },
  {
   "cell_type": "code",
   "source": [
    "# смотрим, как коррелируют признаки с 'Annual Income'\n",
    "\n",
    "FEATURE_NAMES = df_train.columns.drop('Annual Income').tolist()\n",
    "corr_Annual_Income = df_train[FEATURE_NAMES + ['Annual Income']].corr().iloc[:-1, -1]\n",
    "corr_Annual_Income = np.abs(corr_Annual_Income).sort_values(ascending=False)\n",
    "\n",
    "plt.figure(figsize=(10, 8))\n",
    "\n",
    "sns.barplot(x=corr_Annual_Income.values, y=corr_Annual_Income.index)\n",
    "\n",
    "plt.title('Correlation')"
   ],
   "metadata": {
    "collapsed": false,
    "pycharm": {
     "name": "#%%\n"
    }
   },
   "execution_count": 46,
   "outputs": [
    {
     "data": {
      "text/plain": "Text(0.5, 1.0, 'Correlation')"
     },
     "execution_count": 46,
     "metadata": {},
     "output_type": "execute_result"
    },
    {
     "data": {
      "text/plain": "<Figure size 720x576 with 1 Axes>",
      "image/png": "[encoded data removed]"
     },
     "metadata": {},
     "output_type": "display_data"
    }
   ]
  },
  {
   "cell_type": "markdown",
   "source": [
    "Выводы:<br/>\n",
    "1) Current loan > 800000 заменяем на случайные значения<br/>\n",
    "2) Maximum open credit > 30000000 ставим 30000000<br/>\n",
    "3) У других признаков сильных выбросов не обнаружил, значения в пределах допустимых<br/>\n",
    "4) Пропуски 'Credit Score' можно заполнить медианой<br/>\n",
    "5) Пропуски Annual income заполняем по формуле (Annual Income  mean/ mouthly Debt mean)  * montly debt где annual income является пропуском<br/>\n",
    "6) Пропуски Months since last delinquent и Years in current job заполняем нулями, т.к предполагается отстутствие этого параметра в местах пропуска<br/>\n",
    "7) Пропуски Bankruptcies заполняем значением признака Number of Credit Problems<br/>\n",
    "8) После обработки делаем новые признаки по выводам выше и на каждый выброс и пропуск ставлю признак-метку<br/>\n",
    "9) Тестовый датасет и тренировочный дата сет обрабатываем одинаково, т.к признаки имеющие пропуски одни и те же<br/>\n"
   ],
   "metadata": {
    "collapsed": false,
    "pycharm": {
     "name": "#%% md\n"
    }
   }
  },
  {
   "cell_type": "code",
   "execution_count": 47,
   "outputs": [],
   "source": [
    "#Обработка пропусков\n",
    "def fill_na(df):\n",
    "    #Делаем новые признаки метки для пропусков\n",
    "    df_train[['Annual Income_nan', 'Years in current job_nan', 'Months since last delinquent_nan', 'Credit Score_nan']] = 0\n",
    "    #Делаем переменную коэффициент для умножения признака и заполнения пропуска\n",
    "    corr_coef_mean = df['Annual Income'].mean()/df['Monthly Debt'].mean()\n",
    "    #Заполняем Annual Income и делаем признак метку = 1\n",
    "    df['Annual Income_nan'][df['Annual Income'].isna()] = 1\n",
    "    df['Annual Income'][df['Annual Income'].isna()] = df['Monthly Debt'][df['Annual Income'].isna()] * corr_coef_mean\n",
    "    #Заполняем Years in current job как не работающий и делаем признак метку = 1\n",
    "    df['Years in current job_nan'][df['Years in current job'].isna()] = 1\n",
    "    df['Years in current job'][df['Years in current job'].isna()] = \"don't work\"\n",
    "    #Заполняем Months since last delinquent нулями и признак метку единицами\n",
    "    df['Months since last delinquent_nan'][df['Months since last delinquent'].isna()] = 1\n",
    "    df['Months since last delinquent'][df['Months since last delinquent'].isna()] = 0\n",
    "    #Заполняем пропуски Bankruptcies delinquent\n",
    "    df['Bankruptcies'][df['Bankruptcies'].isna()] = df['Number of Credit Problems'][df['Bankruptcies'].isna()]\n",
    "    #Заполняем пропуски Credit Score медианой (пока) и признак метку = 1\n",
    "    df['Credit Score_nan'][df['Credit Score'].isna()] = 1\n",
    "    df['Credit Score'][df['Credit Score'].isna()] = df['Credit Score'].median()\n",
    "    return df\n",
    "\n",
    "df_train = fill_na(df_train)"
   ],
   "metadata": {
    "collapsed": false,
    "pycharm": {
     "name": "#%%\n"
    }
   }
  },
  {
   "cell_type": "code",
   "execution_count": 48,
   "outputs": [
    {
     "name": "stdout",
     "output_type": "stream",
     "text": [
      "<class 'pandas.core.frame.DataFrame'>\n",
      "RangeIndex: 7500 entries, 0 to 7499\n",
      "Data columns (total 21 columns):\n",
      " #   Column                            Non-Null Count  Dtype  \n",
      "---  ------                            --------------  -----  \n",
      " 0   Home Ownership                    7500 non-null   object \n",
      " 1   Annual Income                     7500 non-null   float64\n",
      " 2   Years in current job              7500 non-null   object \n",
      " 3   Tax Liens                         7500 non-null   float64\n",
      " 4   Number of Open Accounts           7500 non-null   float64\n",
      " 5   Years of Credit History           7500 non-null   float64\n",
      " 6   Maximum Open Credit               7500 non-null   float64\n",
      " 7   Number of Credit Problems         7500 non-null   float64\n",
      " 8   Months since last delinquent      7500 non-null   float64\n",
      " 9   Bankruptcies                      7500 non-null   float64\n",
      " 10  Purpose                           7500 non-null   object \n",
      " 11  Term                              7500 non-null   object \n",
      " 12  Current Loan Amount               7500 non-null   float64\n",
      " 13  Current Credit Balance            7500 non-null   float64\n",
      " 14  Monthly Debt                      7500 non-null   float64\n",
      " 15  Credit Score                      7500 non-null   float64\n",
      " 16  Credit Default                    7500 non-null   int64  \n",
      " 17  Annual Income_nan                 7500 non-null   int64  \n",
      " 18  Years in current job_nan          7500 non-null   int64  \n",
      " 19  Months since last delinquent_nan  7500 non-null   int64  \n",
      " 20  Credit Score_nan                  7500 non-null   int64  \n",
      "dtypes: float64(12), int64(5), object(4)\n",
      "memory usage: 1.2+ MB\n"
     ]
    }
   ],
   "source": [
    "df_train.info()\n"
   ],
   "metadata": {
    "collapsed": false,
    "pycharm": {
     "name": "#%%\n"
    }
   }
  },
  {
   "cell_type": "code",
   "execution_count": 49,
   "outputs": [],
   "source": [
    "def fix_outliers(df):\n",
    "    #Делаем признак метку для выбросов\n",
    "    df[['Maximum Open Credit_outlier', 'Current Loan Amount_outlier']] = 0\n",
    "    df['Maximum Open Credit_outlier'][df['Maximum Open Credit'] > 30000000] = 1\n",
    "    df['Maximum Open Credit'][df['Maximum Open Credit'] > 30000000] = 30000000\n",
    "    loan_outliers = df_train['Current Loan Amount'][df_train['Current Loan Amount'] > 800000]\n",
    "    df['Current Loan Amount_outlier'][df['Current Loan Amount'] > 800000] = 1\n",
    "    df['Current Loan Amount'][df['Current Loan Amount'] > 800000] = loan_outliers.apply(lambda  x: random.randint(0, 800000))\n",
    "    return df\n",
    "df_train = fix_outliers(df_train)"
   ],
   "metadata": {
    "collapsed": false,
    "pycharm": {
     "name": "#%%\n"
    }
   }
  },
  {
   "cell_type": "code",
   "execution_count": 50,
   "outputs": [
    {
     "data": {
      "text/plain": "<matplotlib.collections.PathCollection at 0x166ba1bcf70>"
     },
     "execution_count": 50,
     "metadata": {},
     "output_type": "execute_result"
    },
    {
     "data": {
      "text/plain": "<Figure size 432x288 with 1 Axes>",
      "image/png": "[encoded data removed]"
     },
     "metadata": {},
     "output_type": "display_data"
    }
   ],
   "source": [
    "#Проверяем что выбросы устранил\n",
    "plt.scatter(df_train['Current Loan Amount'], target)\n"
   ],
   "metadata": {
    "collapsed": false,
    "pycharm": {
     "name": "#%%\n"
    }
   }
  },
  {
   "cell_type": "code",
   "execution_count": 51,
   "outputs": [
    {
     "data": {
      "text/plain": "<matplotlib.collections.PathCollection at 0x166bc8bd070>"
     },
     "execution_count": 51,
     "metadata": {},
     "output_type": "execute_result"
    },
    {
     "data": {
      "text/plain": "<Figure size 432x288 with 1 Axes>",
      "image/png": "[encoded data removed]"
     },
     "metadata": {},
     "output_type": "display_data"
    }
   ],
   "source": [
    "plt.scatter(df_train['Maximum Open Credit'], target)\n"
   ],
   "metadata": {
    "collapsed": false,
    "pycharm": {
     "name": "#%%\n"
    }
   }
  },
  {
   "cell_type": "code",
   "execution_count": 52,
   "outputs": [],
   "source": [
    "#Делаем feature encoding а именно ранги категориальных признаков\n",
    "#При необходимости базовые признаки от них можно потом удалить\n",
    "\n",
    "def create_rank_cat(df):\n",
    "    #Создаем и инциализируем новые признаки\n",
    "    df[['Home Ownership_rank', 'Years in current job_rank', 'Tax Liens_rank', 'Number of Credit Problems_rank', 'Bankruptcies_rank', 'Term_rank', 'Purpose_rank', 'No problems']] = 0\n",
    "    #Заполняем признак No problems\n",
    "    df['No problems'][(df['Tax Liens'] == 0) & (df['Bankruptcies'] == 0) & (df['Number of Credit Problems'] == 0)] = 1\n",
    "    #Исправляем ошибочное значение признака или однозначное в одно значение\n",
    "    df['Home Ownership'][df['Home Ownership'] == 'Have Mortgage'] = 'Home Mortgage'\n",
    "    #Делаем ранги для домовладений\n",
    "    df['Home Ownership_rank'][df['Home Ownership'] == 'Home Mortgage'] = 1\n",
    "    df['Home Ownership_rank'][df['Home Ownership'] == 'Own Home'] = 2\n",
    "    #Делаем ранги для времени работы\n",
    "    df['Years in current job_rank'][df['Years in current job'].isin(['< 1 year'])] = 1\n",
    "    df['Years in current job_rank'][df['Years in current job'].isin(['1 year', '2 years', '3 years'])] = 2\n",
    "    df['Years in current job_rank'][df['Years in current job'].isin(['4 years', '5 years'])] = 3\n",
    "    df['Years in current job_rank'][df['Years in current job'].isin(['6 years', '7 years', '8 years', '9 years', '10+ years'])] = 4\n",
    "    #Делаем ранги для Tax Liens\n",
    "    df['Tax Liens_rank'][df['Tax Liens'].isin([i for i in range(1, 4)])] = 1\n",
    "    df['Tax Liens_rank'][df['Tax Liens'] == 0] = 2\n",
    "    #Делаем ранги для Number of Credit Problems\n",
    "    df['Number of Credit Problems_rank'][df['Number of Credit Problems'].isin([2, 3])] = 1\n",
    "    df['Number of Credit Problems_rank'][df['Number of Credit Problems'] == 1] = 2\n",
    "    df['Number of Credit Problems_rank'][df['Number of Credit Problems'] == 0] = 3\n",
    "    #Заполняем ранг для банкротства\n",
    "    df['Bankruptcies_rank'][df['Bankruptcies'] > 0] = 1\n",
    "    #Заполняем ранг Term\n",
    "    df['Term_rank'][df['Term'] == 'Long Term'] = 1\n",
    "    #Заполняем ранг Purpose\n",
    "    df['Purpose_rank'][df['Purpose'].isin(['buy house', 'buy a car', 'home improvements', 'medical bills'])] = 1\n",
    "    df['Purpose_rank'][df['Purpose'].isin(['business loan', 'small business'])] = 2\n",
    "    df['Purpose_rank'][df['Purpose'] == 'debt consolidation'] = 3\n",
    "    return df\n",
    "\n",
    "df_train = create_rank_cat(df_train)"
   ],
   "metadata": {
    "collapsed": false,
    "pycharm": {
     "name": "#%%\n"
    }
   }
  },
  {
   "cell_type": "code",
   "execution_count": 56,
   "outputs": [
    {
     "name": "stdout",
     "output_type": "stream",
     "text": [
      "<class 'pandas.core.frame.DataFrame'>\n",
      "RangeIndex: 7500 entries, 0 to 7499\n",
      "Data columns (total 31 columns):\n",
      " #   Column                            Non-Null Count  Dtype  \n",
      "---  ------                            --------------  -----  \n",
      " 0   Home Ownership                    7500 non-null   object \n",
      " 1   Annual Income                     7500 non-null   float64\n",
      " 2   Years in current job              7500 non-null   object \n",
      " 3   Tax Liens                         7500 non-null   float64\n",
      " 4   Number of Open Accounts           7500 non-null   float64\n",
      " 5   Years of Credit History           7500 non-null   float64\n",
      " 6   Maximum Open Credit               7500 non-null   float64\n",
      " 7   Number of Credit Problems         7500 non-null   float64\n",
      " 8   Months since last delinquent      7500 non-null   float64\n",
      " 9   Bankruptcies                      7500 non-null   float64\n",
      " 10  Purpose                           7500 non-null   object \n",
      " 11  Term                              7500 non-null   object \n",
      " 12  Current Loan Amount               7500 non-null   float64\n",
      " 13  Current Credit Balance            7500 non-null   float64\n",
      " 14  Monthly Debt                      7500 non-null   float64\n",
      " 15  Credit Score                      7500 non-null   float64\n",
      " 16  Credit Default                    7500 non-null   int64  \n",
      " 17  Annual Income_nan                 7500 non-null   int64  \n",
      " 18  Years in current job_nan          7500 non-null   int64  \n",
      " 19  Months since last delinquent_nan  7500 non-null   int64  \n",
      " 20  Credit Score_nan                  7500 non-null   int64  \n",
      " 21  Maximum Open Credit_outlier       7500 non-null   int64  \n",
      " 22  Current Loan Amount_outlier       7500 non-null   int64  \n",
      " 23  Home Ownership_rank               7500 non-null   int64  \n",
      " 24  Years in current job_rank         7500 non-null   int64  \n",
      " 25  Tax Liens_rank                    7500 non-null   int64  \n",
      " 26  Number of Credit Problems_rank    7500 non-null   int64  \n",
      " 27  Bankruptcies_rank                 7500 non-null   int64  \n",
      " 28  Term_rank                         7500 non-null   int64  \n",
      " 29  Purpose_rank                      7500 non-null   int64  \n",
      " 30  No problems                       7500 non-null   int64  \n",
      "dtypes: float64(12), int64(15), object(4)\n",
      "memory usage: 1.8+ MB\n"
     ]
    }
   ],
   "source": [
    "df_train.info()"
   ],
   "metadata": {
    "collapsed": false,
    "pycharm": {
     "name": "#%%\n"
    }
   }
  },
  {
   "cell_type": "markdown",
   "source": [
    "Преобразовали датафрейм до нужного вида, теперь макисмум что можно сделать удалить базовые категориальные признаки<br/>\n",
    "Пока этого не будем делать и оставим все как есть<br/>\n",
    "\n",
    "Далее проверяем что все корректно отработало"
   ],
   "metadata": {
    "collapsed": false,
    "pycharm": {
     "name": "#%% md\n"
    }
   }
  },
  {
   "cell_type": "code",
   "execution_count": 57,
   "outputs": [
    {
     "data": {
      "text/plain": "1    3649\n0    3204\n2     647\nName: Home Ownership_rank, dtype: int64"
     },
     "execution_count": 57,
     "metadata": {},
     "output_type": "execute_result"
    }
   ],
   "source": [
    "df_train['Home Ownership_rank'].value_counts()"
   ],
   "metadata": {
    "collapsed": false,
    "pycharm": {
     "name": "#%%\n"
    }
   }
  },
  {
   "cell_type": "code",
   "execution_count": 58,
   "outputs": [
    {
     "data": {
      "text/plain": "Home Mortgage    3649\nRent             3204\nOwn Home          647\nName: Home Ownership, dtype: int64"
     },
     "execution_count": 58,
     "metadata": {},
     "output_type": "execute_result"
    }
   ],
   "source": [
    "df_train['Home Ownership'].value_counts()\n",
    "\n"
   ],
   "metadata": {
    "collapsed": false,
    "pycharm": {
     "name": "#%%\n"
    }
   }
  },
  {
   "cell_type": "code",
   "execution_count": 63,
   "outputs": [
    {
     "data": {
      "text/plain": "7500"
     },
     "execution_count": 63,
     "metadata": {},
     "output_type": "execute_result"
    }
   ],
   "source": [
    "df_train['Years in current job_rank'].value_counts()\n"
   ],
   "metadata": {
    "collapsed": false,
    "pycharm": {
     "name": "#%%\n"
    }
   }
  },
  {
   "cell_type": "code",
   "execution_count": 64,
   "outputs": [
    {
     "data": {
      "text/plain": "7500"
     },
     "execution_count": 64,
     "metadata": {},
     "output_type": "execute_result"
    }
   ],
   "source": [
    "df_train['Years in current job'].value_counts()\n"
   ],
   "metadata": {
    "collapsed": false,
    "pycharm": {
     "name": "#%%\n"
    }
   }
  },
  {
   "cell_type": "code",
   "execution_count": 65,
   "outputs": [
    {
     "data": {
      "text/plain": "7500"
     },
     "execution_count": 65,
     "metadata": {},
     "output_type": "execute_result"
    }
   ],
   "source": [
    "df_train['Tax Liens_rank'].value_counts()\n"
   ],
   "metadata": {
    "collapsed": false,
    "pycharm": {
     "name": "#%%\n"
    }
   }
  },
  {
   "cell_type": "code",
   "execution_count": 66,
   "outputs": [
    {
     "data": {
      "text/plain": "7500"
     },
     "execution_count": 66,
     "metadata": {},
     "output_type": "execute_result"
    }
   ],
   "source": [
    "df_train['Number of Credit Problems_rank'].value_counts()\n"
   ],
   "metadata": {
    "collapsed": false,
    "pycharm": {
     "name": "#%%\n"
    }
   }
  },
  {
   "cell_type": "code",
   "execution_count": 67,
   "outputs": [
    {
     "data": {
      "text/plain": "0    6674\n1     826\nName: Bankruptcies_rank, dtype: int64"
     },
     "execution_count": 67,
     "metadata": {},
     "output_type": "execute_result"
    }
   ],
   "source": [
    "df_train['Bankruptcies_rank'].value_counts()\n",
    "\n"
   ],
   "metadata": {
    "collapsed": false,
    "pycharm": {
     "name": "#%%\n"
    }
   }
  },
  {
   "cell_type": "code",
   "execution_count": 68,
   "outputs": [
    {
     "data": {
      "text/plain": "0.0    6674\n1.0     786\n2.0      31\n3.0       7\n4.0       2\nName: Bankruptcies, dtype: int64"
     },
     "execution_count": 68,
     "metadata": {},
     "output_type": "execute_result"
    }
   ],
   "source": [
    "df_train['Bankruptcies'].value_counts()\n",
    "\n"
   ],
   "metadata": {
    "collapsed": false,
    "pycharm": {
     "name": "#%%\n"
    }
   }
  },
  {
   "cell_type": "code",
   "execution_count": 69,
   "outputs": [
    {
     "data": {
      "text/plain": "0    5556\n1    1944\nName: Term_rank, dtype: int64"
     },
     "execution_count": 69,
     "metadata": {},
     "output_type": "execute_result"
    }
   ],
   "source": [
    "df_train['Term_rank'].value_counts()\n",
    "\n"
   ],
   "metadata": {
    "collapsed": false,
    "pycharm": {
     "name": "#%%\n"
    }
   }
  },
  {
   "cell_type": "code",
   "execution_count": 71,
   "outputs": [
    {
     "data": {
      "text/plain": "3    5944\n0     788\n1     613\n2     155\nName: Purpose_rank, dtype: int64"
     },
     "execution_count": 71,
     "metadata": {},
     "output_type": "execute_result"
    }
   ],
   "source": [
    "df_train['Purpose_rank'].value_counts()"
   ],
   "metadata": {
    "collapsed": false,
    "pycharm": {
     "name": "#%%\n"
    }
   }
  },
  {
   "cell_type": "code",
   "execution_count": 72,
   "outputs": [
    {
     "data": {
      "text/plain": "debt consolidation      5944\nother                    665\nhome improvements        412\nbusiness loan            129\nbuy a car                 96\nmedical bills             71\nmajor purchase            40\ntake a trip               37\nbuy house                 34\nsmall business            26\nwedding                   15\nmoving                    11\neducational expenses      10\nvacation                   8\nrenewable energy           2\nName: Purpose, dtype: int64"
     },
     "execution_count": 72,
     "metadata": {},
     "output_type": "execute_result"
    }
   ],
   "source": [
    "df_train['Purpose'].value_counts()\n",
    "\n"
   ],
   "metadata": {
    "collapsed": false,
    "pycharm": {
     "name": "#%%\n"
    }
   }
  },
  {
   "cell_type": "code",
   "execution_count": null,
   "outputs": [],
   "source": [
    "\n"
   ],
   "metadata": {
    "collapsed": false,
    "pycharm": {
     "name": "#%%\n"
    }
   }
  }
 ],
 "metadata": {
  "kernelspec": {
   "display_name": "Python 3",
   "language": "python",
   "name": "python3"
  },
  "language_info": {
   "codemirror_mode": {
    "name": "ipython",
    "version": 3
   },
   "file_extension": ".py",
   "mimetype": "text/x-python",
   "name": "python",
   "nbconvert_exporter": "python",
   "pygments_lexer": "ipython3",
   "version": "3.9.1"
  }
 },
 "nbformat": 4,
 "nbformat_minor": 1
}