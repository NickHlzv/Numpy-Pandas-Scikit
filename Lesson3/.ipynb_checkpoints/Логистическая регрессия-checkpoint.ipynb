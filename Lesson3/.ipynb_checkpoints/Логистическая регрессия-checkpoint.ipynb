{
 "cells": [
  {
   "cell_type": "code",
   "execution_count": null,
   "metadata": {
    "collapsed": true
   },
   "outputs": [],
   "source": [
    "import pandas as pd\n",
    "import numpy as np\n",
    "from sklearn.model_selection import train_test_split\n",
    "from sklearn.linear_model import LogisticRegression"
   ]
  },
  {
   "cell_type": "markdown",
   "metadata": {
    "pycharm": {
     "name": "#%% md\n"
    }
   },
   "source": [
    "#### Логистическая регрессия\n",
    "\n",
    "Логистическая регрессия используется для задач классификации\n",
    "\n",
    "при этом вычисляется вероятность принадлежности\n",
    "\n",
    "события к определенному классу.\n",
    "\n",
    "Задача алгоритма логистической регрессии - найти\n",
    "\n",
    "подходящие коэффициенты w при признаках x:\n",
    "\n",
    "<img src=\"http://latex.numberempire.com/render?{z = w_{0} + w_{1} * x_{1} + w_{2} * x_{2}+...+ w_{m} * x_{m}\"\n",
    "      alt=\"Корни квадратного уравнения\">\n",
    "\n"
   ]
  },
  {
   "cell_type": "code",
   "execution_count": null,
   "metadata": {
    "pycharm": {
     "name": "#%%\n"
    }
   },
   "outputs": [],
   "source": [
    "\n"
   ]
  }
 ],
 "metadata": {
  "kernelspec": {
   "display_name": "Python 3",
   "language": "python",
   "name": "python3"
  },
  "language_info": {
   "codemirror_mode": {
    "name": "ipython",
    "version": 3
   },
   "file_extension": ".py",
   "mimetype": "text/x-python",
   "name": "python",
   "nbconvert_exporter": "python",
   "pygments_lexer": "ipython3",
   "version": "3.9.1"
  }
 },
 "nbformat": 4,
 "nbformat_minor": 1
}
