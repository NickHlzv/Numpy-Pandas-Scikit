{
 "cells": [
  {
   "cell_type": "code",
   "execution_count": 1,
   "metadata": {
    "collapsed": true
   },
   "outputs": [],
   "source": [
    "import pandas as pd\n",
    "import numpy as np\n",
    "from sklearn.model_selection import train_test_split\n",
    "from sklearn.linear_model import LogisticRegression"
   ]
  },
  {
   "cell_type": "markdown",
   "metadata": {
    "pycharm": {
     "name": "#%% md\n"
    }
   },
   "source": [
    "#### Логистическая регрессия\n",
    "\n",
    "Логистическая регрессия используется для задач классификации\n",
    "\n",
    "при этом вычисляется вероятность принадлежности\n",
    "\n",
    "события к определенному классу.\n",
    "\n",
    "Задача алгоритма логистической регрессии - найти\n",
    "\n",
    "подходящие коэффициенты w при признаках x:\n",
    "\n",
    "<span class=\"math\" id=\"MathJax-Span-1\" style=\"width: 31.253em; display: inline-block;\"><span style=\"display: inline-block; position: relative; width: 26.042em; height: 0px; font-size: 120%;\"><span style=\"position: absolute; clip: rect(1.817em, 1026.04em, 3.207em, -1000em); top: -2.813em; left: 0em;\"><span class=\"mrow\" id=\"MathJax-Span-2\"><span class=\"mstyle\" id=\"MathJax-Span-3\"><span class=\"mrow\" id=\"MathJax-Span-4\"><span class=\"mi\" id=\"MathJax-Span-5\" style=\"font-size: 144%; font-family: MathJax_Math; font-style: italic;\">z<span style=\"display: inline-block; overflow: hidden; height: 1px; width: 0.003em;\"></span></span><span class=\"mo\" id=\"MathJax-Span-6\" style=\"font-size: 144%; font-family: MathJax_Main; padding-left: 0.278em;\">=</span><span class=\"msubsup\" id=\"MathJax-Span-7\" style=\"padding-left: 0.4em;\"><span style=\"display: inline-block; position: relative; width: 1.648em; height: 0px;\"><span style=\"position: absolute; clip: rect(3.216em, 1000.99em, 4.183em, -1000em); top: -4.01em; left: 0em;\"><span class=\"mi\" id=\"MathJax-Span-8\" style=\"font-size: 144%; font-family: MathJax_Math; font-style: italic;\">w</span><span style=\"display: inline-block; width: 0px; height: 4.01em;\"></span></span><span style=\"position: absolute; top: -3.794em; left: 1.031em;\"><span class=\"texatom\" id=\"MathJax-Span-9\"><span class=\"mrow\" id=\"MathJax-Span-10\"><span class=\"mn\" id=\"MathJax-Span-11\" style=\"font-size: 101.8%; font-family: MathJax_Main;\">0</span></span></span><span style=\"display: inline-block; width: 0px; height: 4.01em;\"></span></span></span></span><span class=\"mo\" id=\"MathJax-Span-12\" style=\"font-size: 144%; font-family: MathJax_Main; padding-left: 0.222em;\">+</span><span class=\"msubsup\" id=\"MathJax-Span-13\" style=\"padding-left: 0.32em;\"><span style=\"display: inline-block; position: relative; width: 1.648em; height: 0px;\"><span style=\"position: absolute; clip: rect(3.216em, 1000.99em, 4.183em, -1000em); top: -4.01em; left: 0em;\"><span class=\"mi\" id=\"MathJax-Span-14\" style=\"font-size: 144%; font-family: MathJax_Math; font-style: italic;\">w</span><span style=\"display: inline-block; width: 0px; height: 4.01em;\"></span></span><span style=\"position: absolute; top: -3.794em; left: 1.031em;\"><span class=\"texatom\" id=\"MathJax-Span-15\"><span class=\"mrow\" id=\"MathJax-Span-16\"><span class=\"mn\" id=\"MathJax-Span-17\" style=\"font-size: 101.8%; font-family: MathJax_Main;\">1</span></span></span><span style=\"display: inline-block; width: 0px; height: 4.01em;\"></span></span></span></span><span class=\"mo\" id=\"MathJax-Span-18\" style=\"font-size: 144%; font-family: MathJax_Main; padding-left: 0.222em;\">∗</span><span class=\"msubsup\" id=\"MathJax-Span-19\" style=\"padding-left: 0.32em;\"><span style=\"display: inline-block; position: relative; width: 1.441em; height: 0px;\"><span style=\"position: absolute; clip: rect(3.218em, 1000.75em, 4.183em, -1000em); top: -4.01em; left: 0em;\"><span class=\"mi\" id=\"MathJax-Span-20\" style=\"font-size: 144%; font-family: MathJax_Math; font-style: italic;\">x</span><span style=\"display: inline-block; width: 0px; height: 4.01em;\"></span></span><span style=\"position: absolute; top: -3.794em; left: 0.824em;\"><span class=\"texatom\" id=\"MathJax-Span-21\"><span class=\"mrow\" id=\"MathJax-Span-22\"><span class=\"mn\" id=\"MathJax-Span-23\" style=\"font-size: 101.8%; font-family: MathJax_Main;\">1</span></span></span><span style=\"display: inline-block; width: 0px; height: 4.01em;\"></span></span></span></span><span class=\"mo\" id=\"MathJax-Span-24\" style=\"font-size: 144%; font-family: MathJax_Main; padding-left: 0.222em;\">+</span><span class=\"msubsup\" id=\"MathJax-Span-25\" style=\"padding-left: 0.32em;\"><span style=\"display: inline-block; position: relative; width: 1.648em; height: 0px;\"><span style=\"position: absolute; clip: rect(3.216em, 1000.99em, 4.183em, -1000em); top: -4.01em; left: 0em;\"><span class=\"mi\" id=\"MathJax-Span-26\" style=\"font-size: 144%; font-family: MathJax_Math; font-style: italic;\">w</span><span style=\"display: inline-block; width: 0px; height: 4.01em;\"></span></span><span style=\"position: absolute; top: -3.794em; left: 1.031em;\"><span class=\"texatom\" id=\"MathJax-Span-27\"><span class=\"mrow\" id=\"MathJax-Span-28\"><span class=\"mn\" id=\"MathJax-Span-29\" style=\"font-size: 101.8%; font-family: MathJax_Main;\">2</span></span></span><span style=\"display: inline-block; width: 0px; height: 4.01em;\"></span></span></span></span><span class=\"mo\" id=\"MathJax-Span-30\" style=\"font-size: 144%; font-family: MathJax_Main; padding-left: 0.222em;\">∗</span><span class=\"msubsup\" id=\"MathJax-Span-31\" style=\"padding-left: 0.32em;\"><span style=\"display: inline-block; position: relative; width: 1.441em; height: 0px;\"><span style=\"position: absolute; clip: rect(3.218em, 1000.75em, 4.183em, -1000em); top: -4.01em; left: 0em;\"><span class=\"mi\" id=\"MathJax-Span-32\" style=\"font-size: 144%; font-family: MathJax_Math; font-style: italic;\">x</span><span style=\"display: inline-block; width: 0px; height: 4.01em;\"></span></span><span style=\"position: absolute; top: -3.794em; left: 0.824em;\"><span class=\"texatom\" id=\"MathJax-Span-33\"><span class=\"mrow\" id=\"MathJax-Span-34\"><span class=\"mn\" id=\"MathJax-Span-35\" style=\"font-size: 101.8%; font-family: MathJax_Main;\">2</span></span></span><span style=\"display: inline-block; width: 0px; height: 4.01em;\"></span></span></span></span><span class=\"mo\" id=\"MathJax-Span-36\" style=\"font-size: 144%; font-family: MathJax_Main;\">+</span><span class=\"mo\" id=\"MathJax-Span-37\" style=\"font-size: 144%; font-family: MathJax_Main;\">.</span><span class=\"mo\" id=\"MathJax-Span-38\" style=\"font-size: 144%; font-family: MathJax_Main; padding-left: 0.167em;\">.</span><span class=\"mo\" id=\"MathJax-Span-39\" style=\"font-size: 144%; font-family: MathJax_Main; padding-left: 0.167em;\">.</span><span class=\"mo\" id=\"MathJax-Span-40\" style=\"font-size: 144%; font-family: MathJax_Main; padding-left: 0.167em;\">+</span><span class=\"msubsup\" id=\"MathJax-Span-41\"><span style=\"display: inline-block; position: relative; width: 2.033em; height: 0px;\"><span style=\"position: absolute; clip: rect(3.216em, 1000.99em, 4.183em, -1000em); top: -4.01em; left: 0em;\"><span class=\"mi\" id=\"MathJax-Span-42\" style=\"font-size: 144%; font-family: MathJax_Math; font-style: italic;\">w</span><span style=\"display: inline-block; width: 0px; height: 4.01em;\"></span></span><span style=\"position: absolute; top: -3.794em; left: 1.031em;\"><span class=\"texatom\" id=\"MathJax-Span-43\"><span class=\"mrow\" id=\"MathJax-Span-44\"><span class=\"mi\" id=\"MathJax-Span-45\" style=\"font-size: 101.8%; font-family: MathJax_Math; font-style: italic;\">m</span></span></span><span style=\"display: inline-block; width: 0px; height: 4.01em;\"></span></span></span></span><span class=\"mo\" id=\"MathJax-Span-46\" style=\"font-size: 144%; font-family: MathJax_Main; padding-left: 0.222em;\">∗</span><span class=\"msubsup\" id=\"MathJax-Span-47\" style=\"padding-left: 0.32em;\"><span style=\"display: inline-block; position: relative; width: 1.826em; height: 0px;\"><span style=\"position: absolute; clip: rect(3.218em, 1000.75em, 4.183em, -1000em); top: -4.01em; left: 0em;\"><span class=\"mi\" id=\"MathJax-Span-48\" style=\"font-size: 144%; font-family: MathJax_Math; font-style: italic;\">x</span><span style=\"display: inline-block; width: 0px; height: 4.01em;\"></span></span><span style=\"position: absolute; top: -3.794em; left: 0.824em;\"><span class=\"texatom\" id=\"MathJax-Span-49\"><span class=\"mrow\" id=\"MathJax-Span-50\"><span class=\"mi\" id=\"MathJax-Span-51\" style=\"font-size: 101.8%; font-family: MathJax_Math; font-style: italic;\">m</span></span></span><span style=\"display: inline-block; width: 0px; height: 4.01em;\"></span></span></span></span></span></span></span><span style=\"display: inline-block; width: 0px; height: 2.813em;\"></span></span></span><span style=\"display: inline-block; overflow: hidden; vertical-align: -0.349em; border-left: 0px solid; width: 0px; height: 1.419em;\"></span></span>\n",
    "\n",
    "Величина z помещается в сигмоидную функцию для вычисления вероятности:\n",
    "\n",
    "f<span style=\"display: inline-block; overflow: hidden; height: 1px; width: 0.06em;\"></span></span><span class=\"mo\" id=\"MathJax-Span-57\" style=\"font-size: 144%; font-family: MathJax_Main;\">(</span><span class=\"mi\" id=\"MathJax-Span-58\" style=\"font-size: 144%; font-family: MathJax_Math; font-style: italic;\">x</span><span class=\"mo\" id=\"MathJax-Span-59\" style=\"font-size: 144%; font-family: MathJax_Main;\">)</span><span class=\"mo\" id=\"MathJax-Span-60\" style=\"font-size: 144%; font-family: MathJax_Main; padding-left: 0.278em;\">=</span><span class=\"mfrac\" id=\"MathJax-Span-61\" style=\"padding-left: 0.4em;\"><span style=\"display: inline-block; position: relative; width: 2.922em; height: 0px; margin-right: 0.173em; margin-left: 0.173em;\"><span style=\"position: absolute; clip: rect(3.176em, 1000.44em, 4.167em, -1000em); top: -4.577em; left: 50%; margin-left: -0.255em;\"><span class=\"mn\" id=\"MathJax-Span-62\" style=\"font-size: 101.8%; font-family: MathJax_Main;\">1</span><span style=\"display: inline-block; width: 0px; height: 4.01em;\"></span></span><span style=\"position: absolute; clip: rect(3.14em, 1002.75em, 4.25em, -1000em); top: -3.472em; left: 50%; margin-left: -1.375em;\"><span class=\"mrow\" id=\"MathJax-Span-63\"><span class=\"mn\" id=\"MathJax-Span-64\" style=\"font-size: 101.8%; font-family: MathJax_Main;\">1</span><span class=\"mo\" id=\"MathJax-Span-65\" style=\"font-size: 101.8%; font-family: MathJax_Main;\">+</span><span class=\"msubsup\" id=\"MathJax-Span-66\"><span style=\"display: inline-block; position: relative; width: 1.448em; height: 0px;\"><span style=\"position: absolute; clip: rect(3.404em, 1000.44em, 4.178em, -1000em); top: -4.01em; left: 0em;\"><span class=\"mi\" id=\"MathJax-Span-67\" style=\"font-size: 101.8%; font-family: MathJax_Math; font-style: italic;\">e</span><span style=\"display: inline-block; width: 0px; height: 4.01em;\"></span></span><span style=\"position: absolute; top: -4.305em; left: 0.474em;\"><span class=\"texatom\" id=\"MathJax-Span-68\"><span class=\"mrow\" id=\"MathJax-Span-69\"><span class=\"mo\" id=\"MathJax-Span-70\" style=\"font-size: 72%; font-family: MathJax_Main;\">−</span><span class=\"mi\" id=\"MathJax-Span-71\" style=\"font-size: 72%; font-family: MathJax_Math; font-style: italic;\">z<span style=\"display: inline-block; overflow: hidden; height: 1px; width: 0.001em;\"></span></span></span></span><span style=\"display: inline-block; width: 0px; height: 4.01em;\"></span></span></span></span></span><span style=\"display: inline-block; width: 0px; height: 4.01em;\"></span></span><span style=\"position: absolute; clip: rect(0.851em, 1002.92em, 1.25em, -1000em); top: -1.411em; left: 0em;\"><span style=\"display: inline-block; overflow: hidden; vertical-align: 0em; border-top: 1.7px solid; width: 2.922em; height: 0px;\"></span><span style=\"display: inline-block; width: 0px; height: 1.094em;\"></span></span></span></span></span></span></span><span style=\"display: inline-block; width: 0px; height: 2.813em;\"></span></span></span><span style=\"display: inline-block; overflow: hidden; vertical-align: -0.808em; border-left: 0px solid; width: 0px; height: 2.365em;\"></span></span>\n",
    "\n",
    "Значение f(x) будет расположено на отрезке [0, 1].\n",
    "\n",
    "f(x) - вероятность отнесения события к классу 1,\n",
    "\n",
    "1-f(x) - вероятность отнесения события к классу 0.\n",
    "\n",
    "<b>Log loss</b>\n",
    "\n",
    "Алгоритм логистической регрессии минимизирует величину logloss:\n",
    "\n",
    "<span style=\"display: inline-block; position: relative; width: 25.573em; height: 0px; font-size: 120%;\"><span style=\"position: absolute; clip: rect(1.576em, 1025.44em, 3.329em, -1000em); top: -2.813em; left: 0em;\"><span class=\"mrow\" id=\"MathJax-Span-111\"><span class=\"mstyle\" id=\"MathJax-Span-112\"><span class=\"mrow\" id=\"MathJax-Span-113\"><span class=\"mi\" id=\"MathJax-Span-114\" style=\"font-size: 144%; font-family: MathJax_Math; font-style: italic;\">l</span><span class=\"mi\" id=\"MathJax-Span-115\" style=\"font-size: 144%; font-family: MathJax_Math; font-style: italic;\">o</span><span class=\"mi\" id=\"MathJax-Span-116\" style=\"font-size: 144%; font-family: MathJax_Math; font-style: italic;\">g<span style=\"display: inline-block; overflow: hidden; height: 1px; width: 0.003em;\"></span></span><span class=\"mi\" id=\"MathJax-Span-117\" style=\"font-size: 144%; font-family: MathJax_Math; font-style: italic;\">l</span><span class=\"mi\" id=\"MathJax-Span-118\" style=\"font-size: 144%; font-family: MathJax_Math; font-style: italic;\">o</span><span class=\"mi\" id=\"MathJax-Span-119\" style=\"font-size: 144%; font-family: MathJax_Math; font-style: italic;\">s</span><span class=\"mi\" id=\"MathJax-Span-120\" style=\"font-size: 144%; font-family: MathJax_Math; font-style: italic;\">s</span><span class=\"mo\" id=\"MathJax-Span-121\" style=\"font-size: 144%; font-family: MathJax_Main; padding-left: 0.278em;\">=</span><span class=\"mo\" id=\"MathJax-Span-122\" style=\"font-size: 144%; font-family: MathJax_Main; padding-left: 0.278em;\">−</span><span class=\"mi\" id=\"MathJax-Span-123\" style=\"font-size: 144%; font-family: MathJax_Math; font-style: italic;\">y<span style=\"display: inline-block; overflow: hidden; height: 1px; width: 0.006em;\"></span></span><span class=\"mo\" id=\"MathJax-Span-124\" style=\"font-size: 144%; font-family: MathJax_Main; padding-left: 0.222em;\">∗</span><span class=\"mi\" id=\"MathJax-Span-125\" style=\"font-size: 144%; font-family: MathJax_Math; font-style: italic; padding-left: 0.222em;\">l</span><span class=\"mi\" id=\"MathJax-Span-126\" style=\"font-size: 144%; font-family: MathJax_Math; font-style: italic;\">n</span><span class=\"mo\" id=\"MathJax-Span-127\" style=\"font-size: 144%; font-family: MathJax_Main;\">(</span><span class=\"mi\" id=\"MathJax-Span-128\" style=\"font-size: 144%; font-family: MathJax_Math; font-style: italic;\">p</span><span class=\"mo\" id=\"MathJax-Span-129\" style=\"font-size: 144%; font-family: MathJax_Main;\">)</span><span class=\"mo\" id=\"MathJax-Span-130\" style=\"font-size: 144%; font-family: MathJax_Main; padding-left: 0.222em;\">−</span><span class=\"mo\" id=\"MathJax-Span-131\" style=\"font-size: 144%; font-family: MathJax_Main; padding-left: 0.222em;\">(</span><span class=\"mn\" id=\"MathJax-Span-132\" style=\"font-size: 144%; font-family: MathJax_Main;\">1</span><span class=\"mo\" id=\"MathJax-Span-133\" style=\"font-size: 144%; font-family: MathJax_Main; padding-left: 0.222em;\">−</span><span class=\"mi\" id=\"MathJax-Span-134\" style=\"font-size: 144%; font-family: MathJax_Math; font-style: italic; padding-left: 0.222em;\">y<span style=\"display: inline-block; overflow: hidden; height: 1px; width: 0.006em;\"></span></span><span class=\"mo\" id=\"MathJax-Span-135\" style=\"font-size: 144%; font-family: MathJax_Main;\">)</span><span class=\"mo\" id=\"MathJax-Span-136\" style=\"font-size: 144%; font-family: MathJax_Main; padding-left: 0.222em;\">∗</span><span class=\"mi\" id=\"MathJax-Span-137\" style=\"font-size: 144%; font-family: MathJax_Math; font-style: italic; padding-left: 0.222em;\">l</span><span class=\"mi\" id=\"MathJax-Span-138\" style=\"font-size: 144%; font-family: MathJax_Math; font-style: italic;\">n</span><span class=\"mo\" id=\"MathJax-Span-139\" style=\"font-size: 144%; font-family: MathJax_Main;\">(</span><span class=\"mn\" id=\"MathJax-Span-140\" style=\"font-size: 144%; font-family: MathJax_Main;\">1</span><span class=\"mo\" id=\"MathJax-Span-141\" style=\"font-size: 144%; font-family: MathJax_Main; padding-left: 0.222em;\">−</span><span class=\"mi\" id=\"MathJax-Span-142\" style=\"font-size: 144%; font-family: MathJax_Math; font-style: italic; padding-left: 0.222em;\">p</span><span class=\"mo\" id=\"MathJax-Span-143\" style=\"font-size: 144%; font-family: MathJax_Main;\">)</span></span></span></span><span style=\"display: inline-block; width: 0px; height: 2.813em;\"></span></span></span><span style=\"display: inline-block; overflow: hidden; vertical-align: -0.494em; border-left: 0px solid; width: 0px; height: 1.853em;\"></span></span>\n",
    "где y - истинное значение  (0 или 1)\n",
    "\n",
    "p - вычисленная алгоритмом вероятность того, что событие принадлежит классу 1\n",
    "\n",
    "<b>Titanic</b>\n",
    "\n",
    "Для получения классификации мы будем использовать\n",
    "\n",
    "датасет с информацией о пассажирах <b>Titanic</b> с сайта Kaggle.com\n",
    "\n",
    "Ссылка <a href=\"https://www.kaggle.com/c/titanic/data\">https://www.kaggle.com/c/titanic/data</a>\n",
    "\n",
    "нам понадобится файл под названием train.csv, который мы поместим в папку input:"
   ]
  },
  {
   "cell_type": "code",
   "execution_count": 2,
   "metadata": {
    "pycharm": {
     "name": "#%%\n"
    }
   },
   "outputs": [],
   "source": [
    "data = pd.read_csv('input/train.csv')"
   ]
  },
  {
   "cell_type": "code",
   "execution_count": 3,
   "outputs": [
    {
     "data": {
      "text/plain": "   PassengerId  Survived  Pclass  \\\n0            1         0       3   \n1            2         1       1   \n2            3         1       3   \n3            4         1       1   \n4            5         0       3   \n5            6         0       3   \n6            7         0       1   \n7            8         0       3   \n8            9         1       3   \n9           10         1       2   \n\n                                                Name     Sex   Age  SibSp  \\\n0                            Braund, Mr. Owen Harris    male  22.0      1   \n1  Cumings, Mrs. John Bradley (Florence Briggs Th...  female  38.0      1   \n2                             Heikkinen, Miss. Laina  female  26.0      0   \n3       Futrelle, Mrs. Jacques Heath (Lily May Peel)  female  35.0      1   \n4                           Allen, Mr. William Henry    male  35.0      0   \n5                                   Moran, Mr. James    male   NaN      0   \n6                            McCarthy, Mr. Timothy J    male  54.0      0   \n7                     Palsson, Master. Gosta Leonard    male   2.0      3   \n8  Johnson, Mrs. Oscar W (Elisabeth Vilhelmina Berg)  female  27.0      0   \n9                Nasser, Mrs. Nicholas (Adele Achem)  female  14.0      1   \n\n   Parch            Ticket     Fare Cabin Embarked  \n0      0         A/5 21171   7.2500   NaN        S  \n1      0          PC 17599  71.2833   C85        C  \n2      0  STON/O2. 3101282   7.9250   NaN        S  \n3      0            113803  53.1000  C123        S  \n4      0            373450   8.0500   NaN        S  \n5      0            330877   8.4583   NaN        Q  \n6      0             17463  51.8625   E46        S  \n7      1            349909  21.0750   NaN        S  \n8      2            347742  11.1333   NaN        S  \n9      0            237736  30.0708   NaN        C  ",
      "text/html": "<div>\n<style scoped>\n    .dataframe tbody tr th:only-of-type {\n        vertical-align: middle;\n    }\n\n    .dataframe tbody tr th {\n        vertical-align: top;\n    }\n\n    .dataframe thead th {\n        text-align: right;\n    }\n</style>\n<table border=\"1\" class=\"dataframe\">\n  <thead>\n    <tr style=\"text-align: right;\">\n      <th></th>\n      <th>PassengerId</th>\n      <th>Survived</th>\n      <th>Pclass</th>\n      <th>Name</th>\n      <th>Sex</th>\n      <th>Age</th>\n      <th>SibSp</th>\n      <th>Parch</th>\n      <th>Ticket</th>\n      <th>Fare</th>\n      <th>Cabin</th>\n      <th>Embarked</th>\n    </tr>\n  </thead>\n  <tbody>\n    <tr>\n      <th>0</th>\n      <td>1</td>\n      <td>0</td>\n      <td>3</td>\n      <td>Braund, Mr. Owen Harris</td>\n      <td>male</td>\n      <td>22.0</td>\n      <td>1</td>\n      <td>0</td>\n      <td>A/5 21171</td>\n      <td>7.2500</td>\n      <td>NaN</td>\n      <td>S</td>\n    </tr>\n    <tr>\n      <th>1</th>\n      <td>2</td>\n      <td>1</td>\n      <td>1</td>\n      <td>Cumings, Mrs. John Bradley (Florence Briggs Th...</td>\n      <td>female</td>\n      <td>38.0</td>\n      <td>1</td>\n      <td>0</td>\n      <td>PC 17599</td>\n      <td>71.2833</td>\n      <td>C85</td>\n      <td>C</td>\n    </tr>\n    <tr>\n      <th>2</th>\n      <td>3</td>\n      <td>1</td>\n      <td>3</td>\n      <td>Heikkinen, Miss. Laina</td>\n      <td>female</td>\n      <td>26.0</td>\n      <td>0</td>\n      <td>0</td>\n      <td>STON/O2. 3101282</td>\n      <td>7.9250</td>\n      <td>NaN</td>\n      <td>S</td>\n    </tr>\n    <tr>\n      <th>3</th>\n      <td>4</td>\n      <td>1</td>\n      <td>1</td>\n      <td>Futrelle, Mrs. Jacques Heath (Lily May Peel)</td>\n      <td>female</td>\n      <td>35.0</td>\n      <td>1</td>\n      <td>0</td>\n      <td>113803</td>\n      <td>53.1000</td>\n      <td>C123</td>\n      <td>S</td>\n    </tr>\n    <tr>\n      <th>4</th>\n      <td>5</td>\n      <td>0</td>\n      <td>3</td>\n      <td>Allen, Mr. William Henry</td>\n      <td>male</td>\n      <td>35.0</td>\n      <td>0</td>\n      <td>0</td>\n      <td>373450</td>\n      <td>8.0500</td>\n      <td>NaN</td>\n      <td>S</td>\n    </tr>\n    <tr>\n      <th>5</th>\n      <td>6</td>\n      <td>0</td>\n      <td>3</td>\n      <td>Moran, Mr. James</td>\n      <td>male</td>\n      <td>NaN</td>\n      <td>0</td>\n      <td>0</td>\n      <td>330877</td>\n      <td>8.4583</td>\n      <td>NaN</td>\n      <td>Q</td>\n    </tr>\n    <tr>\n      <th>6</th>\n      <td>7</td>\n      <td>0</td>\n      <td>1</td>\n      <td>McCarthy, Mr. Timothy J</td>\n      <td>male</td>\n      <td>54.0</td>\n      <td>0</td>\n      <td>0</td>\n      <td>17463</td>\n      <td>51.8625</td>\n      <td>E46</td>\n      <td>S</td>\n    </tr>\n    <tr>\n      <th>7</th>\n      <td>8</td>\n      <td>0</td>\n      <td>3</td>\n      <td>Palsson, Master. Gosta Leonard</td>\n      <td>male</td>\n      <td>2.0</td>\n      <td>3</td>\n      <td>1</td>\n      <td>349909</td>\n      <td>21.0750</td>\n      <td>NaN</td>\n      <td>S</td>\n    </tr>\n    <tr>\n      <th>8</th>\n      <td>9</td>\n      <td>1</td>\n      <td>3</td>\n      <td>Johnson, Mrs. Oscar W (Elisabeth Vilhelmina Berg)</td>\n      <td>female</td>\n      <td>27.0</td>\n      <td>0</td>\n      <td>2</td>\n      <td>347742</td>\n      <td>11.1333</td>\n      <td>NaN</td>\n      <td>S</td>\n    </tr>\n    <tr>\n      <th>9</th>\n      <td>10</td>\n      <td>1</td>\n      <td>2</td>\n      <td>Nasser, Mrs. Nicholas (Adele Achem)</td>\n      <td>female</td>\n      <td>14.0</td>\n      <td>1</td>\n      <td>0</td>\n      <td>237736</td>\n      <td>30.0708</td>\n      <td>NaN</td>\n      <td>C</td>\n    </tr>\n  </tbody>\n</table>\n</div>"
     },
     "execution_count": 3,
     "metadata": {},
     "output_type": "execute_result"
    }
   ],
   "source": [
    "data.head(10)"
   ],
   "metadata": {
    "collapsed": false,
    "pycharm": {
     "name": "#%%\n"
    }
   }
  },
  {
   "cell_type": "markdown",
   "source": [
    "Установим в качестве индекса PassengerId - так нам будет проще отслеживать, с информацией о каком пассажире мы работаем"
   ],
   "metadata": {
    "collapsed": false,
    "pycharm": {
     "name": "#%% md\n"
    }
   }
  },
  {
   "cell_type": "code",
   "execution_count": 4,
   "outputs": [],
   "source": [
    "data = data.set_index('PassengerId')"
   ],
   "metadata": {
    "collapsed": false,
    "pycharm": {
     "name": "#%%\n"
    }
   }
  },
  {
   "cell_type": "code",
   "execution_count": 5,
   "outputs": [
    {
     "data": {
      "text/plain": "             Survived  Pclass  \\\nPassengerId                     \n1                   0       3   \n2                   1       1   \n3                   1       3   \n4                   1       1   \n5                   0       3   \n\n                                                          Name     Sex   Age  \\\nPassengerId                                                                    \n1                                      Braund, Mr. Owen Harris    male  22.0   \n2            Cumings, Mrs. John Bradley (Florence Briggs Th...  female  38.0   \n3                                       Heikkinen, Miss. Laina  female  26.0   \n4                 Futrelle, Mrs. Jacques Heath (Lily May Peel)  female  35.0   \n5                                     Allen, Mr. William Henry    male  35.0   \n\n             SibSp  Parch            Ticket     Fare Cabin Embarked  \nPassengerId                                                          \n1                1      0         A/5 21171   7.2500   NaN        S  \n2                1      0          PC 17599  71.2833   C85        C  \n3                0      0  STON/O2. 3101282   7.9250   NaN        S  \n4                1      0            113803  53.1000  C123        S  \n5                0      0            373450   8.0500   NaN        S  ",
      "text/html": "<div>\n<style scoped>\n    .dataframe tbody tr th:only-of-type {\n        vertical-align: middle;\n    }\n\n    .dataframe tbody tr th {\n        vertical-align: top;\n    }\n\n    .dataframe thead th {\n        text-align: right;\n    }\n</style>\n<table border=\"1\" class=\"dataframe\">\n  <thead>\n    <tr style=\"text-align: right;\">\n      <th></th>\n      <th>Survived</th>\n      <th>Pclass</th>\n      <th>Name</th>\n      <th>Sex</th>\n      <th>Age</th>\n      <th>SibSp</th>\n      <th>Parch</th>\n      <th>Ticket</th>\n      <th>Fare</th>\n      <th>Cabin</th>\n      <th>Embarked</th>\n    </tr>\n    <tr>\n      <th>PassengerId</th>\n      <th></th>\n      <th></th>\n      <th></th>\n      <th></th>\n      <th></th>\n      <th></th>\n      <th></th>\n      <th></th>\n      <th></th>\n      <th></th>\n      <th></th>\n    </tr>\n  </thead>\n  <tbody>\n    <tr>\n      <th>1</th>\n      <td>0</td>\n      <td>3</td>\n      <td>Braund, Mr. Owen Harris</td>\n      <td>male</td>\n      <td>22.0</td>\n      <td>1</td>\n      <td>0</td>\n      <td>A/5 21171</td>\n      <td>7.2500</td>\n      <td>NaN</td>\n      <td>S</td>\n    </tr>\n    <tr>\n      <th>2</th>\n      <td>1</td>\n      <td>1</td>\n      <td>Cumings, Mrs. John Bradley (Florence Briggs Th...</td>\n      <td>female</td>\n      <td>38.0</td>\n      <td>1</td>\n      <td>0</td>\n      <td>PC 17599</td>\n      <td>71.2833</td>\n      <td>C85</td>\n      <td>C</td>\n    </tr>\n    <tr>\n      <th>3</th>\n      <td>1</td>\n      <td>3</td>\n      <td>Heikkinen, Miss. Laina</td>\n      <td>female</td>\n      <td>26.0</td>\n      <td>0</td>\n      <td>0</td>\n      <td>STON/O2. 3101282</td>\n      <td>7.9250</td>\n      <td>NaN</td>\n      <td>S</td>\n    </tr>\n    <tr>\n      <th>4</th>\n      <td>1</td>\n      <td>1</td>\n      <td>Futrelle, Mrs. Jacques Heath (Lily May Peel)</td>\n      <td>female</td>\n      <td>35.0</td>\n      <td>1</td>\n      <td>0</td>\n      <td>113803</td>\n      <td>53.1000</td>\n      <td>C123</td>\n      <td>S</td>\n    </tr>\n    <tr>\n      <th>5</th>\n      <td>0</td>\n      <td>3</td>\n      <td>Allen, Mr. William Henry</td>\n      <td>male</td>\n      <td>35.0</td>\n      <td>0</td>\n      <td>0</td>\n      <td>373450</td>\n      <td>8.0500</td>\n      <td>NaN</td>\n      <td>S</td>\n    </tr>\n  </tbody>\n</table>\n</div>"
     },
     "execution_count": 5,
     "metadata": {},
     "output_type": "execute_result"
    }
   ],
   "source": [
    "data.head()"
   ],
   "metadata": {
    "collapsed": false,
    "pycharm": {
     "name": "#%%\n"
    }
   }
  },
  {
   "cell_type": "code",
   "execution_count": 6,
   "outputs": [
    {
     "data": {
      "text/plain": "Index(['Survived', 'Pclass', 'Name', 'Sex', 'Age', 'SibSp', 'Parch', 'Ticket',\n       'Fare', 'Cabin', 'Embarked'],\n      dtype='object')"
     },
     "execution_count": 6,
     "metadata": {},
     "output_type": "execute_result"
    }
   ],
   "source": [
    "data.columns"
   ],
   "metadata": {
    "collapsed": false,
    "pycharm": {
     "name": "#%%\n"
    }
   }
  },
  {
   "cell_type": "markdown",
   "source": [
    "Новая задача - определить, выжил ли человек при крушении Титаника\n",
    "\n",
    "В поле Survived выжившие пассажиры обозначены еденицей, а умершие - нулем"
   ],
   "metadata": {
    "collapsed": false,
    "pycharm": {
     "name": "#%% md\n"
    }
   }
  },
  {
   "cell_type": "code",
   "execution_count": 7,
   "outputs": [],
   "source": [
    "target = 'Survived'"
   ],
   "metadata": {
    "collapsed": false,
    "pycharm": {
     "name": "#%%\n"
    }
   }
  },
  {
   "cell_type": "code",
   "execution_count": 8,
   "outputs": [],
   "source": [
    "y = data[target]"
   ],
   "metadata": {
    "collapsed": false,
    "pycharm": {
     "name": "#%%\n"
    }
   }
  },
  {
   "cell_type": "code",
   "execution_count": 9,
   "outputs": [],
   "source": [
    "x = data.drop(target, axis=1)"
   ],
   "metadata": {
    "collapsed": false,
    "pycharm": {
     "name": "#%%\n"
    }
   }
  },
  {
   "cell_type": "markdown",
   "source": [
    "#### Изучение качества данных и их очистка"
   ],
   "metadata": {
    "collapsed": false,
    "pycharm": {
     "name": "#%% md\n"
    }
   }
  },
  {
   "cell_type": "code",
   "execution_count": 10,
   "outputs": [
    {
     "name": "stdout",
     "output_type": "stream",
     "text": [
      "<class 'pandas.core.frame.DataFrame'>\n",
      "Int64Index: 891 entries, 1 to 891\n",
      "Data columns (total 10 columns):\n",
      " #   Column    Non-Null Count  Dtype  \n",
      "---  ------    --------------  -----  \n",
      " 0   Pclass    891 non-null    int64  \n",
      " 1   Name      891 non-null    object \n",
      " 2   Sex       891 non-null    object \n",
      " 3   Age       714 non-null    float64\n",
      " 4   SibSp     891 non-null    int64  \n",
      " 5   Parch     891 non-null    int64  \n",
      " 6   Ticket    891 non-null    object \n",
      " 7   Fare      891 non-null    float64\n",
      " 8   Cabin     204 non-null    object \n",
      " 9   Embarked  889 non-null    object \n",
      "dtypes: float64(2), int64(3), object(5)\n",
      "memory usage: 76.6+ KB\n"
     ]
    }
   ],
   "source": [
    "x.info()"
   ],
   "metadata": {
    "collapsed": false,
    "pycharm": {
     "name": "#%%\n"
    }
   }
  },
  {
   "cell_type": "markdown",
   "source": [
    "В поле Cabin слишком много пропущенных значений,\n",
    "\n",
    "в этом уроке мы не будем его использовать.\n",
    "\n",
    "Столбцы Name и Ticket также в этот раз не рассматриваем.\n",
    "\n",
    "Удалим эти поля:\n",
    "\n"
   ],
   "metadata": {
    "collapsed": false,
    "pycharm": {
     "name": "#%% md\n"
    }
   }
  },
  {
   "cell_type": "code",
   "execution_count": 11,
   "outputs": [],
   "source": [
    "x = x.drop(['Cabin', 'Name', 'Ticket'], axis=1)"
   ],
   "metadata": {
    "collapsed": false,
    "pycharm": {
     "name": "#%%\n"
    }
   }
  },
  {
   "cell_type": "markdown",
   "source": [
    "В поле возраст 20% значение не заполнено. Заменим пропущенные значения на значения среднего возраста."
   ],
   "metadata": {
    "collapsed": false,
    "pycharm": {
     "name": "#%% md\n"
    }
   }
  },
  {
   "cell_type": "code",
   "execution_count": 12,
   "outputs": [
    {
     "data": {
      "text/plain": "29.69911764705882"
     },
     "execution_count": 12,
     "metadata": {},
     "output_type": "execute_result"
    }
   ],
   "source": [
    "mean_age = x['Age'].mean()\n",
    "mean_age"
   ],
   "metadata": {
    "collapsed": false,
    "pycharm": {
     "name": "#%%\n"
    }
   }
  },
  {
   "cell_type": "code",
   "execution_count": 13,
   "outputs": [],
   "source": [
    "x['Age'] = x['Age'].fillna(mean_age)\n",
    "\n"
   ],
   "metadata": {
    "collapsed": false,
    "pycharm": {
     "name": "#%%\n"
    }
   }
  },
  {
   "cell_type": "code",
   "execution_count": 14,
   "outputs": [
    {
     "data": {
      "text/plain": "array([22.        , 38.        , 26.        , 35.        , 29.69911765,\n       54.        ,  2.        , 27.        , 14.        ,  4.        ,\n       58.        , 20.        , 39.        , 55.        , 31.        ,\n       34.        , 15.        , 28.        ,  8.        , 19.        ,\n       40.        , 66.        , 42.        , 21.        , 18.        ,\n        3.        ,  7.        , 49.        , 29.        , 65.        ,\n       28.5       ,  5.        , 11.        , 45.        , 17.        ,\n       32.        , 16.        , 25.        ,  0.83      , 30.        ,\n       33.        , 23.        , 24.        , 46.        , 59.        ,\n       71.        , 37.        , 47.        , 14.5       , 70.5       ,\n       32.5       , 12.        ,  9.        , 36.5       , 51.        ,\n       55.5       , 40.5       , 44.        ,  1.        , 61.        ,\n       56.        , 50.        , 36.        , 45.5       , 20.5       ,\n       62.        , 41.        , 52.        , 63.        , 23.5       ,\n        0.92      , 43.        , 60.        , 10.        , 64.        ,\n       13.        , 48.        ,  0.75      , 53.        , 57.        ,\n       80.        , 70.        , 24.5       ,  6.        ,  0.67      ,\n       30.5       ,  0.42      , 34.5       , 74.        ])"
     },
     "execution_count": 14,
     "metadata": {},
     "output_type": "execute_result"
    }
   ],
   "source": [
    "x['Age'].unique()"
   ],
   "metadata": {
    "collapsed": false,
    "pycharm": {
     "name": "#%%\n"
    }
   }
  },
  {
   "cell_type": "markdown",
   "source": [
    "В поле Embarked, которое является текстовым, не хватает двух значений,\n",
    "\n",
    "заполним пропущенные значения наиболее часто встречающимся значением (мода)"
   ],
   "metadata": {
    "collapsed": false,
    "pycharm": {
     "name": "#%% md\n"
    }
   }
  },
  {
   "cell_type": "code",
   "execution_count": 15,
   "outputs": [
    {
     "data": {
      "text/plain": "S    644\nC    168\nQ     77\nName: Embarked, dtype: int64"
     },
     "execution_count": 15,
     "metadata": {},
     "output_type": "execute_result"
    }
   ],
   "source": [
    "x['Embarked'].value_counts()\n",
    "\n"
   ],
   "metadata": {
    "collapsed": false,
    "pycharm": {
     "name": "#%%\n"
    }
   }
  },
  {
   "cell_type": "code",
   "execution_count": 16,
   "outputs": [
    {
     "data": {
      "text/plain": "'S'"
     },
     "execution_count": 16,
     "metadata": {},
     "output_type": "execute_result"
    }
   ],
   "source": [
    "embarked_mode = x['Embarked'].mode()[0]\n",
    "embarked_mode"
   ],
   "metadata": {
    "collapsed": false,
    "pycharm": {
     "name": "#%%\n"
    }
   }
  },
  {
   "cell_type": "code",
   "execution_count": 17,
   "outputs": [],
   "source": [
    "x['Embarked'] = x['Embarked'].fillna(embarked_mode)"
   ],
   "metadata": {
    "collapsed": false,
    "pycharm": {
     "name": "#%%\n"
    }
   }
  },
  {
   "cell_type": "code",
   "execution_count": 18,
   "outputs": [
    {
     "data": {
      "text/plain": "S    646\nC    168\nQ     77\nName: Embarked, dtype: int64"
     },
     "execution_count": 18,
     "metadata": {},
     "output_type": "execute_result"
    }
   ],
   "source": [
    "x['Embarked'].value_counts()"
   ],
   "metadata": {
    "collapsed": false,
    "pycharm": {
     "name": "#%%\n"
    }
   }
  },
  {
   "cell_type": "code",
   "execution_count": 19,
   "outputs": [
    {
     "name": "stdout",
     "output_type": "stream",
     "text": [
      "<class 'pandas.core.frame.DataFrame'>\n",
      "Int64Index: 891 entries, 1 to 891\n",
      "Data columns (total 7 columns):\n",
      " #   Column    Non-Null Count  Dtype  \n",
      "---  ------    --------------  -----  \n",
      " 0   Pclass    891 non-null    int64  \n",
      " 1   Sex       891 non-null    object \n",
      " 2   Age       891 non-null    float64\n",
      " 3   SibSp     891 non-null    int64  \n",
      " 4   Parch     891 non-null    int64  \n",
      " 5   Fare      891 non-null    float64\n",
      " 6   Embarked  891 non-null    object \n",
      "dtypes: float64(2), int64(3), object(2)\n",
      "memory usage: 55.7+ KB\n"
     ]
    }
   ],
   "source": [
    "x.info()"
   ],
   "metadata": {
    "collapsed": false,
    "pycharm": {
     "name": "#%%\n"
    }
   }
  },
  {
   "cell_type": "markdown",
   "source": [
    "#### Работа с категориальными признаками\n",
    "Признак пола пассажир (Sex) - категориальная переменная. Так как в ней два класса,\n",
    "\n",
    "то мы можем представить одной колонкой со\n",
    "\n",
    "значениями 0 и 1"
   ],
   "metadata": {
    "collapsed": false,
    "pycharm": {
     "name": "#%% md\n"
    }
   }
  },
  {
   "cell_type": "code",
   "execution_count": 20,
   "outputs": [
    {
     "data": {
      "text/plain": "male      577\nfemale    314\nName: Sex, dtype: int64"
     },
     "execution_count": 20,
     "metadata": {},
     "output_type": "execute_result"
    }
   ],
   "source": [
    "x['Sex'].value_counts()"
   ],
   "metadata": {
    "collapsed": false,
    "pycharm": {
     "name": "#%%\n"
    }
   }
  },
  {
   "cell_type": "code",
   "execution_count": 21,
   "outputs": [],
   "source": [
    "x['Sex'] = (x['Sex'] == 'female').astype(int)"
   ],
   "metadata": {
    "collapsed": false,
    "pycharm": {
     "name": "#%%\n"
    }
   }
  },
  {
   "cell_type": "code",
   "execution_count": 22,
   "outputs": [
    {
     "data": {
      "text/plain": "0    577\n1    314\nName: Sex, dtype: int64"
     },
     "execution_count": 22,
     "metadata": {},
     "output_type": "execute_result"
    }
   ],
   "source": [
    "x['Sex'].value_counts()"
   ],
   "metadata": {
    "collapsed": false,
    "pycharm": {
     "name": "#%%\n"
    }
   }
  },
  {
   "cell_type": "markdown",
   "source": [
    "Еще одна категориальная переменная - Embarked.\n",
    "\n",
    "Преобразуем ее значения в dummy переменные.\n",
    "\n",
    "Теперь каждому ее значению будет отведен отдельный столбец,\n",
    "\n",
    "в котором возможны два числа:\n",
    "\n",
    "    1 (переменная равна данному значению),\n",
    "    0 (переменная не равна данному значению)"
   ],
   "metadata": {
    "collapsed": false,
    "pycharm": {
     "name": "#%% md\n"
    }
   }
  },
  {
   "cell_type": "code",
   "execution_count": 23,
   "outputs": [],
   "source": [
    "x = pd.get_dummies(x)"
   ],
   "metadata": {
    "collapsed": false,
    "pycharm": {
     "name": "#%%\n"
    }
   }
  },
  {
   "cell_type": "markdown",
   "source": [
    "Переменная Embarked преобразовалась в дамми переменные Embarked_C, Embarked_Q, Embarked_S:"
   ],
   "metadata": {
    "collapsed": false,
    "pycharm": {
     "name": "#%% md\n"
    }
   }
  },
  {
   "cell_type": "code",
   "execution_count": 24,
   "outputs": [
    {
     "data": {
      "text/plain": "Index(['Pclass', 'Sex', 'Age', 'SibSp', 'Parch', 'Fare', 'Embarked_C',\n       'Embarked_Q', 'Embarked_S'],\n      dtype='object')"
     },
     "execution_count": 24,
     "metadata": {},
     "output_type": "execute_result"
    }
   ],
   "source": [
    "x.columns"
   ],
   "metadata": {
    "collapsed": false,
    "pycharm": {
     "name": "#%%\n"
    }
   }
  },
  {
   "cell_type": "code",
   "execution_count": 25,
   "outputs": [
    {
     "name": "stdout",
     "output_type": "stream",
     "text": [
      "<class 'pandas.core.frame.DataFrame'>\n",
      "Int64Index: 891 entries, 1 to 891\n",
      "Data columns (total 9 columns):\n",
      " #   Column      Non-Null Count  Dtype  \n",
      "---  ------      --------------  -----  \n",
      " 0   Pclass      891 non-null    int64  \n",
      " 1   Sex         891 non-null    int32  \n",
      " 2   Age         891 non-null    float64\n",
      " 3   SibSp       891 non-null    int64  \n",
      " 4   Parch       891 non-null    int64  \n",
      " 5   Fare        891 non-null    float64\n",
      " 6   Embarked_C  891 non-null    uint8  \n",
      " 7   Embarked_Q  891 non-null    uint8  \n",
      " 8   Embarked_S  891 non-null    uint8  \n",
      "dtypes: float64(2), int32(1), int64(3), uint8(3)\n",
      "memory usage: 47.9 KB\n"
     ]
    }
   ],
   "source": [
    "x.info()"
   ],
   "metadata": {
    "collapsed": false,
    "pycharm": {
     "name": "#%%\n"
    }
   }
  },
  {
   "cell_type": "code",
   "execution_count": 26,
   "outputs": [
    {
     "data": {
      "text/plain": "             Pclass  Sex        Age  SibSp  Parch     Fare  Embarked_C  \\\nPassengerId                                                              \n1                 3    0  22.000000      1      0   7.2500           0   \n2                 1    1  38.000000      1      0  71.2833           1   \n3                 3    1  26.000000      0      0   7.9250           0   \n4                 1    1  35.000000      1      0  53.1000           0   \n5                 3    0  35.000000      0      0   8.0500           0   \n6                 3    0  29.699118      0      0   8.4583           0   \n7                 1    0  54.000000      0      0  51.8625           0   \n8                 3    0   2.000000      3      1  21.0750           0   \n9                 3    1  27.000000      0      2  11.1333           0   \n10                2    1  14.000000      1      0  30.0708           1   \n\n             Embarked_Q  Embarked_S  \nPassengerId                          \n1                     0           1  \n2                     0           0  \n3                     0           1  \n4                     0           1  \n5                     0           1  \n6                     1           0  \n7                     0           1  \n8                     0           1  \n9                     0           1  \n10                    0           0  ",
      "text/html": "<div>\n<style scoped>\n    .dataframe tbody tr th:only-of-type {\n        vertical-align: middle;\n    }\n\n    .dataframe tbody tr th {\n        vertical-align: top;\n    }\n\n    .dataframe thead th {\n        text-align: right;\n    }\n</style>\n<table border=\"1\" class=\"dataframe\">\n  <thead>\n    <tr style=\"text-align: right;\">\n      <th></th>\n      <th>Pclass</th>\n      <th>Sex</th>\n      <th>Age</th>\n      <th>SibSp</th>\n      <th>Parch</th>\n      <th>Fare</th>\n      <th>Embarked_C</th>\n      <th>Embarked_Q</th>\n      <th>Embarked_S</th>\n    </tr>\n    <tr>\n      <th>PassengerId</th>\n      <th></th>\n      <th></th>\n      <th></th>\n      <th></th>\n      <th></th>\n      <th></th>\n      <th></th>\n      <th></th>\n      <th></th>\n    </tr>\n  </thead>\n  <tbody>\n    <tr>\n      <th>1</th>\n      <td>3</td>\n      <td>0</td>\n      <td>22.000000</td>\n      <td>1</td>\n      <td>0</td>\n      <td>7.2500</td>\n      <td>0</td>\n      <td>0</td>\n      <td>1</td>\n    </tr>\n    <tr>\n      <th>2</th>\n      <td>1</td>\n      <td>1</td>\n      <td>38.000000</td>\n      <td>1</td>\n      <td>0</td>\n      <td>71.2833</td>\n      <td>1</td>\n      <td>0</td>\n      <td>0</td>\n    </tr>\n    <tr>\n      <th>3</th>\n      <td>3</td>\n      <td>1</td>\n      <td>26.000000</td>\n      <td>0</td>\n      <td>0</td>\n      <td>7.9250</td>\n      <td>0</td>\n      <td>0</td>\n      <td>1</td>\n    </tr>\n    <tr>\n      <th>4</th>\n      <td>1</td>\n      <td>1</td>\n      <td>35.000000</td>\n      <td>1</td>\n      <td>0</td>\n      <td>53.1000</td>\n      <td>0</td>\n      <td>0</td>\n      <td>1</td>\n    </tr>\n    <tr>\n      <th>5</th>\n      <td>3</td>\n      <td>0</td>\n      <td>35.000000</td>\n      <td>0</td>\n      <td>0</td>\n      <td>8.0500</td>\n      <td>0</td>\n      <td>0</td>\n      <td>1</td>\n    </tr>\n    <tr>\n      <th>6</th>\n      <td>3</td>\n      <td>0</td>\n      <td>29.699118</td>\n      <td>0</td>\n      <td>0</td>\n      <td>8.4583</td>\n      <td>0</td>\n      <td>1</td>\n      <td>0</td>\n    </tr>\n    <tr>\n      <th>7</th>\n      <td>1</td>\n      <td>0</td>\n      <td>54.000000</td>\n      <td>0</td>\n      <td>0</td>\n      <td>51.8625</td>\n      <td>0</td>\n      <td>0</td>\n      <td>1</td>\n    </tr>\n    <tr>\n      <th>8</th>\n      <td>3</td>\n      <td>0</td>\n      <td>2.000000</td>\n      <td>3</td>\n      <td>1</td>\n      <td>21.0750</td>\n      <td>0</td>\n      <td>0</td>\n      <td>1</td>\n    </tr>\n    <tr>\n      <th>9</th>\n      <td>3</td>\n      <td>1</td>\n      <td>27.000000</td>\n      <td>0</td>\n      <td>2</td>\n      <td>11.1333</td>\n      <td>0</td>\n      <td>0</td>\n      <td>1</td>\n    </tr>\n    <tr>\n      <th>10</th>\n      <td>2</td>\n      <td>1</td>\n      <td>14.000000</td>\n      <td>1</td>\n      <td>0</td>\n      <td>30.0708</td>\n      <td>1</td>\n      <td>0</td>\n      <td>0</td>\n    </tr>\n  </tbody>\n</table>\n</div>"
     },
     "execution_count": 26,
     "metadata": {},
     "output_type": "execute_result"
    }
   ],
   "source": [
    "x.head(10)"
   ],
   "metadata": {
    "collapsed": false,
    "pycharm": {
     "name": "#%%\n"
    }
   }
  },
  {
   "cell_type": "markdown",
   "source": [
    "Переменную Pclass можно отправить в модель в таком виде,\n",
    "\n",
    "какая она есть сейчас, так как она представлена числами,\n",
    "\n",
    "но так как это все-таки не количественная переменная\n",
    "\n",
    "(например, нельзя сказать, что между классами 1 и 2 такая же \"разность\",\n",
    "\n",
    "как и между классами 2 и 3), то ее так же переведем в дамми-переменные.\n",
    "\n",
    "Для этого поменяем ее тип данных на category\n",
    "\n",
    "и применим еще раз функцию get_dummies\n",
    "\n",
    "ко всему датафрейму\n",
    "\n",
    "Эта функция переведет в дамми-переменные все нечисловые признаки."
   ],
   "metadata": {
    "collapsed": false,
    "pycharm": {
     "name": "#%% md\n"
    }
   }
  },
  {
   "cell_type": "code",
   "execution_count": 27,
   "outputs": [
    {
     "data": {
      "text/plain": "array([3, 1, 2], dtype=int64)"
     },
     "execution_count": 27,
     "metadata": {},
     "output_type": "execute_result"
    }
   ],
   "source": [
    "x['Pclass'].unique()"
   ],
   "metadata": {
    "collapsed": false,
    "pycharm": {
     "name": "#%%\n"
    }
   }
  },
  {
   "cell_type": "code",
   "execution_count": 28,
   "outputs": [],
   "source": [
    "x['Pclass'] = x['Pclass'].astype('category')"
   ],
   "metadata": {
    "collapsed": false,
    "pycharm": {
     "name": "#%%\n"
    }
   }
  },
  {
   "cell_type": "code",
   "execution_count": 29,
   "outputs": [],
   "source": [
    "x = pd.get_dummies(x)"
   ],
   "metadata": {
    "collapsed": false,
    "pycharm": {
     "name": "#%%\n"
    }
   }
  },
  {
   "cell_type": "code",
   "execution_count": 30,
   "outputs": [
    {
     "data": {
      "text/plain": "Index(['Sex', 'Age', 'SibSp', 'Parch', 'Fare', 'Embarked_C', 'Embarked_Q',\n       'Embarked_S', 'Pclass_1', 'Pclass_2', 'Pclass_3'],\n      dtype='object')"
     },
     "execution_count": 30,
     "metadata": {},
     "output_type": "execute_result"
    }
   ],
   "source": [
    "x.columns"
   ],
   "metadata": {
    "collapsed": false,
    "pycharm": {
     "name": "#%%\n"
    }
   }
  },
  {
   "cell_type": "code",
   "execution_count": 31,
   "outputs": [
    {
     "data": {
      "text/plain": "             Sex        Age  SibSp  Parch     Fare  Embarked_C  Embarked_Q  \\\nPassengerId                                                                  \n1              0  22.000000      1      0   7.2500           0           0   \n2              1  38.000000      1      0  71.2833           1           0   \n3              1  26.000000      0      0   7.9250           0           0   \n4              1  35.000000      1      0  53.1000           0           0   \n5              0  35.000000      0      0   8.0500           0           0   \n6              0  29.699118      0      0   8.4583           0           1   \n7              0  54.000000      0      0  51.8625           0           0   \n8              0   2.000000      3      1  21.0750           0           0   \n9              1  27.000000      0      2  11.1333           0           0   \n10             1  14.000000      1      0  30.0708           1           0   \n\n             Embarked_S  Pclass_1  Pclass_2  Pclass_3  \nPassengerId                                            \n1                     1         0         0         1  \n2                     0         1         0         0  \n3                     1         0         0         1  \n4                     1         1         0         0  \n5                     1         0         0         1  \n6                     0         0         0         1  \n7                     1         1         0         0  \n8                     1         0         0         1  \n9                     1         0         0         1  \n10                    0         0         1         0  ",
      "text/html": "<div>\n<style scoped>\n    .dataframe tbody tr th:only-of-type {\n        vertical-align: middle;\n    }\n\n    .dataframe tbody tr th {\n        vertical-align: top;\n    }\n\n    .dataframe thead th {\n        text-align: right;\n    }\n</style>\n<table border=\"1\" class=\"dataframe\">\n  <thead>\n    <tr style=\"text-align: right;\">\n      <th></th>\n      <th>Sex</th>\n      <th>Age</th>\n      <th>SibSp</th>\n      <th>Parch</th>\n      <th>Fare</th>\n      <th>Embarked_C</th>\n      <th>Embarked_Q</th>\n      <th>Embarked_S</th>\n      <th>Pclass_1</th>\n      <th>Pclass_2</th>\n      <th>Pclass_3</th>\n    </tr>\n    <tr>\n      <th>PassengerId</th>\n      <th></th>\n      <th></th>\n      <th></th>\n      <th></th>\n      <th></th>\n      <th></th>\n      <th></th>\n      <th></th>\n      <th></th>\n      <th></th>\n      <th></th>\n    </tr>\n  </thead>\n  <tbody>\n    <tr>\n      <th>1</th>\n      <td>0</td>\n      <td>22.000000</td>\n      <td>1</td>\n      <td>0</td>\n      <td>7.2500</td>\n      <td>0</td>\n      <td>0</td>\n      <td>1</td>\n      <td>0</td>\n      <td>0</td>\n      <td>1</td>\n    </tr>\n    <tr>\n      <th>2</th>\n      <td>1</td>\n      <td>38.000000</td>\n      <td>1</td>\n      <td>0</td>\n      <td>71.2833</td>\n      <td>1</td>\n      <td>0</td>\n      <td>0</td>\n      <td>1</td>\n      <td>0</td>\n      <td>0</td>\n    </tr>\n    <tr>\n      <th>3</th>\n      <td>1</td>\n      <td>26.000000</td>\n      <td>0</td>\n      <td>0</td>\n      <td>7.9250</td>\n      <td>0</td>\n      <td>0</td>\n      <td>1</td>\n      <td>0</td>\n      <td>0</td>\n      <td>1</td>\n    </tr>\n    <tr>\n      <th>4</th>\n      <td>1</td>\n      <td>35.000000</td>\n      <td>1</td>\n      <td>0</td>\n      <td>53.1000</td>\n      <td>0</td>\n      <td>0</td>\n      <td>1</td>\n      <td>1</td>\n      <td>0</td>\n      <td>0</td>\n    </tr>\n    <tr>\n      <th>5</th>\n      <td>0</td>\n      <td>35.000000</td>\n      <td>0</td>\n      <td>0</td>\n      <td>8.0500</td>\n      <td>0</td>\n      <td>0</td>\n      <td>1</td>\n      <td>0</td>\n      <td>0</td>\n      <td>1</td>\n    </tr>\n    <tr>\n      <th>6</th>\n      <td>0</td>\n      <td>29.699118</td>\n      <td>0</td>\n      <td>0</td>\n      <td>8.4583</td>\n      <td>0</td>\n      <td>1</td>\n      <td>0</td>\n      <td>0</td>\n      <td>0</td>\n      <td>1</td>\n    </tr>\n    <tr>\n      <th>7</th>\n      <td>0</td>\n      <td>54.000000</td>\n      <td>0</td>\n      <td>0</td>\n      <td>51.8625</td>\n      <td>0</td>\n      <td>0</td>\n      <td>1</td>\n      <td>1</td>\n      <td>0</td>\n      <td>0</td>\n    </tr>\n    <tr>\n      <th>8</th>\n      <td>0</td>\n      <td>2.000000</td>\n      <td>3</td>\n      <td>1</td>\n      <td>21.0750</td>\n      <td>0</td>\n      <td>0</td>\n      <td>1</td>\n      <td>0</td>\n      <td>0</td>\n      <td>1</td>\n    </tr>\n    <tr>\n      <th>9</th>\n      <td>1</td>\n      <td>27.000000</td>\n      <td>0</td>\n      <td>2</td>\n      <td>11.1333</td>\n      <td>0</td>\n      <td>0</td>\n      <td>1</td>\n      <td>0</td>\n      <td>0</td>\n      <td>1</td>\n    </tr>\n    <tr>\n      <th>10</th>\n      <td>1</td>\n      <td>14.000000</td>\n      <td>1</td>\n      <td>0</td>\n      <td>30.0708</td>\n      <td>1</td>\n      <td>0</td>\n      <td>0</td>\n      <td>0</td>\n      <td>1</td>\n      <td>0</td>\n    </tr>\n  </tbody>\n</table>\n</div>"
     },
     "execution_count": 31,
     "metadata": {},
     "output_type": "execute_result"
    }
   ],
   "source": [
    "x.head(10)\n"
   ],
   "metadata": {
    "collapsed": false,
    "pycharm": {
     "name": "#%%\n"
    }
   }
  },
  {
   "cell_type": "markdown",
   "source": [
    "#### Цель разбиения данных на тренировочный, валидационный и тестовый датасеты\n",
    "В этот раз мы будем работать с разделением данных для модели более тщательно,\n",
    "\n",
    "мы разобьем данные из файла train.csv на две части:\n",
    "\n",
    "тренировочный набор данных (признаки в x_train, целевая переменная в y_train)\n",
    "\n",
    "и валидационный (соответственно x_valid и y_valid).\n",
    "\n",
    "На тренировочном датасете мы будем строить модель, а на валидационном - проверять ее качество.\n",
    "\n",
    "После проверки на валидационном сете можно будет окончально проверить модель на тестовом сете.\n",
    "\n",
    "(содержится в файле test.csv по вышеуказанной ссылке\n",
    "\n",
    "фактическое значение целевой переменной в тестовом наборе отсутствует,\n",
    "\n",
    "рекомендуем самостоятельно проверить точность данных при отправке решения на странице соревнования)"
   ],
   "metadata": {
    "collapsed": false,
    "pycharm": {
     "name": "#%% md\n"
    }
   }
  },
  {
   "cell_type": "code",
   "execution_count": 32,
   "outputs": [],
   "source": [
    "# Параметр test_size будет определять, какую долю данных\n",
    "# из train.csv мы берем для валидационного датасета\n",
    "x_train, x_valid, y_train, y_valid = train_test_split(x, y, test_size=0.25, random_state=42)"
   ],
   "metadata": {
    "collapsed": false,
    "pycharm": {
     "name": "#%%\n"
    }
   }
  },
  {
   "cell_type": "markdown",
   "source": [
    "#### Построение модели\n",
    "В начале работы над любой задачей рекомендуется сначала сделать простую модель,\n",
    "\n",
    "не затрачивая большого количества времени.\n",
    "\n",
    "Затем можно будет оценивать новые модели, сравнивая их качество\n",
    "\n",
    "с качеством первоначальной (базовой) модели\n",
    "\n",
    "Сначала посмотрим на информацию о признаках"
   ],
   "metadata": {
    "collapsed": false,
    "pycharm": {
     "name": "#%% md\n"
    }
   }
  },
  {
   "cell_type": "code",
   "execution_count": 33,
   "outputs": [
    {
     "name": "stdout",
     "output_type": "stream",
     "text": [
      "<class 'pandas.core.frame.DataFrame'>\n",
      "Int64Index: 668 entries, 299 to 103\n",
      "Data columns (total 11 columns):\n",
      " #   Column      Non-Null Count  Dtype  \n",
      "---  ------      --------------  -----  \n",
      " 0   Sex         668 non-null    int32  \n",
      " 1   Age         668 non-null    float64\n",
      " 2   SibSp       668 non-null    int64  \n",
      " 3   Parch       668 non-null    int64  \n",
      " 4   Fare        668 non-null    float64\n",
      " 5   Embarked_C  668 non-null    uint8  \n",
      " 6   Embarked_Q  668 non-null    uint8  \n",
      " 7   Embarked_S  668 non-null    uint8  \n",
      " 8   Pclass_1    668 non-null    uint8  \n",
      " 9   Pclass_2    668 non-null    uint8  \n",
      " 10  Pclass_3    668 non-null    uint8  \n",
      "dtypes: float64(2), int32(1), int64(2), uint8(6)\n",
      "memory usage: 32.6 KB\n"
     ]
    }
   ],
   "source": [
    "x_train.info()"
   ],
   "metadata": {
    "collapsed": false,
    "pycharm": {
     "name": "#%%\n"
    }
   }
  },
  {
   "cell_type": "markdown",
   "source": [
    "Все признаки числовые, поэтому мы можем построить модель, используя все признаки"
   ],
   "metadata": {
    "collapsed": false,
    "pycharm": {
     "name": "#%% md\n"
    }
   }
  },
  {
   "cell_type": "code",
   "execution_count": 34,
   "outputs": [],
   "source": [
    "lr = LogisticRegression()"
   ],
   "metadata": {
    "collapsed": false,
    "pycharm": {
     "name": "#%%\n"
    }
   }
  },
  {
   "cell_type": "code",
   "execution_count": 35,
   "outputs": [
    {
     "data": {
      "text/plain": "LogisticRegression()"
     },
     "execution_count": 35,
     "metadata": {},
     "output_type": "execute_result"
    }
   ],
   "source": [
    "lr.fit(x_train, y_train)"
   ],
   "metadata": {
    "collapsed": false,
    "pycharm": {
     "name": "#%%\n"
    }
   }
  },
  {
   "cell_type": "code",
   "execution_count": 36,
   "outputs": [],
   "source": [
    "y_pred = lr.predict(x_valid)"
   ],
   "metadata": {
    "collapsed": false,
    "pycharm": {
     "name": "#%%\n"
    }
   }
  },
  {
   "cell_type": "code",
   "execution_count": 37,
   "outputs": [
    {
     "data": {
      "text/plain": "array([0, 0, 0, 1, 1, 1, 1, 0, 1, 1, 0, 0, 0, 0, 0, 1, 0, 1, 0, 0, 0, 0,\n       1, 0, 0, 0, 0, 0, 0, 1, 0, 1, 1, 1, 0, 0, 0, 1, 1, 0, 0, 0, 0, 0,\n       1, 0, 0, 0, 0, 0, 1, 1, 0, 1, 0, 1, 0, 1, 1, 1, 0, 1, 1, 0, 0, 1,\n       0, 0, 0, 1, 1, 1, 1, 1, 0, 0, 1, 1, 1, 0, 0, 1, 1, 0, 0, 0, 1, 1,\n       0, 0, 0, 0, 0, 0, 0, 0, 0, 0, 1, 0, 0, 0, 1, 0, 0, 0, 1, 0, 0, 0,\n       1, 0, 1, 0, 1, 0, 0, 0, 1, 0, 0, 1, 1, 0, 0, 0, 1, 1, 1, 0, 1, 0,\n       0, 1, 0, 1, 1, 0, 0, 1, 0, 1, 0, 0, 0, 1, 0, 0, 1, 0, 0, 0, 0, 1,\n       0, 0, 0, 1, 1, 1, 0, 0, 0, 1, 0, 0, 0, 1, 0, 0, 1, 1, 0, 1, 0, 0,\n       0, 1, 1, 0, 0, 0, 0, 0, 1, 0, 0, 0, 0, 1, 0, 0, 0, 0, 1, 1, 1, 0,\n       1, 0, 0, 1, 1, 0, 0, 1, 0, 0, 0, 0, 1, 0, 1, 0, 0, 0, 1, 0, 1, 0,\n       0, 1, 0], dtype=int64)"
     },
     "execution_count": 37,
     "metadata": {},
     "output_type": "execute_result"
    }
   ],
   "source": [
    "y_pred"
   ],
   "metadata": {
    "collapsed": false,
    "pycharm": {
     "name": "#%%\n"
    }
   }
  },
  {
   "cell_type": "markdown",
   "source": [
    "Метрика Accuracy (доля правильных ответов)"
   ],
   "metadata": {
    "collapsed": false,
    "pycharm": {
     "name": "#%% md\n"
    }
   }
  },
  {
   "cell_type": "code",
   "execution_count": 38,
   "outputs": [],
   "source": [
    "from sklearn.metrics import accuracy_score"
   ],
   "metadata": {
    "collapsed": false,
    "pycharm": {
     "name": "#%%\n"
    }
   }
  },
  {
   "cell_type": "code",
   "execution_count": 39,
   "outputs": [
    {
     "data": {
      "text/plain": "0.8026905829596412"
     },
     "execution_count": 39,
     "metadata": {},
     "output_type": "execute_result"
    }
   ],
   "source": [
    "accuracy_score(y_valid, y_pred)"
   ],
   "metadata": {
    "collapsed": false,
    "pycharm": {
     "name": "#%%\n"
    }
   }
  },
  {
   "cell_type": "markdown",
   "source": [
    "Можно сравнить Accuracy на тренировочном датасете\n",
    "\n"
   ],
   "metadata": {
    "collapsed": false,
    "pycharm": {
     "name": "#%% md\n"
    }
   }
  },
  {
   "cell_type": "code",
   "execution_count": 40,
   "outputs": [],
   "source": [
    "y_pred_train = lr.predict(x_train)"
   ],
   "metadata": {
    "collapsed": false,
    "pycharm": {
     "name": "#%%\n"
    }
   }
  },
  {
   "cell_type": "code",
   "execution_count": 41,
   "outputs": [
    {
     "data": {
      "text/plain": "0.8083832335329342"
     },
     "execution_count": 41,
     "metadata": {},
     "output_type": "execute_result"
    }
   ],
   "source": [
    "accuracy_score(y_train, y_pred_train)"
   ],
   "metadata": {
    "collapsed": false,
    "pycharm": {
     "name": "#%%\n"
    }
   }
  },
  {
   "cell_type": "markdown",
   "source": [
    "#### Вычисление вероятнности событий"
   ],
   "metadata": {
    "collapsed": false,
    "pycharm": {
     "name": "#%% md\n"
    }
   }
  },
  {
   "cell_type": "code",
   "execution_count": 42,
   "outputs": [],
   "source": [
    "y_proba = lr.predict_proba(x_valid)"
   ],
   "metadata": {
    "collapsed": false,
    "pycharm": {
     "name": "#%%\n"
    }
   }
  },
  {
   "cell_type": "code",
   "execution_count": 43,
   "outputs": [
    {
     "data": {
      "text/plain": "array([[0.88803846, 0.11196154],\n       [0.7306994 , 0.2693006 ],\n       [0.87015652, 0.12984348],\n       [0.08991938, 0.91008062],\n       [0.25062017, 0.74937983],\n       [0.07826309, 0.92173691],\n       [0.3344696 , 0.6655304 ],\n       [0.90522441, 0.09477559],\n       [0.24542478, 0.75457522],\n       [0.10340604, 0.89659396],\n       [0.69433675, 0.30566325],\n       [0.93487211, 0.06512789],\n       [0.62484704, 0.37515296],\n       [0.8476136 , 0.1523864 ],\n       [0.75859307, 0.24140693],\n       [0.07898048, 0.92101952],\n       [0.72748704, 0.27251296],\n       [0.33438492, 0.66561508],\n       [0.70247546, 0.29752454],\n       [0.70651162, 0.29348838],\n       [0.88386346, 0.11613654],\n       [0.6428651 , 0.3571349 ],\n       [0.39821924, 0.60178076],\n       [0.86944941, 0.13055059],\n       [0.89833287, 0.10166713],\n       [0.92821101, 0.07178899],\n       [0.56597441, 0.43402559],\n       [0.72832999, 0.27167001],\n       [0.9144287 , 0.0855713 ],\n       [0.42638413, 0.57361587],\n       [0.86654163, 0.13345837],\n       [0.35847563, 0.64152437],\n       [0.48100123, 0.51899877],\n       [0.41666522, 0.58333478],\n       [0.86273768, 0.13726232],\n       [0.86423029, 0.13576971],\n       [0.58764898, 0.41235102],\n       [0.3344696 , 0.6655304 ],\n       [0.06807562, 0.93192438],\n       [0.90119358, 0.09880642],\n       [0.7125328 , 0.2874672 ],\n       [0.92109508, 0.07890492],\n       [0.90112761, 0.09887239],\n       [0.86537366, 0.13462634],\n       [0.43710555, 0.56289445],\n       [0.91111171, 0.08888829],\n       [0.86639576, 0.13360424],\n       [0.87988996, 0.12011004],\n       [0.88427982, 0.11572018],\n       [0.66870932, 0.33129068],\n       [0.26566215, 0.73433785],\n       [0.21285964, 0.78714036],\n       [0.96298625, 0.03701375],\n       [0.48735375, 0.51264625],\n       [0.95175075, 0.04824925],\n       [0.07958272, 0.92041728],\n       [0.73690368, 0.26309632],\n       [0.05298536, 0.94701464],\n       [0.18635006, 0.81364994],\n       [0.26337583, 0.73662417],\n       [0.87378273, 0.12621727],\n       [0.11635229, 0.88364771],\n       [0.18917576, 0.81082424],\n       [0.61164069, 0.38835931],\n       [0.86537366, 0.13462634],\n       [0.32636266, 0.67363734],\n       [0.59337755, 0.40662245],\n       [0.89920763, 0.10079237],\n       [0.84631693, 0.15368307],\n       [0.13239033, 0.86760967],\n       [0.20087243, 0.79912757],\n       [0.03546013, 0.96453987],\n       [0.45259654, 0.54740346],\n       [0.10171141, 0.89828859],\n       [0.88058406, 0.11941594],\n       [0.93331822, 0.06668178],\n       [0.34015583, 0.65984417],\n       [0.06395438, 0.93604562],\n       [0.20747898, 0.79252102],\n       [0.55916001, 0.44083999],\n       [0.94376431, 0.05623569],\n       [0.16602724, 0.83397276],\n       [0.08369348, 0.91630652],\n       [0.86538065, 0.13461935],\n       [0.68121591, 0.31878409],\n       [0.75868292, 0.24131708],\n       [0.06208462, 0.93791538],\n       [0.06058706, 0.93941294],\n       [0.69896977, 0.30103023],\n       [0.90146944, 0.09853056],\n       [0.85427488, 0.14572512],\n       [0.55669103, 0.44330897],\n       [0.80497861, 0.19502139],\n       [0.8653853 , 0.1346147 ],\n       [0.90119358, 0.09880642],\n       [0.8963014 , 0.1036986 ],\n       [0.76407471, 0.23592529],\n       [0.93677954, 0.06322046],\n       [0.19722724, 0.80277276],\n       [0.89329275, 0.10670725],\n       [0.82395197, 0.17604803],\n       [0.91549329, 0.08450671],\n       [0.04789296, 0.95210704],\n       [0.92260518, 0.07739482],\n       [0.90337108, 0.09662892],\n       [0.91106958, 0.08893042],\n       [0.26921515, 0.73078485],\n       [0.71977461, 0.28022539],\n       [0.90135834, 0.09864166],\n       [0.56210141, 0.43789859],\n       [0.12402672, 0.87597328],\n       [0.87230194, 0.12769806],\n       [0.06658405, 0.93341595],\n       [0.657598  , 0.342402  ],\n       [0.38071847, 0.61928153],\n       [0.86911058, 0.13088942],\n       [0.77149969, 0.22850031],\n       [0.65435798, 0.34564202],\n       [0.17912128, 0.82087872],\n       [0.68890541, 0.31109459],\n       [0.80330624, 0.19669376],\n       [0.05893104, 0.94106896],\n       [0.26468058, 0.73531942],\n       [0.55653834, 0.44346166],\n       [0.88739468, 0.11260532],\n       [0.52803394, 0.47196606],\n       [0.1852089 , 0.8147911 ],\n       [0.3798876 , 0.6201124 ],\n       [0.35157919, 0.64842081],\n       [0.87363698, 0.12636302],\n       [0.33433147, 0.66566853],\n       [0.88803846, 0.11196154],\n       [0.73248884, 0.26751116],\n       [0.24146698, 0.75853302],\n       [0.66282455, 0.33717545],\n       [0.25370015, 0.74629985],\n       [0.04698154, 0.95301846],\n       [0.89925115, 0.10074885],\n       [0.93105006, 0.06894994],\n       [0.37932256, 0.62067744],\n       [0.8734336 , 0.1265664 ],\n       [0.27945521, 0.72054479],\n       [0.70907109, 0.29092891],\n       [0.7988608 , 0.2011392 ],\n       [0.548589  , 0.451411  ],\n       [0.23903702, 0.76096298],\n       [0.7219998 , 0.2780002 ],\n       [0.89185992, 0.10814008],\n       [0.0513602 , 0.9486398 ],\n       [0.93291126, 0.06708874],\n       [0.84544379, 0.15455621],\n       [0.88406052, 0.11593948],\n       [0.86288221, 0.13711779],\n       [0.37708863, 0.62291137],\n       [0.90112761, 0.09887239],\n       [0.90155473, 0.09844527],\n       [0.87837437, 0.12162563],\n       [0.3344295 , 0.6655705 ],\n       [0.23124934, 0.76875066],\n       [0.43800973, 0.56199027],\n       [0.81899084, 0.18100916],\n       [0.61092737, 0.38907263],\n       [0.77561113, 0.22438887],\n       [0.0686839 , 0.9313161 ],\n       [0.86497682, 0.13502318],\n       [0.73750194, 0.26249806],\n       [0.67788506, 0.32211494],\n       [0.12409849, 0.87590151],\n       [0.87718188, 0.12281812],\n       [0.91552115, 0.08447885],\n       [0.42368888, 0.57631112],\n       [0.15455021, 0.84544979],\n       [0.65748984, 0.34251016],\n       [0.24318348, 0.75681652],\n       [0.85947021, 0.14052979],\n       [0.84637507, 0.15362493],\n       [0.6830505 , 0.3169495 ],\n       [0.1197072 , 0.8802928 ],\n       [0.31135893, 0.68864107],\n       [0.7198526 , 0.2801474 ],\n       [0.67525749, 0.32474251],\n       [0.90750129, 0.09249871],\n       [0.91357967, 0.08642033],\n       [0.53306522, 0.46693478],\n       [0.23858694, 0.76141306],\n       [0.71853679, 0.28146321],\n       [0.64782417, 0.35217583],\n       [0.90119358, 0.09880642],\n       [0.60066196, 0.39933804],\n       [0.22914652, 0.77085348],\n       [0.93909251, 0.06090749],\n       [0.74138403, 0.25861597],\n       [0.88856066, 0.11143934],\n       [0.89849802, 0.10150198],\n       [0.29246907, 0.70753093],\n       [0.12249792, 0.87750208],\n       [0.03535011, 0.96464989],\n       [0.74676929, 0.25323071],\n       [0.08453881, 0.91546119],\n       [0.57230692, 0.42769308],\n       [0.96131071, 0.03868929],\n       [0.41768968, 0.58231032],\n       [0.10789887, 0.89210113],\n       [0.67072676, 0.32927324],\n       [0.80192265, 0.19807735],\n       [0.34551003, 0.65448997],\n       [0.89850533, 0.10149467],\n       [0.67775662, 0.32224338],\n       [0.84180314, 0.15819686],\n       [0.9455578 , 0.0544422 ],\n       [0.31993079, 0.68006921],\n       [0.90231506, 0.09768494],\n       [0.08446967, 0.91553033],\n       [0.86538765, 0.13461235],\n       [0.62484704, 0.37515296],\n       [0.90026337, 0.09973663],\n       [0.19281431, 0.80718569],\n       [0.64364589, 0.35635411],\n       [0.15742688, 0.84257312],\n       [0.90146944, 0.09853056],\n       [0.90119358, 0.09880642],\n       [0.14370257, 0.85629743],\n       [0.89868835, 0.10131165]])"
     },
     "execution_count": 43,
     "metadata": {},
     "output_type": "execute_result"
    }
   ],
   "source": [
    "# Вероятность событий 0 и 1 для каждого пассажира\n",
    "y_proba"
   ],
   "metadata": {
    "collapsed": false,
    "pycharm": {
     "name": "#%%\n"
    }
   }
  },
  {
   "cell_type": "markdown",
   "source": [
    "Нас интересует вероятность события 1 (правый столбец) -\n",
    "\n",
    "при получении ответа значения из него округляются до 0 или до 1\n",
    "\n",
    "#### Сохранение данных\n",
    "\n",
    "Сохраним обработанные данные, они пригодятся для следующих уроков"
   ],
   "metadata": {
    "collapsed": false,
    "pycharm": {
     "name": "#%% md\n"
    }
   }
  },
  {
   "cell_type": "code",
   "execution_count": 44,
   "outputs": [],
   "source": [
    "x_train.to_pickle('x_train.pkl')\n",
    "y_train.to_pickle('y_train.pkl')\n",
    "x_valid.to_pickle('x_valid.pkl')\n",
    "y_valid.to_pickle('y_valid.pkl')"
   ],
   "metadata": {
    "collapsed": false,
    "pycharm": {
     "name": "#%%\n"
    }
   }
  },
  {
   "cell_type": "code",
   "execution_count": 44,
   "outputs": [],
   "source": [
    "\n"
   ],
   "metadata": {
    "collapsed": false,
    "pycharm": {
     "name": "#%%\n"
    }
   }
  }
 ],
 "metadata": {
  "kernelspec": {
   "display_name": "Python 3",
   "language": "python",
   "name": "python3"
  },
  "language_info": {
   "codemirror_mode": {
    "name": "ipython",
    "version": 3
   },
   "file_extension": ".py",
   "mimetype": "text/x-python",
   "name": "python",
   "nbconvert_exporter": "python",
   "pygments_lexer": "ipython3",
   "version": "3.9.1"
  }
 },
 "nbformat": 4,
 "nbformat_minor": 1
}