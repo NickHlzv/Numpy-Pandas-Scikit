{
 "cells": [
  {
   "cell_type": "code",
   "execution_count": 1,
   "id": "f3001287",
   "metadata": {},
   "outputs": [],
   "source": [
    "import numpy as np"
   ]
  },
  {
   "cell_type": "code",
   "execution_count": 2,
   "id": "5393b6c8",
   "metadata": {},
   "outputs": [
    {
     "data": {
      "text/plain": "array([[ 1,  6],\n       [ 2,  8],\n       [ 3, 11],\n       [ 3, 10],\n       [ 1,  7]])"
     },
     "execution_count": 2,
     "metadata": {},
     "output_type": "execute_result"
    }
   ],
   "source": [
    "A = np.array([[1, 6],\n",
    "              [2, 8],\n",
    "              [3, 11],\n",
    "              [3, 10],\n",
    "              [1, 7]])\n",
    "A"
   ]
  },
  {
   "cell_type": "markdown",
   "id": "bd3bc849",
   "metadata": {},
   "source": [
    "Результат"
   ]
  },
  {
   "cell_type": "code",
   "execution_count": 3,
   "id": "140ffdba",
   "metadata": {},
   "outputs": [
    {
     "data": {
      "text/plain": "array([2. , 8.4])"
     },
     "execution_count": 3,
     "metadata": {},
     "output_type": "execute_result"
    }
   ],
   "source": [
    "A_mean = A.mean(axis=0)\n",
    "A_mean"
   ]
  }
 ],
 "metadata": {
  "kernelspec": {
   "display_name": "Python 3",
   "language": "python",
   "name": "python3"
  },
  "language_info": {
   "codemirror_mode": {
    "name": "ipython",
    "version": 3
   },
   "file_extension": ".py",
   "mimetype": "text/x-python",
   "name": "python",
   "nbconvert_exporter": "python",
   "pygments_lexer": "ipython3",
   "version": "3.9.1"
  }
 },
 "nbformat": 4,
 "nbformat_minor": 5
}