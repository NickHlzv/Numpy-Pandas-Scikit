{
 "cells": [
  {
   "cell_type": "code",
   "execution_count": 2,
   "id": "c9804ed1",
   "metadata": {},
   "outputs": [],
   "source": [
    "import numpy as np"
   ]
  },
  {
   "cell_type": "code",
   "execution_count": 3,
   "id": "30e013d5",
   "metadata": {},
   "outputs": [
    {
     "data": {
      "text/plain": "array([[ 1,  6],\n       [ 2,  8],\n       [ 3, 11],\n       [ 3, 10],\n       [ 1,  7]])"
     },
     "execution_count": 3,
     "metadata": {},
     "output_type": "execute_result"
    }
   ],
   "source": [
    "A = np.array([[1, 6],\n",
    "              [2, 8],\n",
    "              [3, 11],\n",
    "              [3, 10],\n",
    "              [1, 7]])\n",
    "A"
   ]
  },
  {
   "cell_type": "code",
   "execution_count": 4,
   "id": "259bab4e",
   "metadata": {},
   "outputs": [
    {
     "data": {
      "text/plain": "array([2. , 8.4])"
     },
     "execution_count": 4,
     "metadata": {},
     "output_type": "execute_result"
    }
   ],
   "source": [
    "A_mean = A.mean(axis=0)\n",
    "A_mean"
   ]
  },
  {
   "cell_type": "code",
   "execution_count": 5,
   "id": "5e00ef64",
   "metadata": {},
   "outputs": [
    {
     "data": {
      "text/plain": "array([[-1. , -2.4],\n       [ 0. , -0.4],\n       [ 1. ,  2.6],\n       [ 1. ,  1.6],\n       [-1. , -1.4]])"
     },
     "execution_count": 5,
     "metadata": {},
     "output_type": "execute_result"
    }
   ],
   "source": [
    "A_centered = A - A_mean\n",
    "A_centered"
   ]
  },
  {
   "cell_type": "code",
   "execution_count": 6,
   "id": "65d8100f",
   "metadata": {},
   "outputs": [
    {
     "data": {
      "text/plain": "array([[-1. ,  0. ,  1. ,  1. , -1. ],\n       [-2.4, -0.4,  2.6,  1.6, -1.4]])"
     },
     "execution_count": 6,
     "metadata": {},
     "output_type": "execute_result"
    }
   ],
   "source": [
    "A_centered_trans = A_centered.transpose()\n",
    "A_centered_trans"
   ]
  },
  {
   "cell_type": "code",
   "execution_count": 7,
   "id": "8621cacc",
   "metadata": {},
   "outputs": [
    {
     "data": {
      "text/plain": "array([-1.,  0.,  1.,  1., -1.])"
     },
     "execution_count": 7,
     "metadata": {},
     "output_type": "execute_result"
    }
   ],
   "source": [
    "A_centered_trans1 = A_centered_trans[0]\n",
    "A_centered_trans2 = A_centered_trans[1]\n",
    "A_centered_trans1"
   ]
  },
  {
   "cell_type": "code",
   "execution_count": 8,
   "id": "ec5a5571",
   "metadata": {},
   "outputs": [
    {
     "data": {
      "text/plain": "array([-2.4, -0.4,  2.6,  1.6, -1.4])"
     },
     "execution_count": 8,
     "metadata": {},
     "output_type": "execute_result"
    }
   ],
   "source": [
    "A_centered_trans2"
   ]
  },
  {
   "cell_type": "code",
   "execution_count": 9,
   "id": "581c0724",
   "metadata": {},
   "outputs": [
    {
     "data": {
      "text/plain": "8.0"
     },
     "execution_count": 9,
     "metadata": {},
     "output_type": "execute_result"
    }
   ],
   "source": [
    "a_centered_sp = A_centered_trans1 @ A_centered_trans2\n",
    "a_centered_sp"
   ]
  },
  {
   "cell_type": "code",
   "execution_count": 16,
   "id": "5374d7bc",
   "metadata": {},
   "outputs": [
    {
     "data": {
      "text/plain": "5"
     },
     "execution_count": 16,
     "metadata": {},
     "output_type": "execute_result"
    }
   ],
   "source": [
    "A.shape[0]"
   ]
  },
  {
   "cell_type": "markdown",
   "id": "94f480c1",
   "metadata": {},
   "source": [
    "Результат"
   ]
  },
  {
   "cell_type": "code",
   "execution_count": 11,
   "id": "72b2855c",
   "metadata": {},
   "outputs": [
    {
     "data": {
      "text/plain": "2.0"
     },
     "execution_count": 11,
     "metadata": {},
     "output_type": "execute_result"
    }
   ],
   "source": [
    "a_centered_sp / (A.shape[0]-1)"
   ]
  }
 ],
 "metadata": {
  "kernelspec": {
   "display_name": "Python 3",
   "language": "python",
   "name": "python3"
  },
  "language_info": {
   "codemirror_mode": {
    "name": "ipython",
    "version": 3
   },
   "file_extension": ".py",
   "mimetype": "text/x-python",
   "name": "python",
   "nbconvert_exporter": "python",
   "pygments_lexer": "ipython3",
   "version": "3.9.1"
  }
 },
 "nbformat": 4,
 "nbformat_minor": 5
}