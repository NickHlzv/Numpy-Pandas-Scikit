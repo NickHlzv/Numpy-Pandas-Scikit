{
 "cells": [
  {
   "cell_type": "code",
   "execution_count": 82,
   "id": "1b9cea9f",
   "metadata": {},
   "outputs": [],
   "source": [
    "import numpy as np"
   ]
  },
  {
   "cell_type": "markdown",
   "id": "dc19a8a3",
   "metadata": {},
   "source": [
    "### Автоматическое создание массивов"
   ]
  },
  {
   "cell_type": "code",
   "execution_count": 83,
   "id": "3119d531",
   "metadata": {},
   "outputs": [
    {
     "data": {
      "text/plain": [
       "array([[0., 0., 0., 0.],\n",
       "       [0., 0., 0., 0.],\n",
       "       [0., 0., 0., 0.]])"
      ]
     },
     "execution_count": 83,
     "metadata": {},
     "output_type": "execute_result"
    }
   ],
   "source": [
    "a = np.zeros((3, 4))\n",
    "a"
   ]
  },
  {
   "cell_type": "code",
   "execution_count": 84,
   "id": "a6b363df",
   "metadata": {},
   "outputs": [
    {
     "data": {
      "text/plain": [
       "array([[1., 1., 1.],\n",
       "       [1., 1., 1.],\n",
       "       [1., 1., 1.],\n",
       "       [1., 1., 1.],\n",
       "       [1., 1., 1.]])"
      ]
     },
     "execution_count": 84,
     "metadata": {},
     "output_type": "execute_result"
    }
   ],
   "source": [
    "a = np.ones((5, 3))\n",
    "a"
   ]
  },
  {
   "cell_type": "code",
   "execution_count": 85,
   "id": "0720ab2e",
   "metadata": {},
   "outputs": [
    {
     "data": {
      "text/plain": [
       "array([0, 1, 2, 3, 4, 5, 6, 7, 8, 9])"
      ]
     },
     "execution_count": 85,
     "metadata": {},
     "output_type": "execute_result"
    }
   ],
   "source": [
    "np.arange(10)"
   ]
  },
  {
   "cell_type": "markdown",
   "id": "b1c40a79",
   "metadata": {},
   "source": [
    "По умолчанию ряд чисел начинается с 0, но можно явно задачть начало последовательности"
   ]
  },
  {
   "cell_type": "code",
   "execution_count": 86,
   "id": "20b61735",
   "metadata": {},
   "outputs": [
    {
     "data": {
      "text/plain": [
       "array([0, 1, 2, 3, 4, 5, 6, 7, 8, 9])"
      ]
     },
     "execution_count": 86,
     "metadata": {},
     "output_type": "execute_result"
    }
   ],
   "source": [
    "np.arange(0, 10)"
   ]
  },
  {
   "cell_type": "markdown",
   "id": "a59e0bdf",
   "metadata": {},
   "source": [
    "Последовательность с шагом 2:"
   ]
  },
  {
   "cell_type": "code",
   "execution_count": 87,
   "id": "c8d6ee10",
   "metadata": {},
   "outputs": [
    {
     "data": {
      "text/plain": [
       "array([0, 2, 4, 6, 8])"
      ]
     },
     "execution_count": 87,
     "metadata": {},
     "output_type": "execute_result"
    }
   ],
   "source": [
    "np.arange(0, 10, 2)"
   ]
  },
  {
   "cell_type": "markdown",
   "id": "c72d062e",
   "metadata": {},
   "source": [
    "В обратном порядке"
   ]
  },
  {
   "cell_type": "code",
   "execution_count": 88,
   "id": "2be6917a",
   "metadata": {},
   "outputs": [
    {
     "data": {
      "text/plain": [
       "array([10,  9,  8,  7,  6,  5,  4,  3,  2,  1])"
      ]
     },
     "execution_count": 88,
     "metadata": {},
     "output_type": "execute_result"
    }
   ],
   "source": [
    "np.arange(10, 0, -1)"
   ]
  },
  {
   "cell_type": "markdown",
   "id": "9adaafc5",
   "metadata": {},
   "source": [
    "В обратном порядке с шагом 2:\n"
   ]
  },
  {
   "cell_type": "code",
   "execution_count": 89,
   "id": "4ef8bceb",
   "metadata": {},
   "outputs": [
    {
     "data": {
      "text/plain": [
       "array([10,  8,  6,  4,  2])"
      ]
     },
     "execution_count": 89,
     "metadata": {},
     "output_type": "execute_result"
    }
   ],
   "source": [
    "np.arange(10, 0, -2)"
   ]
  },
  {
   "cell_type": "markdown",
   "id": "c829ee36",
   "metadata": {},
   "source": [
    "Дробный шаг\n"
   ]
  },
  {
   "cell_type": "code",
   "execution_count": 90,
   "id": "7dd97527",
   "metadata": {},
   "outputs": [
    {
     "data": {
      "text/plain": [
       "array([0. , 0.1, 0.2, 0.3, 0.4, 0.5, 0.6, 0.7, 0.8, 0.9, 1. , 1.1, 1.2,\n",
       "       1.3, 1.4, 1.5, 1.6, 1.7, 1.8, 1.9, 2. , 2.1, 2.2, 2.3, 2.4, 2.5,\n",
       "       2.6, 2.7, 2.8, 2.9, 3. , 3.1, 3.2, 3.3, 3.4, 3.5, 3.6, 3.7, 3.8,\n",
       "       3.9, 4. , 4.1, 4.2, 4.3, 4.4, 4.5, 4.6, 4.7, 4.8, 4.9, 5. , 5.1,\n",
       "       5.2, 5.3, 5.4, 5.5, 5.6, 5.7, 5.8, 5.9, 6. , 6.1, 6.2, 6.3, 6.4,\n",
       "       6.5, 6.6, 6.7, 6.8, 6.9, 7. , 7.1, 7.2, 7.3, 7.4, 7.5, 7.6, 7.7,\n",
       "       7.8, 7.9, 8. , 8.1, 8.2, 8.3, 8.4, 8.5, 8.6, 8.7, 8.8, 8.9, 9. ,\n",
       "       9.1, 9.2, 9.3, 9.4, 9.5, 9.6, 9.7, 9.8, 9.9])"
      ]
     },
     "execution_count": 90,
     "metadata": {},
     "output_type": "execute_result"
    }
   ],
   "source": [
    "np.arange(0, 10, 0.1)"
   ]
  },
  {
   "cell_type": "markdown",
   "id": "61029d45",
   "metadata": {},
   "source": [
    "<b> numpy.linspace </b> - то же самое, но нужно учитывать, что правая граница (9.9) будет включена.\n",
    "\n",
    "Вместо шага указывем нужное число элементов (100):"
   ]
  },
  {
   "cell_type": "code",
   "execution_count": 91,
   "id": "11d6e463",
   "metadata": {},
   "outputs": [
    {
     "data": {
      "text/plain": [
       "array([0. , 0.1, 0.2, 0.3, 0.4, 0.5, 0.6, 0.7, 0.8, 0.9, 1. , 1.1, 1.2,\n",
       "       1.3, 1.4, 1.5, 1.6, 1.7, 1.8, 1.9, 2. , 2.1, 2.2, 2.3, 2.4, 2.5,\n",
       "       2.6, 2.7, 2.8, 2.9, 3. , 3.1, 3.2, 3.3, 3.4, 3.5, 3.6, 3.7, 3.8,\n",
       "       3.9, 4. , 4.1, 4.2, 4.3, 4.4, 4.5, 4.6, 4.7, 4.8, 4.9, 5. , 5.1,\n",
       "       5.2, 5.3, 5.4, 5.5, 5.6, 5.7, 5.8, 5.9, 6. , 6.1, 6.2, 6.3, 6.4,\n",
       "       6.5, 6.6, 6.7, 6.8, 6.9, 7. , 7.1, 7.2, 7.3, 7.4, 7.5, 7.6, 7.7,\n",
       "       7.8, 7.9, 8. , 8.1, 8.2, 8.3, 8.4, 8.5, 8.6, 8.7, 8.8, 8.9, 9. ,\n",
       "       9.1, 9.2, 9.3, 9.4, 9.5, 9.6, 9.7, 9.8, 9.9])"
      ]
     },
     "execution_count": 91,
     "metadata": {},
     "output_type": "execute_result"
    }
   ],
   "source": [
    "np.linspace(0, 9.9, 100)"
   ]
  },
  {
   "cell_type": "markdown",
   "id": "a6153694",
   "metadata": {},
   "source": [
    "<b> numpy.logspace </b> - обе границы также включены, но это не сами числа, а степени числа 10:"
   ]
  },
  {
   "cell_type": "code",
   "execution_count": 92,
   "id": "7448831e",
   "metadata": {},
   "outputs": [
    {
     "data": {
      "text/plain": [
       "array([   1.,   10.,  100., 1000.])"
      ]
     },
     "execution_count": 92,
     "metadata": {},
     "output_type": "execute_result"
    }
   ],
   "source": [
    "np.logspace(0, 3, 4)"
   ]
  },
  {
   "cell_type": "markdown",
   "id": "9f4e6fa1",
   "metadata": {},
   "source": [
    "### Генерация случайных чисел"
   ]
  },
  {
   "cell_type": "markdown",
   "id": "231c660b",
   "metadata": {},
   "source": [
    "<b> numpy.random.sample </b>  - случайные числас равномерным распределением в промежутке [0.0, 1.0).\n",
    "\n",
    "Случайное число"
   ]
  },
  {
   "cell_type": "code",
   "execution_count": 93,
   "id": "96f5b993",
   "metadata": {},
   "outputs": [
    {
     "data": {
      "text/plain": [
       "0.5986584841970366"
      ]
     },
     "execution_count": 93,
     "metadata": {},
     "output_type": "execute_result"
    }
   ],
   "source": [
    "np.random.sample()"
   ]
  },
  {
   "cell_type": "markdown",
   "id": "fb880e61",
   "metadata": {},
   "source": [
    "Одномерный массив из 3 чисел"
   ]
  },
  {
   "cell_type": "code",
   "execution_count": 94,
   "id": "4a2e437b",
   "metadata": {},
   "outputs": [
    {
     "data": {
      "text/plain": [
       "array([0.15601864, 0.15599452, 0.05808361])"
      ]
     },
     "execution_count": 94,
     "metadata": {},
     "output_type": "execute_result"
    }
   ],
   "source": [
    "np.random.sample(3)"
   ]
  },
  {
   "cell_type": "markdown",
   "id": "e24692e3",
   "metadata": {},
   "source": [
    "Двумерный массив 2x3:"
   ]
  },
  {
   "cell_type": "code",
   "execution_count": 95,
   "id": "7a34639b",
   "metadata": {},
   "outputs": [
    {
     "data": {
      "text/plain": [
       "array([[0.86617615, 0.60111501, 0.70807258],\n",
       "       [0.02058449, 0.96990985, 0.83244264]])"
      ]
     },
     "execution_count": 95,
     "metadata": {},
     "output_type": "execute_result"
    }
   ],
   "source": [
    "np.random.sample((2,3))"
   ]
  },
  {
   "cell_type": "markdown",
   "id": "70ff966b",
   "metadata": {},
   "source": [
    "Массив 48x64x3"
   ]
  },
  {
   "cell_type": "markdown",
   "id": "c2d345fc",
   "metadata": {},
   "source": [
    "(Например, это может быть случайное изображение с высотой 48, шириной 64 и значениями яркости трех цветов для каждого пикселя):"
   ]
  },
  {
   "cell_type": "code",
   "execution_count": 96,
   "id": "b9df0bcd",
   "metadata": {},
   "outputs": [
    {
     "data": {
      "text/plain": [
       "array([[[0.21233911, 0.18182497, 0.18340451],\n",
       "        [0.30424224, 0.52475643, 0.43194502],\n",
       "        [0.29122914, 0.61185289, 0.13949386],\n",
       "        ...,\n",
       "        [0.05147875, 0.27864646, 0.90826589],\n",
       "        [0.23956189, 0.14489487, 0.48945276],\n",
       "        [0.98565045, 0.24205527, 0.67213555]],\n",
       "\n",
       "       [[0.76161962, 0.23763754, 0.72821635],\n",
       "        [0.36778313, 0.63230583, 0.63352971],\n",
       "        [0.53577468, 0.09028977, 0.8353025 ],\n",
       "        ...,\n",
       "        [0.82260056, 0.36019064, 0.12706051],\n",
       "        [0.52224326, 0.76999355, 0.21582103],\n",
       "        [0.62289048, 0.08534746, 0.05168172]],\n",
       "\n",
       "       [[0.53135463, 0.54063512, 0.6374299 ],\n",
       "        [0.72609133, 0.97585208, 0.51630035],\n",
       "        [0.32295647, 0.79518619, 0.27083225],\n",
       "        ...,\n",
       "        [0.07276301, 0.82186006, 0.70624223],\n",
       "        [0.08134878, 0.08483771, 0.98663958],\n",
       "        [0.3742708 , 0.37064215, 0.81279957]],\n",
       "\n",
       "       ...,\n",
       "\n",
       "       [[0.50677004, 0.12654531, 0.47662046],\n",
       "        [0.7636153 , 0.25826436, 0.48078617],\n",
       "        [0.99201597, 0.68665042, 0.84135677],\n",
       "        ...,\n",
       "        [0.17132454, 0.66760171, 0.6094453 ],\n",
       "        [0.64355212, 0.08800603, 0.89353458],\n",
       "        [0.3892664 , 0.31336941, 0.46236145]],\n",
       "\n",
       "       [[0.39006607, 0.863577  , 0.92926098],\n",
       "        [0.30345322, 0.86393581, 0.78152313],\n",
       "        [0.93080767, 0.24575031, 0.57695915],\n",
       "        ...,\n",
       "        [0.78418718, 0.76328519, 0.72261172],\n",
       "        [0.20450434, 0.33796998, 0.46984543],\n",
       "        [0.33079299, 0.7549402 , 0.32935352]],\n",
       "\n",
       "       [[0.13823209, 0.39904045, 0.97991443],\n",
       "        [0.22588141, 0.61215866, 0.43297305],\n",
       "        [0.07102457, 0.48787661, 0.70216433],\n",
       "        ...,\n",
       "        [0.09303037, 0.58926734, 0.53211797],\n",
       "        [0.26637764, 0.89945308, 0.92736641],\n",
       "        [0.40261144, 0.89030256, 0.38394889]]])"
      ]
     },
     "execution_count": 96,
     "metadata": {},
     "output_type": "execute_result"
    }
   ],
   "source": [
    "np.random.sample((64, 48, 3))"
   ]
  },
  {
   "cell_type": "markdown",
   "id": "33591789",
   "metadata": {},
   "source": [
    "<b> numpy.random.randn </b> - случайные числа с нормальным распределением"
   ]
  },
  {
   "cell_type": "markdown",
   "id": "819ce5d0",
   "metadata": {},
   "source": [
    "(среднее значение = 0, среднеквадратичное отклонение = 1)\n"
   ]
  },
  {
   "cell_type": "code",
   "execution_count": 97,
   "id": "ffa98758",
   "metadata": {},
   "outputs": [
    {
     "data": {
      "text/plain": [
       "array([-0.17414072,  1.71418347,  1.68659614, -0.33016967, -0.08102384,\n",
       "       -0.02236886, -0.00896633, -0.94742905, -1.08726068,  1.24975757])"
      ]
     },
     "execution_count": 97,
     "metadata": {},
     "output_type": "execute_result"
    }
   ],
   "source": [
    "np.random.randn(10)"
   ]
  },
  {
   "cell_type": "code",
   "execution_count": 98,
   "id": "2524deb3",
   "metadata": {},
   "outputs": [
    {
     "data": {
      "text/plain": [
       "array([[ 1.08978701,  1.07252071, -0.06937837,  1.89201177],\n",
       "       [-0.02246898,  0.86287617, -1.38862201, -0.22973533],\n",
       "       [-0.15582106, -0.06548754, -1.32549897,  0.70388093]])"
      ]
     },
     "execution_count": 98,
     "metadata": {},
     "output_type": "execute_result"
    }
   ],
   "source": [
    "np.random.randn(3, 4)"
   ]
  },
  {
   "cell_type": "markdown",
   "id": "683c06c2",
   "metadata": {},
   "source": [
    "<b> numpy.random.randint </b> - массив из целых чисел\n",
    "\n",
    "Например, одномерный массив из 10 случайных чисел в промежутке [0, 100);"
   ]
  },
  {
   "cell_type": "code",
   "execution_count": 99,
   "id": "cdf66c6f",
   "metadata": {},
   "outputs": [
    {
     "data": {
      "text/plain": [
       "array([28, 46, 29, 89, 83, 37, 82, 26, 88, 86])"
      ]
     },
     "execution_count": 99,
     "metadata": {},
     "output_type": "execute_result"
    }
   ],
   "source": [
    "np.random.randint(0, 100, 10)"
   ]
  },
  {
   "cell_type": "markdown",
   "id": "c1322742",
   "metadata": {},
   "source": [
    "Двумерный массив 3х4 из случайных целых чисел в промежутке [0, 10):"
   ]
  },
  {
   "cell_type": "code",
   "execution_count": 100,
   "id": "b17af0e9",
   "metadata": {},
   "outputs": [
    {
     "data": {
      "text/plain": [
       "array([[2, 9, 7, 0],\n",
       "       [2, 4, 4, 9],\n",
       "       [1, 9, 7, 4]])"
      ]
     },
     "execution_count": 100,
     "metadata": {},
     "output_type": "execute_result"
    }
   ],
   "source": [
    "np.random.randint(0, 10, (3, 4))"
   ]
  },
  {
   "cell_type": "markdown",
   "id": "8744c834",
   "metadata": {},
   "source": [
    "<b>numpy.random.choice</b> - случайный выбор элементов из массива"
   ]
  },
  {
   "cell_type": "code",
   "execution_count": 101,
   "id": "a1b494a9",
   "metadata": {},
   "outputs": [],
   "source": [
    "b = np.array([1, 5, 2, 7, 3, 8, 6, 4])"
   ]
  },
  {
   "cell_type": "code",
   "execution_count": 102,
   "id": "202f9188",
   "metadata": {},
   "outputs": [
    {
     "data": {
      "text/plain": [
       "6"
      ]
     },
     "execution_count": 102,
     "metadata": {},
     "output_type": "execute_result"
    }
   ],
   "source": [
    "np.random.choice(b)"
   ]
  },
  {
   "cell_type": "code",
   "execution_count": 103,
   "id": "23d68081",
   "metadata": {},
   "outputs": [
    {
     "data": {
      "text/plain": [
       "array([6, 4, 6])"
      ]
     },
     "execution_count": 103,
     "metadata": {},
     "output_type": "execute_result"
    }
   ],
   "source": [
    "np.random.choice(b, 3)"
   ]
  },
  {
   "cell_type": "code",
   "execution_count": 104,
   "id": "b32de64b",
   "metadata": {},
   "outputs": [],
   "source": [
    "np.random.seed(42)"
   ]
  },
  {
   "cell_type": "code",
   "execution_count": 105,
   "id": "e612e02c",
   "metadata": {},
   "outputs": [
    {
     "data": {
      "text/plain": [
       "array([6, 3, 7])"
      ]
     },
     "execution_count": 105,
     "metadata": {},
     "output_type": "execute_result"
    }
   ],
   "source": [
    "np.random.randint(0, 10, 3)"
   ]
  },
  {
   "cell_type": "markdown",
   "id": "f8868543",
   "metadata": {},
   "source": [
    "### Изменение формы массива"
   ]
  },
  {
   "cell_type": "code",
   "execution_count": 106,
   "id": "55a712ac",
   "metadata": {},
   "outputs": [
    {
     "data": {
      "text/plain": [
       "array([ 0,  1,  2,  3,  4,  5,  6,  7,  8,  9, 10, 11])"
      ]
     },
     "execution_count": 106,
     "metadata": {},
     "output_type": "execute_result"
    }
   ],
   "source": [
    "a = np.arange(12)\n",
    "a"
   ]
  },
  {
   "cell_type": "code",
   "execution_count": 107,
   "id": "7abd4f88",
   "metadata": {},
   "outputs": [
    {
     "data": {
      "text/plain": [
       "array([[ 0,  1,  2,  3],\n",
       "       [ 4,  5,  6,  7],\n",
       "       [ 8,  9, 10, 11]])"
      ]
     },
     "execution_count": 107,
     "metadata": {},
     "output_type": "execute_result"
    }
   ],
   "source": [
    "a.reshape (3, 4)"
   ]
  },
  {
   "cell_type": "code",
   "execution_count": 108,
   "id": "f792a998",
   "metadata": {},
   "outputs": [
    {
     "data": {
      "text/plain": [
       "array([ 0,  1,  2,  3,  4,  5,  6,  7,  8,  9, 10, 11])"
      ]
     },
     "execution_count": 108,
     "metadata": {},
     "output_type": "execute_result"
    }
   ],
   "source": [
    "a"
   ]
  },
  {
   "cell_type": "code",
   "execution_count": 109,
   "id": "522bb7f7",
   "metadata": {},
   "outputs": [
    {
     "data": {
      "text/plain": [
       "array([[ 0,  1,  2,  3],\n",
       "       [ 4,  5,  6,  7],\n",
       "       [ 8,  9, 10, 11]])"
      ]
     },
     "execution_count": 109,
     "metadata": {},
     "output_type": "execute_result"
    }
   ],
   "source": [
    "# Можно указать требуемое число строк, а вместо числа столбцов поставить -1\n",
    "np.reshape(a, (3, -1))"
   ]
  },
  {
   "cell_type": "code",
   "execution_count": 110,
   "id": "38d65d1f",
   "metadata": {},
   "outputs": [
    {
     "data": {
      "text/plain": [
       "array([[ 0,  1,  2,  3],\n",
       "       [ 4,  5,  6,  7],\n",
       "       [ 8,  9, 10, 11]])"
      ]
     },
     "execution_count": 110,
     "metadata": {},
     "output_type": "execute_result"
    }
   ],
   "source": [
    "# Указано только число столбцов\n",
    "np.reshape(a, (- 1, 4))"
   ]
  },
  {
   "cell_type": "code",
   "execution_count": 111,
   "id": "9e0c3801",
   "metadata": {},
   "outputs": [
    {
     "data": {
      "text/plain": [
       "array([ 0,  1,  2,  3,  4,  5,  6,  7,  8,  9, 10, 11])"
      ]
     },
     "execution_count": 111,
     "metadata": {},
     "output_type": "execute_result"
    }
   ],
   "source": [
    "a"
   ]
  },
  {
   "cell_type": "code",
   "execution_count": 112,
   "id": "9fe2a571",
   "metadata": {},
   "outputs": [],
   "source": [
    "# inplace\n",
    "a.resize(3, 4)"
   ]
  },
  {
   "cell_type": "code",
   "execution_count": 113,
   "id": "9fd99cf5",
   "metadata": {},
   "outputs": [
    {
     "data": {
      "text/plain": [
       "array([[ 0,  1,  2,  3],\n",
       "       [ 4,  5,  6,  7],\n",
       "       [ 8,  9, 10, 11]])"
      ]
     },
     "execution_count": 113,
     "metadata": {},
     "output_type": "execute_result"
    }
   ],
   "source": [
    "a"
   ]
  },
  {
   "cell_type": "code",
   "execution_count": 114,
   "id": "4571de7a",
   "metadata": {},
   "outputs": [
    {
     "data": {
      "text/plain": [
       "array([ 0,  1,  2,  3,  4,  5,  6,  7,  8,  9, 10, 11])"
      ]
     },
     "execution_count": 114,
     "metadata": {},
     "output_type": "execute_result"
    }
   ],
   "source": [
    "a = a.flatten()\n",
    "a"
   ]
  },
  {
   "cell_type": "markdown",
   "id": "0e5ab3d6",
   "metadata": {},
   "source": [
    "### Соединение массивов"
   ]
  },
  {
   "cell_type": "markdown",
   "id": "425b89c8",
   "metadata": {},
   "source": [
    "Для наглядности возьмем два массива - с нулями и единицами:"
   ]
  },
  {
   "cell_type": "code",
   "execution_count": 115,
   "id": "0b44959e",
   "metadata": {},
   "outputs": [
    {
     "data": {
      "text/plain": [
       "array([[0., 0., 0.],\n",
       "       [0., 0., 0.]])"
      ]
     },
     "execution_count": 115,
     "metadata": {},
     "output_type": "execute_result"
    }
   ],
   "source": [
    "a = np.zeros((2, 3))\n",
    "a"
   ]
  },
  {
   "cell_type": "code",
   "execution_count": 116,
   "id": "39402deb",
   "metadata": {},
   "outputs": [
    {
     "data": {
      "text/plain": [
       "array([[1., 1., 1.],\n",
       "       [1., 1., 1.]])"
      ]
     },
     "execution_count": 116,
     "metadata": {},
     "output_type": "execute_result"
    }
   ],
   "source": [
    "b = np.ones((2, 3))\n",
    "b"
   ]
  },
  {
   "cell_type": "code",
   "execution_count": 117,
   "id": "4ba4748e",
   "metadata": {},
   "outputs": [
    {
     "data": {
      "text/plain": [
       "array([[0., 0., 0.],\n",
       "       [0., 0., 0.],\n",
       "       [1., 1., 1.],\n",
       "       [1., 1., 1.]])"
      ]
     },
     "execution_count": 117,
     "metadata": {},
     "output_type": "execute_result"
    }
   ],
   "source": [
    "v = np.vstack((a, b))\n",
    "v"
   ]
  },
  {
   "cell_type": "code",
   "execution_count": 118,
   "id": "7eea2180",
   "metadata": {},
   "outputs": [
    {
     "data": {
      "text/plain": [
       "((2, 3), (2, 3), (4, 3))"
      ]
     },
     "execution_count": 118,
     "metadata": {},
     "output_type": "execute_result"
    }
   ],
   "source": [
    "a.shape, b.shape, v.shape"
   ]
  },
  {
   "cell_type": "code",
   "execution_count": 119,
   "id": "82ba24a9",
   "metadata": {},
   "outputs": [
    {
     "data": {
      "text/plain": [
       "array([[0., 0., 0.],\n",
       "       [0., 0., 0.],\n",
       "       [1., 1., 1.],\n",
       "       [1., 1., 1.]])"
      ]
     },
     "execution_count": 119,
     "metadata": {},
     "output_type": "execute_result"
    }
   ],
   "source": [
    "np.concatenate((a, b), axis = 0)"
   ]
  },
  {
   "cell_type": "markdown",
   "id": "23836e9c",
   "metadata": {},
   "source": [
    "Создание столбцов (в горизонтальном измерении)"
   ]
  },
  {
   "cell_type": "code",
   "execution_count": 120,
   "id": "e93b6188",
   "metadata": {},
   "outputs": [
    {
     "data": {
      "text/plain": [
       "array([[0., 0., 0., 1., 1., 1.],\n",
       "       [0., 0., 0., 1., 1., 1.]])"
      ]
     },
     "execution_count": 120,
     "metadata": {},
     "output_type": "execute_result"
    }
   ],
   "source": [
    "h = np.hstack((a, b))\n",
    "h"
   ]
  },
  {
   "cell_type": "code",
   "execution_count": 122,
   "id": "ddb49f6f",
   "metadata": {},
   "outputs": [
    {
     "data": {
      "text/plain": [
       "((2, 3), (2, 3), (2, 6))"
      ]
     },
     "execution_count": 122,
     "metadata": {},
     "output_type": "execute_result"
    }
   ],
   "source": [
    "a.shape, b.shape, h.shape"
   ]
  },
  {
   "cell_type": "code",
   "execution_count": 123,
   "id": "9ded19a0",
   "metadata": {},
   "outputs": [
    {
     "data": {
      "text/plain": [
       "array([[0., 0., 0., 1., 1., 1.],\n",
       "       [0., 0., 0., 1., 1., 1.]])"
      ]
     },
     "execution_count": 123,
     "metadata": {},
     "output_type": "execute_result"
    }
   ],
   "source": [
    "np.concatenate((a,  b), axis = 1)"
   ]
  },
  {
   "cell_type": "markdown",
   "id": "a83cc266",
   "metadata": {},
   "source": [
    "Соудинение в глубину (в третьем измерении)"
   ]
  },
  {
   "cell_type": "code",
   "execution_count": 124,
   "id": "d4cff026",
   "metadata": {},
   "outputs": [
    {
     "data": {
      "text/plain": [
       "array([[[0., 1.],\n",
       "        [0., 1.],\n",
       "        [0., 1.]],\n",
       "\n",
       "       [[0., 1.],\n",
       "        [0., 1.],\n",
       "        [0., 1.]]])"
      ]
     },
     "execution_count": 124,
     "metadata": {},
     "output_type": "execute_result"
    }
   ],
   "source": [
    "d = np.dstack([a, b])\n",
    "d"
   ]
  },
  {
   "cell_type": "code",
   "execution_count": null,
   "id": "0583478b",
   "metadata": {},
   "outputs": [],
   "source": []
  }
 ],
 "metadata": {
  "kernelspec": {
   "display_name": "Python 3",
   "language": "python",
   "name": "python3"
  },
  "language_info": {
   "codemirror_mode": {
    "name": "ipython",
    "version": 3
   },
   "file_extension": ".py",
   "mimetype": "text/x-python",
   "name": "python",
   "nbconvert_exporter": "python",
   "pygments_lexer": "ipython3",
   "version": "3.9.1"
  }
 },
 "nbformat": 4,
 "nbformat_minor": 5
}