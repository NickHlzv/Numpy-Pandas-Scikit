{
 "cells": [
  {
   "cell_type": "code",
   "execution_count": 22,
   "id": "685e4928",
   "metadata": {},
   "outputs": [
    {
     "name": "stdout",
     "output_type": "stream",
     "text": [
      " ’®¬ ў гбва®©бвўҐ C ­Ґ Ё¬ҐҐв ¬ҐвЄЁ.\n",
      " ‘ҐаЁ©­л© ­®¬Ґа в®¬ : 3682-9086\n",
      "\n",
      " ‘®¤Ґа¦Ё¬®Ґ Ї ЇЄЁ C:\\Users\\nikit\\OneDrive\\„®Єг¬Ґ­вл\\“зҐЎ \\Nympy,Pandas,Scitik\n",
      "\n",
      "21.05.2021  12:38    <DIR>          .\n",
      "21.05.2021  12:38    <DIR>          ..\n",
      "23.01.2021  18:45                25 .gitignore\n",
      "21.05.2021  12:25    <DIR>          .idea\n",
      "21.05.2021  12:24    <DIR>          .ipynb_checkpoints\n",
      "21.05.2021  12:38               865 Lesson1.ipynb\n",
      "18.05.2021  17:07               542 main.py\n",
      "               3 д ©«®ў          1я432 Ў ©в\n",
      "               4 Ї Ї®Є  106я417я590я272 Ў ©в бў®Ў®¤­®\n"
     ]
    }
   ],
   "source": [
    "%ls"
   ]
  },
  {
   "cell_type": "markdown",
   "id": "2f96f86a",
   "metadata": {},
   "source": [
    "Первый запуск"
   ]
  },
  {
   "cell_type": "code",
   "execution_count": null,
   "id": "a3d62aff",
   "metadata": {},
   "outputs": [],
   "source": []
  }
 ],
 "metadata": {
  "kernelspec": {
   "display_name": "Python 3",
   "language": "python",
   "name": "python3"
  },
  "language_info": {
   "codemirror_mode": {
    "name": "ipython",
    "version": 3
   },
   "file_extension": ".py",
   "mimetype": "text/x-python",
   "name": "python",
   "nbconvert_exporter": "python",
   "pygments_lexer": "ipython3",
   "version": "3.9.1"
  }
 },
 "nbformat": 4,
 "nbformat_minor": 5
}
