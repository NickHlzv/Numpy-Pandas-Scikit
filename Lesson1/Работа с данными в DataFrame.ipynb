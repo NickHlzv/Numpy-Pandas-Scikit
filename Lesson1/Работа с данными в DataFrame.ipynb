{
 "cells": [
  {
   "cell_type": "code",
   "execution_count": 1,
   "id": "0aa818df",
   "metadata": {},
   "outputs": [],
   "source": [
    "import numpy as np\n",
    "import pandas as pd"
   ]
  },
  {
   "cell_type": "markdown",
   "id": "6d36832f",
   "metadata": {},
   "source": [
    "#### Слияние данных"
   ]
  },
  {
   "cell_type": "code",
   "execution_count": 2,
   "id": "b712a172",
   "metadata": {},
   "outputs": [],
   "source": [
    "authors = pd.DataFrame({'author_id' : [1, 2, 3], 'author_name' : ['Pushkin', 'Tolstoy', 'Dostoevsky']},\n",
    "                      columns = ['author_id', 'author_name'])"
   ]
  },
  {
   "cell_type": "code",
   "execution_count": 3,
   "id": "e1eaf499",
   "metadata": {},
   "outputs": [
    {
     "data": {
      "text/plain": "   author_id author_name\n0          1     Pushkin\n1          2     Tolstoy\n2          3  Dostoevsky",
      "text/html": "<div>\n<style scoped>\n    .dataframe tbody tr th:only-of-type {\n        vertical-align: middle;\n    }\n\n    .dataframe tbody tr th {\n        vertical-align: top;\n    }\n\n    .dataframe thead th {\n        text-align: right;\n    }\n</style>\n<table border=\"1\" class=\"dataframe\">\n  <thead>\n    <tr style=\"text-align: right;\">\n      <th></th>\n      <th>author_id</th>\n      <th>author_name</th>\n    </tr>\n  </thead>\n  <tbody>\n    <tr>\n      <th>0</th>\n      <td>1</td>\n      <td>Pushkin</td>\n    </tr>\n    <tr>\n      <th>1</th>\n      <td>2</td>\n      <td>Tolstoy</td>\n    </tr>\n    <tr>\n      <th>2</th>\n      <td>3</td>\n      <td>Dostoevsky</td>\n    </tr>\n  </tbody>\n</table>\n</div>"
     },
     "execution_count": 3,
     "metadata": {},
     "output_type": "execute_result"
    }
   ],
   "source": [
    "authors"
   ]
  },
  {
   "cell_type": "code",
   "execution_count": 4,
   "id": "0cf5c038",
   "metadata": {},
   "outputs": [],
   "source": [
    "books = pd.DataFrame({'author_id' : [2, 3, 3, 4],\n",
    "                      'book_title' : ['War and Peace', 'The Idiot', 'Crime and Punishment', 'Fathers and Sons']})"
   ]
  },
  {
   "cell_type": "code",
   "execution_count": 5,
   "id": "13f0f009",
   "metadata": {},
   "outputs": [
    {
     "data": {
      "text/plain": "   author_id            book_title\n0          2         War and Peace\n1          3             The Idiot\n2          3  Crime and Punishment\n3          4      Fathers and Sons",
      "text/html": "<div>\n<style scoped>\n    .dataframe tbody tr th:only-of-type {\n        vertical-align: middle;\n    }\n\n    .dataframe tbody tr th {\n        vertical-align: top;\n    }\n\n    .dataframe thead th {\n        text-align: right;\n    }\n</style>\n<table border=\"1\" class=\"dataframe\">\n  <thead>\n    <tr style=\"text-align: right;\">\n      <th></th>\n      <th>author_id</th>\n      <th>book_title</th>\n    </tr>\n  </thead>\n  <tbody>\n    <tr>\n      <th>0</th>\n      <td>2</td>\n      <td>War and Peace</td>\n    </tr>\n    <tr>\n      <th>1</th>\n      <td>3</td>\n      <td>The Idiot</td>\n    </tr>\n    <tr>\n      <th>2</th>\n      <td>3</td>\n      <td>Crime and Punishment</td>\n    </tr>\n    <tr>\n      <th>3</th>\n      <td>4</td>\n      <td>Fathers and Sons</td>\n    </tr>\n  </tbody>\n</table>\n</div>"
     },
     "execution_count": 5,
     "metadata": {},
     "output_type": "execute_result"
    }
   ],
   "source": [
    "books"
   ]
  },
  {
   "cell_type": "markdown",
   "id": "1e58f30b",
   "metadata": {},
   "source": [
    "#### Merge"
   ]
  },
  {
   "cell_type": "code",
   "execution_count": 6,
   "id": "3f5b70b6",
   "metadata": {},
   "outputs": [
    {
     "data": {
      "text/plain": "   author_id author_name            book_title\n0          2     Tolstoy         War and Peace\n1          3  Dostoevsky             The Idiot\n2          3  Dostoevsky  Crime and Punishment",
      "text/html": "<div>\n<style scoped>\n    .dataframe tbody tr th:only-of-type {\n        vertical-align: middle;\n    }\n\n    .dataframe tbody tr th {\n        vertical-align: top;\n    }\n\n    .dataframe thead th {\n        text-align: right;\n    }\n</style>\n<table border=\"1\" class=\"dataframe\">\n  <thead>\n    <tr style=\"text-align: right;\">\n      <th></th>\n      <th>author_id</th>\n      <th>author_name</th>\n      <th>book_title</th>\n    </tr>\n  </thead>\n  <tbody>\n    <tr>\n      <th>0</th>\n      <td>2</td>\n      <td>Tolstoy</td>\n      <td>War and Peace</td>\n    </tr>\n    <tr>\n      <th>1</th>\n      <td>3</td>\n      <td>Dostoevsky</td>\n      <td>The Idiot</td>\n    </tr>\n    <tr>\n      <th>2</th>\n      <td>3</td>\n      <td>Dostoevsky</td>\n      <td>Crime and Punishment</td>\n    </tr>\n  </tbody>\n</table>\n</div>"
     },
     "execution_count": 6,
     "metadata": {},
     "output_type": "execute_result"
    }
   ],
   "source": [
    "df1 = pd.merge(authors, books, on = 'author_id', how = 'inner')\n",
    "df1"
   ]
  },
  {
   "cell_type": "markdown",
   "id": "03f39d29",
   "metadata": {},
   "source": [
    "#### Left Merge"
   ]
  },
  {
   "cell_type": "code",
   "execution_count": 7,
   "id": "b923e346",
   "metadata": {},
   "outputs": [
    {
     "data": {
      "text/plain": "   author_id author_name            book_title\n0          1     Pushkin                   NaN\n1          2     Tolstoy         War and Peace\n2          3  Dostoevsky             The Idiot\n3          3  Dostoevsky  Crime and Punishment",
      "text/html": "<div>\n<style scoped>\n    .dataframe tbody tr th:only-of-type {\n        vertical-align: middle;\n    }\n\n    .dataframe tbody tr th {\n        vertical-align: top;\n    }\n\n    .dataframe thead th {\n        text-align: right;\n    }\n</style>\n<table border=\"1\" class=\"dataframe\">\n  <thead>\n    <tr style=\"text-align: right;\">\n      <th></th>\n      <th>author_id</th>\n      <th>author_name</th>\n      <th>book_title</th>\n    </tr>\n  </thead>\n  <tbody>\n    <tr>\n      <th>0</th>\n      <td>1</td>\n      <td>Pushkin</td>\n      <td>NaN</td>\n    </tr>\n    <tr>\n      <th>1</th>\n      <td>2</td>\n      <td>Tolstoy</td>\n      <td>War and Peace</td>\n    </tr>\n    <tr>\n      <th>2</th>\n      <td>3</td>\n      <td>Dostoevsky</td>\n      <td>The Idiot</td>\n    </tr>\n    <tr>\n      <th>3</th>\n      <td>3</td>\n      <td>Dostoevsky</td>\n      <td>Crime and Punishment</td>\n    </tr>\n  </tbody>\n</table>\n</div>"
     },
     "execution_count": 7,
     "metadata": {},
     "output_type": "execute_result"
    }
   ],
   "source": [
    "df2 = pd.merge(authors, books, on = 'author_id', how = 'left')\n",
    "df2"
   ]
  },
  {
   "cell_type": "markdown",
   "id": "a486b8f7",
   "metadata": {},
   "source": [
    "#### Right Merge"
   ]
  },
  {
   "cell_type": "code",
   "execution_count": 8,
   "id": "fd0c6858",
   "metadata": {},
   "outputs": [
    {
     "data": {
      "text/plain": "   author_id author_name            book_title\n0          2     Tolstoy         War and Peace\n1          3  Dostoevsky             The Idiot\n2          3  Dostoevsky  Crime and Punishment\n3          4         NaN      Fathers and Sons",
      "text/html": "<div>\n<style scoped>\n    .dataframe tbody tr th:only-of-type {\n        vertical-align: middle;\n    }\n\n    .dataframe tbody tr th {\n        vertical-align: top;\n    }\n\n    .dataframe thead th {\n        text-align: right;\n    }\n</style>\n<table border=\"1\" class=\"dataframe\">\n  <thead>\n    <tr style=\"text-align: right;\">\n      <th></th>\n      <th>author_id</th>\n      <th>author_name</th>\n      <th>book_title</th>\n    </tr>\n  </thead>\n  <tbody>\n    <tr>\n      <th>0</th>\n      <td>2</td>\n      <td>Tolstoy</td>\n      <td>War and Peace</td>\n    </tr>\n    <tr>\n      <th>1</th>\n      <td>3</td>\n      <td>Dostoevsky</td>\n      <td>The Idiot</td>\n    </tr>\n    <tr>\n      <th>2</th>\n      <td>3</td>\n      <td>Dostoevsky</td>\n      <td>Crime and Punishment</td>\n    </tr>\n    <tr>\n      <th>3</th>\n      <td>4</td>\n      <td>NaN</td>\n      <td>Fathers and Sons</td>\n    </tr>\n  </tbody>\n</table>\n</div>"
     },
     "execution_count": 8,
     "metadata": {},
     "output_type": "execute_result"
    }
   ],
   "source": [
    "df3 = pd.merge(authors, books, on = 'author_id', how = 'right')\n",
    "df3"
   ]
  },
  {
   "cell_type": "markdown",
   "id": "63d09887",
   "metadata": {},
   "source": [
    "#### Outer Merge"
   ]
  },
  {
   "cell_type": "code",
   "execution_count": 9,
   "id": "8c119b5c",
   "metadata": {},
   "outputs": [
    {
     "data": {
      "text/plain": "   author_id author_name            book_title\n0          1     Pushkin                   NaN\n1          2     Tolstoy         War and Peace\n2          3  Dostoevsky             The Idiot\n3          3  Dostoevsky  Crime and Punishment\n4          4         NaN      Fathers and Sons",
      "text/html": "<div>\n<style scoped>\n    .dataframe tbody tr th:only-of-type {\n        vertical-align: middle;\n    }\n\n    .dataframe tbody tr th {\n        vertical-align: top;\n    }\n\n    .dataframe thead th {\n        text-align: right;\n    }\n</style>\n<table border=\"1\" class=\"dataframe\">\n  <thead>\n    <tr style=\"text-align: right;\">\n      <th></th>\n      <th>author_id</th>\n      <th>author_name</th>\n      <th>book_title</th>\n    </tr>\n  </thead>\n  <tbody>\n    <tr>\n      <th>0</th>\n      <td>1</td>\n      <td>Pushkin</td>\n      <td>NaN</td>\n    </tr>\n    <tr>\n      <th>1</th>\n      <td>2</td>\n      <td>Tolstoy</td>\n      <td>War and Peace</td>\n    </tr>\n    <tr>\n      <th>2</th>\n      <td>3</td>\n      <td>Dostoevsky</td>\n      <td>The Idiot</td>\n    </tr>\n    <tr>\n      <th>3</th>\n      <td>3</td>\n      <td>Dostoevsky</td>\n      <td>Crime and Punishment</td>\n    </tr>\n    <tr>\n      <th>4</th>\n      <td>4</td>\n      <td>NaN</td>\n      <td>Fathers and Sons</td>\n    </tr>\n  </tbody>\n</table>\n</div>"
     },
     "execution_count": 9,
     "metadata": {},
     "output_type": "execute_result"
    }
   ],
   "source": [
    "df4 = pd.merge(authors, books, on = 'author_id', how = 'outer')\n",
    "df4"
   ]
  },
  {
   "cell_type": "markdown",
   "id": "f8e3d858",
   "metadata": {},
   "source": [
    "#### Работа с пропущенными данными"
   ]
  },
  {
   "cell_type": "code",
   "execution_count": 10,
   "id": "385f834e",
   "metadata": {},
   "outputs": [
    {
     "data": {
      "text/plain": "   author_id author_name book_title\n0          1     Pushkin        NaN",
      "text/html": "<div>\n<style scoped>\n    .dataframe tbody tr th:only-of-type {\n        vertical-align: middle;\n    }\n\n    .dataframe tbody tr th {\n        vertical-align: top;\n    }\n\n    .dataframe thead th {\n        text-align: right;\n    }\n</style>\n<table border=\"1\" class=\"dataframe\">\n  <thead>\n    <tr style=\"text-align: right;\">\n      <th></th>\n      <th>author_id</th>\n      <th>author_name</th>\n      <th>book_title</th>\n    </tr>\n  </thead>\n  <tbody>\n    <tr>\n      <th>0</th>\n      <td>1</td>\n      <td>Pushkin</td>\n      <td>NaN</td>\n    </tr>\n  </tbody>\n</table>\n</div>"
     },
     "execution_count": 10,
     "metadata": {},
     "output_type": "execute_result"
    }
   ],
   "source": [
    "df4.loc[df4['book_title'].isnull(), :]"
   ]
  },
  {
   "cell_type": "code",
   "execution_count": 11,
   "id": "a6275d06",
   "metadata": {},
   "outputs": [
    {
     "data": {
      "text/plain": "   author_id author_name            book_title\n0          1     Pushkin                   NaN\n1          2     Tolstoy         War and Peace\n2          3  Dostoevsky             The Idiot\n3          3  Dostoevsky  Crime and Punishment",
      "text/html": "<div>\n<style scoped>\n    .dataframe tbody tr th:only-of-type {\n        vertical-align: middle;\n    }\n\n    .dataframe tbody tr th {\n        vertical-align: top;\n    }\n\n    .dataframe thead th {\n        text-align: right;\n    }\n</style>\n<table border=\"1\" class=\"dataframe\">\n  <thead>\n    <tr style=\"text-align: right;\">\n      <th></th>\n      <th>author_id</th>\n      <th>author_name</th>\n      <th>book_title</th>\n    </tr>\n  </thead>\n  <tbody>\n    <tr>\n      <th>0</th>\n      <td>1</td>\n      <td>Pushkin</td>\n      <td>NaN</td>\n    </tr>\n    <tr>\n      <th>1</th>\n      <td>2</td>\n      <td>Tolstoy</td>\n      <td>War and Peace</td>\n    </tr>\n    <tr>\n      <th>2</th>\n      <td>3</td>\n      <td>Dostoevsky</td>\n      <td>The Idiot</td>\n    </tr>\n    <tr>\n      <th>3</th>\n      <td>3</td>\n      <td>Dostoevsky</td>\n      <td>Crime and Punishment</td>\n    </tr>\n  </tbody>\n</table>\n</div>"
     },
     "execution_count": 11,
     "metadata": {},
     "output_type": "execute_result"
    }
   ],
   "source": [
    "df4.loc[df4['author_name'].notnull(), :]"
   ]
  },
  {
   "cell_type": "code",
   "execution_count": 12,
   "id": "9fcd8ffb",
   "metadata": {},
   "outputs": [],
   "source": [
    "df4['book_title'] = df4['book_title'].fillna('unknown')"
   ]
  },
  {
   "cell_type": "code",
   "execution_count": 13,
   "id": "6a796009",
   "metadata": {},
   "outputs": [
    {
     "data": {
      "text/plain": "   author_id author_name            book_title\n0          1     Pushkin               unknown\n1          2     Tolstoy         War and Peace\n2          3  Dostoevsky             The Idiot\n3          3  Dostoevsky  Crime and Punishment\n4          4         NaN      Fathers and Sons",
      "text/html": "<div>\n<style scoped>\n    .dataframe tbody tr th:only-of-type {\n        vertical-align: middle;\n    }\n\n    .dataframe tbody tr th {\n        vertical-align: top;\n    }\n\n    .dataframe thead th {\n        text-align: right;\n    }\n</style>\n<table border=\"1\" class=\"dataframe\">\n  <thead>\n    <tr style=\"text-align: right;\">\n      <th></th>\n      <th>author_id</th>\n      <th>author_name</th>\n      <th>book_title</th>\n    </tr>\n  </thead>\n  <tbody>\n    <tr>\n      <th>0</th>\n      <td>1</td>\n      <td>Pushkin</td>\n      <td>unknown</td>\n    </tr>\n    <tr>\n      <th>1</th>\n      <td>2</td>\n      <td>Tolstoy</td>\n      <td>War and Peace</td>\n    </tr>\n    <tr>\n      <th>2</th>\n      <td>3</td>\n      <td>Dostoevsky</td>\n      <td>The Idiot</td>\n    </tr>\n    <tr>\n      <th>3</th>\n      <td>3</td>\n      <td>Dostoevsky</td>\n      <td>Crime and Punishment</td>\n    </tr>\n    <tr>\n      <th>4</th>\n      <td>4</td>\n      <td>NaN</td>\n      <td>Fathers and Sons</td>\n    </tr>\n  </tbody>\n</table>\n</div>"
     },
     "execution_count": 13,
     "metadata": {},
     "output_type": "execute_result"
    }
   ],
   "source": [
    "df4"
   ]
  },
  {
   "cell_type": "code",
   "execution_count": 14,
   "id": "1b142270",
   "metadata": {},
   "outputs": [],
   "source": [
    "df4['author_name'].fillna('unlnown', inplace=True)"
   ]
  },
  {
   "cell_type": "code",
   "execution_count": 15,
   "id": "72cf3d9e",
   "metadata": {},
   "outputs": [
    {
     "data": {
      "text/plain": "   author_id author_name            book_title\n0          1     Pushkin               unknown\n1          2     Tolstoy         War and Peace\n2          3  Dostoevsky             The Idiot\n3          3  Dostoevsky  Crime and Punishment\n4          4     unlnown      Fathers and Sons",
      "text/html": "<div>\n<style scoped>\n    .dataframe tbody tr th:only-of-type {\n        vertical-align: middle;\n    }\n\n    .dataframe tbody tr th {\n        vertical-align: top;\n    }\n\n    .dataframe thead th {\n        text-align: right;\n    }\n</style>\n<table border=\"1\" class=\"dataframe\">\n  <thead>\n    <tr style=\"text-align: right;\">\n      <th></th>\n      <th>author_id</th>\n      <th>author_name</th>\n      <th>book_title</th>\n    </tr>\n  </thead>\n  <tbody>\n    <tr>\n      <th>0</th>\n      <td>1</td>\n      <td>Pushkin</td>\n      <td>unknown</td>\n    </tr>\n    <tr>\n      <th>1</th>\n      <td>2</td>\n      <td>Tolstoy</td>\n      <td>War and Peace</td>\n    </tr>\n    <tr>\n      <th>2</th>\n      <td>3</td>\n      <td>Dostoevsky</td>\n      <td>The Idiot</td>\n    </tr>\n    <tr>\n      <th>3</th>\n      <td>3</td>\n      <td>Dostoevsky</td>\n      <td>Crime and Punishment</td>\n    </tr>\n    <tr>\n      <th>4</th>\n      <td>4</td>\n      <td>unlnown</td>\n      <td>Fathers and Sons</td>\n    </tr>\n  </tbody>\n</table>\n</div>"
     },
     "execution_count": 15,
     "metadata": {},
     "output_type": "execute_result"
    }
   ],
   "source": [
    "df4"
   ]
  },
  {
   "cell_type": "markdown",
   "id": "91ec7e2a",
   "metadata": {},
   "source": [
    "#### Добавление столбцов"
   ]
  },
  {
   "cell_type": "code",
   "execution_count": 16,
   "id": "7fe0518b",
   "metadata": {},
   "outputs": [],
   "source": [
    "df4.loc[(df4['author_name'] != 'unknown') & (df4['book_title'] != 'unknown'), 'quantity'] = 1"
   ]
  },
  {
   "cell_type": "code",
   "execution_count": 17,
   "id": "14dfeb8c",
   "metadata": {},
   "outputs": [
    {
     "data": {
      "text/plain": "   author_id author_name            book_title  quantity\n0          1     Pushkin               unknown       NaN\n1          2     Tolstoy         War and Peace       1.0\n2          3  Dostoevsky             The Idiot       1.0\n3          3  Dostoevsky  Crime and Punishment       1.0\n4          4     unlnown      Fathers and Sons       1.0",
      "text/html": "<div>\n<style scoped>\n    .dataframe tbody tr th:only-of-type {\n        vertical-align: middle;\n    }\n\n    .dataframe tbody tr th {\n        vertical-align: top;\n    }\n\n    .dataframe thead th {\n        text-align: right;\n    }\n</style>\n<table border=\"1\" class=\"dataframe\">\n  <thead>\n    <tr style=\"text-align: right;\">\n      <th></th>\n      <th>author_id</th>\n      <th>author_name</th>\n      <th>book_title</th>\n      <th>quantity</th>\n    </tr>\n  </thead>\n  <tbody>\n    <tr>\n      <th>0</th>\n      <td>1</td>\n      <td>Pushkin</td>\n      <td>unknown</td>\n      <td>NaN</td>\n    </tr>\n    <tr>\n      <th>1</th>\n      <td>2</td>\n      <td>Tolstoy</td>\n      <td>War and Peace</td>\n      <td>1.0</td>\n    </tr>\n    <tr>\n      <th>2</th>\n      <td>3</td>\n      <td>Dostoevsky</td>\n      <td>The Idiot</td>\n      <td>1.0</td>\n    </tr>\n    <tr>\n      <th>3</th>\n      <td>3</td>\n      <td>Dostoevsky</td>\n      <td>Crime and Punishment</td>\n      <td>1.0</td>\n    </tr>\n    <tr>\n      <th>4</th>\n      <td>4</td>\n      <td>unlnown</td>\n      <td>Fathers and Sons</td>\n      <td>1.0</td>\n    </tr>\n  </tbody>\n</table>\n</div>"
     },
     "execution_count": 17,
     "metadata": {},
     "output_type": "execute_result"
    }
   ],
   "source": [
    "df4"
   ]
  },
  {
   "cell_type": "code",
   "execution_count": 18,
   "id": "c7fa0944",
   "metadata": {},
   "outputs": [],
   "source": [
    "df4['quantity'].fillna(0, inplace = True)"
   ]
  },
  {
   "cell_type": "code",
   "execution_count": 19,
   "id": "985541b5",
   "metadata": {},
   "outputs": [
    {
     "data": {
      "text/plain": "   author_id author_name            book_title  quantity\n0          1     Pushkin               unknown       0.0\n1          2     Tolstoy         War and Peace       1.0\n2          3  Dostoevsky             The Idiot       1.0\n3          3  Dostoevsky  Crime and Punishment       1.0\n4          4     unlnown      Fathers and Sons       1.0",
      "text/html": "<div>\n<style scoped>\n    .dataframe tbody tr th:only-of-type {\n        vertical-align: middle;\n    }\n\n    .dataframe tbody tr th {\n        vertical-align: top;\n    }\n\n    .dataframe thead th {\n        text-align: right;\n    }\n</style>\n<table border=\"1\" class=\"dataframe\">\n  <thead>\n    <tr style=\"text-align: right;\">\n      <th></th>\n      <th>author_id</th>\n      <th>author_name</th>\n      <th>book_title</th>\n      <th>quantity</th>\n    </tr>\n  </thead>\n  <tbody>\n    <tr>\n      <th>0</th>\n      <td>1</td>\n      <td>Pushkin</td>\n      <td>unknown</td>\n      <td>0.0</td>\n    </tr>\n    <tr>\n      <th>1</th>\n      <td>2</td>\n      <td>Tolstoy</td>\n      <td>War and Peace</td>\n      <td>1.0</td>\n    </tr>\n    <tr>\n      <th>2</th>\n      <td>3</td>\n      <td>Dostoevsky</td>\n      <td>The Idiot</td>\n      <td>1.0</td>\n    </tr>\n    <tr>\n      <th>3</th>\n      <td>3</td>\n      <td>Dostoevsky</td>\n      <td>Crime and Punishment</td>\n      <td>1.0</td>\n    </tr>\n    <tr>\n      <th>4</th>\n      <td>4</td>\n      <td>unlnown</td>\n      <td>Fathers and Sons</td>\n      <td>1.0</td>\n    </tr>\n  </tbody>\n</table>\n</div>"
     },
     "execution_count": 19,
     "metadata": {},
     "output_type": "execute_result"
    }
   ],
   "source": [
    "df4"
   ]
  },
  {
   "cell_type": "code",
   "execution_count": 20,
   "id": "75a112cb",
   "metadata": {},
   "outputs": [
    {
     "data": {
      "text/plain": "   author_id author_name            book_title  quantity\n0          1     Pushkin               unknown         0\n1          2     Tolstoy         War and Peace         1\n2          3  Dostoevsky             The Idiot         1\n3          3  Dostoevsky  Crime and Punishment         1\n4          4     unlnown      Fathers and Sons         1",
      "text/html": "<div>\n<style scoped>\n    .dataframe tbody tr th:only-of-type {\n        vertical-align: middle;\n    }\n\n    .dataframe tbody tr th {\n        vertical-align: top;\n    }\n\n    .dataframe thead th {\n        text-align: right;\n    }\n</style>\n<table border=\"1\" class=\"dataframe\">\n  <thead>\n    <tr style=\"text-align: right;\">\n      <th></th>\n      <th>author_id</th>\n      <th>author_name</th>\n      <th>book_title</th>\n      <th>quantity</th>\n    </tr>\n  </thead>\n  <tbody>\n    <tr>\n      <th>0</th>\n      <td>1</td>\n      <td>Pushkin</td>\n      <td>unknown</td>\n      <td>0</td>\n    </tr>\n    <tr>\n      <th>1</th>\n      <td>2</td>\n      <td>Tolstoy</td>\n      <td>War and Peace</td>\n      <td>1</td>\n    </tr>\n    <tr>\n      <th>2</th>\n      <td>3</td>\n      <td>Dostoevsky</td>\n      <td>The Idiot</td>\n      <td>1</td>\n    </tr>\n    <tr>\n      <th>3</th>\n      <td>3</td>\n      <td>Dostoevsky</td>\n      <td>Crime and Punishment</td>\n      <td>1</td>\n    </tr>\n    <tr>\n      <th>4</th>\n      <td>4</td>\n      <td>unlnown</td>\n      <td>Fathers and Sons</td>\n      <td>1</td>\n    </tr>\n  </tbody>\n</table>\n</div>"
     },
     "execution_count": 20,
     "metadata": {},
     "output_type": "execute_result"
    }
   ],
   "source": [
    "df4['quantity'] = df4['quantity'].astype(int)\n",
    "df4"
   ]
  },
  {
   "cell_type": "code",
   "execution_count": 21,
   "id": "598e64ea",
   "metadata": {},
   "outputs": [
    {
     "data": {
      "text/plain": "          author_name            book_title  quantity\nauthor_id                                            \n1             Pushkin               unknown         0\n2             Tolstoy         War and Peace         1\n3          Dostoevsky             The Idiot         1\n3          Dostoevsky  Crime and Punishment         1\n4             unlnown      Fathers and Sons         1",
      "text/html": "<div>\n<style scoped>\n    .dataframe tbody tr th:only-of-type {\n        vertical-align: middle;\n    }\n\n    .dataframe tbody tr th {\n        vertical-align: top;\n    }\n\n    .dataframe thead th {\n        text-align: right;\n    }\n</style>\n<table border=\"1\" class=\"dataframe\">\n  <thead>\n    <tr style=\"text-align: right;\">\n      <th></th>\n      <th>author_name</th>\n      <th>book_title</th>\n      <th>quantity</th>\n    </tr>\n    <tr>\n      <th>author_id</th>\n      <th></th>\n      <th></th>\n      <th></th>\n    </tr>\n  </thead>\n  <tbody>\n    <tr>\n      <th>1</th>\n      <td>Pushkin</td>\n      <td>unknown</td>\n      <td>0</td>\n    </tr>\n    <tr>\n      <th>2</th>\n      <td>Tolstoy</td>\n      <td>War and Peace</td>\n      <td>1</td>\n    </tr>\n    <tr>\n      <th>3</th>\n      <td>Dostoevsky</td>\n      <td>The Idiot</td>\n      <td>1</td>\n    </tr>\n    <tr>\n      <th>3</th>\n      <td>Dostoevsky</td>\n      <td>Crime and Punishment</td>\n      <td>1</td>\n    </tr>\n    <tr>\n      <th>4</th>\n      <td>unlnown</td>\n      <td>Fathers and Sons</td>\n      <td>1</td>\n    </tr>\n  </tbody>\n</table>\n</div>"
     },
     "execution_count": 21,
     "metadata": {},
     "output_type": "execute_result"
    }
   ],
   "source": [
    "df4.set_index('author_id', inplace = True)\n",
    "df4"
   ]
  },
  {
   "cell_type": "code",
   "execution_count": 22,
   "id": "9042b83f",
   "metadata": {},
   "outputs": [
    {
     "data": {
      "text/plain": "   author_id author_name            book_title  quantity\n0          1     Pushkin               unknown         0\n1          2     Tolstoy         War and Peace         1\n2          3  Dostoevsky             The Idiot         1\n3          3  Dostoevsky  Crime and Punishment         1\n4          4     unlnown      Fathers and Sons         1",
      "text/html": "<div>\n<style scoped>\n    .dataframe tbody tr th:only-of-type {\n        vertical-align: middle;\n    }\n\n    .dataframe tbody tr th {\n        vertical-align: top;\n    }\n\n    .dataframe thead th {\n        text-align: right;\n    }\n</style>\n<table border=\"1\" class=\"dataframe\">\n  <thead>\n    <tr style=\"text-align: right;\">\n      <th></th>\n      <th>author_id</th>\n      <th>author_name</th>\n      <th>book_title</th>\n      <th>quantity</th>\n    </tr>\n  </thead>\n  <tbody>\n    <tr>\n      <th>0</th>\n      <td>1</td>\n      <td>Pushkin</td>\n      <td>unknown</td>\n      <td>0</td>\n    </tr>\n    <tr>\n      <th>1</th>\n      <td>2</td>\n      <td>Tolstoy</td>\n      <td>War and Peace</td>\n      <td>1</td>\n    </tr>\n    <tr>\n      <th>2</th>\n      <td>3</td>\n      <td>Dostoevsky</td>\n      <td>The Idiot</td>\n      <td>1</td>\n    </tr>\n    <tr>\n      <th>3</th>\n      <td>3</td>\n      <td>Dostoevsky</td>\n      <td>Crime and Punishment</td>\n      <td>1</td>\n    </tr>\n    <tr>\n      <th>4</th>\n      <td>4</td>\n      <td>unlnown</td>\n      <td>Fathers and Sons</td>\n      <td>1</td>\n    </tr>\n  </tbody>\n</table>\n</div>"
     },
     "execution_count": 22,
     "metadata": {},
     "output_type": "execute_result"
    }
   ],
   "source": [
    "df4.reset_index(inplace = True)\n",
    "df4"
   ]
  },
  {
   "cell_type": "markdown",
   "id": "e673cacc",
   "metadata": {},
   "source": [
    "#### Удаление данных\n",
    "\n",
    "Сначала добавим новый столбец"
   ]
  },
  {
   "cell_type": "code",
   "execution_count": 23,
   "id": "d3f223a5",
   "metadata": {},
   "outputs": [],
   "source": [
    "df4['price'] = 500"
   ]
  },
  {
   "cell_type": "code",
   "execution_count": 24,
   "id": "1e7f264a",
   "metadata": {},
   "outputs": [
    {
     "data": {
      "text/plain": "   author_id author_name            book_title  quantity  price\n0          1     Pushkin               unknown         0    500\n1          2     Tolstoy         War and Peace         1    500\n2          3  Dostoevsky             The Idiot         1    500\n3          3  Dostoevsky  Crime and Punishment         1    500\n4          4     unlnown      Fathers and Sons         1    500",
      "text/html": "<div>\n<style scoped>\n    .dataframe tbody tr th:only-of-type {\n        vertical-align: middle;\n    }\n\n    .dataframe tbody tr th {\n        vertical-align: top;\n    }\n\n    .dataframe thead th {\n        text-align: right;\n    }\n</style>\n<table border=\"1\" class=\"dataframe\">\n  <thead>\n    <tr style=\"text-align: right;\">\n      <th></th>\n      <th>author_id</th>\n      <th>author_name</th>\n      <th>book_title</th>\n      <th>quantity</th>\n      <th>price</th>\n    </tr>\n  </thead>\n  <tbody>\n    <tr>\n      <th>0</th>\n      <td>1</td>\n      <td>Pushkin</td>\n      <td>unknown</td>\n      <td>0</td>\n      <td>500</td>\n    </tr>\n    <tr>\n      <th>1</th>\n      <td>2</td>\n      <td>Tolstoy</td>\n      <td>War and Peace</td>\n      <td>1</td>\n      <td>500</td>\n    </tr>\n    <tr>\n      <th>2</th>\n      <td>3</td>\n      <td>Dostoevsky</td>\n      <td>The Idiot</td>\n      <td>1</td>\n      <td>500</td>\n    </tr>\n    <tr>\n      <th>3</th>\n      <td>3</td>\n      <td>Dostoevsky</td>\n      <td>Crime and Punishment</td>\n      <td>1</td>\n      <td>500</td>\n    </tr>\n    <tr>\n      <th>4</th>\n      <td>4</td>\n      <td>unlnown</td>\n      <td>Fathers and Sons</td>\n      <td>1</td>\n      <td>500</td>\n    </tr>\n  </tbody>\n</table>\n</div>"
     },
     "execution_count": 24,
     "metadata": {},
     "output_type": "execute_result"
    }
   ],
   "source": [
    "df4"
   ]
  },
  {
   "cell_type": "code",
   "execution_count": 25,
   "id": "b65e07e9",
   "metadata": {},
   "outputs": [
    {
     "data": {
      "text/plain": "   author_id author_name            book_title  quantity\n0          1     Pushkin               unknown         0\n1          2     Tolstoy         War and Peace         1\n2          3  Dostoevsky             The Idiot         1\n3          3  Dostoevsky  Crime and Punishment         1\n4          4     unlnown      Fathers and Sons         1",
      "text/html": "<div>\n<style scoped>\n    .dataframe tbody tr th:only-of-type {\n        vertical-align: middle;\n    }\n\n    .dataframe tbody tr th {\n        vertical-align: top;\n    }\n\n    .dataframe thead th {\n        text-align: right;\n    }\n</style>\n<table border=\"1\" class=\"dataframe\">\n  <thead>\n    <tr style=\"text-align: right;\">\n      <th></th>\n      <th>author_id</th>\n      <th>author_name</th>\n      <th>book_title</th>\n      <th>quantity</th>\n    </tr>\n  </thead>\n  <tbody>\n    <tr>\n      <th>0</th>\n      <td>1</td>\n      <td>Pushkin</td>\n      <td>unknown</td>\n      <td>0</td>\n    </tr>\n    <tr>\n      <th>1</th>\n      <td>2</td>\n      <td>Tolstoy</td>\n      <td>War and Peace</td>\n      <td>1</td>\n    </tr>\n    <tr>\n      <th>2</th>\n      <td>3</td>\n      <td>Dostoevsky</td>\n      <td>The Idiot</td>\n      <td>1</td>\n    </tr>\n    <tr>\n      <th>3</th>\n      <td>3</td>\n      <td>Dostoevsky</td>\n      <td>Crime and Punishment</td>\n      <td>1</td>\n    </tr>\n    <tr>\n      <th>4</th>\n      <td>4</td>\n      <td>unlnown</td>\n      <td>Fathers and Sons</td>\n      <td>1</td>\n    </tr>\n  </tbody>\n</table>\n</div>"
     },
     "execution_count": 25,
     "metadata": {},
     "output_type": "execute_result"
    }
   ],
   "source": [
    "df4 = df4.drop('price', axis = 1)\n",
    "df4"
   ]
  },
  {
   "cell_type": "code",
   "execution_count": 26,
   "id": "dbf4c879",
   "metadata": {},
   "outputs": [
    {
     "data": {
      "text/plain": "   author_id author_name            book_title  quantity\n0          1     Pushkin               unknown         0\n2          3  Dostoevsky             The Idiot         1\n3          3  Dostoevsky  Crime and Punishment         1\n4          4     unlnown      Fathers and Sons         1",
      "text/html": "<div>\n<style scoped>\n    .dataframe tbody tr th:only-of-type {\n        vertical-align: middle;\n    }\n\n    .dataframe tbody tr th {\n        vertical-align: top;\n    }\n\n    .dataframe thead th {\n        text-align: right;\n    }\n</style>\n<table border=\"1\" class=\"dataframe\">\n  <thead>\n    <tr style=\"text-align: right;\">\n      <th></th>\n      <th>author_id</th>\n      <th>author_name</th>\n      <th>book_title</th>\n      <th>quantity</th>\n    </tr>\n  </thead>\n  <tbody>\n    <tr>\n      <th>0</th>\n      <td>1</td>\n      <td>Pushkin</td>\n      <td>unknown</td>\n      <td>0</td>\n    </tr>\n    <tr>\n      <th>2</th>\n      <td>3</td>\n      <td>Dostoevsky</td>\n      <td>The Idiot</td>\n      <td>1</td>\n    </tr>\n    <tr>\n      <th>3</th>\n      <td>3</td>\n      <td>Dostoevsky</td>\n      <td>Crime and Punishment</td>\n      <td>1</td>\n    </tr>\n    <tr>\n      <th>4</th>\n      <td>4</td>\n      <td>unlnown</td>\n      <td>Fathers and Sons</td>\n      <td>1</td>\n    </tr>\n  </tbody>\n</table>\n</div>"
     },
     "execution_count": 26,
     "metadata": {},
     "output_type": "execute_result"
    }
   ],
   "source": [
    "df4 = df4.drop(1, axis = 0)\n",
    "df4"
   ]
  },
  {
   "cell_type": "markdown",
   "id": "f61fecb2",
   "metadata": {},
   "source": [
    "#### Сортировка\n",
    "\n",
    "Вернем удаленную строку"
   ]
  },
  {
   "cell_type": "code",
   "execution_count": 27,
   "id": "4a3bead0",
   "metadata": {},
   "outputs": [
    {
     "data": {
      "text/plain": "   author_id author_name            book_title  quantity\n0          1     Pushkin               unknown         0\n1          3  Dostoevsky             The Idiot         1\n2          3  Dostoevsky  Crime and Punishment         1\n3          4     unlnown      Fathers and Sons         1\n4          2     Tolstoy         War and Peace         1",
      "text/html": "<div>\n<style scoped>\n    .dataframe tbody tr th:only-of-type {\n        vertical-align: middle;\n    }\n\n    .dataframe tbody tr th {\n        vertical-align: top;\n    }\n\n    .dataframe thead th {\n        text-align: right;\n    }\n</style>\n<table border=\"1\" class=\"dataframe\">\n  <thead>\n    <tr style=\"text-align: right;\">\n      <th></th>\n      <th>author_id</th>\n      <th>author_name</th>\n      <th>book_title</th>\n      <th>quantity</th>\n    </tr>\n  </thead>\n  <tbody>\n    <tr>\n      <th>0</th>\n      <td>1</td>\n      <td>Pushkin</td>\n      <td>unknown</td>\n      <td>0</td>\n    </tr>\n    <tr>\n      <th>1</th>\n      <td>3</td>\n      <td>Dostoevsky</td>\n      <td>The Idiot</td>\n      <td>1</td>\n    </tr>\n    <tr>\n      <th>2</th>\n      <td>3</td>\n      <td>Dostoevsky</td>\n      <td>Crime and Punishment</td>\n      <td>1</td>\n    </tr>\n    <tr>\n      <th>3</th>\n      <td>4</td>\n      <td>unlnown</td>\n      <td>Fathers and Sons</td>\n      <td>1</td>\n    </tr>\n    <tr>\n      <th>4</th>\n      <td>2</td>\n      <td>Tolstoy</td>\n      <td>War and Peace</td>\n      <td>1</td>\n    </tr>\n  </tbody>\n</table>\n</div>"
     },
     "execution_count": 27,
     "metadata": {},
     "output_type": "execute_result"
    }
   ],
   "source": [
    "df4 = df4.append(pd.DataFrame({'author_id': [2],\n",
    "                               'author_name' : ['Tolstoy'],\n",
    "                               'book_title' : ['War and Peace'],\n",
    "                               'quantity' : [1]},\n",
    "                               columns = ['author_id', 'author_name', 'book_title', 'quantity']),\n",
    "                                ignore_index=True)\n",
    "df4"
   ]
  },
  {
   "cell_type": "code",
   "execution_count": 28,
   "id": "c5385fc7",
   "metadata": {},
   "outputs": [
    {
     "data": {
      "text/plain": "   author_id author_name            book_title  quantity\n0          1     Pushkin               unknown         0\n4          2     Tolstoy         War and Peace         1\n1          3  Dostoevsky             The Idiot         1\n2          3  Dostoevsky  Crime and Punishment         1\n3          4     unlnown      Fathers and Sons         1",
      "text/html": "<div>\n<style scoped>\n    .dataframe tbody tr th:only-of-type {\n        vertical-align: middle;\n    }\n\n    .dataframe tbody tr th {\n        vertical-align: top;\n    }\n\n    .dataframe thead th {\n        text-align: right;\n    }\n</style>\n<table border=\"1\" class=\"dataframe\">\n  <thead>\n    <tr style=\"text-align: right;\">\n      <th></th>\n      <th>author_id</th>\n      <th>author_name</th>\n      <th>book_title</th>\n      <th>quantity</th>\n    </tr>\n  </thead>\n  <tbody>\n    <tr>\n      <th>0</th>\n      <td>1</td>\n      <td>Pushkin</td>\n      <td>unknown</td>\n      <td>0</td>\n    </tr>\n    <tr>\n      <th>4</th>\n      <td>2</td>\n      <td>Tolstoy</td>\n      <td>War and Peace</td>\n      <td>1</td>\n    </tr>\n    <tr>\n      <th>1</th>\n      <td>3</td>\n      <td>Dostoevsky</td>\n      <td>The Idiot</td>\n      <td>1</td>\n    </tr>\n    <tr>\n      <th>2</th>\n      <td>3</td>\n      <td>Dostoevsky</td>\n      <td>Crime and Punishment</td>\n      <td>1</td>\n    </tr>\n    <tr>\n      <th>3</th>\n      <td>4</td>\n      <td>unlnown</td>\n      <td>Fathers and Sons</td>\n      <td>1</td>\n    </tr>\n  </tbody>\n</table>\n</div>"
     },
     "execution_count": 28,
     "metadata": {},
     "output_type": "execute_result"
    }
   ],
   "source": [
    "df4 = df4.sort_values(by='author_id')\n",
    "df4"
   ]
  },
  {
   "cell_type": "markdown",
   "id": "9e9f1968",
   "metadata": {},
   "source": [
    "Переустановим индекс:"
   ]
  },
  {
   "cell_type": "code",
   "execution_count": 29,
   "id": "e66df562",
   "metadata": {},
   "outputs": [
    {
     "data": {
      "text/plain": "   author_id author_name            book_title  quantity\n0          1     Pushkin               unknown         0\n1          2     Tolstoy         War and Peace         1\n2          3  Dostoevsky             The Idiot         1\n3          3  Dostoevsky  Crime and Punishment         1\n4          4     unlnown      Fathers and Sons         1",
      "text/html": "<div>\n<style scoped>\n    .dataframe tbody tr th:only-of-type {\n        vertical-align: middle;\n    }\n\n    .dataframe tbody tr th {\n        vertical-align: top;\n    }\n\n    .dataframe thead th {\n        text-align: right;\n    }\n</style>\n<table border=\"1\" class=\"dataframe\">\n  <thead>\n    <tr style=\"text-align: right;\">\n      <th></th>\n      <th>author_id</th>\n      <th>author_name</th>\n      <th>book_title</th>\n      <th>quantity</th>\n    </tr>\n  </thead>\n  <tbody>\n    <tr>\n      <th>0</th>\n      <td>1</td>\n      <td>Pushkin</td>\n      <td>unknown</td>\n      <td>0</td>\n    </tr>\n    <tr>\n      <th>1</th>\n      <td>2</td>\n      <td>Tolstoy</td>\n      <td>War and Peace</td>\n      <td>1</td>\n    </tr>\n    <tr>\n      <th>2</th>\n      <td>3</td>\n      <td>Dostoevsky</td>\n      <td>The Idiot</td>\n      <td>1</td>\n    </tr>\n    <tr>\n      <th>3</th>\n      <td>3</td>\n      <td>Dostoevsky</td>\n      <td>Crime and Punishment</td>\n      <td>1</td>\n    </tr>\n    <tr>\n      <th>4</th>\n      <td>4</td>\n      <td>unlnown</td>\n      <td>Fathers and Sons</td>\n      <td>1</td>\n    </tr>\n  </tbody>\n</table>\n</div>"
     },
     "execution_count": 29,
     "metadata": {},
     "output_type": "execute_result"
    }
   ],
   "source": [
    "df4 = df4.reset_index(drop=True)\n",
    "df4"
   ]
  },
  {
   "cell_type": "markdown",
   "id": "9923fa36",
   "metadata": {},
   "source": [
    "#### Соединение датафреймов\n",
    "\n",
    "Конкатенация по оси 0 (добавление новых строк)"
   ]
  },
  {
   "cell_type": "code",
   "execution_count": 30,
   "id": "92939cb5",
   "metadata": {},
   "outputs": [
    {
     "data": {
      "text/plain": "   author_id  author_name     book_title  quantity\n0          3  Dostoyevsky    The Gambler         2\n1          5      Chekhov  Three Sisters         3",
      "text/html": "<div>\n<style scoped>\n    .dataframe tbody tr th:only-of-type {\n        vertical-align: middle;\n    }\n\n    .dataframe tbody tr th {\n        vertical-align: top;\n    }\n\n    .dataframe thead th {\n        text-align: right;\n    }\n</style>\n<table border=\"1\" class=\"dataframe\">\n  <thead>\n    <tr style=\"text-align: right;\">\n      <th></th>\n      <th>author_id</th>\n      <th>author_name</th>\n      <th>book_title</th>\n      <th>quantity</th>\n    </tr>\n  </thead>\n  <tbody>\n    <tr>\n      <th>0</th>\n      <td>3</td>\n      <td>Dostoyevsky</td>\n      <td>The Gambler</td>\n      <td>2</td>\n    </tr>\n    <tr>\n      <th>1</th>\n      <td>5</td>\n      <td>Chekhov</td>\n      <td>Three Sisters</td>\n      <td>3</td>\n    </tr>\n  </tbody>\n</table>\n</div>"
     },
     "execution_count": 30,
     "metadata": {},
     "output_type": "execute_result"
    }
   ],
   "source": [
    "# Сначала создадим новый датафрейм\n",
    "df5 = pd.DataFrame({'author_id': [3, 5], 'author_name' : ['Dostoyevsky', 'Chekhov'],\n",
    "                   'book_title' : ['The Gambler', 'Three Sisters'], 'quantity' : [2, 3]},\n",
    "                    columns=['author_id', 'author_name', 'book_title', 'quantity'])\n",
    "df5"
   ]
  },
  {
   "cell_type": "code",
   "execution_count": 31,
   "id": "16b71645",
   "metadata": {},
   "outputs": [],
   "source": [
    "df6 = pd.concat([df4, df5], axis=0, ignore_index=True)"
   ]
  },
  {
   "cell_type": "code",
   "execution_count": 32,
   "id": "f9a35259",
   "metadata": {},
   "outputs": [
    {
     "data": {
      "text/plain": "   author_id  author_name            book_title  quantity\n0          1      Pushkin               unknown         0\n1          2      Tolstoy         War and Peace         1\n2          3   Dostoevsky             The Idiot         1\n3          3   Dostoevsky  Crime and Punishment         1\n4          4      unlnown      Fathers and Sons         1\n5          3  Dostoyevsky           The Gambler         2\n6          5      Chekhov         Three Sisters         3",
      "text/html": "<div>\n<style scoped>\n    .dataframe tbody tr th:only-of-type {\n        vertical-align: middle;\n    }\n\n    .dataframe tbody tr th {\n        vertical-align: top;\n    }\n\n    .dataframe thead th {\n        text-align: right;\n    }\n</style>\n<table border=\"1\" class=\"dataframe\">\n  <thead>\n    <tr style=\"text-align: right;\">\n      <th></th>\n      <th>author_id</th>\n      <th>author_name</th>\n      <th>book_title</th>\n      <th>quantity</th>\n    </tr>\n  </thead>\n  <tbody>\n    <tr>\n      <th>0</th>\n      <td>1</td>\n      <td>Pushkin</td>\n      <td>unknown</td>\n      <td>0</td>\n    </tr>\n    <tr>\n      <th>1</th>\n      <td>2</td>\n      <td>Tolstoy</td>\n      <td>War and Peace</td>\n      <td>1</td>\n    </tr>\n    <tr>\n      <th>2</th>\n      <td>3</td>\n      <td>Dostoevsky</td>\n      <td>The Idiot</td>\n      <td>1</td>\n    </tr>\n    <tr>\n      <th>3</th>\n      <td>3</td>\n      <td>Dostoevsky</td>\n      <td>Crime and Punishment</td>\n      <td>1</td>\n    </tr>\n    <tr>\n      <th>4</th>\n      <td>4</td>\n      <td>unlnown</td>\n      <td>Fathers and Sons</td>\n      <td>1</td>\n    </tr>\n    <tr>\n      <th>5</th>\n      <td>3</td>\n      <td>Dostoyevsky</td>\n      <td>The Gambler</td>\n      <td>2</td>\n    </tr>\n    <tr>\n      <th>6</th>\n      <td>5</td>\n      <td>Chekhov</td>\n      <td>Three Sisters</td>\n      <td>3</td>\n    </tr>\n  </tbody>\n</table>\n</div>"
     },
     "execution_count": 32,
     "metadata": {},
     "output_type": "execute_result"
    }
   ],
   "source": [
    "df6"
   ]
  },
  {
   "cell_type": "markdown",
   "id": "72908c21",
   "metadata": {},
   "source": [
    "Конкатенация по оси 1 (добавление новых столбцов)"
   ]
  },
  {
   "cell_type": "code",
   "execution_count": 33,
   "id": "7dda3808",
   "metadata": {},
   "outputs": [
    {
     "data": {
      "text/plain": "   price\n1    700\n2    450\n3    500\n5    400\n6    350",
      "text/html": "<div>\n<style scoped>\n    .dataframe tbody tr th:only-of-type {\n        vertical-align: middle;\n    }\n\n    .dataframe tbody tr th {\n        vertical-align: top;\n    }\n\n    .dataframe thead th {\n        text-align: right;\n    }\n</style>\n<table border=\"1\" class=\"dataframe\">\n  <thead>\n    <tr style=\"text-align: right;\">\n      <th></th>\n      <th>price</th>\n    </tr>\n  </thead>\n  <tbody>\n    <tr>\n      <th>1</th>\n      <td>700</td>\n    </tr>\n    <tr>\n      <th>2</th>\n      <td>450</td>\n    </tr>\n    <tr>\n      <th>3</th>\n      <td>500</td>\n    </tr>\n    <tr>\n      <th>5</th>\n      <td>400</td>\n    </tr>\n    <tr>\n      <th>6</th>\n      <td>350</td>\n    </tr>\n  </tbody>\n</table>\n</div>"
     },
     "execution_count": 33,
     "metadata": {},
     "output_type": "execute_result"
    }
   ],
   "source": [
    "prices = pd.DataFrame({'price': [700, 450, 500, 400, 350]}, columns=['price'], index=[1, 2, 3, 5, 6])\n",
    "prices"
   ]
  },
  {
   "cell_type": "code",
   "execution_count": 34,
   "id": "bf0a87a0",
   "metadata": {},
   "outputs": [
    {
     "data": {
      "text/plain": "   author_id  author_name            book_title  quantity  price\n0          1      Pushkin               unknown         0    NaN\n1          2      Tolstoy         War and Peace         1  700.0\n2          3   Dostoevsky             The Idiot         1  450.0\n3          3   Dostoevsky  Crime and Punishment         1  500.0\n4          4      unlnown      Fathers and Sons         1    NaN\n5          3  Dostoyevsky           The Gambler         2  400.0\n6          5      Chekhov         Three Sisters         3  350.0",
      "text/html": "<div>\n<style scoped>\n    .dataframe tbody tr th:only-of-type {\n        vertical-align: middle;\n    }\n\n    .dataframe tbody tr th {\n        vertical-align: top;\n    }\n\n    .dataframe thead th {\n        text-align: right;\n    }\n</style>\n<table border=\"1\" class=\"dataframe\">\n  <thead>\n    <tr style=\"text-align: right;\">\n      <th></th>\n      <th>author_id</th>\n      <th>author_name</th>\n      <th>book_title</th>\n      <th>quantity</th>\n      <th>price</th>\n    </tr>\n  </thead>\n  <tbody>\n    <tr>\n      <th>0</th>\n      <td>1</td>\n      <td>Pushkin</td>\n      <td>unknown</td>\n      <td>0</td>\n      <td>NaN</td>\n    </tr>\n    <tr>\n      <th>1</th>\n      <td>2</td>\n      <td>Tolstoy</td>\n      <td>War and Peace</td>\n      <td>1</td>\n      <td>700.0</td>\n    </tr>\n    <tr>\n      <th>2</th>\n      <td>3</td>\n      <td>Dostoevsky</td>\n      <td>The Idiot</td>\n      <td>1</td>\n      <td>450.0</td>\n    </tr>\n    <tr>\n      <th>3</th>\n      <td>3</td>\n      <td>Dostoevsky</td>\n      <td>Crime and Punishment</td>\n      <td>1</td>\n      <td>500.0</td>\n    </tr>\n    <tr>\n      <th>4</th>\n      <td>4</td>\n      <td>unlnown</td>\n      <td>Fathers and Sons</td>\n      <td>1</td>\n      <td>NaN</td>\n    </tr>\n    <tr>\n      <th>5</th>\n      <td>3</td>\n      <td>Dostoyevsky</td>\n      <td>The Gambler</td>\n      <td>2</td>\n      <td>400.0</td>\n    </tr>\n    <tr>\n      <th>6</th>\n      <td>5</td>\n      <td>Chekhov</td>\n      <td>Three Sisters</td>\n      <td>3</td>\n      <td>350.0</td>\n    </tr>\n  </tbody>\n</table>\n</div>"
     },
     "execution_count": 34,
     "metadata": {},
     "output_type": "execute_result"
    }
   ],
   "source": [
    "df7 = pd.concat([df6, prices], axis = 1)\n",
    "df7"
   ]
  },
  {
   "cell_type": "markdown",
   "id": "861a64ac",
   "metadata": {},
   "source": [
    "#### Применение функций и методов"
   ]
  },
  {
   "cell_type": "code",
   "execution_count": 35,
   "id": "792ff626",
   "metadata": {},
   "outputs": [
    {
     "data": {
      "text/plain": "   author_id  author_name            book_title  quantity  price   total\n0          1      Pushkin               unknown         0    NaN     NaN\n1          2      Tolstoy         War and Peace         1  700.0   700.0\n2          3   Dostoevsky             The Idiot         1  450.0   450.0\n3          3   Dostoevsky  Crime and Punishment         1  500.0   500.0\n4          4      unlnown      Fathers and Sons         1    NaN     NaN\n5          3  Dostoyevsky           The Gambler         2  400.0   800.0\n6          5      Chekhov         Three Sisters         3  350.0  1050.0",
      "text/html": "<div>\n<style scoped>\n    .dataframe tbody tr th:only-of-type {\n        vertical-align: middle;\n    }\n\n    .dataframe tbody tr th {\n        vertical-align: top;\n    }\n\n    .dataframe thead th {\n        text-align: right;\n    }\n</style>\n<table border=\"1\" class=\"dataframe\">\n  <thead>\n    <tr style=\"text-align: right;\">\n      <th></th>\n      <th>author_id</th>\n      <th>author_name</th>\n      <th>book_title</th>\n      <th>quantity</th>\n      <th>price</th>\n      <th>total</th>\n    </tr>\n  </thead>\n  <tbody>\n    <tr>\n      <th>0</th>\n      <td>1</td>\n      <td>Pushkin</td>\n      <td>unknown</td>\n      <td>0</td>\n      <td>NaN</td>\n      <td>NaN</td>\n    </tr>\n    <tr>\n      <th>1</th>\n      <td>2</td>\n      <td>Tolstoy</td>\n      <td>War and Peace</td>\n      <td>1</td>\n      <td>700.0</td>\n      <td>700.0</td>\n    </tr>\n    <tr>\n      <th>2</th>\n      <td>3</td>\n      <td>Dostoevsky</td>\n      <td>The Idiot</td>\n      <td>1</td>\n      <td>450.0</td>\n      <td>450.0</td>\n    </tr>\n    <tr>\n      <th>3</th>\n      <td>3</td>\n      <td>Dostoevsky</td>\n      <td>Crime and Punishment</td>\n      <td>1</td>\n      <td>500.0</td>\n      <td>500.0</td>\n    </tr>\n    <tr>\n      <th>4</th>\n      <td>4</td>\n      <td>unlnown</td>\n      <td>Fathers and Sons</td>\n      <td>1</td>\n      <td>NaN</td>\n      <td>NaN</td>\n    </tr>\n    <tr>\n      <th>5</th>\n      <td>3</td>\n      <td>Dostoyevsky</td>\n      <td>The Gambler</td>\n      <td>2</td>\n      <td>400.0</td>\n      <td>800.0</td>\n    </tr>\n    <tr>\n      <th>6</th>\n      <td>5</td>\n      <td>Chekhov</td>\n      <td>Three Sisters</td>\n      <td>3</td>\n      <td>350.0</td>\n      <td>1050.0</td>\n    </tr>\n  </tbody>\n</table>\n</div>"
     },
     "execution_count": 35,
     "metadata": {},
     "output_type": "execute_result"
    }
   ],
   "source": [
    "df7['total'] = df7['quantity'] * df7['price']\n",
    "df7"
   ]
  },
  {
   "cell_type": "code",
   "execution_count": 36,
   "id": "bb7683a3",
   "metadata": {},
   "outputs": [
    {
     "data": {
      "text/plain": "700.0"
     },
     "execution_count": 36,
     "metadata": {},
     "output_type": "execute_result"
    }
   ],
   "source": [
    "df7['price'].max()"
   ]
  },
  {
   "cell_type": "code",
   "execution_count": 37,
   "id": "d2e1ffef",
   "metadata": {},
   "outputs": [
    {
     "data": {
      "text/plain": "350.0"
     },
     "execution_count": 37,
     "metadata": {},
     "output_type": "execute_result"
    }
   ],
   "source": [
    "df7['price'].min()"
   ]
  },
  {
   "cell_type": "code",
   "execution_count": 38,
   "id": "540b4ca9",
   "metadata": {},
   "outputs": [
    {
     "data": {
      "text/plain": "480.0"
     },
     "execution_count": 38,
     "metadata": {},
     "output_type": "execute_result"
    }
   ],
   "source": [
    "df7['price'].mean()"
   ]
  },
  {
   "cell_type": "code",
   "execution_count": 39,
   "id": "0b1d9b16",
   "metadata": {},
   "outputs": [
    {
     "data": {
      "text/plain": "450.0"
     },
     "execution_count": 39,
     "metadata": {},
     "output_type": "execute_result"
    }
   ],
   "source": [
    "df7['price'].median()"
   ]
  },
  {
   "cell_type": "code",
   "execution_count": 40,
   "id": "bb045c6f",
   "metadata": {},
   "outputs": [
    {
     "data": {
      "text/plain": "135.09256086106296"
     },
     "execution_count": 40,
     "metadata": {},
     "output_type": "execute_result"
    }
   ],
   "source": [
    "df7['price'].std()"
   ]
  },
  {
   "cell_type": "code",
   "execution_count": 41,
   "id": "e06c859d",
   "metadata": {},
   "outputs": [
    {
     "data": {
      "text/plain": "18250.0"
     },
     "execution_count": 41,
     "metadata": {},
     "output_type": "execute_result"
    }
   ],
   "source": [
    "df7['price'].var()"
   ]
  },
  {
   "cell_type": "code",
   "execution_count": 42,
   "id": "ecbe60dd",
   "metadata": {},
   "outputs": [
    {
     "data": {
      "text/plain": "   author_id author_name            book_title  quantity  price  total\n1          2     Tolstoy         War and Peace         1  700.0  700.0\n3          3  Dostoevsky  Crime and Punishment         1  500.0  500.0\n2          3  Dostoevsky             The Idiot         1  450.0  450.0",
      "text/html": "<div>\n<style scoped>\n    .dataframe tbody tr th:only-of-type {\n        vertical-align: middle;\n    }\n\n    .dataframe tbody tr th {\n        vertical-align: top;\n    }\n\n    .dataframe thead th {\n        text-align: right;\n    }\n</style>\n<table border=\"1\" class=\"dataframe\">\n  <thead>\n    <tr style=\"text-align: right;\">\n      <th></th>\n      <th>author_id</th>\n      <th>author_name</th>\n      <th>book_title</th>\n      <th>quantity</th>\n      <th>price</th>\n      <th>total</th>\n    </tr>\n  </thead>\n  <tbody>\n    <tr>\n      <th>1</th>\n      <td>2</td>\n      <td>Tolstoy</td>\n      <td>War and Peace</td>\n      <td>1</td>\n      <td>700.0</td>\n      <td>700.0</td>\n    </tr>\n    <tr>\n      <th>3</th>\n      <td>3</td>\n      <td>Dostoevsky</td>\n      <td>Crime and Punishment</td>\n      <td>1</td>\n      <td>500.0</td>\n      <td>500.0</td>\n    </tr>\n    <tr>\n      <th>2</th>\n      <td>3</td>\n      <td>Dostoevsky</td>\n      <td>The Idiot</td>\n      <td>1</td>\n      <td>450.0</td>\n      <td>450.0</td>\n    </tr>\n  </tbody>\n</table>\n</div>"
     },
     "execution_count": 42,
     "metadata": {},
     "output_type": "execute_result"
    }
   ],
   "source": [
    "df7.nlargest(3, 'price')"
   ]
  },
  {
   "cell_type": "code",
   "execution_count": 43,
   "id": "24f4f5db",
   "metadata": {},
   "outputs": [
    {
     "data": {
      "text/plain": "array(['Pushkin', 'Tolstoy', 'Dostoevsky', 'unlnown', 'Dostoyevsky',\n       'Chekhov'], dtype=object)"
     },
     "execution_count": 43,
     "metadata": {},
     "output_type": "execute_result"
    }
   ],
   "source": [
    "df7['author_name'].unique()"
   ]
  },
  {
   "cell_type": "code",
   "execution_count": 44,
   "id": "1674f9aa",
   "metadata": {},
   "outputs": [
    {
     "data": {
      "text/plain": "6"
     },
     "execution_count": 44,
     "metadata": {},
     "output_type": "execute_result"
    }
   ],
   "source": [
    "df7['author_name'].nunique()"
   ]
  },
  {
   "cell_type": "code",
   "execution_count": 45,
   "id": "02036615",
   "metadata": {},
   "outputs": [
    {
     "data": {
      "text/plain": "Dostoevsky     2\nChekhov        1\nunlnown        1\nTolstoy        1\nDostoyevsky    1\nPushkin        1\nName: author_name, dtype: int64"
     },
     "execution_count": 45,
     "metadata": {},
     "output_type": "execute_result"
    }
   ],
   "source": [
    "df7['author_name'].value_counts()"
   ]
  },
  {
   "cell_type": "markdown",
   "id": "18be73d0",
   "metadata": {},
   "source": [
    "Построчное применение функций и методов:"
   ]
  },
  {
   "cell_type": "code",
   "execution_count": 46,
   "id": "b54de621",
   "metadata": {},
   "outputs": [
    {
     "data": {
      "text/plain": "0                 UNKNOWN\n1           WAR AND PEACE\n2               THE IDIOT\n3    CRIME AND PUNISHMENT\n4        FATHERS AND SONS\n5             THE GAMBLER\n6           THREE SISTERS\nName: book_title, dtype: object"
     },
     "execution_count": 46,
     "metadata": {},
     "output_type": "execute_result"
    }
   ],
   "source": [
    "df7['book_title'].apply(lambda x: x.upper())"
   ]
  },
  {
   "cell_type": "markdown",
   "id": "413c6104",
   "metadata": {},
   "source": [
    "#### Группировка данных\n",
    "\n",
    "1-ый способ:"
   ]
  },
  {
   "cell_type": "code",
   "execution_count": 47,
   "id": "a82046e9",
   "metadata": {},
   "outputs": [
    {
     "data": {
      "text/plain": "author_name\nChekhov        350.0\nDostoevsky     500.0\nDostoyevsky    400.0\nPushkin          NaN\nTolstoy        700.0\nunlnown          NaN\nName: price, dtype: float64"
     },
     "execution_count": 47,
     "metadata": {},
     "output_type": "execute_result"
    }
   ],
   "source": [
    "df7.groupby('author_name')['price'].max()"
   ]
  },
  {
   "cell_type": "markdown",
   "id": "d75592aa",
   "metadata": {},
   "source": [
    "2-й способ:"
   ]
  },
  {
   "cell_type": "code",
   "execution_count": 48,
   "id": "7a16a081",
   "metadata": {},
   "outputs": [
    {
     "data": {
      "text/plain": "             price\nauthor_name       \nChekhov      350.0\nDostoevsky   500.0\nDostoyevsky  400.0\nPushkin        NaN\nTolstoy      700.0\nunlnown        NaN",
      "text/html": "<div>\n<style scoped>\n    .dataframe tbody tr th:only-of-type {\n        vertical-align: middle;\n    }\n\n    .dataframe tbody tr th {\n        vertical-align: top;\n    }\n\n    .dataframe thead th {\n        text-align: right;\n    }\n</style>\n<table border=\"1\" class=\"dataframe\">\n  <thead>\n    <tr style=\"text-align: right;\">\n      <th></th>\n      <th>price</th>\n    </tr>\n    <tr>\n      <th>author_name</th>\n      <th></th>\n    </tr>\n  </thead>\n  <tbody>\n    <tr>\n      <th>Chekhov</th>\n      <td>350.0</td>\n    </tr>\n    <tr>\n      <th>Dostoevsky</th>\n      <td>500.0</td>\n    </tr>\n    <tr>\n      <th>Dostoyevsky</th>\n      <td>400.0</td>\n    </tr>\n    <tr>\n      <th>Pushkin</th>\n      <td>NaN</td>\n    </tr>\n    <tr>\n      <th>Tolstoy</th>\n      <td>700.0</td>\n    </tr>\n    <tr>\n      <th>unlnown</th>\n      <td>NaN</td>\n    </tr>\n  </tbody>\n</table>\n</div>"
     },
     "execution_count": 48,
     "metadata": {},
     "output_type": "execute_result"
    }
   ],
   "source": [
    "price_agg = df7.groupby('author_name').agg({'price': 'max'})\n",
    "price_agg"
   ]
  },
  {
   "cell_type": "code",
   "execution_count": 49,
   "id": "360591f8",
   "metadata": {},
   "outputs": [
    {
     "data": {
      "text/plain": "   author_name  max_price\n0      Chekhov      350.0\n1   Dostoevsky      500.0\n2  Dostoyevsky      400.0\n3      Pushkin        NaN\n4      Tolstoy      700.0\n5      unlnown        NaN",
      "text/html": "<div>\n<style scoped>\n    .dataframe tbody tr th:only-of-type {\n        vertical-align: middle;\n    }\n\n    .dataframe tbody tr th {\n        vertical-align: top;\n    }\n\n    .dataframe thead th {\n        text-align: right;\n    }\n</style>\n<table border=\"1\" class=\"dataframe\">\n  <thead>\n    <tr style=\"text-align: right;\">\n      <th></th>\n      <th>author_name</th>\n      <th>max_price</th>\n    </tr>\n  </thead>\n  <tbody>\n    <tr>\n      <th>0</th>\n      <td>Chekhov</td>\n      <td>350.0</td>\n    </tr>\n    <tr>\n      <th>1</th>\n      <td>Dostoevsky</td>\n      <td>500.0</td>\n    </tr>\n    <tr>\n      <th>2</th>\n      <td>Dostoyevsky</td>\n      <td>400.0</td>\n    </tr>\n    <tr>\n      <th>3</th>\n      <td>Pushkin</td>\n      <td>NaN</td>\n    </tr>\n    <tr>\n      <th>4</th>\n      <td>Tolstoy</td>\n      <td>700.0</td>\n    </tr>\n    <tr>\n      <th>5</th>\n      <td>unlnown</td>\n      <td>NaN</td>\n    </tr>\n  </tbody>\n</table>\n</div>"
     },
     "execution_count": 49,
     "metadata": {},
     "output_type": "execute_result"
    }
   ],
   "source": [
    "price_agg = price_agg.reset_index()\n",
    "price_agg = price_agg.rename(columns={'price' : 'max_price'})\n",
    "price_agg"
   ]
  },
  {
   "cell_type": "code",
   "execution_count": 49,
   "id": "290047ba",
   "metadata": {},
   "outputs": [],
   "source": []
  }
 ],
 "metadata": {
  "kernelspec": {
   "display_name": "Python 3",
   "language": "python",
   "name": "python3"
  },
  "language_info": {
   "codemirror_mode": {
    "name": "ipython",
    "version": 3
   },
   "file_extension": ".py",
   "mimetype": "text/x-python",
   "name": "python",
   "nbconvert_exporter": "python",
   "pygments_lexer": "ipython3",
   "version": "3.9.1"
  }
 },
 "nbformat": 4,
 "nbformat_minor": 5
}